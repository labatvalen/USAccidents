{
  "nbformat": 4,
  "nbformat_minor": 0,
  "metadata": {
    "colab": {
      "name": "Rendu_Big_Data_Bechet_Cassagne_Forcans_Labat.ipynb",
      "provenance": [],
      "collapsed_sections": [
        "nGBOjiwp8j-8",
        "cqKt17y53ybl",
        "zQY8T0OC34EM",
        "JMktA8LjFPRc",
        "97gYtXUG4UJh",
        "4I7iC3i_4M3l",
        "Ru2QydwkkvWc",
        "hzBoIfsPsaJN",
        "4bndDbHPyQM6",
        "qDurZC8Lv-aF",
        "02_Ga7Au8jTE",
        "Bem6Qk4-8nar",
        "LUR5wgZjjwQY",
        "mgGbBJFxfrpF",
        "vXV6q_FkuacR",
        "_o2qRgMh87Wy",
        "OQpSxxWKAw43",
        "dTSfgC93PQhJ",
        "H9VfUOb2nLLA",
        "qYon6SmCnOK6",
        "RGurF26lknlm",
        "pt6SaEkHtpKV",
        "dQ-oT4-JtcTW"
      ]
    },
    "kernelspec": {
      "name": "python3",
      "display_name": "Python 3"
    },
    "language_info": {
      "name": "python"
    }
  },
  "cells": [
    {
      "cell_type": "markdown",
      "source": [
        "# Authentification à Google Big Query"
      ],
      "metadata": {
        "id": "nGBOjiwp8j-8"
      }
    },
    {
      "cell_type": "code",
      "source": [
        "from google.colab import auth\n",
        "auth.authenticate_user()\n",
        "print('Authenticated')"
      ],
      "metadata": {
        "id": "BZiK-oo58sXt",
        "colab": {
          "base_uri": "https://localhost:8080/"
        },
        "outputId": "3699e92c-71fa-4c79-e01f-3fec91df5dcd"
      },
      "execution_count": null,
      "outputs": [
        {
          "output_type": "stream",
          "name": "stdout",
          "text": [
            "Authenticated\n"
          ]
        }
      ]
    },
    {
      "cell_type": "markdown",
      "source": [
        "# Installations et importations"
      ],
      "metadata": {
        "id": "cqKt17y53ybl"
      }
    },
    {
      "cell_type": "markdown",
      "source": [
        "## Installations"
      ],
      "metadata": {
        "id": "zQY8T0OC34EM"
      }
    },
    {
      "cell_type": "markdown",
      "source": [
        "### Installation Spark"
      ],
      "metadata": {
        "id": "JMktA8LjFPRc"
      }
    },
    {
      "cell_type": "code",
      "source": [
        "!apt-get install openjdk-8-jdk-headless -qq > /dev/null"
      ],
      "metadata": {
        "id": "oUT12uoXFYYR"
      },
      "execution_count": null,
      "outputs": []
    },
    {
      "cell_type": "code",
      "source": [
        "!pip install -q pyspark"
      ],
      "metadata": {
        "id": "k7gP96PoIte4"
      },
      "execution_count": null,
      "outputs": []
    },
    {
      "cell_type": "code",
      "source": [
        "!pip install -q findspark"
      ],
      "metadata": {
        "id": "iAnq3A70IvFN"
      },
      "execution_count": null,
      "outputs": []
    },
    {
      "cell_type": "markdown",
      "source": [
        "## Importations"
      ],
      "metadata": {
        "id": "sQ8JxqYL38VI"
      }
    },
    {
      "cell_type": "markdown",
      "source": [
        "### Importation Spark"
      ],
      "metadata": {
        "id": "Wpochii4JEFy"
      }
    },
    {
      "cell_type": "code",
      "source": [
        "import findspark\n",
        "findspark.init()"
      ],
      "metadata": {
        "id": "gg4jvvVZI5wR"
      },
      "execution_count": null,
      "outputs": []
    },
    {
      "cell_type": "code",
      "source": [
        "from pyspark.sql import SparkSession\n",
        "\n",
        "spark = SparkSession.builder\\\n",
        "        .master(\"local\")\\\n",
        "        .appName(\"Colab\")\\\n",
        "        .config('spark.ui.port', '4050')\\\n",
        "        .getOrCreate()"
      ],
      "metadata": {
        "id": "MtjaAvG1I8CY"
      },
      "execution_count": null,
      "outputs": []
    },
    {
      "cell_type": "code",
      "source": [
        "spark"
      ],
      "metadata": {
        "id": "AAQ69KEeI92x",
        "colab": {
          "base_uri": "https://localhost:8080/",
          "height": 312
        },
        "outputId": "1af07fcf-df77-49cb-f882-a0559a060c5b"
      },
      "execution_count": null,
      "outputs": [
        {
          "output_type": "execute_result",
          "data": {
            "text/plain": [
              "<pyspark.sql.session.SparkSession at 0x7fd1ccbfb090>"
            ],
            "text/html": [
              "\n",
              "            <div>\n",
              "                <p><b>SparkSession - in-memory</b></p>\n",
              "                \n",
              "        <div>\n",
              "            <p><b>SparkContext</b></p>\n",
              "\n",
              "            <p><a href=\"http://6063015a8a7f:4050\">Spark UI</a></p>\n",
              "\n",
              "            <dl>\n",
              "              <dt>Version</dt>\n",
              "                <dd><code>v3.2.1</code></dd>\n",
              "              <dt>Master</dt>\n",
              "                <dd><code>local</code></dd>\n",
              "              <dt>AppName</dt>\n",
              "                <dd><code>Colab</code></dd>\n",
              "            </dl>\n",
              "        </div>\n",
              "        \n",
              "            </div>\n",
              "        "
            ]
          },
          "metadata": {},
          "execution_count": 221
        }
      ]
    },
    {
      "cell_type": "code",
      "source": [
        "from pyspark.sql.functions import col, avg, isnan, when, count, col"
      ],
      "metadata": {
        "id": "jkboka9n_HSH"
      },
      "execution_count": null,
      "outputs": []
    },
    {
      "cell_type": "markdown",
      "source": [
        "### Autres importations"
      ],
      "metadata": {
        "id": "nOBp9dF7-GrT"
      }
    },
    {
      "cell_type": "code",
      "source": [
        "import pandas as pd\n",
        "import matplotlib.pyplot as plt\n",
        "import numpy as np\n",
        "from pyspark.sql.types import StructType, StructField, StringType, ShortType, DoubleType, IntegerType, ArrayType, FloatType, TimestampType, BooleanType\n",
        "from google.cloud import bigquery"
      ],
      "metadata": {
        "id": "qZl2nYx3-EF9"
      },
      "execution_count": null,
      "outputs": []
    },
    {
      "cell_type": "markdown",
      "source": [
        "## Montage du repo drive comme repo actif"
      ],
      "metadata": {
        "id": "97gYtXUG4UJh"
      }
    },
    {
      "cell_type": "code",
      "source": [
        "from google.colab import drive\n",
        "drive.mount('/content/drive')"
      ],
      "metadata": {
        "id": "E_jsfk4nFIJc",
        "colab": {
          "base_uri": "https://localhost:8080/"
        },
        "outputId": "9b550ed2-24bd-43f6-8981-6116aff47580"
      },
      "execution_count": null,
      "outputs": [
        {
          "output_type": "stream",
          "name": "stdout",
          "text": [
            "Drive already mounted at /content/drive; to attempt to forcibly remount, call drive.mount(\"/content/drive\", force_remount=True).\n"
          ]
        }
      ]
    },
    {
      "cell_type": "markdown",
      "source": [
        "# Lecture des données"
      ],
      "metadata": {
        "id": "4I7iC3i_4M3l"
      }
    },
    {
      "cell_type": "markdown",
      "source": [
        "Les données utilsées peuvent être retrouvées ici :\n",
        "[Données US Accidents (2016 - 2021)](https://www.kaggle.com/sobhanmoosavi/us-accidents)"
      ],
      "metadata": {
        "id": "OgQLMFvXdy5g"
      }
    },
    {
      "cell_type": "code",
      "source": [
        "csv_weather_path = \"/content/drive/MyDrive/US_Accidents_Dec21_updated.csv\""
      ],
      "metadata": {
        "id": "vwRhOUV4dx2V"
      },
      "execution_count": null,
      "outputs": []
    },
    {
      "cell_type": "code",
      "source": [
        "dataframe = pd.read_csv(csv_weather_path)"
      ],
      "metadata": {
        "id": "duFdmeh2928z"
      },
      "execution_count": null,
      "outputs": []
    },
    {
      "cell_type": "code",
      "source": [
        "dataframe_spark = spark.read.options(header=True).csv(csv_weather_path)"
      ],
      "metadata": {
        "id": "8Yl9guiWjI8g"
      },
      "execution_count": null,
      "outputs": []
    },
    {
      "cell_type": "markdown",
      "source": [
        "# Description du jeu de données"
      ],
      "metadata": {
        "id": "xOheO-SNDp_D"
      }
    },
    {
      "cell_type": "markdown",
      "source": [
        "Nous avons ici deux dataframes, un classique panda, et un spark.\n",
        "\n",
        "Tout d'abord, **décrivons le jeu de données de manière générale**. D'après la page Kaggle où se trouve le jeu de données (lien ci-dessus), ce jeu de données recouvre 49 états des États-Unis, et les données vont de février 2016 à décembre 2021. Ces données sont récoltées d'APIs de différentes origines, comme les caméras de circulation et des capteurs de trafic dans les réseaux routiers par exemple, tout comme des données d'état. Ce dataset est constitué de 2.8 million de données d'accidents."
      ],
      "metadata": {
        "id": "N1FpenE5D1OA"
      }
    },
    {
      "cell_type": "code",
      "source": [
        "nombre_de_donnees = dataframe.shape[0]"
      ],
      "metadata": {
        "id": "2PVa7sgvs2Vw"
      },
      "execution_count": null,
      "outputs": []
    },
    {
      "cell_type": "code",
      "execution_count": null,
      "metadata": {
        "id": "vRPPbtbo3jvE",
        "colab": {
          "base_uri": "https://localhost:8080/",
          "height": 783
        },
        "outputId": "e7de7a03-8fe4-4ebb-baa6-36bd2292df74"
      },
      "outputs": [
        {
          "output_type": "execute_result",
          "data": {
            "text/plain": [
              "                ID  Severity           Start_Time             End_Time  \\\n",
              "0              A-1         3  2016-02-08 00:37:08  2016-02-08 06:37:08   \n",
              "1              A-2         2  2016-02-08 05:56:20  2016-02-08 11:56:20   \n",
              "2              A-3         2  2016-02-08 06:15:39  2016-02-08 12:15:39   \n",
              "3              A-4         2  2016-02-08 06:51:45  2016-02-08 12:51:45   \n",
              "4              A-5         3  2016-02-08 07:53:43  2016-02-08 13:53:43   \n",
              "...            ...       ...                  ...                  ...   \n",
              "2845337  A-2845338         2  2019-08-23 18:03:25  2019-08-23 18:32:01   \n",
              "2845338  A-2845339         2  2019-08-23 19:11:30  2019-08-23 19:38:23   \n",
              "2845339  A-2845340         2  2019-08-23 19:00:21  2019-08-23 19:28:49   \n",
              "2845340  A-2845341         2  2019-08-23 19:00:21  2019-08-23 19:29:42   \n",
              "2845341  A-2845342         2  2019-08-23 18:52:06  2019-08-23 19:21:31   \n",
              "\n",
              "         Start_Lat   Start_Lng    End_Lat     End_Lng  Distance(mi)  \\\n",
              "0        40.108910  -83.092860  40.112060  -83.031870         3.230   \n",
              "1        39.865420  -84.062800  39.865010  -84.048730         0.747   \n",
              "2        39.102660  -84.524680  39.102090  -84.523960         0.055   \n",
              "3        41.062130  -81.537840  41.062170  -81.535470         0.123   \n",
              "4        39.172393  -84.492792  39.170476  -84.501798         0.500   \n",
              "...            ...         ...        ...         ...           ...   \n",
              "2845337  34.002480 -117.379360  33.998880 -117.370940         0.543   \n",
              "2845338  32.766960 -117.148060  32.765550 -117.153630         0.338   \n",
              "2845339  33.775450 -117.847790  33.777400 -117.857270         0.561   \n",
              "2845340  33.992460 -118.403020  33.983110 -118.395650         0.772   \n",
              "2845341  34.133930 -117.230920  34.137360 -117.239340         0.537   \n",
              "\n",
              "                                               Description  ...  Roundabout  \\\n",
              "0        Between Sawmill Rd/Exit 20 and OH-315/Olentang...  ...       False   \n",
              "1                       At OH-4/OH-235/Exit 41 - Accident.  ...       False   \n",
              "2                         At I-71/US-50/Exit 1 - Accident.  ...       False   \n",
              "3                          At Dart Ave/Exit 21 - Accident.  ...       False   \n",
              "4                       At Mitchell Ave/Exit 6 - Accident.  ...       False   \n",
              "...                                                    ...  ...         ...   \n",
              "2845337                           At Market St - Accident.  ...       False   \n",
              "2845338    At Camino Del Rio/Mission Center Rd - Accident.  ...       False   \n",
              "2845339  At Glassell St/Grand Ave - Accident. in the ri...  ...       False   \n",
              "2845340     At CA-90/Marina Fwy/Jefferson Blvd - Accident.  ...       False   \n",
              "2845341              At Highland Ave/Arden Ave - Accident.  ...       False   \n",
              "\n",
              "        Station   Stop Traffic_Calming Traffic_Signal Turning_Loop  \\\n",
              "0         False  False           False          False        False   \n",
              "1         False  False           False          False        False   \n",
              "2         False  False           False          False        False   \n",
              "3         False  False           False          False        False   \n",
              "4         False  False           False          False        False   \n",
              "...         ...    ...             ...            ...          ...   \n",
              "2845337   False  False           False          False        False   \n",
              "2845338   False  False           False          False        False   \n",
              "2845339   False  False           False          False        False   \n",
              "2845340   False  False           False          False        False   \n",
              "2845341   False  False           False          False        False   \n",
              "\n",
              "        Sunrise_Sunset Civil_Twilight Nautical_Twilight Astronomical_Twilight  \n",
              "0                Night          Night             Night                 Night  \n",
              "1                Night          Night             Night                 Night  \n",
              "2                Night          Night             Night                   Day  \n",
              "3                Night          Night               Day                   Day  \n",
              "4                  Day            Day               Day                   Day  \n",
              "...                ...            ...               ...                   ...  \n",
              "2845337            Day            Day               Day                   Day  \n",
              "2845338            Day            Day               Day                   Day  \n",
              "2845339            Day            Day               Day                   Day  \n",
              "2845340            Day            Day               Day                   Day  \n",
              "2845341            Day            Day               Day                   Day  \n",
              "\n",
              "[2845342 rows x 47 columns]"
            ],
            "text/html": [
              "\n",
              "  <div id=\"df-e95d94cb-d0d8-400d-84c7-db70db53eb96\">\n",
              "    <div class=\"colab-df-container\">\n",
              "      <div>\n",
              "<style scoped>\n",
              "    .dataframe tbody tr th:only-of-type {\n",
              "        vertical-align: middle;\n",
              "    }\n",
              "\n",
              "    .dataframe tbody tr th {\n",
              "        vertical-align: top;\n",
              "    }\n",
              "\n",
              "    .dataframe thead th {\n",
              "        text-align: right;\n",
              "    }\n",
              "</style>\n",
              "<table border=\"1\" class=\"dataframe\">\n",
              "  <thead>\n",
              "    <tr style=\"text-align: right;\">\n",
              "      <th></th>\n",
              "      <th>ID</th>\n",
              "      <th>Severity</th>\n",
              "      <th>Start_Time</th>\n",
              "      <th>End_Time</th>\n",
              "      <th>Start_Lat</th>\n",
              "      <th>Start_Lng</th>\n",
              "      <th>End_Lat</th>\n",
              "      <th>End_Lng</th>\n",
              "      <th>Distance(mi)</th>\n",
              "      <th>Description</th>\n",
              "      <th>...</th>\n",
              "      <th>Roundabout</th>\n",
              "      <th>Station</th>\n",
              "      <th>Stop</th>\n",
              "      <th>Traffic_Calming</th>\n",
              "      <th>Traffic_Signal</th>\n",
              "      <th>Turning_Loop</th>\n",
              "      <th>Sunrise_Sunset</th>\n",
              "      <th>Civil_Twilight</th>\n",
              "      <th>Nautical_Twilight</th>\n",
              "      <th>Astronomical_Twilight</th>\n",
              "    </tr>\n",
              "  </thead>\n",
              "  <tbody>\n",
              "    <tr>\n",
              "      <th>0</th>\n",
              "      <td>A-1</td>\n",
              "      <td>3</td>\n",
              "      <td>2016-02-08 00:37:08</td>\n",
              "      <td>2016-02-08 06:37:08</td>\n",
              "      <td>40.108910</td>\n",
              "      <td>-83.092860</td>\n",
              "      <td>40.112060</td>\n",
              "      <td>-83.031870</td>\n",
              "      <td>3.230</td>\n",
              "      <td>Between Sawmill Rd/Exit 20 and OH-315/Olentang...</td>\n",
              "      <td>...</td>\n",
              "      <td>False</td>\n",
              "      <td>False</td>\n",
              "      <td>False</td>\n",
              "      <td>False</td>\n",
              "      <td>False</td>\n",
              "      <td>False</td>\n",
              "      <td>Night</td>\n",
              "      <td>Night</td>\n",
              "      <td>Night</td>\n",
              "      <td>Night</td>\n",
              "    </tr>\n",
              "    <tr>\n",
              "      <th>1</th>\n",
              "      <td>A-2</td>\n",
              "      <td>2</td>\n",
              "      <td>2016-02-08 05:56:20</td>\n",
              "      <td>2016-02-08 11:56:20</td>\n",
              "      <td>39.865420</td>\n",
              "      <td>-84.062800</td>\n",
              "      <td>39.865010</td>\n",
              "      <td>-84.048730</td>\n",
              "      <td>0.747</td>\n",
              "      <td>At OH-4/OH-235/Exit 41 - Accident.</td>\n",
              "      <td>...</td>\n",
              "      <td>False</td>\n",
              "      <td>False</td>\n",
              "      <td>False</td>\n",
              "      <td>False</td>\n",
              "      <td>False</td>\n",
              "      <td>False</td>\n",
              "      <td>Night</td>\n",
              "      <td>Night</td>\n",
              "      <td>Night</td>\n",
              "      <td>Night</td>\n",
              "    </tr>\n",
              "    <tr>\n",
              "      <th>2</th>\n",
              "      <td>A-3</td>\n",
              "      <td>2</td>\n",
              "      <td>2016-02-08 06:15:39</td>\n",
              "      <td>2016-02-08 12:15:39</td>\n",
              "      <td>39.102660</td>\n",
              "      <td>-84.524680</td>\n",
              "      <td>39.102090</td>\n",
              "      <td>-84.523960</td>\n",
              "      <td>0.055</td>\n",
              "      <td>At I-71/US-50/Exit 1 - Accident.</td>\n",
              "      <td>...</td>\n",
              "      <td>False</td>\n",
              "      <td>False</td>\n",
              "      <td>False</td>\n",
              "      <td>False</td>\n",
              "      <td>False</td>\n",
              "      <td>False</td>\n",
              "      <td>Night</td>\n",
              "      <td>Night</td>\n",
              "      <td>Night</td>\n",
              "      <td>Day</td>\n",
              "    </tr>\n",
              "    <tr>\n",
              "      <th>3</th>\n",
              "      <td>A-4</td>\n",
              "      <td>2</td>\n",
              "      <td>2016-02-08 06:51:45</td>\n",
              "      <td>2016-02-08 12:51:45</td>\n",
              "      <td>41.062130</td>\n",
              "      <td>-81.537840</td>\n",
              "      <td>41.062170</td>\n",
              "      <td>-81.535470</td>\n",
              "      <td>0.123</td>\n",
              "      <td>At Dart Ave/Exit 21 - Accident.</td>\n",
              "      <td>...</td>\n",
              "      <td>False</td>\n",
              "      <td>False</td>\n",
              "      <td>False</td>\n",
              "      <td>False</td>\n",
              "      <td>False</td>\n",
              "      <td>False</td>\n",
              "      <td>Night</td>\n",
              "      <td>Night</td>\n",
              "      <td>Day</td>\n",
              "      <td>Day</td>\n",
              "    </tr>\n",
              "    <tr>\n",
              "      <th>4</th>\n",
              "      <td>A-5</td>\n",
              "      <td>3</td>\n",
              "      <td>2016-02-08 07:53:43</td>\n",
              "      <td>2016-02-08 13:53:43</td>\n",
              "      <td>39.172393</td>\n",
              "      <td>-84.492792</td>\n",
              "      <td>39.170476</td>\n",
              "      <td>-84.501798</td>\n",
              "      <td>0.500</td>\n",
              "      <td>At Mitchell Ave/Exit 6 - Accident.</td>\n",
              "      <td>...</td>\n",
              "      <td>False</td>\n",
              "      <td>False</td>\n",
              "      <td>False</td>\n",
              "      <td>False</td>\n",
              "      <td>False</td>\n",
              "      <td>False</td>\n",
              "      <td>Day</td>\n",
              "      <td>Day</td>\n",
              "      <td>Day</td>\n",
              "      <td>Day</td>\n",
              "    </tr>\n",
              "    <tr>\n",
              "      <th>...</th>\n",
              "      <td>...</td>\n",
              "      <td>...</td>\n",
              "      <td>...</td>\n",
              "      <td>...</td>\n",
              "      <td>...</td>\n",
              "      <td>...</td>\n",
              "      <td>...</td>\n",
              "      <td>...</td>\n",
              "      <td>...</td>\n",
              "      <td>...</td>\n",
              "      <td>...</td>\n",
              "      <td>...</td>\n",
              "      <td>...</td>\n",
              "      <td>...</td>\n",
              "      <td>...</td>\n",
              "      <td>...</td>\n",
              "      <td>...</td>\n",
              "      <td>...</td>\n",
              "      <td>...</td>\n",
              "      <td>...</td>\n",
              "      <td>...</td>\n",
              "    </tr>\n",
              "    <tr>\n",
              "      <th>2845337</th>\n",
              "      <td>A-2845338</td>\n",
              "      <td>2</td>\n",
              "      <td>2019-08-23 18:03:25</td>\n",
              "      <td>2019-08-23 18:32:01</td>\n",
              "      <td>34.002480</td>\n",
              "      <td>-117.379360</td>\n",
              "      <td>33.998880</td>\n",
              "      <td>-117.370940</td>\n",
              "      <td>0.543</td>\n",
              "      <td>At Market St - Accident.</td>\n",
              "      <td>...</td>\n",
              "      <td>False</td>\n",
              "      <td>False</td>\n",
              "      <td>False</td>\n",
              "      <td>False</td>\n",
              "      <td>False</td>\n",
              "      <td>False</td>\n",
              "      <td>Day</td>\n",
              "      <td>Day</td>\n",
              "      <td>Day</td>\n",
              "      <td>Day</td>\n",
              "    </tr>\n",
              "    <tr>\n",
              "      <th>2845338</th>\n",
              "      <td>A-2845339</td>\n",
              "      <td>2</td>\n",
              "      <td>2019-08-23 19:11:30</td>\n",
              "      <td>2019-08-23 19:38:23</td>\n",
              "      <td>32.766960</td>\n",
              "      <td>-117.148060</td>\n",
              "      <td>32.765550</td>\n",
              "      <td>-117.153630</td>\n",
              "      <td>0.338</td>\n",
              "      <td>At Camino Del Rio/Mission Center Rd - Accident.</td>\n",
              "      <td>...</td>\n",
              "      <td>False</td>\n",
              "      <td>False</td>\n",
              "      <td>False</td>\n",
              "      <td>False</td>\n",
              "      <td>False</td>\n",
              "      <td>False</td>\n",
              "      <td>Day</td>\n",
              "      <td>Day</td>\n",
              "      <td>Day</td>\n",
              "      <td>Day</td>\n",
              "    </tr>\n",
              "    <tr>\n",
              "      <th>2845339</th>\n",
              "      <td>A-2845340</td>\n",
              "      <td>2</td>\n",
              "      <td>2019-08-23 19:00:21</td>\n",
              "      <td>2019-08-23 19:28:49</td>\n",
              "      <td>33.775450</td>\n",
              "      <td>-117.847790</td>\n",
              "      <td>33.777400</td>\n",
              "      <td>-117.857270</td>\n",
              "      <td>0.561</td>\n",
              "      <td>At Glassell St/Grand Ave - Accident. in the ri...</td>\n",
              "      <td>...</td>\n",
              "      <td>False</td>\n",
              "      <td>False</td>\n",
              "      <td>False</td>\n",
              "      <td>False</td>\n",
              "      <td>False</td>\n",
              "      <td>False</td>\n",
              "      <td>Day</td>\n",
              "      <td>Day</td>\n",
              "      <td>Day</td>\n",
              "      <td>Day</td>\n",
              "    </tr>\n",
              "    <tr>\n",
              "      <th>2845340</th>\n",
              "      <td>A-2845341</td>\n",
              "      <td>2</td>\n",
              "      <td>2019-08-23 19:00:21</td>\n",
              "      <td>2019-08-23 19:29:42</td>\n",
              "      <td>33.992460</td>\n",
              "      <td>-118.403020</td>\n",
              "      <td>33.983110</td>\n",
              "      <td>-118.395650</td>\n",
              "      <td>0.772</td>\n",
              "      <td>At CA-90/Marina Fwy/Jefferson Blvd - Accident.</td>\n",
              "      <td>...</td>\n",
              "      <td>False</td>\n",
              "      <td>False</td>\n",
              "      <td>False</td>\n",
              "      <td>False</td>\n",
              "      <td>False</td>\n",
              "      <td>False</td>\n",
              "      <td>Day</td>\n",
              "      <td>Day</td>\n",
              "      <td>Day</td>\n",
              "      <td>Day</td>\n",
              "    </tr>\n",
              "    <tr>\n",
              "      <th>2845341</th>\n",
              "      <td>A-2845342</td>\n",
              "      <td>2</td>\n",
              "      <td>2019-08-23 18:52:06</td>\n",
              "      <td>2019-08-23 19:21:31</td>\n",
              "      <td>34.133930</td>\n",
              "      <td>-117.230920</td>\n",
              "      <td>34.137360</td>\n",
              "      <td>-117.239340</td>\n",
              "      <td>0.537</td>\n",
              "      <td>At Highland Ave/Arden Ave - Accident.</td>\n",
              "      <td>...</td>\n",
              "      <td>False</td>\n",
              "      <td>False</td>\n",
              "      <td>False</td>\n",
              "      <td>False</td>\n",
              "      <td>False</td>\n",
              "      <td>False</td>\n",
              "      <td>Day</td>\n",
              "      <td>Day</td>\n",
              "      <td>Day</td>\n",
              "      <td>Day</td>\n",
              "    </tr>\n",
              "  </tbody>\n",
              "</table>\n",
              "<p>2845342 rows × 47 columns</p>\n",
              "</div>\n",
              "      <button class=\"colab-df-convert\" onclick=\"convertToInteractive('df-e95d94cb-d0d8-400d-84c7-db70db53eb96')\"\n",
              "              title=\"Convert this dataframe to an interactive table.\"\n",
              "              style=\"display:none;\">\n",
              "        \n",
              "  <svg xmlns=\"http://www.w3.org/2000/svg\" height=\"24px\"viewBox=\"0 0 24 24\"\n",
              "       width=\"24px\">\n",
              "    <path d=\"M0 0h24v24H0V0z\" fill=\"none\"/>\n",
              "    <path d=\"M18.56 5.44l.94 2.06.94-2.06 2.06-.94-2.06-.94-.94-2.06-.94 2.06-2.06.94zm-11 1L8.5 8.5l.94-2.06 2.06-.94-2.06-.94L8.5 2.5l-.94 2.06-2.06.94zm10 10l.94 2.06.94-2.06 2.06-.94-2.06-.94-.94-2.06-.94 2.06-2.06.94z\"/><path d=\"M17.41 7.96l-1.37-1.37c-.4-.4-.92-.59-1.43-.59-.52 0-1.04.2-1.43.59L10.3 9.45l-7.72 7.72c-.78.78-.78 2.05 0 2.83L4 21.41c.39.39.9.59 1.41.59.51 0 1.02-.2 1.41-.59l7.78-7.78 2.81-2.81c.8-.78.8-2.07 0-2.86zM5.41 20L4 18.59l7.72-7.72 1.47 1.35L5.41 20z\"/>\n",
              "  </svg>\n",
              "      </button>\n",
              "      \n",
              "  <style>\n",
              "    .colab-df-container {\n",
              "      display:flex;\n",
              "      flex-wrap:wrap;\n",
              "      gap: 12px;\n",
              "    }\n",
              "\n",
              "    .colab-df-convert {\n",
              "      background-color: #E8F0FE;\n",
              "      border: none;\n",
              "      border-radius: 50%;\n",
              "      cursor: pointer;\n",
              "      display: none;\n",
              "      fill: #1967D2;\n",
              "      height: 32px;\n",
              "      padding: 0 0 0 0;\n",
              "      width: 32px;\n",
              "    }\n",
              "\n",
              "    .colab-df-convert:hover {\n",
              "      background-color: #E2EBFA;\n",
              "      box-shadow: 0px 1px 2px rgba(60, 64, 67, 0.3), 0px 1px 3px 1px rgba(60, 64, 67, 0.15);\n",
              "      fill: #174EA6;\n",
              "    }\n",
              "\n",
              "    [theme=dark] .colab-df-convert {\n",
              "      background-color: #3B4455;\n",
              "      fill: #D2E3FC;\n",
              "    }\n",
              "\n",
              "    [theme=dark] .colab-df-convert:hover {\n",
              "      background-color: #434B5C;\n",
              "      box-shadow: 0px 1px 3px 1px rgba(0, 0, 0, 0.15);\n",
              "      filter: drop-shadow(0px 1px 2px rgba(0, 0, 0, 0.3));\n",
              "      fill: #FFFFFF;\n",
              "    }\n",
              "  </style>\n",
              "\n",
              "      <script>\n",
              "        const buttonEl =\n",
              "          document.querySelector('#df-e95d94cb-d0d8-400d-84c7-db70db53eb96 button.colab-df-convert');\n",
              "        buttonEl.style.display =\n",
              "          google.colab.kernel.accessAllowed ? 'block' : 'none';\n",
              "\n",
              "        async function convertToInteractive(key) {\n",
              "          const element = document.querySelector('#df-e95d94cb-d0d8-400d-84c7-db70db53eb96');\n",
              "          const dataTable =\n",
              "            await google.colab.kernel.invokeFunction('convertToInteractive',\n",
              "                                                     [key], {});\n",
              "          if (!dataTable) return;\n",
              "\n",
              "          const docLinkHtml = 'Like what you see? Visit the ' +\n",
              "            '<a target=\"_blank\" href=https://colab.research.google.com/notebooks/data_table.ipynb>data table notebook</a>'\n",
              "            + ' to learn more about interactive tables.';\n",
              "          element.innerHTML = '';\n",
              "          dataTable['output_type'] = 'display_data';\n",
              "          await google.colab.output.renderOutput(dataTable, element);\n",
              "          const docLink = document.createElement('div');\n",
              "          docLink.innerHTML = docLinkHtml;\n",
              "          element.appendChild(docLink);\n",
              "        }\n",
              "      </script>\n",
              "    </div>\n",
              "  </div>\n",
              "  "
            ]
          },
          "metadata": {},
          "execution_count": 229
        }
      ],
      "source": [
        "dataframe"
      ]
    },
    {
      "cell_type": "code",
      "source": [
        "dataframe_spark.show()"
      ],
      "metadata": {
        "colab": {
          "base_uri": "https://localhost:8080/"
        },
        "id": "SozR93ekkBTy",
        "outputId": "35daab16-59fe-4dfb-a07c-c2b7fa61967b"
      },
      "execution_count": null,
      "outputs": [
        {
          "output_type": "stream",
          "name": "stdout",
          "text": [
            "+----+--------+-------------------+-------------------+------------------+------------------+------------------+------------------+-------------------+--------------------+-------+--------------+----+------------+----------+-----+----------+-------+----------+------------+-------------------+--------------+-------------+-----------+------------+--------------+--------------+---------------+-----------------+-----------------+-------+-----+--------+--------+--------+-------+-------+----------+-------+-----+---------------+--------------+------------+--------------+--------------+-----------------+---------------------+\n",
            "|  ID|Severity|         Start_Time|           End_Time|         Start_Lat|         Start_Lng|           End_Lat|           End_Lng|       Distance(mi)|         Description| Number|        Street|Side|        City|    County|State|   Zipcode|Country|  Timezone|Airport_Code|  Weather_Timestamp|Temperature(F)|Wind_Chill(F)|Humidity(%)|Pressure(in)|Visibility(mi)|Wind_Direction|Wind_Speed(mph)|Precipitation(in)|Weather_Condition|Amenity| Bump|Crossing|Give_Way|Junction|No_Exit|Railway|Roundabout|Station| Stop|Traffic_Calming|Traffic_Signal|Turning_Loop|Sunrise_Sunset|Civil_Twilight|Nautical_Twilight|Astronomical_Twilight|\n",
            "+----+--------+-------------------+-------------------+------------------+------------------+------------------+------------------+-------------------+--------------------+-------+--------------+----+------------+----------+-----+----------+-------+----------+------------+-------------------+--------------+-------------+-----------+------------+--------------+--------------+---------------+-----------------+-----------------+-------+-----+--------+--------+--------+-------+-------+----------+-------+-----+---------------+--------------+------------+--------------+--------------+-----------------+---------------------+\n",
            "| A-1|       3|2016-02-08 00:37:08|2016-02-08 06:37:08|40.108909999999995|         -83.09286|          40.11206|         -83.03187|               3.23|Between Sawmill R...|   null|   Outerbelt E|   R|      Dublin|  Franklin|   OH|     43017|     US|US/Eastern|        KOSU|2016-02-08 00:53:00|          42.1|         36.1|       58.0|       29.76|          10.0|            SW|           10.4|              0.0|       Light Rain|  False|False|   False|   False|   False|  False|  False|     False|  False|False|          False|         False|       False|         Night|         Night|            Night|                Night|\n",
            "| A-2|       2|2016-02-08 05:56:20|2016-02-08 11:56:20|          39.86542|          -84.0628|          39.86501|         -84.04873|              0.747|At OH-4/OH-235/Ex...|   null|        I-70 E|   R|      Dayton|Montgomery|   OH|     45424|     US|US/Eastern|        KFFO|2016-02-08 05:58:00|          36.9|         null|       91.0|       29.68|          10.0|          Calm|           null|             0.02|       Light Rain|  False|False|   False|   False|   False|  False|  False|     False|  False|False|          False|         False|       False|         Night|         Night|            Night|                Night|\n",
            "| A-3|       2|2016-02-08 06:15:39|2016-02-08 12:15:39|          39.10266|         -84.52468|39.102090000000004|         -84.52396|              0.055|At I-71/US-50/Exi...|   null|        I-75 S|   R|  Cincinnati|  Hamilton|   OH|     45203|     US|US/Eastern|        KLUK|2016-02-08 05:53:00|          36.0|         null|       97.0|        29.7|          10.0|          Calm|           null|             0.02|         Overcast|  False|False|   False|   False|    True|  False|  False|     False|  False|False|          False|         False|       False|         Night|         Night|            Night|                  Day|\n",
            "| A-4|       2|2016-02-08 06:51:45|2016-02-08 12:51:45|41.062129999999996|         -81.53784|          41.06217|-81.53546999999998|0.12300000000000001|At Dart Ave/Exit ...|   null|        I-77 N|   R|       Akron|    Summit|   OH|     44311|     US|US/Eastern|        KAKR|2016-02-08 06:54:00|          39.0|         null|       55.0|       29.65|          10.0|          Calm|           null|             null|         Overcast|  False|False|   False|   False|   False|  False|  False|     False|  False|False|          False|         False|       False|         Night|         Night|              Day|                  Day|\n",
            "| A-5|       3|2016-02-08 07:53:43|2016-02-08 13:53:43|         39.172393|-84.49279200000002|         39.170476|        -84.501798|                0.5|At Mitchell Ave/E...|   null|        I-75 S|   R|  Cincinnati|  Hamilton|   OH|     45217|     US|US/Eastern|        KLUK|2016-02-08 07:53:00|          37.0|         29.8|       93.0|       29.69|          10.0|           WSW|           10.4|             0.01|       Light Rain|  False|False|   False|   False|   False|  False|  False|     False|  False|False|          False|         False|       False|           Day|           Day|              Day|                  Day|\n",
            "| A-6|       2|2016-02-08 08:16:57|2016-02-08 14:16:57|          39.06324|         -84.03243|          39.06731|         -84.05851| 1.4269999999999998|At Dela Palma Rd ...|   null|State Route 32|   R|Williamsburg|  Clermont|   OH|     45176|     US|US/Eastern|        KI69|2016-02-08 08:16:00|          35.6|         29.2|      100.0|       29.66|          10.0|           WSW|            8.1|             null|         Overcast|  False|False|   False|   False|   False|  False|  False|     False|  False|False|          False|          True|       False|           Day|           Day|              Day|                  Day|\n",
            "| A-7|       2|2016-02-08 08:15:41|2016-02-08 14:15:41|          39.77565|         -84.18603|          39.77275|         -84.18805|0.22699999999999998|At OH-4/Exit 54 -...|   null|        I-75 S|   R|      Dayton|Montgomery|   OH|     45404|     US|US/Eastern|        KFFO|2016-02-08 08:18:00|          33.8|         null|      100.0|       29.63|           3.0|            SW|            2.3|             null|    Mostly Cloudy|  False|False|   False|   False|   False|  False|  False|     False|  False|False|          False|         False|       False|           Day|           Day|              Day|                  Day|\n",
            "| A-8|       2|2016-02-08 11:51:46|2016-02-08 17:51:46|          41.37531|-81.82016999999998|          41.36786|         -81.82174|              0.521|At Bagley Rd/Exit...|   null|        I-71 S|   R|   Cleveland|  Cuyahoga|   OH|     44130|     US|US/Eastern|        KCLE|2016-02-08 11:51:00|          33.1|         30.0|       92.0|       29.63|           0.5|            SW|            3.5|             0.08|             Snow|  False|False|   False|   False|    True|  False|  False|     False|  False|False|          False|         False|       False|           Day|           Day|              Day|                  Day|\n",
            "| A-9|       2|2016-02-08 14:19:57|2016-02-08 20:19:57|         40.702247|        -84.075887|          40.69911|        -84.084293|              0.491|At OH-65/Exit 122...|   null| E Hanthorn Rd|   R|        Lima|     Allen|   OH|     45806|     US|US/Eastern|        KAOH|2016-02-08 13:53:00|          39.0|         31.8|       70.0|       29.59|          10.0|           WNW|           11.5|             null|         Overcast|  False|False|   False|   False|   False|  False|  False|     False|  False|False|          False|         False|       False|           Day|           Day|              Day|                  Day|\n",
            "|A-10|       2|2016-02-08 15:16:43|2016-02-08 21:16:43|          40.10931|         -82.96849|          40.11078|           -82.984|              0.826|At I-71/Exit 26 -...|   null|   Outerbelt W|   R| Westerville|  Franklin|   OH|     43081|     US|US/Eastern|        KCMH|2016-02-08 15:12:00|          32.0|         28.7|      100.0|       29.59|           0.5|          West|            3.5|             0.05|             Snow|  False|False|   False|   False|   False|  False|  False|     False|  False|False|          False|         False|       False|           Day|           Day|              Day|                  Day|\n",
            "|A-11|       2|2016-02-08 15:43:50|2016-02-08 21:43:50|          39.19288|         -84.47723|          39.19615|         -84.47335|              0.307|At OH-4/Paddock R...|   null|        I-75 N|   R|  Cincinnati|  Hamilton|   OH|     45216|     US|US/Eastern|        KLUK|2016-02-08 15:47:00|          33.8|         29.6|      100.0|       29.66|           3.0|           NNW|            4.6|             0.03|       Light Snow|  False|False|   False|   False|   False|  False|  False|     False|  False|False|          False|         False|       False|           Day|           Day|              Day|                  Day|\n",
            "|A-12|       2|2016-02-08 16:50:57|2016-02-08 22:50:57|          39.13877|         -84.53394|          39.13977|          -84.5343|0.07200000000000001|At US-52/Hopple S...|   null|     Hopple St|   R|  Cincinnati|  Hamilton|   OH|     45225|     US|US/Eastern|        KLUK|2016-02-08 16:53:00|          35.1|         32.2|       96.0|       29.69|          10.0|         South|            3.5|             null|         Overcast|  False|False|    True|   False|   False|  False|  False|     False|  False|False|          False|          True|       False|           Day|           Day|              Day|                  Day|\n",
            "|A-13|       2|2016-02-08 17:27:39|2016-02-08 23:27:39|           41.4739|        -81.704233|          41.47388|         -81.70559|               0.07|At US-42/Exit 170...|   null|        I-90 E|   R|   Cleveland|  Cuyahoga|   OH|     44113|     US|US/Eastern|        KBKL|2016-02-08 17:36:00|          33.1|         24.4|       96.0|       29.59|           1.8|          West|           11.5|              0.0|       Light Snow|  False|False|   False|   False|   False|  False|  False|     False|  False|False|          False|         False|       False|           Day|           Day|              Day|                  Day|\n",
            "|A-14|       2|2016-02-08 17:30:18|2016-02-08 23:30:18|         39.582242|        -83.677814|         39.603013|-83.63731899999998|               2.59|Between OH-72/Exi...|   null|        I-71 N|   R|   Jamestown|    Greene|   OH|     45335|     US|US/Eastern|        KSGH|2016-02-08 17:28:00|          33.8|         28.6|       93.0|       29.64|           1.0|          West|            5.8|             0.01|       Light Snow|  False|False|   False|   False|   False|  False|  False|     False|  False|False|          False|         False|       False|           Day|           Day|              Day|                  Day|\n",
            "|A-15|       3|2016-02-08 18:11:11|2016-02-09 00:11:11|         40.151785|        -81.312635|         40.151747|        -81.312682|              0.004|At Shipley Rd - A...|48999.0|      Titus Rd|   R|    Freeport|  Guernsey|   OH|     43973|     US|US/Eastern|        KPHD|2016-02-08 18:23:00|          33.1|         null|       92.0|       29.62|          10.0|          Calm|           null|             null|    Mostly Cloudy|  False|False|   False|   False|   False|  False|  False|     False|  False|False|          False|         False|       False|         Night|           Day|              Day|                  Day|\n",
            "|A-16|       3|2016-02-08 18:11:11|2016-02-09 00:11:11|         40.151747|        -81.312682|         40.151785|        -81.312635|              0.004|At Titus Rd - Acc...|22549.0|      Cadiz Rd|   L|    Freeport|  Harrison|   OH|43973-8626|     US|US/Eastern|        KPHD|2016-02-08 18:23:00|          33.1|         null|       92.0|       29.62|          10.0|          Calm|           null|             null|    Mostly Cloudy|  False|False|   False|   False|   False|  False|  False|     False|  False|False|          False|         False|       False|         Night|           Day|              Day|                  Day|\n",
            "|A-17|       3|2016-02-08 19:47:42|2016-02-09 01:47:42|39.972409999999996|         -82.84695|          39.98529|         -82.85667|              1.028|At OH-16/Broad St...|   null|   Outerbelt N|   R|    Columbus|  Franklin|   OH|     43213|     US|US/Eastern|        KCMH|2016-02-08 19:51:00|          34.0|         null|      100.0|       29.65|           6.0|          Calm|           null|             0.07|         Overcast|  False|False|   False|   False|   False|  False|  False|     False|  False|False|          False|         False|       False|         Night|         Night|            Night|                Night|\n",
            "|A-18|       2|2016-02-08 19:47:42|2016-02-09 01:47:42|           39.9838|-82.85656999999998|           39.9725|         -82.84746| 0.9179999999999999|At I-270 - Accident.|   null|   Outerbelt S|   R|    Columbus|  Franklin|   OH|     43213|     US|US/Eastern|        KCMH|2016-02-08 19:51:00|          34.0|         null|      100.0|       29.65|           6.0|          Calm|           null|             0.07|         Overcast|  False|False|   False|   False|   False|  False|  False|     False|  False|False|          False|         False|       False|         Night|         Night|            Night|                Night|\n",
            "|A-19|       3|2016-02-08 20:13:22|2016-02-09 02:13:22|          40.02664|          -82.9944|          40.01228|         -82.99218| 0.9990000000000001|Between Weber Rd/...|   null|   North Fwy S|   R|    Columbus|  Franklin|   OH|     43224|     US|US/Eastern|        KCMH|2016-02-08 20:12:00|          33.8|         27.0|      100.0|       29.63|           1.0|          West|            8.1|              0.0|       Light Snow|  False|False|   False|   False|   False|  False|  False|     False|  False|False|          False|         False|       False|         Night|         Night|            Night|                Night|\n",
            "|A-20|       4|2016-02-08 21:00:17|2016-02-09 03:00:17|         41.679361|        -83.573037|41.666123999999996|        -83.566335|              0.978|Closed between I-...|   null|        I-75 S|   R|      Toledo|     Lucas|   OH|     43610|     US|US/Eastern|        KDUH|2016-02-08 20:55:00|          33.4|         26.6|       79.0|       29.62|          10.0|          West|            8.1|             null|         Overcast|  False|False|   False|   False|   False|  False|  False|     False|  False|False|          False|         False|       False|         Night|         Night|            Night|                Night|\n",
            "+----+--------+-------------------+-------------------+------------------+------------------+------------------+------------------+-------------------+--------------------+-------+--------------+----+------------+----------+-----+----------+-------+----------+------------+-------------------+--------------+-------------+-----------+------------+--------------+--------------+---------------+-----------------+-----------------+-------+-----+--------+--------+--------+-------+-------+----------+-------+-----+---------------+--------------+------------+--------------+--------------+-----------------+---------------------+\n",
            "only showing top 20 rows\n",
            "\n"
          ]
        }
      ]
    },
    {
      "cell_type": "markdown",
      "source": [
        "Maintenant, **décrivons les colonnes** afin de savoir les interpréter dans le futur et de mieux comprendre la composition du dataset.\n",
        "\n",
        "Ce dataset est constitué de 47 colonnes :\n",
        "\n",
        "\n",
        "*   **ID**, l'id de l'opération\n",
        "*   **Severity**, la sévérité de l'accident, entier compris entre 1 et 4. Plus précisément, 1 représente un impacte moindre sur le traffic (faible bouchons) et 4 un impact significatif sur le traffic\n",
        "*   **Start_Time**, représente l'heure de départ de l'accident (heure locale)\n",
        "*   **End_Time**, représente l'heure de fin de l'accident (heure locale), c'est à dire l'heure où l'accident n'a plus d'impact sur le traffic\n",
        "*   **Start_Lat**, la lattitude de départ de l'accident (coordonnées GPS)\n",
        "*   **Start_Lng**, la longitude de départ de l'accident (coordonnées GPS)\n",
        "*   **End_Lat**, la lattitude de fin de l'accident (coordonnées GPS)\n",
        "*   **End_Lng**, la longitude de fin de l'accident (coordonnées GPS)\n",
        "*   **Distance(mi)**, la distance en Miles qui correspond à la longueur de la route affectée par l'accident\n",
        "*   **Description**, une description faite par un humain\n",
        "*   **Number**, le numéro de la rue\n",
        "*   **Street**, le nom de la rue\n",
        "*   **Side**, côté relatif (droite/gauche) de la rue\n",
        "*   **City**, la ville\n",
        "*   **County**, le compté\n",
        "*   **State**, l'état\n",
        "*   **Zipcode**, le code postal\n",
        "*   **Country**, le pays\n",
        "*   **Timezone**, la timezone du lieu de l'accident\n",
        "*   **Airport_Code**, le code de l'aéroport le plus prêt du lieu de l'accident où il y a une station météo\n",
        "*   **Weather_Timestamp**, l'heure de l'observation météo associée\n",
        "*   **Temperature(F)**, la temperature en farenheit\n",
        "*   **Wind_Chill(F)**, la température du vent en farenheit\n",
        "*   **Humidity(%)**, le pourcentage d'humidité\n",
        "*   **Pressure(in)**, la pression de l'air en pouces\n",
        "*   **Visibility(mi)**, la visibilité en miles\n",
        "*   **Wind_Direction**, la direction du vent\n",
        "*   **Wind_Speed(mph)**, la vitesse du vent en miles par heure\n",
        "*   **Precipitation(in)**, la précipitation en pouces\n",
        "*   **Weather_Condition**, les conditions météos\n",
        "*   **Amenity**, présence d'un équipement à proximité\n",
        "*   **Bump**, présence d'un dos d'âne à proximité ou non\n",
        "*   **Crossing**, présence d'un passage à niveau à proximité\n",
        "*   **Give_Way**, présence d'un Cédez le passage à proximité\n",
        "*   **Junction**, présence d'un carrefour à proximité\n",
        "*   **No_Exit**, présence d'une voie sans issue à proximité\n",
        "*   **Railway**, présence d'un chemin de fer à proximité\n",
        "*   **Roundabout**, présence d'un rond point à proximité\n",
        "*   **Station**, présence d'une station à proximité\n",
        "*   **Stop**, présence d'un stop à proximité\n",
        "*   **Traffic_Calming**, présence d'une ralentissement de circulation à proximité\n",
        "*   **Traffic_Signal**, présence d'un signal de traffic à proximité\n",
        "*   **Turning_Loop**, présence d'une boucle de retournement (sortie d'autoroute par exemple) à proximité\n",
        "*   **Sunrise_Sunset**, présence du jour (lever ou coucher du soleil)\n",
        "*   **Civil_Twilight**, période de la journée (jour ou nuit) basé sur le crépuscule civil\n",
        "*   **Nautical_Twilight**, période de la journée (jour ou nuit) basé sur le crépuscule nautique\n",
        "*   **Astronomical_Twilight**, période de la journée (jour ou nuit) basé sur le crépuscule astronomique\n",
        "\n",
        "\n",
        "Pour un peu plus d'explications sur les différences de [crépuscule](https://www.futura-sciences.com/sciences/definitions/univers-crepuscule-5210/). Pour résumer, ils correspondent à une inclinaison différente du soleil au dessus de l'horizon."
      ],
      "metadata": {
        "id": "NMTteFfmF3Do"
      }
    },
    {
      "cell_type": "code",
      "source": [
        "colonnes = np.array(dataframe.columns.tolist())\n",
        "colonnes"
      ],
      "metadata": {
        "colab": {
          "base_uri": "https://localhost:8080/"
        },
        "id": "RdiwOR9_E9vJ",
        "outputId": "c7ab9d84-5cdd-467b-b4cd-b49b4aa343b6"
      },
      "execution_count": null,
      "outputs": [
        {
          "output_type": "execute_result",
          "data": {
            "text/plain": [
              "array(['ID', 'Severity', 'Start_Time', 'End_Time', 'Start_Lat',\n",
              "       'Start_Lng', 'End_Lat', 'End_Lng', 'Distance(mi)', 'Description',\n",
              "       'Number', 'Street', 'Side', 'City', 'County', 'State', 'Zipcode',\n",
              "       'Country', 'Timezone', 'Airport_Code', 'Weather_Timestamp',\n",
              "       'Temperature(F)', 'Wind_Chill(F)', 'Humidity(%)', 'Pressure(in)',\n",
              "       'Visibility(mi)', 'Wind_Direction', 'Wind_Speed(mph)',\n",
              "       'Precipitation(in)', 'Weather_Condition', 'Amenity', 'Bump',\n",
              "       'Crossing', 'Give_Way', 'Junction', 'No_Exit', 'Railway',\n",
              "       'Roundabout', 'Station', 'Stop', 'Traffic_Calming',\n",
              "       'Traffic_Signal', 'Turning_Loop', 'Sunrise_Sunset',\n",
              "       'Civil_Twilight', 'Nautical_Twilight', 'Astronomical_Twilight'],\n",
              "      dtype='<U21')"
            ]
          },
          "metadata": {},
          "execution_count": 231
        }
      ]
    },
    {
      "cell_type": "code",
      "source": [
        "colonnes_spark = np.array(dataframe_spark.columns)\n",
        "colonnes_spark"
      ],
      "metadata": {
        "colab": {
          "base_uri": "https://localhost:8080/"
        },
        "id": "KvgwnEgUlYnF",
        "outputId": "404a5fa5-9857-4ced-dc05-556fd4fb2b65"
      },
      "execution_count": null,
      "outputs": [
        {
          "output_type": "execute_result",
          "data": {
            "text/plain": [
              "array(['ID', 'Severity', 'Start_Time', 'End_Time', 'Start_Lat',\n",
              "       'Start_Lng', 'End_Lat', 'End_Lng', 'Distance(mi)', 'Description',\n",
              "       'Number', 'Street', 'Side', 'City', 'County', 'State', 'Zipcode',\n",
              "       'Country', 'Timezone', 'Airport_Code', 'Weather_Timestamp',\n",
              "       'Temperature(F)', 'Wind_Chill(F)', 'Humidity(%)', 'Pressure(in)',\n",
              "       'Visibility(mi)', 'Wind_Direction', 'Wind_Speed(mph)',\n",
              "       'Precipitation(in)', 'Weather_Condition', 'Amenity', 'Bump',\n",
              "       'Crossing', 'Give_Way', 'Junction', 'No_Exit', 'Railway',\n",
              "       'Roundabout', 'Station', 'Stop', 'Traffic_Calming',\n",
              "       'Traffic_Signal', 'Turning_Loop', 'Sunrise_Sunset',\n",
              "       'Civil_Twilight', 'Nautical_Twilight', 'Astronomical_Twilight'],\n",
              "      dtype='<U21')"
            ]
          },
          "metadata": {},
          "execution_count": 232
        }
      ]
    },
    {
      "cell_type": "markdown",
      "source": [
        "# Pré-traitement des données"
      ],
      "metadata": {
        "id": "Ru2QydwkkvWc"
      }
    },
    {
      "cell_type": "markdown",
      "source": [
        "## Dataframe Pandas"
      ],
      "metadata": {
        "id": "hzBoIfsPsaJN"
      }
    },
    {
      "cell_type": "markdown",
      "source": [
        "### Typage des données"
      ],
      "metadata": {
        "id": "nCPqQ4Hxqndc"
      }
    },
    {
      "cell_type": "markdown",
      "source": [
        "On regarde le type de données juste après l'importation"
      ],
      "metadata": {
        "id": "i6YAU8Vzsgq7"
      }
    },
    {
      "cell_type": "code",
      "source": [
        "dataframe.dtypes"
      ],
      "metadata": {
        "colab": {
          "base_uri": "https://localhost:8080/"
        },
        "id": "nwGM7BT8BYUz",
        "outputId": "a36588b9-f588-46c2-db09-0aa3a0711b4a"
      },
      "execution_count": null,
      "outputs": [
        {
          "output_type": "execute_result",
          "data": {
            "text/plain": [
              "ID                        object\n",
              "Severity                   int64\n",
              "Start_Time                object\n",
              "End_Time                  object\n",
              "Start_Lat                float64\n",
              "Start_Lng                float64\n",
              "End_Lat                  float64\n",
              "End_Lng                  float64\n",
              "Distance(mi)             float64\n",
              "Description               object\n",
              "Number                   float64\n",
              "Street                    object\n",
              "Side                      object\n",
              "City                      object\n",
              "County                    object\n",
              "State                     object\n",
              "Zipcode                   object\n",
              "Country                   object\n",
              "Timezone                  object\n",
              "Airport_Code              object\n",
              "Weather_Timestamp         object\n",
              "Temperature(F)           float64\n",
              "Wind_Chill(F)            float64\n",
              "Humidity(%)              float64\n",
              "Pressure(in)             float64\n",
              "Visibility(mi)           float64\n",
              "Wind_Direction            object\n",
              "Wind_Speed(mph)          float64\n",
              "Precipitation(in)        float64\n",
              "Weather_Condition         object\n",
              "Amenity                     bool\n",
              "Bump                        bool\n",
              "Crossing                    bool\n",
              "Give_Way                    bool\n",
              "Junction                    bool\n",
              "No_Exit                     bool\n",
              "Railway                     bool\n",
              "Roundabout                  bool\n",
              "Station                     bool\n",
              "Stop                        bool\n",
              "Traffic_Calming             bool\n",
              "Traffic_Signal              bool\n",
              "Turning_Loop                bool\n",
              "Sunrise_Sunset            object\n",
              "Civil_Twilight            object\n",
              "Nautical_Twilight         object\n",
              "Astronomical_Twilight     object\n",
              "dtype: object"
            ]
          },
          "metadata": {},
          "execution_count": 233
        }
      ]
    },
    {
      "cell_type": "markdown",
      "source": [
        "On remarque que les types des données, qui sont déterminés par Pandas automatiquement, ne sont pas tous bien définis, notamment les dates. Pour ce qui est des strings, on voit qu'elles sont toutes marquées comme object. On va donc instancier les bons types aux colonnes, c'est à dire convertir les `Start_Time` et `End_Time` en timestamp et convertir tous les autres object en String."
      ],
      "metadata": {
        "id": "2aNBTYpgBdjc"
      }
    },
    {
      "cell_type": "code",
      "source": [
        "dataframe[\"Start_Time\"] = pd.to_datetime(dataframe[\"Start_Time\"])\n",
        "dataframe[\"End_Time\"] = pd.to_datetime(dataframe[\"End_Time\"])"
      ],
      "metadata": {
        "id": "LFNPy2fFro8A"
      },
      "execution_count": null,
      "outputs": []
    },
    {
      "cell_type": "code",
      "source": [
        "dataframe = dataframe.astype({'ID':'string', \"Description\" : \"string\", \"Street\" : \"string\", \"Side\" : \"string\", \"City\" : \"string\", \"County\" : \"string\"})\n",
        "dataframe = dataframe.astype({'State':'string', \"Zipcode\" : \"string\", \"Country\" : \"string\", \"Timezone\" : \"string\", \"Airport_Code\" : \"string\"})\n",
        "dataframe = dataframe.astype({'Weather_Timestamp':'string', \"Wind_Direction\" : \"string\", \"Weather_Condition\" : \"string\", \"Sunrise_Sunset\" : \"string\"})\n",
        "dataframe = dataframe.astype({'Civil_Twilight':'string', \"Nautical_Twilight\" : \"string\", \"Astronomical_Twilight\" : \"string\"})"
      ],
      "metadata": {
        "id": "1LsgiqawHWGr"
      },
      "execution_count": null,
      "outputs": []
    },
    {
      "cell_type": "code",
      "source": [
        "dataframe.dtypes"
      ],
      "metadata": {
        "colab": {
          "base_uri": "https://localhost:8080/"
        },
        "id": "fmFhglpBswbP",
        "outputId": "5a8945b1-335e-4eb5-a12e-eca149101b19"
      },
      "execution_count": null,
      "outputs": [
        {
          "output_type": "execute_result",
          "data": {
            "text/plain": [
              "ID                               string\n",
              "Severity                          int64\n",
              "Start_Time               datetime64[ns]\n",
              "End_Time                 datetime64[ns]\n",
              "Start_Lat                       float64\n",
              "Start_Lng                       float64\n",
              "End_Lat                         float64\n",
              "End_Lng                         float64\n",
              "Distance(mi)                    float64\n",
              "Description                      string\n",
              "Number                          float64\n",
              "Street                           string\n",
              "Side                             string\n",
              "City                             string\n",
              "County                           string\n",
              "State                            string\n",
              "Zipcode                          string\n",
              "Country                          string\n",
              "Timezone                         string\n",
              "Airport_Code                     string\n",
              "Weather_Timestamp                string\n",
              "Temperature(F)                  float64\n",
              "Wind_Chill(F)                   float64\n",
              "Humidity(%)                     float64\n",
              "Pressure(in)                    float64\n",
              "Visibility(mi)                  float64\n",
              "Wind_Direction                   string\n",
              "Wind_Speed(mph)                 float64\n",
              "Precipitation(in)               float64\n",
              "Weather_Condition                string\n",
              "Amenity                            bool\n",
              "Bump                               bool\n",
              "Crossing                           bool\n",
              "Give_Way                           bool\n",
              "Junction                           bool\n",
              "No_Exit                            bool\n",
              "Railway                            bool\n",
              "Roundabout                         bool\n",
              "Station                            bool\n",
              "Stop                               bool\n",
              "Traffic_Calming                    bool\n",
              "Traffic_Signal                     bool\n",
              "Turning_Loop                       bool\n",
              "Sunrise_Sunset                   string\n",
              "Civil_Twilight                   string\n",
              "Nautical_Twilight                string\n",
              "Astronomical_Twilight            string\n",
              "dtype: object"
            ]
          },
          "metadata": {},
          "execution_count": 236
        }
      ]
    },
    {
      "cell_type": "markdown",
      "source": [
        "### Modification des unités"
      ],
      "metadata": {
        "id": "WNUo9BgtquaK"
      }
    },
    {
      "cell_type": "markdown",
      "source": [
        "On convertit les miles en kilomètres pour une meilleure représentation des données. On [remarque](https://www.rapidtables.com/convert/length/mile-to-km.html) que 1 mile = 1.609344 km."
      ],
      "metadata": {
        "id": "UW94dwlwm4MX"
      }
    },
    {
      "cell_type": "code",
      "source": [
        "print(\"Première distance du DF avant conversion : \", dataframe[\"Distance(mi)\"][0], \" miles\")\n",
        "dataframe[\"Distance(mi)\"] = dataframe[\"Distance(mi)\"].apply(lambda x: x * 1.609344)\n",
        "print(\"Première distance du DF après conversion : \", dataframe[\"Distance(mi)\"][0], \" kilomètres\")\n",
        "\n",
        "dataframe[\"Visibility(mi)\"] = dataframe[\"Visibility(mi)\"].apply(lambda x: x * 1.609344)\n",
        "dataframe[\"Wind_Speed(mph)\"] = dataframe[\"Wind_Speed(mph)\"].apply(lambda x: x * 1.609344)"
      ],
      "metadata": {
        "colab": {
          "base_uri": "https://localhost:8080/"
        },
        "id": "28at3AuZnCve",
        "outputId": "1194e19e-6fa0-4551-e684-d060ad47a19b"
      },
      "execution_count": null,
      "outputs": [
        {
          "output_type": "stream",
          "name": "stdout",
          "text": [
            "Première distance du DF avant conversion :  3.23  miles\n",
            "Première distance du DF après conversion :  5.19818112  kilomètres\n"
          ]
        }
      ]
    },
    {
      "cell_type": "markdown",
      "source": [
        "On fait de même pour la température et pour la température du vent, que l'on converti de farenheit à celsius. On [retrouve](https://www.meteo.be/fr/infos/faq/mesures-et-unites-de-mesure/comment-convertir-les-degres-fahrenheit-en-degres-celsius-ou-en-degres-kelvin) cette formule : `°C = (°F - 32) / 1,8`"
      ],
      "metadata": {
        "id": "WMclEoRFqLcY"
      }
    },
    {
      "cell_type": "code",
      "source": [
        "print(\"Première température du DF avant conversion : \", dataframe[\"Temperature(F)\"][0], \"°F\")\n",
        "dataframe[\"Temperature(F)\"] = dataframe[\"Temperature(F)\"].apply(lambda x: (x - 32) / 1.8)\n",
        "print(\"Première température du DF après conversion : \", dataframe[\"Temperature(F)\"][0], \"°C\")\n",
        "\n",
        "dataframe[\"Wind_Chill(F)\"] = dataframe[\"Wind_Chill(F)\"].apply(lambda x: (x - 32) / 1.8)"
      ],
      "metadata": {
        "colab": {
          "base_uri": "https://localhost:8080/"
        },
        "id": "ZnqbWJpArnBQ",
        "outputId": "14aaff3f-953a-4b1e-83e9-e3948cc15e3a"
      },
      "execution_count": null,
      "outputs": [
        {
          "output_type": "stream",
          "name": "stdout",
          "text": [
            "Première température du DF avant conversion :  42.1 °F\n",
            "Première température du DF après conversion :  5.611111111111112 °C\n"
          ]
        }
      ]
    },
    {
      "cell_type": "markdown",
      "source": [
        "Pour les précipitations, on convertir les pouces en millimètres, unité classique pour mesurer cet indicateur. On [voit](https://www.rapidtables.com/convert/length/inch-to-mm.html) que 1 pouce = 25.4 mm."
      ],
      "metadata": {
        "id": "-EsorFobvX22"
      }
    },
    {
      "cell_type": "code",
      "source": [
        "print(\"Onzième précipitation du DF avant conversion : \", dataframe[\"Precipitation(in)\"][10], \"in\")\n",
        "dataframe[\"Precipitation(in)\"] = dataframe[\"Precipitation(in)\"].apply(lambda x: x * 24.5)\n",
        "print(\"Onzième précipitation du DF après conversion : \", dataframe[\"Precipitation(in)\"][10], \"mm\")"
      ],
      "metadata": {
        "colab": {
          "base_uri": "https://localhost:8080/"
        },
        "id": "ld9yBxn9v_g9",
        "outputId": "03c45ffa-d564-4d46-ffe6-d0176b855b42"
      },
      "execution_count": null,
      "outputs": [
        {
          "output_type": "stream",
          "name": "stdout",
          "text": [
            "Onzième précipitation du DF avant conversion :  0.03 in\n",
            "Onzième précipitation du DF après conversion :  0.735 mm\n"
          ]
        }
      ]
    },
    {
      "cell_type": "markdown",
      "source": [
        "### On renomme les colonnes concernées"
      ],
      "metadata": {
        "id": "4bndDbHPyQM6"
      }
    },
    {
      "cell_type": "code",
      "source": [
        "dataframe = dataframe.rename(columns = {'Distance(mi)': 'Distance(km)', 'Temperature(F)': 'Temperature(C)', 'Wind_Chill(F)': 'Wind_Chill(C)'})\n",
        "dataframe = dataframe.rename(columns = {'Visibility(mi)' : 'Visibility(km)', 'Wind_Speed(mph)' : 'Wind_Speed(kmh)', 'Precipitation(in)' : 'Precipitation(mm)'})"
      ],
      "metadata": {
        "id": "6U-ID7AIpn53"
      },
      "execution_count": null,
      "outputs": []
    },
    {
      "cell_type": "code",
      "source": [
        "dataframe.columns"
      ],
      "metadata": {
        "colab": {
          "base_uri": "https://localhost:8080/"
        },
        "id": "TqWZwAGep6lh",
        "outputId": "5957da51-1c9c-4e42-827b-0c8d4b6aa5eb"
      },
      "execution_count": null,
      "outputs": [
        {
          "output_type": "execute_result",
          "data": {
            "text/plain": [
              "Index(['ID', 'Severity', 'Start_Time', 'End_Time', 'Start_Lat', 'Start_Lng',\n",
              "       'End_Lat', 'End_Lng', 'Distance(km)', 'Description', 'Number', 'Street',\n",
              "       'Side', 'City', 'County', 'State', 'Zipcode', 'Country', 'Timezone',\n",
              "       'Airport_Code', 'Weather_Timestamp', 'Temperature(C)', 'Wind_Chill(C)',\n",
              "       'Humidity(%)', 'Pressure(in)', 'Visibility(km)', 'Wind_Direction',\n",
              "       'Wind_Speed(kmh)', 'Precipitation(mm)', 'Weather_Condition', 'Amenity',\n",
              "       'Bump', 'Crossing', 'Give_Way', 'Junction', 'No_Exit', 'Railway',\n",
              "       'Roundabout', 'Station', 'Stop', 'Traffic_Calming', 'Traffic_Signal',\n",
              "       'Turning_Loop', 'Sunrise_Sunset', 'Civil_Twilight', 'Nautical_Twilight',\n",
              "       'Astronomical_Twilight'],\n",
              "      dtype='object')"
            ]
          },
          "metadata": {},
          "execution_count": 241
        }
      ]
    },
    {
      "cell_type": "markdown",
      "source": [
        "## Dataframe Spark"
      ],
      "metadata": {
        "id": "qDurZC8Lv-aF"
      }
    },
    {
      "cell_type": "markdown",
      "source": [
        "### Typage des données"
      ],
      "metadata": {
        "id": "02_Ga7Au8jTE"
      }
    },
    {
      "cell_type": "code",
      "source": [
        "dataframe_spark.printSchema()"
      ],
      "metadata": {
        "colab": {
          "base_uri": "https://localhost:8080/"
        },
        "id": "OVRqofXflwh0",
        "outputId": "ecaad5f6-fcba-4687-e2aa-71d857bf12aa"
      },
      "execution_count": null,
      "outputs": [
        {
          "output_type": "stream",
          "name": "stdout",
          "text": [
            "root\n",
            " |-- ID: string (nullable = true)\n",
            " |-- Severity: string (nullable = true)\n",
            " |-- Start_Time: string (nullable = true)\n",
            " |-- End_Time: string (nullable = true)\n",
            " |-- Start_Lat: string (nullable = true)\n",
            " |-- Start_Lng: string (nullable = true)\n",
            " |-- End_Lat: string (nullable = true)\n",
            " |-- End_Lng: string (nullable = true)\n",
            " |-- Distance(mi): string (nullable = true)\n",
            " |-- Description: string (nullable = true)\n",
            " |-- Number: string (nullable = true)\n",
            " |-- Street: string (nullable = true)\n",
            " |-- Side: string (nullable = true)\n",
            " |-- City: string (nullable = true)\n",
            " |-- County: string (nullable = true)\n",
            " |-- State: string (nullable = true)\n",
            " |-- Zipcode: string (nullable = true)\n",
            " |-- Country: string (nullable = true)\n",
            " |-- Timezone: string (nullable = true)\n",
            " |-- Airport_Code: string (nullable = true)\n",
            " |-- Weather_Timestamp: string (nullable = true)\n",
            " |-- Temperature(F): string (nullable = true)\n",
            " |-- Wind_Chill(F): string (nullable = true)\n",
            " |-- Humidity(%): string (nullable = true)\n",
            " |-- Pressure(in): string (nullable = true)\n",
            " |-- Visibility(mi): string (nullable = true)\n",
            " |-- Wind_Direction: string (nullable = true)\n",
            " |-- Wind_Speed(mph): string (nullable = true)\n",
            " |-- Precipitation(in): string (nullable = true)\n",
            " |-- Weather_Condition: string (nullable = true)\n",
            " |-- Amenity: string (nullable = true)\n",
            " |-- Bump: string (nullable = true)\n",
            " |-- Crossing: string (nullable = true)\n",
            " |-- Give_Way: string (nullable = true)\n",
            " |-- Junction: string (nullable = true)\n",
            " |-- No_Exit: string (nullable = true)\n",
            " |-- Railway: string (nullable = true)\n",
            " |-- Roundabout: string (nullable = true)\n",
            " |-- Station: string (nullable = true)\n",
            " |-- Stop: string (nullable = true)\n",
            " |-- Traffic_Calming: string (nullable = true)\n",
            " |-- Traffic_Signal: string (nullable = true)\n",
            " |-- Turning_Loop: string (nullable = true)\n",
            " |-- Sunrise_Sunset: string (nullable = true)\n",
            " |-- Civil_Twilight: string (nullable = true)\n",
            " |-- Nautical_Twilight: string (nullable = true)\n",
            " |-- Astronomical_Twilight: string (nullable = true)\n",
            "\n"
          ]
        }
      ]
    },
    {
      "cell_type": "markdown",
      "source": [
        "On remarque aussi que les types définis par spark sont, eux-aussi, mal déterminés, et sont tous définis à string"
      ],
      "metadata": {
        "id": "Rigs9RWMl4DF"
      }
    },
    {
      "cell_type": "code",
      "source": [
        " schema_spark = StructType([\n",
        "    StructField(\"ID\", StringType(), False),\n",
        "    StructField(\"Severity\", IntegerType(), False),\n",
        "    StructField(\"Start_Time\", TimestampType(), False),\n",
        "    StructField(\"End_Time\", TimestampType(), False),\n",
        "    StructField(\"Start_Lat\", DoubleType(), False),\n",
        "    StructField(\"Start_Lng\", DoubleType(), False),\n",
        "    StructField(\"End_Lat\", DoubleType(), False),\n",
        "    StructField(\"End_Lng\", DoubleType(), False),\n",
        "    StructField(\"Distance(mi)\", DoubleType(), False),\n",
        "    StructField(\"Description\", StringType(), False),\n",
        "    StructField(\"Number\", DoubleType(), False),\n",
        "    StructField(\"Street\", StringType(), False),\n",
        "    StructField(\"Side\", StringType(), False),\n",
        "    StructField(\"City\", StringType(), False),\n",
        "    StructField(\"County\", StringType(), False),\n",
        "    StructField(\"State\", StringType(), False),\n",
        "    StructField(\"Zipcode\", StringType(), False),\n",
        "    StructField(\"Country\", StringType(), False),\n",
        "    StructField(\"Timezone\", StringType(), False),\n",
        "    StructField(\"Airport_Code\", StringType(), False),\n",
        "    StructField(\"Weather_Timestamp\", StringType(), False),\n",
        "    StructField(\"Temperature(F)\", DoubleType(), False),\n",
        "    StructField(\"Wind_Chill(F)\", DoubleType(), False),\n",
        "    StructField(\"Humidity(%)\", DoubleType(), False),\n",
        "    StructField(\"Pressure(in)\", DoubleType(), False),\n",
        "    StructField(\"Visibility(mi)\", DoubleType(), False),\n",
        "    StructField(\"Wind_Direction\", StringType(), False),\n",
        "    StructField(\"Wind_Speed(mph)\", DoubleType(), False),\n",
        "    StructField(\"Precipitation(in)\", DoubleType(), False),\n",
        "    StructField(\"Weather_Condition\", StringType(), False),\n",
        "    StructField(\"Amenity\", BooleanType(), False),\n",
        "    StructField(\"Bump\", BooleanType(), False),\n",
        "    StructField(\"Crossing\", BooleanType(), False),\n",
        "    StructField(\"Give_Way\", BooleanType(), False),\n",
        "    StructField(\"Junction\", BooleanType(), False),\n",
        "    StructField(\"No_Exit\", BooleanType(), False),\n",
        "    StructField(\"Railway\", BooleanType(), False),\n",
        "    StructField(\"Roundabout\", BooleanType(), False),\n",
        "    StructField(\"Station\", BooleanType(), False),\n",
        "    StructField(\"Stop\", BooleanType(), False),\n",
        "    StructField(\"Traffic_Calming\", BooleanType(), False),\n",
        "    StructField(\"Traffic_Signal\", BooleanType(), False),\n",
        "    StructField(\"Turning_Loop\", BooleanType(), False),\n",
        "    StructField(\"Sunrise_Sunset\", StringType(), False),\n",
        "    StructField(\"Civil_Twilight\", StringType(), False),\n",
        "    StructField(\"Nautical_Twilight\", StringType(), False),\n",
        "    StructField(\"Astronomical_Twilight\", StringType(), False)\n",
        "])"
      ],
      "metadata": {
        "id": "YDOvacf9w27Q"
      },
      "execution_count": null,
      "outputs": []
    },
    {
      "cell_type": "code",
      "source": [
        "dataframe_spark = spark.read.options(header=True).schema(schema_spark).csv([csv_weather_path])            \n",
        "dataframe_spark.show()"
      ],
      "metadata": {
        "colab": {
          "base_uri": "https://localhost:8080/"
        },
        "id": "azExByPzkbNc",
        "outputId": "f08d139b-2464-4523-d698-2c1f784760e7"
      },
      "execution_count": null,
      "outputs": [
        {
          "output_type": "stream",
          "name": "stdout",
          "text": [
            "+----+--------+-------------------+-------------------+------------------+------------------+------------------+------------------+-------------------+--------------------+-------+--------------+----+------------+----------+-----+----------+-------+----------+------------+-------------------+--------------+-------------+-----------+------------+--------------+--------------+---------------+-----------------+-----------------+-------+-----+--------+--------+--------+-------+-------+----------+-------+-----+---------------+--------------+------------+--------------+--------------+-----------------+---------------------+\n",
            "|  ID|Severity|         Start_Time|           End_Time|         Start_Lat|         Start_Lng|           End_Lat|           End_Lng|       Distance(mi)|         Description| Number|        Street|Side|        City|    County|State|   Zipcode|Country|  Timezone|Airport_Code|  Weather_Timestamp|Temperature(F)|Wind_Chill(F)|Humidity(%)|Pressure(in)|Visibility(mi)|Wind_Direction|Wind_Speed(mph)|Precipitation(in)|Weather_Condition|Amenity| Bump|Crossing|Give_Way|Junction|No_Exit|Railway|Roundabout|Station| Stop|Traffic_Calming|Traffic_Signal|Turning_Loop|Sunrise_Sunset|Civil_Twilight|Nautical_Twilight|Astronomical_Twilight|\n",
            "+----+--------+-------------------+-------------------+------------------+------------------+------------------+------------------+-------------------+--------------------+-------+--------------+----+------------+----------+-----+----------+-------+----------+------------+-------------------+--------------+-------------+-----------+------------+--------------+--------------+---------------+-----------------+-----------------+-------+-----+--------+--------+--------+-------+-------+----------+-------+-----+---------------+--------------+------------+--------------+--------------+-----------------+---------------------+\n",
            "| A-1|       3|2016-02-08 00:37:08|2016-02-08 06:37:08|40.108909999999995|         -83.09286|          40.11206|         -83.03187|               3.23|Between Sawmill R...|   null|   Outerbelt E|   R|      Dublin|  Franklin|   OH|     43017|     US|US/Eastern|        KOSU|2016-02-08 00:53:00|          42.1|         36.1|       58.0|       29.76|          10.0|            SW|           10.4|              0.0|       Light Rain|  false|false|   false|   false|   false|  false|  false|     false|  false|false|          false|         false|       false|         Night|         Night|            Night|                Night|\n",
            "| A-2|       2|2016-02-08 05:56:20|2016-02-08 11:56:20|          39.86542|          -84.0628|          39.86501|         -84.04873|              0.747|At OH-4/OH-235/Ex...|   null|        I-70 E|   R|      Dayton|Montgomery|   OH|     45424|     US|US/Eastern|        KFFO|2016-02-08 05:58:00|          36.9|         null|       91.0|       29.68|          10.0|          Calm|           null|             0.02|       Light Rain|  false|false|   false|   false|   false|  false|  false|     false|  false|false|          false|         false|       false|         Night|         Night|            Night|                Night|\n",
            "| A-3|       2|2016-02-08 06:15:39|2016-02-08 12:15:39|          39.10266|         -84.52468|39.102090000000004|         -84.52396|              0.055|At I-71/US-50/Exi...|   null|        I-75 S|   R|  Cincinnati|  Hamilton|   OH|     45203|     US|US/Eastern|        KLUK|2016-02-08 05:53:00|          36.0|         null|       97.0|        29.7|          10.0|          Calm|           null|             0.02|         Overcast|  false|false|   false|   false|    true|  false|  false|     false|  false|false|          false|         false|       false|         Night|         Night|            Night|                  Day|\n",
            "| A-4|       2|2016-02-08 06:51:45|2016-02-08 12:51:45|41.062129999999996|         -81.53784|          41.06217|-81.53546999999998|0.12300000000000001|At Dart Ave/Exit ...|   null|        I-77 N|   R|       Akron|    Summit|   OH|     44311|     US|US/Eastern|        KAKR|2016-02-08 06:54:00|          39.0|         null|       55.0|       29.65|          10.0|          Calm|           null|             null|         Overcast|  false|false|   false|   false|   false|  false|  false|     false|  false|false|          false|         false|       false|         Night|         Night|              Day|                  Day|\n",
            "| A-5|       3|2016-02-08 07:53:43|2016-02-08 13:53:43|         39.172393|-84.49279200000002|         39.170476|        -84.501798|                0.5|At Mitchell Ave/E...|   null|        I-75 S|   R|  Cincinnati|  Hamilton|   OH|     45217|     US|US/Eastern|        KLUK|2016-02-08 07:53:00|          37.0|         29.8|       93.0|       29.69|          10.0|           WSW|           10.4|             0.01|       Light Rain|  false|false|   false|   false|   false|  false|  false|     false|  false|false|          false|         false|       false|           Day|           Day|              Day|                  Day|\n",
            "| A-6|       2|2016-02-08 08:16:57|2016-02-08 14:16:57|          39.06324|         -84.03243|          39.06731|         -84.05851| 1.4269999999999998|At Dela Palma Rd ...|   null|State Route 32|   R|Williamsburg|  Clermont|   OH|     45176|     US|US/Eastern|        KI69|2016-02-08 08:16:00|          35.6|         29.2|      100.0|       29.66|          10.0|           WSW|            8.1|             null|         Overcast|  false|false|   false|   false|   false|  false|  false|     false|  false|false|          false|          true|       false|           Day|           Day|              Day|                  Day|\n",
            "| A-7|       2|2016-02-08 08:15:41|2016-02-08 14:15:41|          39.77565|         -84.18603|          39.77275|         -84.18805|0.22699999999999998|At OH-4/Exit 54 -...|   null|        I-75 S|   R|      Dayton|Montgomery|   OH|     45404|     US|US/Eastern|        KFFO|2016-02-08 08:18:00|          33.8|         null|      100.0|       29.63|           3.0|            SW|            2.3|             null|    Mostly Cloudy|  false|false|   false|   false|   false|  false|  false|     false|  false|false|          false|         false|       false|           Day|           Day|              Day|                  Day|\n",
            "| A-8|       2|2016-02-08 11:51:46|2016-02-08 17:51:46|          41.37531|-81.82016999999998|          41.36786|         -81.82174|              0.521|At Bagley Rd/Exit...|   null|        I-71 S|   R|   Cleveland|  Cuyahoga|   OH|     44130|     US|US/Eastern|        KCLE|2016-02-08 11:51:00|          33.1|         30.0|       92.0|       29.63|           0.5|            SW|            3.5|             0.08|             Snow|  false|false|   false|   false|    true|  false|  false|     false|  false|false|          false|         false|       false|           Day|           Day|              Day|                  Day|\n",
            "| A-9|       2|2016-02-08 14:19:57|2016-02-08 20:19:57|         40.702247|        -84.075887|          40.69911|        -84.084293|              0.491|At OH-65/Exit 122...|   null| E Hanthorn Rd|   R|        Lima|     Allen|   OH|     45806|     US|US/Eastern|        KAOH|2016-02-08 13:53:00|          39.0|         31.8|       70.0|       29.59|          10.0|           WNW|           11.5|             null|         Overcast|  false|false|   false|   false|   false|  false|  false|     false|  false|false|          false|         false|       false|           Day|           Day|              Day|                  Day|\n",
            "|A-10|       2|2016-02-08 15:16:43|2016-02-08 21:16:43|          40.10931|         -82.96849|          40.11078|           -82.984|              0.826|At I-71/Exit 26 -...|   null|   Outerbelt W|   R| Westerville|  Franklin|   OH|     43081|     US|US/Eastern|        KCMH|2016-02-08 15:12:00|          32.0|         28.7|      100.0|       29.59|           0.5|          West|            3.5|             0.05|             Snow|  false|false|   false|   false|   false|  false|  false|     false|  false|false|          false|         false|       false|           Day|           Day|              Day|                  Day|\n",
            "|A-11|       2|2016-02-08 15:43:50|2016-02-08 21:43:50|          39.19288|         -84.47723|          39.19615|         -84.47335|              0.307|At OH-4/Paddock R...|   null|        I-75 N|   R|  Cincinnati|  Hamilton|   OH|     45216|     US|US/Eastern|        KLUK|2016-02-08 15:47:00|          33.8|         29.6|      100.0|       29.66|           3.0|           NNW|            4.6|             0.03|       Light Snow|  false|false|   false|   false|   false|  false|  false|     false|  false|false|          false|         false|       false|           Day|           Day|              Day|                  Day|\n",
            "|A-12|       2|2016-02-08 16:50:57|2016-02-08 22:50:57|          39.13877|         -84.53394|          39.13977|          -84.5343|0.07200000000000001|At US-52/Hopple S...|   null|     Hopple St|   R|  Cincinnati|  Hamilton|   OH|     45225|     US|US/Eastern|        KLUK|2016-02-08 16:53:00|          35.1|         32.2|       96.0|       29.69|          10.0|         South|            3.5|             null|         Overcast|  false|false|    true|   false|   false|  false|  false|     false|  false|false|          false|          true|       false|           Day|           Day|              Day|                  Day|\n",
            "|A-13|       2|2016-02-08 17:27:39|2016-02-08 23:27:39|           41.4739|        -81.704233|          41.47388|         -81.70559|               0.07|At US-42/Exit 170...|   null|        I-90 E|   R|   Cleveland|  Cuyahoga|   OH|     44113|     US|US/Eastern|        KBKL|2016-02-08 17:36:00|          33.1|         24.4|       96.0|       29.59|           1.8|          West|           11.5|              0.0|       Light Snow|  false|false|   false|   false|   false|  false|  false|     false|  false|false|          false|         false|       false|           Day|           Day|              Day|                  Day|\n",
            "|A-14|       2|2016-02-08 17:30:18|2016-02-08 23:30:18|         39.582242|        -83.677814|         39.603013|-83.63731899999998|               2.59|Between OH-72/Exi...|   null|        I-71 N|   R|   Jamestown|    Greene|   OH|     45335|     US|US/Eastern|        KSGH|2016-02-08 17:28:00|          33.8|         28.6|       93.0|       29.64|           1.0|          West|            5.8|             0.01|       Light Snow|  false|false|   false|   false|   false|  false|  false|     false|  false|false|          false|         false|       false|           Day|           Day|              Day|                  Day|\n",
            "|A-15|       3|2016-02-08 18:11:11|2016-02-09 00:11:11|         40.151785|        -81.312635|         40.151747|        -81.312682|              0.004|At Shipley Rd - A...|48999.0|      Titus Rd|   R|    Freeport|  Guernsey|   OH|     43973|     US|US/Eastern|        KPHD|2016-02-08 18:23:00|          33.1|         null|       92.0|       29.62|          10.0|          Calm|           null|             null|    Mostly Cloudy|  false|false|   false|   false|   false|  false|  false|     false|  false|false|          false|         false|       false|         Night|           Day|              Day|                  Day|\n",
            "|A-16|       3|2016-02-08 18:11:11|2016-02-09 00:11:11|         40.151747|        -81.312682|         40.151785|        -81.312635|              0.004|At Titus Rd - Acc...|22549.0|      Cadiz Rd|   L|    Freeport|  Harrison|   OH|43973-8626|     US|US/Eastern|        KPHD|2016-02-08 18:23:00|          33.1|         null|       92.0|       29.62|          10.0|          Calm|           null|             null|    Mostly Cloudy|  false|false|   false|   false|   false|  false|  false|     false|  false|false|          false|         false|       false|         Night|           Day|              Day|                  Day|\n",
            "|A-17|       3|2016-02-08 19:47:42|2016-02-09 01:47:42|39.972409999999996|         -82.84695|          39.98529|         -82.85667|              1.028|At OH-16/Broad St...|   null|   Outerbelt N|   R|    Columbus|  Franklin|   OH|     43213|     US|US/Eastern|        KCMH|2016-02-08 19:51:00|          34.0|         null|      100.0|       29.65|           6.0|          Calm|           null|             0.07|         Overcast|  false|false|   false|   false|   false|  false|  false|     false|  false|false|          false|         false|       false|         Night|         Night|            Night|                Night|\n",
            "|A-18|       2|2016-02-08 19:47:42|2016-02-09 01:47:42|           39.9838|-82.85656999999998|           39.9725|         -82.84746| 0.9179999999999999|At I-270 - Accident.|   null|   Outerbelt S|   R|    Columbus|  Franklin|   OH|     43213|     US|US/Eastern|        KCMH|2016-02-08 19:51:00|          34.0|         null|      100.0|       29.65|           6.0|          Calm|           null|             0.07|         Overcast|  false|false|   false|   false|   false|  false|  false|     false|  false|false|          false|         false|       false|         Night|         Night|            Night|                Night|\n",
            "|A-19|       3|2016-02-08 20:13:22|2016-02-09 02:13:22|          40.02664|          -82.9944|          40.01228|         -82.99218| 0.9990000000000001|Between Weber Rd/...|   null|   North Fwy S|   R|    Columbus|  Franklin|   OH|     43224|     US|US/Eastern|        KCMH|2016-02-08 20:12:00|          33.8|         27.0|      100.0|       29.63|           1.0|          West|            8.1|              0.0|       Light Snow|  false|false|   false|   false|   false|  false|  false|     false|  false|false|          false|         false|       false|         Night|         Night|            Night|                Night|\n",
            "|A-20|       4|2016-02-08 21:00:17|2016-02-09 03:00:17|         41.679361|        -83.573037|41.666123999999996|        -83.566335|              0.978|Closed between I-...|   null|        I-75 S|   R|      Toledo|     Lucas|   OH|     43610|     US|US/Eastern|        KDUH|2016-02-08 20:55:00|          33.4|         26.6|       79.0|       29.62|          10.0|          West|            8.1|             null|         Overcast|  false|false|   false|   false|   false|  false|  false|     false|  false|false|          false|         false|       false|         Night|         Night|            Night|                Night|\n",
            "+----+--------+-------------------+-------------------+------------------+------------------+------------------+------------------+-------------------+--------------------+-------+--------------+----+------------+----------+-----+----------+-------+----------+------------+-------------------+--------------+-------------+-----------+------------+--------------+--------------+---------------+-----------------+-----------------+-------+-----+--------+--------+--------+-------+-------+----------+-------+-----+---------------+--------------+------------+--------------+--------------+-----------------+---------------------+\n",
            "only showing top 20 rows\n",
            "\n"
          ]
        }
      ]
    },
    {
      "cell_type": "code",
      "source": [
        "dataframe_spark.printSchema()"
      ],
      "metadata": {
        "colab": {
          "base_uri": "https://localhost:8080/"
        },
        "id": "Uz1qstFElPtA",
        "outputId": "c5f7c864-10fa-403b-8b35-c66658cecbe1"
      },
      "execution_count": null,
      "outputs": [
        {
          "output_type": "stream",
          "name": "stdout",
          "text": [
            "root\n",
            " |-- ID: string (nullable = true)\n",
            " |-- Severity: integer (nullable = true)\n",
            " |-- Start_Time: timestamp (nullable = true)\n",
            " |-- End_Time: timestamp (nullable = true)\n",
            " |-- Start_Lat: double (nullable = true)\n",
            " |-- Start_Lng: double (nullable = true)\n",
            " |-- End_Lat: double (nullable = true)\n",
            " |-- End_Lng: double (nullable = true)\n",
            " |-- Distance(mi): double (nullable = true)\n",
            " |-- Description: string (nullable = true)\n",
            " |-- Number: double (nullable = true)\n",
            " |-- Street: string (nullable = true)\n",
            " |-- Side: string (nullable = true)\n",
            " |-- City: string (nullable = true)\n",
            " |-- County: string (nullable = true)\n",
            " |-- State: string (nullable = true)\n",
            " |-- Zipcode: string (nullable = true)\n",
            " |-- Country: string (nullable = true)\n",
            " |-- Timezone: string (nullable = true)\n",
            " |-- Airport_Code: string (nullable = true)\n",
            " |-- Weather_Timestamp: string (nullable = true)\n",
            " |-- Temperature(F): double (nullable = true)\n",
            " |-- Wind_Chill(F): double (nullable = true)\n",
            " |-- Humidity(%): double (nullable = true)\n",
            " |-- Pressure(in): double (nullable = true)\n",
            " |-- Visibility(mi): double (nullable = true)\n",
            " |-- Wind_Direction: string (nullable = true)\n",
            " |-- Wind_Speed(mph): double (nullable = true)\n",
            " |-- Precipitation(in): double (nullable = true)\n",
            " |-- Weather_Condition: string (nullable = true)\n",
            " |-- Amenity: boolean (nullable = true)\n",
            " |-- Bump: boolean (nullable = true)\n",
            " |-- Crossing: boolean (nullable = true)\n",
            " |-- Give_Way: boolean (nullable = true)\n",
            " |-- Junction: boolean (nullable = true)\n",
            " |-- No_Exit: boolean (nullable = true)\n",
            " |-- Railway: boolean (nullable = true)\n",
            " |-- Roundabout: boolean (nullable = true)\n",
            " |-- Station: boolean (nullable = true)\n",
            " |-- Stop: boolean (nullable = true)\n",
            " |-- Traffic_Calming: boolean (nullable = true)\n",
            " |-- Traffic_Signal: boolean (nullable = true)\n",
            " |-- Turning_Loop: boolean (nullable = true)\n",
            " |-- Sunrise_Sunset: string (nullable = true)\n",
            " |-- Civil_Twilight: string (nullable = true)\n",
            " |-- Nautical_Twilight: string (nullable = true)\n",
            " |-- Astronomical_Twilight: string (nullable = true)\n",
            "\n"
          ]
        }
      ]
    },
    {
      "cell_type": "markdown",
      "source": [
        "### Modification des unités"
      ],
      "metadata": {
        "id": "Bem6Qk4-8nar"
      }
    },
    {
      "cell_type": "markdown",
      "source": [
        "Miles -> kilomètres"
      ],
      "metadata": {
        "id": "KKc-O30a80Xd"
      }
    },
    {
      "cell_type": "code",
      "source": [
        "print(\"Avant conversion (miles) : \")\n",
        "dataframe_spark.show()\n",
        "\n",
        "dataframe_spark = dataframe_spark.withColumn(\"Distance(mi)\", col(\"Distance(mi)\") * 1.609344)\n",
        "dataframe_spark = dataframe_spark.withColumn(\"Visibility(mi)\", col(\"Visibility(mi)\") * 1.609344)\n",
        "dataframe_spark = dataframe_spark.withColumn(\"Wind_Speed(mph)\", col(\"Wind_Speed(mph)\") * 1.609344)\n",
        "\n",
        "print(\"Après conversion (kilomètres) : \")\n",
        "dataframe_spark.show()"
      ],
      "metadata": {
        "colab": {
          "base_uri": "https://localhost:8080/"
        },
        "outputId": "277ebd74-5baa-40e5-a7e3-29088f85a8fa",
        "id": "DvRHSvSa80Xe"
      },
      "execution_count": null,
      "outputs": [
        {
          "output_type": "stream",
          "name": "stdout",
          "text": [
            "Avant conversion (miles) : \n",
            "+----+--------+-------------------+-------------------+------------------+------------------+------------------+------------------+-------------------+--------------------+-------+--------------+----+------------+----------+-----+----------+-------+----------+------------+-------------------+--------------+-------------+-----------+------------+--------------+--------------+---------------+-----------------+-----------------+-------+-----+--------+--------+--------+-------+-------+----------+-------+-----+---------------+--------------+------------+--------------+--------------+-----------------+---------------------+\n",
            "|  ID|Severity|         Start_Time|           End_Time|         Start_Lat|         Start_Lng|           End_Lat|           End_Lng|       Distance(mi)|         Description| Number|        Street|Side|        City|    County|State|   Zipcode|Country|  Timezone|Airport_Code|  Weather_Timestamp|Temperature(F)|Wind_Chill(F)|Humidity(%)|Pressure(in)|Visibility(mi)|Wind_Direction|Wind_Speed(mph)|Precipitation(in)|Weather_Condition|Amenity| Bump|Crossing|Give_Way|Junction|No_Exit|Railway|Roundabout|Station| Stop|Traffic_Calming|Traffic_Signal|Turning_Loop|Sunrise_Sunset|Civil_Twilight|Nautical_Twilight|Astronomical_Twilight|\n",
            "+----+--------+-------------------+-------------------+------------------+------------------+------------------+------------------+-------------------+--------------------+-------+--------------+----+------------+----------+-----+----------+-------+----------+------------+-------------------+--------------+-------------+-----------+------------+--------------+--------------+---------------+-----------------+-----------------+-------+-----+--------+--------+--------+-------+-------+----------+-------+-----+---------------+--------------+------------+--------------+--------------+-----------------+---------------------+\n",
            "| A-1|       3|2016-02-08 00:37:08|2016-02-08 06:37:08|40.108909999999995|         -83.09286|          40.11206|         -83.03187|               3.23|Between Sawmill R...|   null|   Outerbelt E|   R|      Dublin|  Franklin|   OH|     43017|     US|US/Eastern|        KOSU|2016-02-08 00:53:00|          42.1|         36.1|       58.0|       29.76|          10.0|            SW|           10.4|              0.0|       Light Rain|  false|false|   false|   false|   false|  false|  false|     false|  false|false|          false|         false|       false|         Night|         Night|            Night|                Night|\n",
            "| A-2|       2|2016-02-08 05:56:20|2016-02-08 11:56:20|          39.86542|          -84.0628|          39.86501|         -84.04873|              0.747|At OH-4/OH-235/Ex...|   null|        I-70 E|   R|      Dayton|Montgomery|   OH|     45424|     US|US/Eastern|        KFFO|2016-02-08 05:58:00|          36.9|         null|       91.0|       29.68|          10.0|          Calm|           null|             0.02|       Light Rain|  false|false|   false|   false|   false|  false|  false|     false|  false|false|          false|         false|       false|         Night|         Night|            Night|                Night|\n",
            "| A-3|       2|2016-02-08 06:15:39|2016-02-08 12:15:39|          39.10266|         -84.52468|39.102090000000004|         -84.52396|              0.055|At I-71/US-50/Exi...|   null|        I-75 S|   R|  Cincinnati|  Hamilton|   OH|     45203|     US|US/Eastern|        KLUK|2016-02-08 05:53:00|          36.0|         null|       97.0|        29.7|          10.0|          Calm|           null|             0.02|         Overcast|  false|false|   false|   false|    true|  false|  false|     false|  false|false|          false|         false|       false|         Night|         Night|            Night|                  Day|\n",
            "| A-4|       2|2016-02-08 06:51:45|2016-02-08 12:51:45|41.062129999999996|         -81.53784|          41.06217|-81.53546999999998|0.12300000000000001|At Dart Ave/Exit ...|   null|        I-77 N|   R|       Akron|    Summit|   OH|     44311|     US|US/Eastern|        KAKR|2016-02-08 06:54:00|          39.0|         null|       55.0|       29.65|          10.0|          Calm|           null|             null|         Overcast|  false|false|   false|   false|   false|  false|  false|     false|  false|false|          false|         false|       false|         Night|         Night|              Day|                  Day|\n",
            "| A-5|       3|2016-02-08 07:53:43|2016-02-08 13:53:43|         39.172393|-84.49279200000002|         39.170476|        -84.501798|                0.5|At Mitchell Ave/E...|   null|        I-75 S|   R|  Cincinnati|  Hamilton|   OH|     45217|     US|US/Eastern|        KLUK|2016-02-08 07:53:00|          37.0|         29.8|       93.0|       29.69|          10.0|           WSW|           10.4|             0.01|       Light Rain|  false|false|   false|   false|   false|  false|  false|     false|  false|false|          false|         false|       false|           Day|           Day|              Day|                  Day|\n",
            "| A-6|       2|2016-02-08 08:16:57|2016-02-08 14:16:57|          39.06324|         -84.03243|          39.06731|         -84.05851| 1.4269999999999998|At Dela Palma Rd ...|   null|State Route 32|   R|Williamsburg|  Clermont|   OH|     45176|     US|US/Eastern|        KI69|2016-02-08 08:16:00|          35.6|         29.2|      100.0|       29.66|          10.0|           WSW|            8.1|             null|         Overcast|  false|false|   false|   false|   false|  false|  false|     false|  false|false|          false|          true|       false|           Day|           Day|              Day|                  Day|\n",
            "| A-7|       2|2016-02-08 08:15:41|2016-02-08 14:15:41|          39.77565|         -84.18603|          39.77275|         -84.18805|0.22699999999999998|At OH-4/Exit 54 -...|   null|        I-75 S|   R|      Dayton|Montgomery|   OH|     45404|     US|US/Eastern|        KFFO|2016-02-08 08:18:00|          33.8|         null|      100.0|       29.63|           3.0|            SW|            2.3|             null|    Mostly Cloudy|  false|false|   false|   false|   false|  false|  false|     false|  false|false|          false|         false|       false|           Day|           Day|              Day|                  Day|\n",
            "| A-8|       2|2016-02-08 11:51:46|2016-02-08 17:51:46|          41.37531|-81.82016999999998|          41.36786|         -81.82174|              0.521|At Bagley Rd/Exit...|   null|        I-71 S|   R|   Cleveland|  Cuyahoga|   OH|     44130|     US|US/Eastern|        KCLE|2016-02-08 11:51:00|          33.1|         30.0|       92.0|       29.63|           0.5|            SW|            3.5|             0.08|             Snow|  false|false|   false|   false|    true|  false|  false|     false|  false|false|          false|         false|       false|           Day|           Day|              Day|                  Day|\n",
            "| A-9|       2|2016-02-08 14:19:57|2016-02-08 20:19:57|         40.702247|        -84.075887|          40.69911|        -84.084293|              0.491|At OH-65/Exit 122...|   null| E Hanthorn Rd|   R|        Lima|     Allen|   OH|     45806|     US|US/Eastern|        KAOH|2016-02-08 13:53:00|          39.0|         31.8|       70.0|       29.59|          10.0|           WNW|           11.5|             null|         Overcast|  false|false|   false|   false|   false|  false|  false|     false|  false|false|          false|         false|       false|           Day|           Day|              Day|                  Day|\n",
            "|A-10|       2|2016-02-08 15:16:43|2016-02-08 21:16:43|          40.10931|         -82.96849|          40.11078|           -82.984|              0.826|At I-71/Exit 26 -...|   null|   Outerbelt W|   R| Westerville|  Franklin|   OH|     43081|     US|US/Eastern|        KCMH|2016-02-08 15:12:00|          32.0|         28.7|      100.0|       29.59|           0.5|          West|            3.5|             0.05|             Snow|  false|false|   false|   false|   false|  false|  false|     false|  false|false|          false|         false|       false|           Day|           Day|              Day|                  Day|\n",
            "|A-11|       2|2016-02-08 15:43:50|2016-02-08 21:43:50|          39.19288|         -84.47723|          39.19615|         -84.47335|              0.307|At OH-4/Paddock R...|   null|        I-75 N|   R|  Cincinnati|  Hamilton|   OH|     45216|     US|US/Eastern|        KLUK|2016-02-08 15:47:00|          33.8|         29.6|      100.0|       29.66|           3.0|           NNW|            4.6|             0.03|       Light Snow|  false|false|   false|   false|   false|  false|  false|     false|  false|false|          false|         false|       false|           Day|           Day|              Day|                  Day|\n",
            "|A-12|       2|2016-02-08 16:50:57|2016-02-08 22:50:57|          39.13877|         -84.53394|          39.13977|          -84.5343|0.07200000000000001|At US-52/Hopple S...|   null|     Hopple St|   R|  Cincinnati|  Hamilton|   OH|     45225|     US|US/Eastern|        KLUK|2016-02-08 16:53:00|          35.1|         32.2|       96.0|       29.69|          10.0|         South|            3.5|             null|         Overcast|  false|false|    true|   false|   false|  false|  false|     false|  false|false|          false|          true|       false|           Day|           Day|              Day|                  Day|\n",
            "|A-13|       2|2016-02-08 17:27:39|2016-02-08 23:27:39|           41.4739|        -81.704233|          41.47388|         -81.70559|               0.07|At US-42/Exit 170...|   null|        I-90 E|   R|   Cleveland|  Cuyahoga|   OH|     44113|     US|US/Eastern|        KBKL|2016-02-08 17:36:00|          33.1|         24.4|       96.0|       29.59|           1.8|          West|           11.5|              0.0|       Light Snow|  false|false|   false|   false|   false|  false|  false|     false|  false|false|          false|         false|       false|           Day|           Day|              Day|                  Day|\n",
            "|A-14|       2|2016-02-08 17:30:18|2016-02-08 23:30:18|         39.582242|        -83.677814|         39.603013|-83.63731899999998|               2.59|Between OH-72/Exi...|   null|        I-71 N|   R|   Jamestown|    Greene|   OH|     45335|     US|US/Eastern|        KSGH|2016-02-08 17:28:00|          33.8|         28.6|       93.0|       29.64|           1.0|          West|            5.8|             0.01|       Light Snow|  false|false|   false|   false|   false|  false|  false|     false|  false|false|          false|         false|       false|           Day|           Day|              Day|                  Day|\n",
            "|A-15|       3|2016-02-08 18:11:11|2016-02-09 00:11:11|         40.151785|        -81.312635|         40.151747|        -81.312682|              0.004|At Shipley Rd - A...|48999.0|      Titus Rd|   R|    Freeport|  Guernsey|   OH|     43973|     US|US/Eastern|        KPHD|2016-02-08 18:23:00|          33.1|         null|       92.0|       29.62|          10.0|          Calm|           null|             null|    Mostly Cloudy|  false|false|   false|   false|   false|  false|  false|     false|  false|false|          false|         false|       false|         Night|           Day|              Day|                  Day|\n",
            "|A-16|       3|2016-02-08 18:11:11|2016-02-09 00:11:11|         40.151747|        -81.312682|         40.151785|        -81.312635|              0.004|At Titus Rd - Acc...|22549.0|      Cadiz Rd|   L|    Freeport|  Harrison|   OH|43973-8626|     US|US/Eastern|        KPHD|2016-02-08 18:23:00|          33.1|         null|       92.0|       29.62|          10.0|          Calm|           null|             null|    Mostly Cloudy|  false|false|   false|   false|   false|  false|  false|     false|  false|false|          false|         false|       false|         Night|           Day|              Day|                  Day|\n",
            "|A-17|       3|2016-02-08 19:47:42|2016-02-09 01:47:42|39.972409999999996|         -82.84695|          39.98529|         -82.85667|              1.028|At OH-16/Broad St...|   null|   Outerbelt N|   R|    Columbus|  Franklin|   OH|     43213|     US|US/Eastern|        KCMH|2016-02-08 19:51:00|          34.0|         null|      100.0|       29.65|           6.0|          Calm|           null|             0.07|         Overcast|  false|false|   false|   false|   false|  false|  false|     false|  false|false|          false|         false|       false|         Night|         Night|            Night|                Night|\n",
            "|A-18|       2|2016-02-08 19:47:42|2016-02-09 01:47:42|           39.9838|-82.85656999999998|           39.9725|         -82.84746| 0.9179999999999999|At I-270 - Accident.|   null|   Outerbelt S|   R|    Columbus|  Franklin|   OH|     43213|     US|US/Eastern|        KCMH|2016-02-08 19:51:00|          34.0|         null|      100.0|       29.65|           6.0|          Calm|           null|             0.07|         Overcast|  false|false|   false|   false|   false|  false|  false|     false|  false|false|          false|         false|       false|         Night|         Night|            Night|                Night|\n",
            "|A-19|       3|2016-02-08 20:13:22|2016-02-09 02:13:22|          40.02664|          -82.9944|          40.01228|         -82.99218| 0.9990000000000001|Between Weber Rd/...|   null|   North Fwy S|   R|    Columbus|  Franklin|   OH|     43224|     US|US/Eastern|        KCMH|2016-02-08 20:12:00|          33.8|         27.0|      100.0|       29.63|           1.0|          West|            8.1|              0.0|       Light Snow|  false|false|   false|   false|   false|  false|  false|     false|  false|false|          false|         false|       false|         Night|         Night|            Night|                Night|\n",
            "|A-20|       4|2016-02-08 21:00:17|2016-02-09 03:00:17|         41.679361|        -83.573037|41.666123999999996|        -83.566335|              0.978|Closed between I-...|   null|        I-75 S|   R|      Toledo|     Lucas|   OH|     43610|     US|US/Eastern|        KDUH|2016-02-08 20:55:00|          33.4|         26.6|       79.0|       29.62|          10.0|          West|            8.1|             null|         Overcast|  false|false|   false|   false|   false|  false|  false|     false|  false|false|          false|         false|       false|         Night|         Night|            Night|                Night|\n",
            "+----+--------+-------------------+-------------------+------------------+------------------+------------------+------------------+-------------------+--------------------+-------+--------------+----+------------+----------+-----+----------+-------+----------+------------+-------------------+--------------+-------------+-----------+------------+--------------+--------------+---------------+-----------------+-----------------+-------+-----+--------+--------+--------+-------+-------+----------+-------+-----+---------------+--------------+------------+--------------+--------------+-----------------+---------------------+\n",
            "only showing top 20 rows\n",
            "\n",
            "Après conversion (kilomètres) : \n",
            "+----+--------+-------------------+-------------------+------------------+------------------+------------------+------------------+--------------------+--------------------+-------+--------------+----+------------+----------+-----+----------+-------+----------+------------+-------------------+--------------+-------------+-----------+------------+------------------+--------------+------------------+-----------------+-----------------+-------+-----+--------+--------+--------+-------+-------+----------+-------+-----+---------------+--------------+------------+--------------+--------------+-----------------+---------------------+\n",
            "|  ID|Severity|         Start_Time|           End_Time|         Start_Lat|         Start_Lng|           End_Lat|           End_Lng|        Distance(mi)|         Description| Number|        Street|Side|        City|    County|State|   Zipcode|Country|  Timezone|Airport_Code|  Weather_Timestamp|Temperature(F)|Wind_Chill(F)|Humidity(%)|Pressure(in)|    Visibility(mi)|Wind_Direction|   Wind_Speed(mph)|Precipitation(in)|Weather_Condition|Amenity| Bump|Crossing|Give_Way|Junction|No_Exit|Railway|Roundabout|Station| Stop|Traffic_Calming|Traffic_Signal|Turning_Loop|Sunrise_Sunset|Civil_Twilight|Nautical_Twilight|Astronomical_Twilight|\n",
            "+----+--------+-------------------+-------------------+------------------+------------------+------------------+------------------+--------------------+--------------------+-------+--------------+----+------------+----------+-----+----------+-------+----------+------------+-------------------+--------------+-------------+-----------+------------+------------------+--------------+------------------+-----------------+-----------------+-------+-----+--------+--------+--------+-------+-------+----------+-------+-----+---------------+--------------+------------+--------------+--------------+-----------------+---------------------+\n",
            "| A-1|       3|2016-02-08 00:37:08|2016-02-08 06:37:08|40.108909999999995|         -83.09286|          40.11206|         -83.03187|          5.19818112|Between Sawmill R...|   null|   Outerbelt E|   R|      Dublin|  Franklin|   OH|     43017|     US|US/Eastern|        KOSU|2016-02-08 00:53:00|          42.1|         36.1|       58.0|       29.76|          16.09344|            SW|16.737177600000003|              0.0|       Light Rain|  false|false|   false|   false|   false|  false|  false|     false|  false|false|          false|         false|       false|         Night|         Night|            Night|                Night|\n",
            "| A-2|       2|2016-02-08 05:56:20|2016-02-08 11:56:20|          39.86542|          -84.0628|          39.86501|         -84.04873|         1.202179968|At OH-4/OH-235/Ex...|   null|        I-70 E|   R|      Dayton|Montgomery|   OH|     45424|     US|US/Eastern|        KFFO|2016-02-08 05:58:00|          36.9|         null|       91.0|       29.68|          16.09344|          Calm|              null|             0.02|       Light Rain|  false|false|   false|   false|   false|  false|  false|     false|  false|false|          false|         false|       false|         Night|         Night|            Night|                Night|\n",
            "| A-3|       2|2016-02-08 06:15:39|2016-02-08 12:15:39|          39.10266|         -84.52468|39.102090000000004|         -84.52396| 0.08851392000000001|At I-71/US-50/Exi...|   null|        I-75 S|   R|  Cincinnati|  Hamilton|   OH|     45203|     US|US/Eastern|        KLUK|2016-02-08 05:53:00|          36.0|         null|       97.0|        29.7|          16.09344|          Calm|              null|             0.02|         Overcast|  false|false|   false|   false|    true|  false|  false|     false|  false|false|          false|         false|       false|         Night|         Night|            Night|                  Day|\n",
            "| A-4|       2|2016-02-08 06:51:45|2016-02-08 12:51:45|41.062129999999996|         -81.53784|          41.06217|-81.53546999999998| 0.19794931200000004|At Dart Ave/Exit ...|   null|        I-77 N|   R|       Akron|    Summit|   OH|     44311|     US|US/Eastern|        KAKR|2016-02-08 06:54:00|          39.0|         null|       55.0|       29.65|          16.09344|          Calm|              null|             null|         Overcast|  false|false|   false|   false|   false|  false|  false|     false|  false|false|          false|         false|       false|         Night|         Night|              Day|                  Day|\n",
            "| A-5|       3|2016-02-08 07:53:43|2016-02-08 13:53:43|         39.172393|-84.49279200000002|         39.170476|        -84.501798|            0.804672|At Mitchell Ave/E...|   null|        I-75 S|   R|  Cincinnati|  Hamilton|   OH|     45217|     US|US/Eastern|        KLUK|2016-02-08 07:53:00|          37.0|         29.8|       93.0|       29.69|          16.09344|           WSW|16.737177600000003|             0.01|       Light Rain|  false|false|   false|   false|   false|  false|  false|     false|  false|false|          false|         false|       false|           Day|           Day|              Day|                  Day|\n",
            "| A-6|       2|2016-02-08 08:16:57|2016-02-08 14:16:57|          39.06324|         -84.03243|          39.06731|         -84.05851|         2.296533888|At Dela Palma Rd ...|   null|State Route 32|   R|Williamsburg|  Clermont|   OH|     45176|     US|US/Eastern|        KI69|2016-02-08 08:16:00|          35.6|         29.2|      100.0|       29.66|          16.09344|           WSW|        13.0356864|             null|         Overcast|  false|false|   false|   false|   false|  false|  false|     false|  false|false|          false|          true|       false|           Day|           Day|              Day|                  Day|\n",
            "| A-7|       2|2016-02-08 08:15:41|2016-02-08 14:15:41|          39.77565|         -84.18603|          39.77275|         -84.18805|         0.365321088|At OH-4/Exit 54 -...|   null|        I-75 S|   R|      Dayton|Montgomery|   OH|     45404|     US|US/Eastern|        KFFO|2016-02-08 08:18:00|          33.8|         null|      100.0|       29.63|          4.828032|            SW|         3.7014912|             null|    Mostly Cloudy|  false|false|   false|   false|   false|  false|  false|     false|  false|false|          false|         false|       false|           Day|           Day|              Day|                  Day|\n",
            "| A-8|       2|2016-02-08 11:51:46|2016-02-08 17:51:46|          41.37531|-81.82016999999998|          41.36786|         -81.82174|  0.8384682240000001|At Bagley Rd/Exit...|   null|        I-71 S|   R|   Cleveland|  Cuyahoga|   OH|     44130|     US|US/Eastern|        KCLE|2016-02-08 11:51:00|          33.1|         30.0|       92.0|       29.63|          0.804672|            SW|          5.632704|             0.08|             Snow|  false|false|   false|   false|    true|  false|  false|     false|  false|false|          false|         false|       false|           Day|           Day|              Day|                  Day|\n",
            "| A-9|       2|2016-02-08 14:19:57|2016-02-08 20:19:57|         40.702247|        -84.075887|          40.69911|        -84.084293|         0.790187904|At OH-65/Exit 122...|   null| E Hanthorn Rd|   R|        Lima|     Allen|   OH|     45806|     US|US/Eastern|        KAOH|2016-02-08 13:53:00|          39.0|         31.8|       70.0|       29.59|          16.09344|           WNW|         18.507456|             null|         Overcast|  false|false|   false|   false|   false|  false|  false|     false|  false|false|          false|         false|       false|           Day|           Day|              Day|                  Day|\n",
            "|A-10|       2|2016-02-08 15:16:43|2016-02-08 21:16:43|          40.10931|         -82.96849|          40.11078|           -82.984|         1.329318144|At I-71/Exit 26 -...|   null|   Outerbelt W|   R| Westerville|  Franklin|   OH|     43081|     US|US/Eastern|        KCMH|2016-02-08 15:12:00|          32.0|         28.7|      100.0|       29.59|          0.804672|          West|          5.632704|             0.05|             Snow|  false|false|   false|   false|   false|  false|  false|     false|  false|false|          false|         false|       false|           Day|           Day|              Day|                  Day|\n",
            "|A-11|       2|2016-02-08 15:43:50|2016-02-08 21:43:50|          39.19288|         -84.47723|          39.19615|         -84.47335|         0.494068608|At OH-4/Paddock R...|   null|        I-75 N|   R|  Cincinnati|  Hamilton|   OH|     45216|     US|US/Eastern|        KLUK|2016-02-08 15:47:00|          33.8|         29.6|      100.0|       29.66|          4.828032|           NNW|         7.4029824|             0.03|       Light Snow|  false|false|   false|   false|   false|  false|  false|     false|  false|false|          false|         false|       false|           Day|           Day|              Day|                  Day|\n",
            "|A-12|       2|2016-02-08 16:50:57|2016-02-08 22:50:57|          39.13877|         -84.53394|          39.13977|          -84.5343| 0.11587276800000001|At US-52/Hopple S...|   null|     Hopple St|   R|  Cincinnati|  Hamilton|   OH|     45225|     US|US/Eastern|        KLUK|2016-02-08 16:53:00|          35.1|         32.2|       96.0|       29.69|          16.09344|         South|          5.632704|             null|         Overcast|  false|false|    true|   false|   false|  false|  false|     false|  false|false|          false|          true|       false|           Day|           Day|              Day|                  Day|\n",
            "|A-13|       2|2016-02-08 17:27:39|2016-02-08 23:27:39|           41.4739|        -81.704233|          41.47388|         -81.70559| 0.11265408000000002|At US-42/Exit 170...|   null|        I-90 E|   R|   Cleveland|  Cuyahoga|   OH|     44113|     US|US/Eastern|        KBKL|2016-02-08 17:36:00|          33.1|         24.4|       96.0|       29.59|2.8968192000000004|          West|         18.507456|              0.0|       Light Snow|  false|false|   false|   false|   false|  false|  false|     false|  false|false|          false|         false|       false|           Day|           Day|              Day|                  Day|\n",
            "|A-14|       2|2016-02-08 17:30:18|2016-02-08 23:30:18|         39.582242|        -83.677814|         39.603013|-83.63731899999998|          4.16820096|Between OH-72/Exi...|   null|        I-71 N|   R|   Jamestown|    Greene|   OH|     45335|     US|US/Eastern|        KSGH|2016-02-08 17:28:00|          33.8|         28.6|       93.0|       29.64|          1.609344|          West|         9.3341952|             0.01|       Light Snow|  false|false|   false|   false|   false|  false|  false|     false|  false|false|          false|         false|       false|           Day|           Day|              Day|                  Day|\n",
            "|A-15|       3|2016-02-08 18:11:11|2016-02-09 00:11:11|         40.151785|        -81.312635|         40.151747|        -81.312682|0.006437376000000001|At Shipley Rd - A...|48999.0|      Titus Rd|   R|    Freeport|  Guernsey|   OH|     43973|     US|US/Eastern|        KPHD|2016-02-08 18:23:00|          33.1|         null|       92.0|       29.62|          16.09344|          Calm|              null|             null|    Mostly Cloudy|  false|false|   false|   false|   false|  false|  false|     false|  false|false|          false|         false|       false|         Night|           Day|              Day|                  Day|\n",
            "|A-16|       3|2016-02-08 18:11:11|2016-02-09 00:11:11|         40.151747|        -81.312682|         40.151785|        -81.312635|0.006437376000000001|At Titus Rd - Acc...|22549.0|      Cadiz Rd|   L|    Freeport|  Harrison|   OH|43973-8626|     US|US/Eastern|        KPHD|2016-02-08 18:23:00|          33.1|         null|       92.0|       29.62|          16.09344|          Calm|              null|             null|    Mostly Cloudy|  false|false|   false|   false|   false|  false|  false|     false|  false|false|          false|         false|       false|         Night|           Day|              Day|                  Day|\n",
            "|A-17|       3|2016-02-08 19:47:42|2016-02-09 01:47:42|39.972409999999996|         -82.84695|          39.98529|         -82.85667|  1.6544056320000002|At OH-16/Broad St...|   null|   Outerbelt N|   R|    Columbus|  Franklin|   OH|     43213|     US|US/Eastern|        KCMH|2016-02-08 19:51:00|          34.0|         null|      100.0|       29.65|          9.656064|          Calm|              null|             0.07|         Overcast|  false|false|   false|   false|   false|  false|  false|     false|  false|false|          false|         false|       false|         Night|         Night|            Night|                Night|\n",
            "|A-18|       2|2016-02-08 19:47:42|2016-02-09 01:47:42|           39.9838|-82.85656999999998|           39.9725|         -82.84746|         1.477377792|At I-270 - Accident.|   null|   Outerbelt S|   R|    Columbus|  Franklin|   OH|     43213|     US|US/Eastern|        KCMH|2016-02-08 19:51:00|          34.0|         null|      100.0|       29.65|          9.656064|          Calm|              null|             0.07|         Overcast|  false|false|   false|   false|   false|  false|  false|     false|  false|false|          false|         false|       false|         Night|         Night|            Night|                Night|\n",
            "|A-19|       3|2016-02-08 20:13:22|2016-02-09 02:13:22|          40.02664|          -82.9944|          40.01228|         -82.99218|  1.6077346560000003|Between Weber Rd/...|   null|   North Fwy S|   R|    Columbus|  Franklin|   OH|     43224|     US|US/Eastern|        KCMH|2016-02-08 20:12:00|          33.8|         27.0|      100.0|       29.63|          1.609344|          West|        13.0356864|              0.0|       Light Snow|  false|false|   false|   false|   false|  false|  false|     false|  false|false|          false|         false|       false|         Night|         Night|            Night|                Night|\n",
            "|A-20|       4|2016-02-08 21:00:17|2016-02-09 03:00:17|         41.679361|        -83.573037|41.666123999999996|        -83.566335|         1.573938432|Closed between I-...|   null|        I-75 S|   R|      Toledo|     Lucas|   OH|     43610|     US|US/Eastern|        KDUH|2016-02-08 20:55:00|          33.4|         26.6|       79.0|       29.62|          16.09344|          West|        13.0356864|             null|         Overcast|  false|false|   false|   false|   false|  false|  false|     false|  false|false|          false|         false|       false|         Night|         Night|            Night|                Night|\n",
            "+----+--------+-------------------+-------------------+------------------+------------------+------------------+------------------+--------------------+--------------------+-------+--------------+----+------------+----------+-----+----------+-------+----------+------------+-------------------+--------------+-------------+-----------+------------+------------------+--------------+------------------+-----------------+-----------------+-------+-----+--------+--------+--------+-------+-------+----------+-------+-----+---------------+--------------+------------+--------------+--------------+-----------------+---------------------+\n",
            "only showing top 20 rows\n",
            "\n"
          ]
        }
      ]
    },
    {
      "cell_type": "markdown",
      "source": [
        "Farenheit -> Celsius"
      ],
      "metadata": {
        "id": "tM34PWFG80Xg"
      }
    },
    {
      "cell_type": "code",
      "source": [
        "print(\"Avant conversion (farenheit) : \")\n",
        "dataframe_spark.show()\n",
        "\n",
        "dataframe_spark = dataframe_spark.withColumn(\"Temperature(F)\", (col(\"Temperature(F)\") - 32) / 1.8)\n",
        "dataframe_spark = dataframe_spark.withColumn(\"Wind_Chill(F)\", (col(\"Wind_Chill(F)\") - 32) / 1.8)\n",
        "\n",
        "print(\"Après conversion (celsius) : \")\n",
        "dataframe_spark.show()"
      ],
      "metadata": {
        "colab": {
          "base_uri": "https://localhost:8080/"
        },
        "outputId": "2eb0f6a6-2dea-4916-edd1-0ca3ffe0c83f",
        "id": "QV-Zt1KI80Xg"
      },
      "execution_count": null,
      "outputs": [
        {
          "output_type": "stream",
          "name": "stdout",
          "text": [
            "Avant conversion (farenheit) : \n",
            "+----+--------+-------------------+-------------------+------------------+------------------+------------------+------------------+--------------------+--------------------+-------+--------------+----+------------+----------+-----+----------+-------+----------+------------+-------------------+--------------+-------------+-----------+------------+------------------+--------------+------------------+-----------------+-----------------+-------+-----+--------+--------+--------+-------+-------+----------+-------+-----+---------------+--------------+------------+--------------+--------------+-----------------+---------------------+\n",
            "|  ID|Severity|         Start_Time|           End_Time|         Start_Lat|         Start_Lng|           End_Lat|           End_Lng|        Distance(mi)|         Description| Number|        Street|Side|        City|    County|State|   Zipcode|Country|  Timezone|Airport_Code|  Weather_Timestamp|Temperature(F)|Wind_Chill(F)|Humidity(%)|Pressure(in)|    Visibility(mi)|Wind_Direction|   Wind_Speed(mph)|Precipitation(in)|Weather_Condition|Amenity| Bump|Crossing|Give_Way|Junction|No_Exit|Railway|Roundabout|Station| Stop|Traffic_Calming|Traffic_Signal|Turning_Loop|Sunrise_Sunset|Civil_Twilight|Nautical_Twilight|Astronomical_Twilight|\n",
            "+----+--------+-------------------+-------------------+------------------+------------------+------------------+------------------+--------------------+--------------------+-------+--------------+----+------------+----------+-----+----------+-------+----------+------------+-------------------+--------------+-------------+-----------+------------+------------------+--------------+------------------+-----------------+-----------------+-------+-----+--------+--------+--------+-------+-------+----------+-------+-----+---------------+--------------+------------+--------------+--------------+-----------------+---------------------+\n",
            "| A-1|       3|2016-02-08 00:37:08|2016-02-08 06:37:08|40.108909999999995|         -83.09286|          40.11206|         -83.03187|          5.19818112|Between Sawmill R...|   null|   Outerbelt E|   R|      Dublin|  Franklin|   OH|     43017|     US|US/Eastern|        KOSU|2016-02-08 00:53:00|          42.1|         36.1|       58.0|       29.76|          16.09344|            SW|16.737177600000003|              0.0|       Light Rain|  false|false|   false|   false|   false|  false|  false|     false|  false|false|          false|         false|       false|         Night|         Night|            Night|                Night|\n",
            "| A-2|       2|2016-02-08 05:56:20|2016-02-08 11:56:20|          39.86542|          -84.0628|          39.86501|         -84.04873|         1.202179968|At OH-4/OH-235/Ex...|   null|        I-70 E|   R|      Dayton|Montgomery|   OH|     45424|     US|US/Eastern|        KFFO|2016-02-08 05:58:00|          36.9|         null|       91.0|       29.68|          16.09344|          Calm|              null|             0.02|       Light Rain|  false|false|   false|   false|   false|  false|  false|     false|  false|false|          false|         false|       false|         Night|         Night|            Night|                Night|\n",
            "| A-3|       2|2016-02-08 06:15:39|2016-02-08 12:15:39|          39.10266|         -84.52468|39.102090000000004|         -84.52396| 0.08851392000000001|At I-71/US-50/Exi...|   null|        I-75 S|   R|  Cincinnati|  Hamilton|   OH|     45203|     US|US/Eastern|        KLUK|2016-02-08 05:53:00|          36.0|         null|       97.0|        29.7|          16.09344|          Calm|              null|             0.02|         Overcast|  false|false|   false|   false|    true|  false|  false|     false|  false|false|          false|         false|       false|         Night|         Night|            Night|                  Day|\n",
            "| A-4|       2|2016-02-08 06:51:45|2016-02-08 12:51:45|41.062129999999996|         -81.53784|          41.06217|-81.53546999999998| 0.19794931200000004|At Dart Ave/Exit ...|   null|        I-77 N|   R|       Akron|    Summit|   OH|     44311|     US|US/Eastern|        KAKR|2016-02-08 06:54:00|          39.0|         null|       55.0|       29.65|          16.09344|          Calm|              null|             null|         Overcast|  false|false|   false|   false|   false|  false|  false|     false|  false|false|          false|         false|       false|         Night|         Night|              Day|                  Day|\n",
            "| A-5|       3|2016-02-08 07:53:43|2016-02-08 13:53:43|         39.172393|-84.49279200000002|         39.170476|        -84.501798|            0.804672|At Mitchell Ave/E...|   null|        I-75 S|   R|  Cincinnati|  Hamilton|   OH|     45217|     US|US/Eastern|        KLUK|2016-02-08 07:53:00|          37.0|         29.8|       93.0|       29.69|          16.09344|           WSW|16.737177600000003|             0.01|       Light Rain|  false|false|   false|   false|   false|  false|  false|     false|  false|false|          false|         false|       false|           Day|           Day|              Day|                  Day|\n",
            "| A-6|       2|2016-02-08 08:16:57|2016-02-08 14:16:57|          39.06324|         -84.03243|          39.06731|         -84.05851|         2.296533888|At Dela Palma Rd ...|   null|State Route 32|   R|Williamsburg|  Clermont|   OH|     45176|     US|US/Eastern|        KI69|2016-02-08 08:16:00|          35.6|         29.2|      100.0|       29.66|          16.09344|           WSW|        13.0356864|             null|         Overcast|  false|false|   false|   false|   false|  false|  false|     false|  false|false|          false|          true|       false|           Day|           Day|              Day|                  Day|\n",
            "| A-7|       2|2016-02-08 08:15:41|2016-02-08 14:15:41|          39.77565|         -84.18603|          39.77275|         -84.18805|         0.365321088|At OH-4/Exit 54 -...|   null|        I-75 S|   R|      Dayton|Montgomery|   OH|     45404|     US|US/Eastern|        KFFO|2016-02-08 08:18:00|          33.8|         null|      100.0|       29.63|          4.828032|            SW|         3.7014912|             null|    Mostly Cloudy|  false|false|   false|   false|   false|  false|  false|     false|  false|false|          false|         false|       false|           Day|           Day|              Day|                  Day|\n",
            "| A-8|       2|2016-02-08 11:51:46|2016-02-08 17:51:46|          41.37531|-81.82016999999998|          41.36786|         -81.82174|  0.8384682240000001|At Bagley Rd/Exit...|   null|        I-71 S|   R|   Cleveland|  Cuyahoga|   OH|     44130|     US|US/Eastern|        KCLE|2016-02-08 11:51:00|          33.1|         30.0|       92.0|       29.63|          0.804672|            SW|          5.632704|             0.08|             Snow|  false|false|   false|   false|    true|  false|  false|     false|  false|false|          false|         false|       false|           Day|           Day|              Day|                  Day|\n",
            "| A-9|       2|2016-02-08 14:19:57|2016-02-08 20:19:57|         40.702247|        -84.075887|          40.69911|        -84.084293|         0.790187904|At OH-65/Exit 122...|   null| E Hanthorn Rd|   R|        Lima|     Allen|   OH|     45806|     US|US/Eastern|        KAOH|2016-02-08 13:53:00|          39.0|         31.8|       70.0|       29.59|          16.09344|           WNW|         18.507456|             null|         Overcast|  false|false|   false|   false|   false|  false|  false|     false|  false|false|          false|         false|       false|           Day|           Day|              Day|                  Day|\n",
            "|A-10|       2|2016-02-08 15:16:43|2016-02-08 21:16:43|          40.10931|         -82.96849|          40.11078|           -82.984|         1.329318144|At I-71/Exit 26 -...|   null|   Outerbelt W|   R| Westerville|  Franklin|   OH|     43081|     US|US/Eastern|        KCMH|2016-02-08 15:12:00|          32.0|         28.7|      100.0|       29.59|          0.804672|          West|          5.632704|             0.05|             Snow|  false|false|   false|   false|   false|  false|  false|     false|  false|false|          false|         false|       false|           Day|           Day|              Day|                  Day|\n",
            "|A-11|       2|2016-02-08 15:43:50|2016-02-08 21:43:50|          39.19288|         -84.47723|          39.19615|         -84.47335|         0.494068608|At OH-4/Paddock R...|   null|        I-75 N|   R|  Cincinnati|  Hamilton|   OH|     45216|     US|US/Eastern|        KLUK|2016-02-08 15:47:00|          33.8|         29.6|      100.0|       29.66|          4.828032|           NNW|         7.4029824|             0.03|       Light Snow|  false|false|   false|   false|   false|  false|  false|     false|  false|false|          false|         false|       false|           Day|           Day|              Day|                  Day|\n",
            "|A-12|       2|2016-02-08 16:50:57|2016-02-08 22:50:57|          39.13877|         -84.53394|          39.13977|          -84.5343| 0.11587276800000001|At US-52/Hopple S...|   null|     Hopple St|   R|  Cincinnati|  Hamilton|   OH|     45225|     US|US/Eastern|        KLUK|2016-02-08 16:53:00|          35.1|         32.2|       96.0|       29.69|          16.09344|         South|          5.632704|             null|         Overcast|  false|false|    true|   false|   false|  false|  false|     false|  false|false|          false|          true|       false|           Day|           Day|              Day|                  Day|\n",
            "|A-13|       2|2016-02-08 17:27:39|2016-02-08 23:27:39|           41.4739|        -81.704233|          41.47388|         -81.70559| 0.11265408000000002|At US-42/Exit 170...|   null|        I-90 E|   R|   Cleveland|  Cuyahoga|   OH|     44113|     US|US/Eastern|        KBKL|2016-02-08 17:36:00|          33.1|         24.4|       96.0|       29.59|2.8968192000000004|          West|         18.507456|              0.0|       Light Snow|  false|false|   false|   false|   false|  false|  false|     false|  false|false|          false|         false|       false|           Day|           Day|              Day|                  Day|\n",
            "|A-14|       2|2016-02-08 17:30:18|2016-02-08 23:30:18|         39.582242|        -83.677814|         39.603013|-83.63731899999998|          4.16820096|Between OH-72/Exi...|   null|        I-71 N|   R|   Jamestown|    Greene|   OH|     45335|     US|US/Eastern|        KSGH|2016-02-08 17:28:00|          33.8|         28.6|       93.0|       29.64|          1.609344|          West|         9.3341952|             0.01|       Light Snow|  false|false|   false|   false|   false|  false|  false|     false|  false|false|          false|         false|       false|           Day|           Day|              Day|                  Day|\n",
            "|A-15|       3|2016-02-08 18:11:11|2016-02-09 00:11:11|         40.151785|        -81.312635|         40.151747|        -81.312682|0.006437376000000001|At Shipley Rd - A...|48999.0|      Titus Rd|   R|    Freeport|  Guernsey|   OH|     43973|     US|US/Eastern|        KPHD|2016-02-08 18:23:00|          33.1|         null|       92.0|       29.62|          16.09344|          Calm|              null|             null|    Mostly Cloudy|  false|false|   false|   false|   false|  false|  false|     false|  false|false|          false|         false|       false|         Night|           Day|              Day|                  Day|\n",
            "|A-16|       3|2016-02-08 18:11:11|2016-02-09 00:11:11|         40.151747|        -81.312682|         40.151785|        -81.312635|0.006437376000000001|At Titus Rd - Acc...|22549.0|      Cadiz Rd|   L|    Freeport|  Harrison|   OH|43973-8626|     US|US/Eastern|        KPHD|2016-02-08 18:23:00|          33.1|         null|       92.0|       29.62|          16.09344|          Calm|              null|             null|    Mostly Cloudy|  false|false|   false|   false|   false|  false|  false|     false|  false|false|          false|         false|       false|         Night|           Day|              Day|                  Day|\n",
            "|A-17|       3|2016-02-08 19:47:42|2016-02-09 01:47:42|39.972409999999996|         -82.84695|          39.98529|         -82.85667|  1.6544056320000002|At OH-16/Broad St...|   null|   Outerbelt N|   R|    Columbus|  Franklin|   OH|     43213|     US|US/Eastern|        KCMH|2016-02-08 19:51:00|          34.0|         null|      100.0|       29.65|          9.656064|          Calm|              null|             0.07|         Overcast|  false|false|   false|   false|   false|  false|  false|     false|  false|false|          false|         false|       false|         Night|         Night|            Night|                Night|\n",
            "|A-18|       2|2016-02-08 19:47:42|2016-02-09 01:47:42|           39.9838|-82.85656999999998|           39.9725|         -82.84746|         1.477377792|At I-270 - Accident.|   null|   Outerbelt S|   R|    Columbus|  Franklin|   OH|     43213|     US|US/Eastern|        KCMH|2016-02-08 19:51:00|          34.0|         null|      100.0|       29.65|          9.656064|          Calm|              null|             0.07|         Overcast|  false|false|   false|   false|   false|  false|  false|     false|  false|false|          false|         false|       false|         Night|         Night|            Night|                Night|\n",
            "|A-19|       3|2016-02-08 20:13:22|2016-02-09 02:13:22|          40.02664|          -82.9944|          40.01228|         -82.99218|  1.6077346560000003|Between Weber Rd/...|   null|   North Fwy S|   R|    Columbus|  Franklin|   OH|     43224|     US|US/Eastern|        KCMH|2016-02-08 20:12:00|          33.8|         27.0|      100.0|       29.63|          1.609344|          West|        13.0356864|              0.0|       Light Snow|  false|false|   false|   false|   false|  false|  false|     false|  false|false|          false|         false|       false|         Night|         Night|            Night|                Night|\n",
            "|A-20|       4|2016-02-08 21:00:17|2016-02-09 03:00:17|         41.679361|        -83.573037|41.666123999999996|        -83.566335|         1.573938432|Closed between I-...|   null|        I-75 S|   R|      Toledo|     Lucas|   OH|     43610|     US|US/Eastern|        KDUH|2016-02-08 20:55:00|          33.4|         26.6|       79.0|       29.62|          16.09344|          West|        13.0356864|             null|         Overcast|  false|false|   false|   false|   false|  false|  false|     false|  false|false|          false|         false|       false|         Night|         Night|            Night|                Night|\n",
            "+----+--------+-------------------+-------------------+------------------+------------------+------------------+------------------+--------------------+--------------------+-------+--------------+----+------------+----------+-----+----------+-------+----------+------------+-------------------+--------------+-------------+-----------+------------+------------------+--------------+------------------+-----------------+-----------------+-------+-----+--------+--------+--------+-------+-------+----------+-------+-----+---------------+--------------+------------+--------------+--------------+-----------------+---------------------+\n",
            "only showing top 20 rows\n",
            "\n",
            "Après conversion (celsius) : \n",
            "+----+--------+-------------------+-------------------+------------------+------------------+------------------+------------------+--------------------+--------------------+-------+--------------+----+------------+----------+-----+----------+-------+----------+------------+-------------------+------------------+--------------------+-----------+------------+------------------+--------------+------------------+-----------------+-----------------+-------+-----+--------+--------+--------+-------+-------+----------+-------+-----+---------------+--------------+------------+--------------+--------------+-----------------+---------------------+\n",
            "|  ID|Severity|         Start_Time|           End_Time|         Start_Lat|         Start_Lng|           End_Lat|           End_Lng|        Distance(mi)|         Description| Number|        Street|Side|        City|    County|State|   Zipcode|Country|  Timezone|Airport_Code|  Weather_Timestamp|    Temperature(F)|       Wind_Chill(F)|Humidity(%)|Pressure(in)|    Visibility(mi)|Wind_Direction|   Wind_Speed(mph)|Precipitation(in)|Weather_Condition|Amenity| Bump|Crossing|Give_Way|Junction|No_Exit|Railway|Roundabout|Station| Stop|Traffic_Calming|Traffic_Signal|Turning_Loop|Sunrise_Sunset|Civil_Twilight|Nautical_Twilight|Astronomical_Twilight|\n",
            "+----+--------+-------------------+-------------------+------------------+------------------+------------------+------------------+--------------------+--------------------+-------+--------------+----+------------+----------+-----+----------+-------+----------+------------+-------------------+------------------+--------------------+-----------+------------+------------------+--------------+------------------+-----------------+-----------------+-------+-----+--------+--------+--------+-------+-------+----------+-------+-----+---------------+--------------+------------+--------------+--------------+-----------------+---------------------+\n",
            "| A-1|       3|2016-02-08 00:37:08|2016-02-08 06:37:08|40.108909999999995|         -83.09286|          40.11206|         -83.03187|          5.19818112|Between Sawmill R...|   null|   Outerbelt E|   R|      Dublin|  Franklin|   OH|     43017|     US|US/Eastern|        KOSU|2016-02-08 00:53:00| 5.611111111111112|  2.2777777777777786|       58.0|       29.76|          16.09344|            SW|16.737177600000003|              0.0|       Light Rain|  false|false|   false|   false|   false|  false|  false|     false|  false|false|          false|         false|       false|         Night|         Night|            Night|                Night|\n",
            "| A-2|       2|2016-02-08 05:56:20|2016-02-08 11:56:20|          39.86542|          -84.0628|          39.86501|         -84.04873|         1.202179968|At OH-4/OH-235/Ex...|   null|        I-70 E|   R|      Dayton|Montgomery|   OH|     45424|     US|US/Eastern|        KFFO|2016-02-08 05:58:00|2.7222222222222214|                null|       91.0|       29.68|          16.09344|          Calm|              null|             0.02|       Light Rain|  false|false|   false|   false|   false|  false|  false|     false|  false|false|          false|         false|       false|         Night|         Night|            Night|                Night|\n",
            "| A-3|       2|2016-02-08 06:15:39|2016-02-08 12:15:39|          39.10266|         -84.52468|39.102090000000004|         -84.52396| 0.08851392000000001|At I-71/US-50/Exi...|   null|        I-75 S|   R|  Cincinnati|  Hamilton|   OH|     45203|     US|US/Eastern|        KLUK|2016-02-08 05:53:00|2.2222222222222223|                null|       97.0|        29.7|          16.09344|          Calm|              null|             0.02|         Overcast|  false|false|   false|   false|    true|  false|  false|     false|  false|false|          false|         false|       false|         Night|         Night|            Night|                  Day|\n",
            "| A-4|       2|2016-02-08 06:51:45|2016-02-08 12:51:45|41.062129999999996|         -81.53784|          41.06217|-81.53546999999998| 0.19794931200000004|At Dart Ave/Exit ...|   null|        I-77 N|   R|       Akron|    Summit|   OH|     44311|     US|US/Eastern|        KAKR|2016-02-08 06:54:00| 3.888888888888889|                null|       55.0|       29.65|          16.09344|          Calm|              null|             null|         Overcast|  false|false|   false|   false|   false|  false|  false|     false|  false|false|          false|         false|       false|         Night|         Night|              Day|                  Day|\n",
            "| A-5|       3|2016-02-08 07:53:43|2016-02-08 13:53:43|         39.172393|-84.49279200000002|         39.170476|        -84.501798|            0.804672|At Mitchell Ave/E...|   null|        I-75 S|   R|  Cincinnati|  Hamilton|   OH|     45217|     US|US/Eastern|        KLUK|2016-02-08 07:53:00|2.7777777777777777| -1.2222222222222219|       93.0|       29.69|          16.09344|           WSW|16.737177600000003|             0.01|       Light Rain|  false|false|   false|   false|   false|  false|  false|     false|  false|false|          false|         false|       false|           Day|           Day|              Day|                  Day|\n",
            "| A-6|       2|2016-02-08 08:16:57|2016-02-08 14:16:57|          39.06324|         -84.03243|          39.06731|         -84.05851|         2.296533888|At Dela Palma Rd ...|   null|State Route 32|   R|Williamsburg|  Clermont|   OH|     45176|     US|US/Eastern|        KI69|2016-02-08 08:16:00| 2.000000000000001| -1.5555555555555558|      100.0|       29.66|          16.09344|           WSW|        13.0356864|             null|         Overcast|  false|false|   false|   false|   false|  false|  false|     false|  false|false|          false|          true|       false|           Day|           Day|              Day|                  Day|\n",
            "| A-7|       2|2016-02-08 08:15:41|2016-02-08 14:15:41|          39.77565|         -84.18603|          39.77275|         -84.18805|         0.365321088|At OH-4/Exit 54 -...|   null|        I-75 S|   R|      Dayton|Montgomery|   OH|     45404|     US|US/Eastern|        KFFO|2016-02-08 08:18:00|0.9999999999999984|                null|      100.0|       29.63|          4.828032|            SW|         3.7014912|             null|    Mostly Cloudy|  false|false|   false|   false|   false|  false|  false|     false|  false|false|          false|         false|       false|           Day|           Day|              Day|                  Day|\n",
            "| A-8|       2|2016-02-08 11:51:46|2016-02-08 17:51:46|          41.37531|-81.82016999999998|          41.36786|         -81.82174|  0.8384682240000001|At Bagley Rd/Exit...|   null|        I-71 S|   R|   Cleveland|  Cuyahoga|   OH|     44130|     US|US/Eastern|        KCLE|2016-02-08 11:51:00|0.6111111111111119| -1.1111111111111112|       92.0|       29.63|          0.804672|            SW|          5.632704|             0.08|             Snow|  false|false|   false|   false|    true|  false|  false|     false|  false|false|          false|         false|       false|           Day|           Day|              Day|                  Day|\n",
            "| A-9|       2|2016-02-08 14:19:57|2016-02-08 20:19:57|         40.702247|        -84.075887|          40.69911|        -84.084293|         0.790187904|At OH-65/Exit 122...|   null| E Hanthorn Rd|   R|        Lima|     Allen|   OH|     45806|     US|US/Eastern|        KAOH|2016-02-08 13:53:00| 3.888888888888889|-0.11111111111111072|       70.0|       29.59|          16.09344|           WNW|         18.507456|             null|         Overcast|  false|false|   false|   false|   false|  false|  false|     false|  false|false|          false|         false|       false|           Day|           Day|              Day|                  Day|\n",
            "|A-10|       2|2016-02-08 15:16:43|2016-02-08 21:16:43|          40.10931|         -82.96849|          40.11078|           -82.984|         1.329318144|At I-71/Exit 26 -...|   null|   Outerbelt W|   R| Westerville|  Franklin|   OH|     43081|     US|US/Eastern|        KCMH|2016-02-08 15:12:00|               0.0| -1.8333333333333337|      100.0|       29.59|          0.804672|          West|          5.632704|             0.05|             Snow|  false|false|   false|   false|   false|  false|  false|     false|  false|false|          false|         false|       false|           Day|           Day|              Day|                  Day|\n",
            "|A-11|       2|2016-02-08 15:43:50|2016-02-08 21:43:50|          39.19288|         -84.47723|          39.19615|         -84.47335|         0.494068608|At OH-4/Paddock R...|   null|        I-75 N|   R|  Cincinnati|  Hamilton|   OH|     45216|     US|US/Eastern|        KLUK|2016-02-08 15:47:00|0.9999999999999984| -1.3333333333333326|      100.0|       29.66|          4.828032|           NNW|         7.4029824|             0.03|       Light Snow|  false|false|   false|   false|   false|  false|  false|     false|  false|false|          false|         false|       false|           Day|           Day|              Day|                  Day|\n",
            "|A-12|       2|2016-02-08 16:50:57|2016-02-08 22:50:57|          39.13877|         -84.53394|          39.13977|          -84.5343| 0.11587276800000001|At US-52/Hopple S...|   null|     Hopple St|   R|  Cincinnati|  Hamilton|   OH|     45225|     US|US/Eastern|        KLUK|2016-02-08 16:53:00| 1.722222222222223| 0.11111111111111269|       96.0|       29.69|          16.09344|         South|          5.632704|             null|         Overcast|  false|false|    true|   false|   false|  false|  false|     false|  false|false|          false|          true|       false|           Day|           Day|              Day|                  Day|\n",
            "|A-13|       2|2016-02-08 17:27:39|2016-02-08 23:27:39|           41.4739|        -81.704233|          41.47388|         -81.70559| 0.11265408000000002|At US-42/Exit 170...|   null|        I-90 E|   R|   Cleveland|  Cuyahoga|   OH|     44113|     US|US/Eastern|        KBKL|2016-02-08 17:36:00|0.6111111111111119|  -4.222222222222223|       96.0|       29.59|2.8968192000000004|          West|         18.507456|              0.0|       Light Snow|  false|false|   false|   false|   false|  false|  false|     false|  false|false|          false|         false|       false|           Day|           Day|              Day|                  Day|\n",
            "|A-14|       2|2016-02-08 17:30:18|2016-02-08 23:30:18|         39.582242|        -83.677814|         39.603013|-83.63731899999998|          4.16820096|Between OH-72/Exi...|   null|        I-71 N|   R|   Jamestown|    Greene|   OH|     45335|     US|US/Eastern|        KSGH|2016-02-08 17:28:00|0.9999999999999984|  -1.888888888888888|       93.0|       29.64|          1.609344|          West|         9.3341952|             0.01|       Light Snow|  false|false|   false|   false|   false|  false|  false|     false|  false|false|          false|         false|       false|           Day|           Day|              Day|                  Day|\n",
            "|A-15|       3|2016-02-08 18:11:11|2016-02-09 00:11:11|         40.151785|        -81.312635|         40.151747|        -81.312682|0.006437376000000001|At Shipley Rd - A...|48999.0|      Titus Rd|   R|    Freeport|  Guernsey|   OH|     43973|     US|US/Eastern|        KPHD|2016-02-08 18:23:00|0.6111111111111119|                null|       92.0|       29.62|          16.09344|          Calm|              null|             null|    Mostly Cloudy|  false|false|   false|   false|   false|  false|  false|     false|  false|false|          false|         false|       false|         Night|           Day|              Day|                  Day|\n",
            "|A-16|       3|2016-02-08 18:11:11|2016-02-09 00:11:11|         40.151747|        -81.312682|         40.151785|        -81.312635|0.006437376000000001|At Titus Rd - Acc...|22549.0|      Cadiz Rd|   L|    Freeport|  Harrison|   OH|43973-8626|     US|US/Eastern|        KPHD|2016-02-08 18:23:00|0.6111111111111119|                null|       92.0|       29.62|          16.09344|          Calm|              null|             null|    Mostly Cloudy|  false|false|   false|   false|   false|  false|  false|     false|  false|false|          false|         false|       false|         Night|           Day|              Day|                  Day|\n",
            "|A-17|       3|2016-02-08 19:47:42|2016-02-09 01:47:42|39.972409999999996|         -82.84695|          39.98529|         -82.85667|  1.6544056320000002|At OH-16/Broad St...|   null|   Outerbelt N|   R|    Columbus|  Franklin|   OH|     43213|     US|US/Eastern|        KCMH|2016-02-08 19:51:00|1.1111111111111112|                null|      100.0|       29.65|          9.656064|          Calm|              null|             0.07|         Overcast|  false|false|   false|   false|   false|  false|  false|     false|  false|false|          false|         false|       false|         Night|         Night|            Night|                Night|\n",
            "|A-18|       2|2016-02-08 19:47:42|2016-02-09 01:47:42|           39.9838|-82.85656999999998|           39.9725|         -82.84746|         1.477377792|At I-270 - Accident.|   null|   Outerbelt S|   R|    Columbus|  Franklin|   OH|     43213|     US|US/Eastern|        KCMH|2016-02-08 19:51:00|1.1111111111111112|                null|      100.0|       29.65|          9.656064|          Calm|              null|             0.07|         Overcast|  false|false|   false|   false|   false|  false|  false|     false|  false|false|          false|         false|       false|         Night|         Night|            Night|                Night|\n",
            "|A-19|       3|2016-02-08 20:13:22|2016-02-09 02:13:22|          40.02664|          -82.9944|          40.01228|         -82.99218|  1.6077346560000003|Between Weber Rd/...|   null|   North Fwy S|   R|    Columbus|  Franklin|   OH|     43224|     US|US/Eastern|        KCMH|2016-02-08 20:12:00|0.9999999999999984| -2.7777777777777777|      100.0|       29.63|          1.609344|          West|        13.0356864|              0.0|       Light Snow|  false|false|   false|   false|   false|  false|  false|     false|  false|false|          false|         false|       false|         Night|         Night|            Night|                Night|\n",
            "|A-20|       4|2016-02-08 21:00:17|2016-02-09 03:00:17|         41.679361|        -83.573037|41.666123999999996|        -83.566335|         1.573938432|Closed between I-...|   null|        I-75 S|   R|      Toledo|     Lucas|   OH|     43610|     US|US/Eastern|        KDUH|2016-02-08 20:55:00| 0.777777777777777|  -2.999999999999999|       79.0|       29.62|          16.09344|          West|        13.0356864|             null|         Overcast|  false|false|   false|   false|   false|  false|  false|     false|  false|false|          false|         false|       false|         Night|         Night|            Night|                Night|\n",
            "+----+--------+-------------------+-------------------+------------------+------------------+------------------+------------------+--------------------+--------------------+-------+--------------+----+------------+----------+-----+----------+-------+----------+------------+-------------------+------------------+--------------------+-----------+------------+------------------+--------------+------------------+-----------------+-----------------+-------+-----+--------+--------+--------+-------+-------+----------+-------+-----+---------------+--------------+------------+--------------+--------------+-----------------+---------------------+\n",
            "only showing top 20 rows\n",
            "\n"
          ]
        }
      ]
    },
    {
      "cell_type": "markdown",
      "source": [
        "Inches -> mm"
      ],
      "metadata": {
        "id": "jYTFkvMx80Xh"
      }
    },
    {
      "cell_type": "code",
      "source": [
        "print(\"Avant conversion (inches) : \")\n",
        "dataframe_spark.show()\n",
        "\n",
        "dataframe_spark = dataframe_spark.withColumn(\"Precipitation(in)\", col(\"Precipitation(in)\") * 24.5)\n",
        "\n",
        "print(\"Après conversion (mm) : \")\n",
        "dataframe_spark.show()"
      ],
      "metadata": {
        "colab": {
          "base_uri": "https://localhost:8080/"
        },
        "outputId": "f4e35aab-bd18-48e1-bc9e-9253dbf561fc",
        "id": "MWFZIIxI80Xh"
      },
      "execution_count": null,
      "outputs": [
        {
          "output_type": "stream",
          "name": "stdout",
          "text": [
            "Avant conversion (inches) : \n",
            "+----+--------+-------------------+-------------------+------------------+------------------+------------------+------------------+--------------------+--------------------+-------+--------------+----+------------+----------+-----+----------+-------+----------+------------+-------------------+------------------+--------------------+-----------+------------+------------------+--------------+------------------+-----------------+-----------------+-------+-----+--------+--------+--------+-------+-------+----------+-------+-----+---------------+--------------+------------+--------------+--------------+-----------------+---------------------+\n",
            "|  ID|Severity|         Start_Time|           End_Time|         Start_Lat|         Start_Lng|           End_Lat|           End_Lng|        Distance(mi)|         Description| Number|        Street|Side|        City|    County|State|   Zipcode|Country|  Timezone|Airport_Code|  Weather_Timestamp|    Temperature(F)|       Wind_Chill(F)|Humidity(%)|Pressure(in)|    Visibility(mi)|Wind_Direction|   Wind_Speed(mph)|Precipitation(in)|Weather_Condition|Amenity| Bump|Crossing|Give_Way|Junction|No_Exit|Railway|Roundabout|Station| Stop|Traffic_Calming|Traffic_Signal|Turning_Loop|Sunrise_Sunset|Civil_Twilight|Nautical_Twilight|Astronomical_Twilight|\n",
            "+----+--------+-------------------+-------------------+------------------+------------------+------------------+------------------+--------------------+--------------------+-------+--------------+----+------------+----------+-----+----------+-------+----------+------------+-------------------+------------------+--------------------+-----------+------------+------------------+--------------+------------------+-----------------+-----------------+-------+-----+--------+--------+--------+-------+-------+----------+-------+-----+---------------+--------------+------------+--------------+--------------+-----------------+---------------------+\n",
            "| A-1|       3|2016-02-08 00:37:08|2016-02-08 06:37:08|40.108909999999995|         -83.09286|          40.11206|         -83.03187|          5.19818112|Between Sawmill R...|   null|   Outerbelt E|   R|      Dublin|  Franklin|   OH|     43017|     US|US/Eastern|        KOSU|2016-02-08 00:53:00| 5.611111111111112|  2.2777777777777786|       58.0|       29.76|          16.09344|            SW|16.737177600000003|              0.0|       Light Rain|  false|false|   false|   false|   false|  false|  false|     false|  false|false|          false|         false|       false|         Night|         Night|            Night|                Night|\n",
            "| A-2|       2|2016-02-08 05:56:20|2016-02-08 11:56:20|          39.86542|          -84.0628|          39.86501|         -84.04873|         1.202179968|At OH-4/OH-235/Ex...|   null|        I-70 E|   R|      Dayton|Montgomery|   OH|     45424|     US|US/Eastern|        KFFO|2016-02-08 05:58:00|2.7222222222222214|                null|       91.0|       29.68|          16.09344|          Calm|              null|             0.02|       Light Rain|  false|false|   false|   false|   false|  false|  false|     false|  false|false|          false|         false|       false|         Night|         Night|            Night|                Night|\n",
            "| A-3|       2|2016-02-08 06:15:39|2016-02-08 12:15:39|          39.10266|         -84.52468|39.102090000000004|         -84.52396| 0.08851392000000001|At I-71/US-50/Exi...|   null|        I-75 S|   R|  Cincinnati|  Hamilton|   OH|     45203|     US|US/Eastern|        KLUK|2016-02-08 05:53:00|2.2222222222222223|                null|       97.0|        29.7|          16.09344|          Calm|              null|             0.02|         Overcast|  false|false|   false|   false|    true|  false|  false|     false|  false|false|          false|         false|       false|         Night|         Night|            Night|                  Day|\n",
            "| A-4|       2|2016-02-08 06:51:45|2016-02-08 12:51:45|41.062129999999996|         -81.53784|          41.06217|-81.53546999999998| 0.19794931200000004|At Dart Ave/Exit ...|   null|        I-77 N|   R|       Akron|    Summit|   OH|     44311|     US|US/Eastern|        KAKR|2016-02-08 06:54:00| 3.888888888888889|                null|       55.0|       29.65|          16.09344|          Calm|              null|             null|         Overcast|  false|false|   false|   false|   false|  false|  false|     false|  false|false|          false|         false|       false|         Night|         Night|              Day|                  Day|\n",
            "| A-5|       3|2016-02-08 07:53:43|2016-02-08 13:53:43|         39.172393|-84.49279200000002|         39.170476|        -84.501798|            0.804672|At Mitchell Ave/E...|   null|        I-75 S|   R|  Cincinnati|  Hamilton|   OH|     45217|     US|US/Eastern|        KLUK|2016-02-08 07:53:00|2.7777777777777777| -1.2222222222222219|       93.0|       29.69|          16.09344|           WSW|16.737177600000003|             0.01|       Light Rain|  false|false|   false|   false|   false|  false|  false|     false|  false|false|          false|         false|       false|           Day|           Day|              Day|                  Day|\n",
            "| A-6|       2|2016-02-08 08:16:57|2016-02-08 14:16:57|          39.06324|         -84.03243|          39.06731|         -84.05851|         2.296533888|At Dela Palma Rd ...|   null|State Route 32|   R|Williamsburg|  Clermont|   OH|     45176|     US|US/Eastern|        KI69|2016-02-08 08:16:00| 2.000000000000001| -1.5555555555555558|      100.0|       29.66|          16.09344|           WSW|        13.0356864|             null|         Overcast|  false|false|   false|   false|   false|  false|  false|     false|  false|false|          false|          true|       false|           Day|           Day|              Day|                  Day|\n",
            "| A-7|       2|2016-02-08 08:15:41|2016-02-08 14:15:41|          39.77565|         -84.18603|          39.77275|         -84.18805|         0.365321088|At OH-4/Exit 54 -...|   null|        I-75 S|   R|      Dayton|Montgomery|   OH|     45404|     US|US/Eastern|        KFFO|2016-02-08 08:18:00|0.9999999999999984|                null|      100.0|       29.63|          4.828032|            SW|         3.7014912|             null|    Mostly Cloudy|  false|false|   false|   false|   false|  false|  false|     false|  false|false|          false|         false|       false|           Day|           Day|              Day|                  Day|\n",
            "| A-8|       2|2016-02-08 11:51:46|2016-02-08 17:51:46|          41.37531|-81.82016999999998|          41.36786|         -81.82174|  0.8384682240000001|At Bagley Rd/Exit...|   null|        I-71 S|   R|   Cleveland|  Cuyahoga|   OH|     44130|     US|US/Eastern|        KCLE|2016-02-08 11:51:00|0.6111111111111119| -1.1111111111111112|       92.0|       29.63|          0.804672|            SW|          5.632704|             0.08|             Snow|  false|false|   false|   false|    true|  false|  false|     false|  false|false|          false|         false|       false|           Day|           Day|              Day|                  Day|\n",
            "| A-9|       2|2016-02-08 14:19:57|2016-02-08 20:19:57|         40.702247|        -84.075887|          40.69911|        -84.084293|         0.790187904|At OH-65/Exit 122...|   null| E Hanthorn Rd|   R|        Lima|     Allen|   OH|     45806|     US|US/Eastern|        KAOH|2016-02-08 13:53:00| 3.888888888888889|-0.11111111111111072|       70.0|       29.59|          16.09344|           WNW|         18.507456|             null|         Overcast|  false|false|   false|   false|   false|  false|  false|     false|  false|false|          false|         false|       false|           Day|           Day|              Day|                  Day|\n",
            "|A-10|       2|2016-02-08 15:16:43|2016-02-08 21:16:43|          40.10931|         -82.96849|          40.11078|           -82.984|         1.329318144|At I-71/Exit 26 -...|   null|   Outerbelt W|   R| Westerville|  Franklin|   OH|     43081|     US|US/Eastern|        KCMH|2016-02-08 15:12:00|               0.0| -1.8333333333333337|      100.0|       29.59|          0.804672|          West|          5.632704|             0.05|             Snow|  false|false|   false|   false|   false|  false|  false|     false|  false|false|          false|         false|       false|           Day|           Day|              Day|                  Day|\n",
            "|A-11|       2|2016-02-08 15:43:50|2016-02-08 21:43:50|          39.19288|         -84.47723|          39.19615|         -84.47335|         0.494068608|At OH-4/Paddock R...|   null|        I-75 N|   R|  Cincinnati|  Hamilton|   OH|     45216|     US|US/Eastern|        KLUK|2016-02-08 15:47:00|0.9999999999999984| -1.3333333333333326|      100.0|       29.66|          4.828032|           NNW|         7.4029824|             0.03|       Light Snow|  false|false|   false|   false|   false|  false|  false|     false|  false|false|          false|         false|       false|           Day|           Day|              Day|                  Day|\n",
            "|A-12|       2|2016-02-08 16:50:57|2016-02-08 22:50:57|          39.13877|         -84.53394|          39.13977|          -84.5343| 0.11587276800000001|At US-52/Hopple S...|   null|     Hopple St|   R|  Cincinnati|  Hamilton|   OH|     45225|     US|US/Eastern|        KLUK|2016-02-08 16:53:00| 1.722222222222223| 0.11111111111111269|       96.0|       29.69|          16.09344|         South|          5.632704|             null|         Overcast|  false|false|    true|   false|   false|  false|  false|     false|  false|false|          false|          true|       false|           Day|           Day|              Day|                  Day|\n",
            "|A-13|       2|2016-02-08 17:27:39|2016-02-08 23:27:39|           41.4739|        -81.704233|          41.47388|         -81.70559| 0.11265408000000002|At US-42/Exit 170...|   null|        I-90 E|   R|   Cleveland|  Cuyahoga|   OH|     44113|     US|US/Eastern|        KBKL|2016-02-08 17:36:00|0.6111111111111119|  -4.222222222222223|       96.0|       29.59|2.8968192000000004|          West|         18.507456|              0.0|       Light Snow|  false|false|   false|   false|   false|  false|  false|     false|  false|false|          false|         false|       false|           Day|           Day|              Day|                  Day|\n",
            "|A-14|       2|2016-02-08 17:30:18|2016-02-08 23:30:18|         39.582242|        -83.677814|         39.603013|-83.63731899999998|          4.16820096|Between OH-72/Exi...|   null|        I-71 N|   R|   Jamestown|    Greene|   OH|     45335|     US|US/Eastern|        KSGH|2016-02-08 17:28:00|0.9999999999999984|  -1.888888888888888|       93.0|       29.64|          1.609344|          West|         9.3341952|             0.01|       Light Snow|  false|false|   false|   false|   false|  false|  false|     false|  false|false|          false|         false|       false|           Day|           Day|              Day|                  Day|\n",
            "|A-15|       3|2016-02-08 18:11:11|2016-02-09 00:11:11|         40.151785|        -81.312635|         40.151747|        -81.312682|0.006437376000000001|At Shipley Rd - A...|48999.0|      Titus Rd|   R|    Freeport|  Guernsey|   OH|     43973|     US|US/Eastern|        KPHD|2016-02-08 18:23:00|0.6111111111111119|                null|       92.0|       29.62|          16.09344|          Calm|              null|             null|    Mostly Cloudy|  false|false|   false|   false|   false|  false|  false|     false|  false|false|          false|         false|       false|         Night|           Day|              Day|                  Day|\n",
            "|A-16|       3|2016-02-08 18:11:11|2016-02-09 00:11:11|         40.151747|        -81.312682|         40.151785|        -81.312635|0.006437376000000001|At Titus Rd - Acc...|22549.0|      Cadiz Rd|   L|    Freeport|  Harrison|   OH|43973-8626|     US|US/Eastern|        KPHD|2016-02-08 18:23:00|0.6111111111111119|                null|       92.0|       29.62|          16.09344|          Calm|              null|             null|    Mostly Cloudy|  false|false|   false|   false|   false|  false|  false|     false|  false|false|          false|         false|       false|         Night|           Day|              Day|                  Day|\n",
            "|A-17|       3|2016-02-08 19:47:42|2016-02-09 01:47:42|39.972409999999996|         -82.84695|          39.98529|         -82.85667|  1.6544056320000002|At OH-16/Broad St...|   null|   Outerbelt N|   R|    Columbus|  Franklin|   OH|     43213|     US|US/Eastern|        KCMH|2016-02-08 19:51:00|1.1111111111111112|                null|      100.0|       29.65|          9.656064|          Calm|              null|             0.07|         Overcast|  false|false|   false|   false|   false|  false|  false|     false|  false|false|          false|         false|       false|         Night|         Night|            Night|                Night|\n",
            "|A-18|       2|2016-02-08 19:47:42|2016-02-09 01:47:42|           39.9838|-82.85656999999998|           39.9725|         -82.84746|         1.477377792|At I-270 - Accident.|   null|   Outerbelt S|   R|    Columbus|  Franklin|   OH|     43213|     US|US/Eastern|        KCMH|2016-02-08 19:51:00|1.1111111111111112|                null|      100.0|       29.65|          9.656064|          Calm|              null|             0.07|         Overcast|  false|false|   false|   false|   false|  false|  false|     false|  false|false|          false|         false|       false|         Night|         Night|            Night|                Night|\n",
            "|A-19|       3|2016-02-08 20:13:22|2016-02-09 02:13:22|          40.02664|          -82.9944|          40.01228|         -82.99218|  1.6077346560000003|Between Weber Rd/...|   null|   North Fwy S|   R|    Columbus|  Franklin|   OH|     43224|     US|US/Eastern|        KCMH|2016-02-08 20:12:00|0.9999999999999984| -2.7777777777777777|      100.0|       29.63|          1.609344|          West|        13.0356864|              0.0|       Light Snow|  false|false|   false|   false|   false|  false|  false|     false|  false|false|          false|         false|       false|         Night|         Night|            Night|                Night|\n",
            "|A-20|       4|2016-02-08 21:00:17|2016-02-09 03:00:17|         41.679361|        -83.573037|41.666123999999996|        -83.566335|         1.573938432|Closed between I-...|   null|        I-75 S|   R|      Toledo|     Lucas|   OH|     43610|     US|US/Eastern|        KDUH|2016-02-08 20:55:00| 0.777777777777777|  -2.999999999999999|       79.0|       29.62|          16.09344|          West|        13.0356864|             null|         Overcast|  false|false|   false|   false|   false|  false|  false|     false|  false|false|          false|         false|       false|         Night|         Night|            Night|                Night|\n",
            "+----+--------+-------------------+-------------------+------------------+------------------+------------------+------------------+--------------------+--------------------+-------+--------------+----+------------+----------+-----+----------+-------+----------+------------+-------------------+------------------+--------------------+-----------+------------+------------------+--------------+------------------+-----------------+-----------------+-------+-----+--------+--------+--------+-------+-------+----------+-------+-----+---------------+--------------+------------+--------------+--------------+-----------------+---------------------+\n",
            "only showing top 20 rows\n",
            "\n",
            "Après conversion (mm) : \n",
            "+----+--------+-------------------+-------------------+------------------+------------------+------------------+------------------+--------------------+--------------------+-------+--------------+----+------------+----------+-----+----------+-------+----------+------------+-------------------+------------------+--------------------+-----------+------------+------------------+--------------+------------------+-----------------+-----------------+-------+-----+--------+--------+--------+-------+-------+----------+-------+-----+---------------+--------------+------------+--------------+--------------+-----------------+---------------------+\n",
            "|  ID|Severity|         Start_Time|           End_Time|         Start_Lat|         Start_Lng|           End_Lat|           End_Lng|        Distance(mi)|         Description| Number|        Street|Side|        City|    County|State|   Zipcode|Country|  Timezone|Airport_Code|  Weather_Timestamp|    Temperature(F)|       Wind_Chill(F)|Humidity(%)|Pressure(in)|    Visibility(mi)|Wind_Direction|   Wind_Speed(mph)|Precipitation(in)|Weather_Condition|Amenity| Bump|Crossing|Give_Way|Junction|No_Exit|Railway|Roundabout|Station| Stop|Traffic_Calming|Traffic_Signal|Turning_Loop|Sunrise_Sunset|Civil_Twilight|Nautical_Twilight|Astronomical_Twilight|\n",
            "+----+--------+-------------------+-------------------+------------------+------------------+------------------+------------------+--------------------+--------------------+-------+--------------+----+------------+----------+-----+----------+-------+----------+------------+-------------------+------------------+--------------------+-----------+------------+------------------+--------------+------------------+-----------------+-----------------+-------+-----+--------+--------+--------+-------+-------+----------+-------+-----+---------------+--------------+------------+--------------+--------------+-----------------+---------------------+\n",
            "| A-1|       3|2016-02-08 00:37:08|2016-02-08 06:37:08|40.108909999999995|         -83.09286|          40.11206|         -83.03187|          5.19818112|Between Sawmill R...|   null|   Outerbelt E|   R|      Dublin|  Franklin|   OH|     43017|     US|US/Eastern|        KOSU|2016-02-08 00:53:00| 5.611111111111112|  2.2777777777777786|       58.0|       29.76|          16.09344|            SW|16.737177600000003|              0.0|       Light Rain|  false|false|   false|   false|   false|  false|  false|     false|  false|false|          false|         false|       false|         Night|         Night|            Night|                Night|\n",
            "| A-2|       2|2016-02-08 05:56:20|2016-02-08 11:56:20|          39.86542|          -84.0628|          39.86501|         -84.04873|         1.202179968|At OH-4/OH-235/Ex...|   null|        I-70 E|   R|      Dayton|Montgomery|   OH|     45424|     US|US/Eastern|        KFFO|2016-02-08 05:58:00|2.7222222222222214|                null|       91.0|       29.68|          16.09344|          Calm|              null|             0.49|       Light Rain|  false|false|   false|   false|   false|  false|  false|     false|  false|false|          false|         false|       false|         Night|         Night|            Night|                Night|\n",
            "| A-3|       2|2016-02-08 06:15:39|2016-02-08 12:15:39|          39.10266|         -84.52468|39.102090000000004|         -84.52396| 0.08851392000000001|At I-71/US-50/Exi...|   null|        I-75 S|   R|  Cincinnati|  Hamilton|   OH|     45203|     US|US/Eastern|        KLUK|2016-02-08 05:53:00|2.2222222222222223|                null|       97.0|        29.7|          16.09344|          Calm|              null|             0.49|         Overcast|  false|false|   false|   false|    true|  false|  false|     false|  false|false|          false|         false|       false|         Night|         Night|            Night|                  Day|\n",
            "| A-4|       2|2016-02-08 06:51:45|2016-02-08 12:51:45|41.062129999999996|         -81.53784|          41.06217|-81.53546999999998| 0.19794931200000004|At Dart Ave/Exit ...|   null|        I-77 N|   R|       Akron|    Summit|   OH|     44311|     US|US/Eastern|        KAKR|2016-02-08 06:54:00| 3.888888888888889|                null|       55.0|       29.65|          16.09344|          Calm|              null|             null|         Overcast|  false|false|   false|   false|   false|  false|  false|     false|  false|false|          false|         false|       false|         Night|         Night|              Day|                  Day|\n",
            "| A-5|       3|2016-02-08 07:53:43|2016-02-08 13:53:43|         39.172393|-84.49279200000002|         39.170476|        -84.501798|            0.804672|At Mitchell Ave/E...|   null|        I-75 S|   R|  Cincinnati|  Hamilton|   OH|     45217|     US|US/Eastern|        KLUK|2016-02-08 07:53:00|2.7777777777777777| -1.2222222222222219|       93.0|       29.69|          16.09344|           WSW|16.737177600000003|            0.245|       Light Rain|  false|false|   false|   false|   false|  false|  false|     false|  false|false|          false|         false|       false|           Day|           Day|              Day|                  Day|\n",
            "| A-6|       2|2016-02-08 08:16:57|2016-02-08 14:16:57|          39.06324|         -84.03243|          39.06731|         -84.05851|         2.296533888|At Dela Palma Rd ...|   null|State Route 32|   R|Williamsburg|  Clermont|   OH|     45176|     US|US/Eastern|        KI69|2016-02-08 08:16:00| 2.000000000000001| -1.5555555555555558|      100.0|       29.66|          16.09344|           WSW|        13.0356864|             null|         Overcast|  false|false|   false|   false|   false|  false|  false|     false|  false|false|          false|          true|       false|           Day|           Day|              Day|                  Day|\n",
            "| A-7|       2|2016-02-08 08:15:41|2016-02-08 14:15:41|          39.77565|         -84.18603|          39.77275|         -84.18805|         0.365321088|At OH-4/Exit 54 -...|   null|        I-75 S|   R|      Dayton|Montgomery|   OH|     45404|     US|US/Eastern|        KFFO|2016-02-08 08:18:00|0.9999999999999984|                null|      100.0|       29.63|          4.828032|            SW|         3.7014912|             null|    Mostly Cloudy|  false|false|   false|   false|   false|  false|  false|     false|  false|false|          false|         false|       false|           Day|           Day|              Day|                  Day|\n",
            "| A-8|       2|2016-02-08 11:51:46|2016-02-08 17:51:46|          41.37531|-81.82016999999998|          41.36786|         -81.82174|  0.8384682240000001|At Bagley Rd/Exit...|   null|        I-71 S|   R|   Cleveland|  Cuyahoga|   OH|     44130|     US|US/Eastern|        KCLE|2016-02-08 11:51:00|0.6111111111111119| -1.1111111111111112|       92.0|       29.63|          0.804672|            SW|          5.632704|             1.96|             Snow|  false|false|   false|   false|    true|  false|  false|     false|  false|false|          false|         false|       false|           Day|           Day|              Day|                  Day|\n",
            "| A-9|       2|2016-02-08 14:19:57|2016-02-08 20:19:57|         40.702247|        -84.075887|          40.69911|        -84.084293|         0.790187904|At OH-65/Exit 122...|   null| E Hanthorn Rd|   R|        Lima|     Allen|   OH|     45806|     US|US/Eastern|        KAOH|2016-02-08 13:53:00| 3.888888888888889|-0.11111111111111072|       70.0|       29.59|          16.09344|           WNW|         18.507456|             null|         Overcast|  false|false|   false|   false|   false|  false|  false|     false|  false|false|          false|         false|       false|           Day|           Day|              Day|                  Day|\n",
            "|A-10|       2|2016-02-08 15:16:43|2016-02-08 21:16:43|          40.10931|         -82.96849|          40.11078|           -82.984|         1.329318144|At I-71/Exit 26 -...|   null|   Outerbelt W|   R| Westerville|  Franklin|   OH|     43081|     US|US/Eastern|        KCMH|2016-02-08 15:12:00|               0.0| -1.8333333333333337|      100.0|       29.59|          0.804672|          West|          5.632704|            1.225|             Snow|  false|false|   false|   false|   false|  false|  false|     false|  false|false|          false|         false|       false|           Day|           Day|              Day|                  Day|\n",
            "|A-11|       2|2016-02-08 15:43:50|2016-02-08 21:43:50|          39.19288|         -84.47723|          39.19615|         -84.47335|         0.494068608|At OH-4/Paddock R...|   null|        I-75 N|   R|  Cincinnati|  Hamilton|   OH|     45216|     US|US/Eastern|        KLUK|2016-02-08 15:47:00|0.9999999999999984| -1.3333333333333326|      100.0|       29.66|          4.828032|           NNW|         7.4029824|            0.735|       Light Snow|  false|false|   false|   false|   false|  false|  false|     false|  false|false|          false|         false|       false|           Day|           Day|              Day|                  Day|\n",
            "|A-12|       2|2016-02-08 16:50:57|2016-02-08 22:50:57|          39.13877|         -84.53394|          39.13977|          -84.5343| 0.11587276800000001|At US-52/Hopple S...|   null|     Hopple St|   R|  Cincinnati|  Hamilton|   OH|     45225|     US|US/Eastern|        KLUK|2016-02-08 16:53:00| 1.722222222222223| 0.11111111111111269|       96.0|       29.69|          16.09344|         South|          5.632704|             null|         Overcast|  false|false|    true|   false|   false|  false|  false|     false|  false|false|          false|          true|       false|           Day|           Day|              Day|                  Day|\n",
            "|A-13|       2|2016-02-08 17:27:39|2016-02-08 23:27:39|           41.4739|        -81.704233|          41.47388|         -81.70559| 0.11265408000000002|At US-42/Exit 170...|   null|        I-90 E|   R|   Cleveland|  Cuyahoga|   OH|     44113|     US|US/Eastern|        KBKL|2016-02-08 17:36:00|0.6111111111111119|  -4.222222222222223|       96.0|       29.59|2.8968192000000004|          West|         18.507456|              0.0|       Light Snow|  false|false|   false|   false|   false|  false|  false|     false|  false|false|          false|         false|       false|           Day|           Day|              Day|                  Day|\n",
            "|A-14|       2|2016-02-08 17:30:18|2016-02-08 23:30:18|         39.582242|        -83.677814|         39.603013|-83.63731899999998|          4.16820096|Between OH-72/Exi...|   null|        I-71 N|   R|   Jamestown|    Greene|   OH|     45335|     US|US/Eastern|        KSGH|2016-02-08 17:28:00|0.9999999999999984|  -1.888888888888888|       93.0|       29.64|          1.609344|          West|         9.3341952|            0.245|       Light Snow|  false|false|   false|   false|   false|  false|  false|     false|  false|false|          false|         false|       false|           Day|           Day|              Day|                  Day|\n",
            "|A-15|       3|2016-02-08 18:11:11|2016-02-09 00:11:11|         40.151785|        -81.312635|         40.151747|        -81.312682|0.006437376000000001|At Shipley Rd - A...|48999.0|      Titus Rd|   R|    Freeport|  Guernsey|   OH|     43973|     US|US/Eastern|        KPHD|2016-02-08 18:23:00|0.6111111111111119|                null|       92.0|       29.62|          16.09344|          Calm|              null|             null|    Mostly Cloudy|  false|false|   false|   false|   false|  false|  false|     false|  false|false|          false|         false|       false|         Night|           Day|              Day|                  Day|\n",
            "|A-16|       3|2016-02-08 18:11:11|2016-02-09 00:11:11|         40.151747|        -81.312682|         40.151785|        -81.312635|0.006437376000000001|At Titus Rd - Acc...|22549.0|      Cadiz Rd|   L|    Freeport|  Harrison|   OH|43973-8626|     US|US/Eastern|        KPHD|2016-02-08 18:23:00|0.6111111111111119|                null|       92.0|       29.62|          16.09344|          Calm|              null|             null|    Mostly Cloudy|  false|false|   false|   false|   false|  false|  false|     false|  false|false|          false|         false|       false|         Night|           Day|              Day|                  Day|\n",
            "|A-17|       3|2016-02-08 19:47:42|2016-02-09 01:47:42|39.972409999999996|         -82.84695|          39.98529|         -82.85667|  1.6544056320000002|At OH-16/Broad St...|   null|   Outerbelt N|   R|    Columbus|  Franklin|   OH|     43213|     US|US/Eastern|        KCMH|2016-02-08 19:51:00|1.1111111111111112|                null|      100.0|       29.65|          9.656064|          Calm|              null|            1.715|         Overcast|  false|false|   false|   false|   false|  false|  false|     false|  false|false|          false|         false|       false|         Night|         Night|            Night|                Night|\n",
            "|A-18|       2|2016-02-08 19:47:42|2016-02-09 01:47:42|           39.9838|-82.85656999999998|           39.9725|         -82.84746|         1.477377792|At I-270 - Accident.|   null|   Outerbelt S|   R|    Columbus|  Franklin|   OH|     43213|     US|US/Eastern|        KCMH|2016-02-08 19:51:00|1.1111111111111112|                null|      100.0|       29.65|          9.656064|          Calm|              null|            1.715|         Overcast|  false|false|   false|   false|   false|  false|  false|     false|  false|false|          false|         false|       false|         Night|         Night|            Night|                Night|\n",
            "|A-19|       3|2016-02-08 20:13:22|2016-02-09 02:13:22|          40.02664|          -82.9944|          40.01228|         -82.99218|  1.6077346560000003|Between Weber Rd/...|   null|   North Fwy S|   R|    Columbus|  Franklin|   OH|     43224|     US|US/Eastern|        KCMH|2016-02-08 20:12:00|0.9999999999999984| -2.7777777777777777|      100.0|       29.63|          1.609344|          West|        13.0356864|              0.0|       Light Snow|  false|false|   false|   false|   false|  false|  false|     false|  false|false|          false|         false|       false|         Night|         Night|            Night|                Night|\n",
            "|A-20|       4|2016-02-08 21:00:17|2016-02-09 03:00:17|         41.679361|        -83.573037|41.666123999999996|        -83.566335|         1.573938432|Closed between I-...|   null|        I-75 S|   R|      Toledo|     Lucas|   OH|     43610|     US|US/Eastern|        KDUH|2016-02-08 20:55:00| 0.777777777777777|  -2.999999999999999|       79.0|       29.62|          16.09344|          West|        13.0356864|             null|         Overcast|  false|false|   false|   false|   false|  false|  false|     false|  false|false|          false|         false|       false|         Night|         Night|            Night|                Night|\n",
            "+----+--------+-------------------+-------------------+------------------+------------------+------------------+------------------+--------------------+--------------------+-------+--------------+----+------------+----------+-----+----------+-------+----------+------------+-------------------+------------------+--------------------+-----------+------------+------------------+--------------+------------------+-----------------+-----------------+-------+-----+--------+--------+--------+-------+-------+----------+-------+-----+---------------+--------------+------------+--------------+--------------+-----------------+---------------------+\n",
            "only showing top 20 rows\n",
            "\n"
          ]
        }
      ]
    },
    {
      "cell_type": "markdown",
      "source": [
        "### On renomme les colonnes concernées"
      ],
      "metadata": {
        "id": "UIRpN4WFkcxE"
      }
    },
    {
      "cell_type": "code",
      "source": [
        "dataframe_spark = dataframe_spark.withColumnRenamed('Distance(mi)', 'Distance(km)').withColumnRenamed('Temperature(F)','Temperature(C)').withColumnRenamed('Wind_Chill(F)','Wind_Chill(C)').withColumnRenamed('Visibility(mi)','Visibility(km)').withColumnRenamed('Wind_Speed(mph)','Wind_Speed(kmh)').withColumnRenamed('Precipitation(in)','Precipitation(mm)')"
      ],
      "metadata": {
        "id": "vXibJg6HkcxG"
      },
      "execution_count": null,
      "outputs": []
    },
    {
      "cell_type": "code",
      "source": [
        "dataframe_spark.columns"
      ],
      "metadata": {
        "colab": {
          "base_uri": "https://localhost:8080/"
        },
        "outputId": "47ebc158-ec46-41d8-dbf1-e61c723f00aa",
        "id": "JftoP_HEkcxH"
      },
      "execution_count": null,
      "outputs": [
        {
          "output_type": "execute_result",
          "data": {
            "text/plain": [
              "['ID',\n",
              " 'Severity',\n",
              " 'Start_Time',\n",
              " 'End_Time',\n",
              " 'Start_Lat',\n",
              " 'Start_Lng',\n",
              " 'End_Lat',\n",
              " 'End_Lng',\n",
              " 'Distance(km)',\n",
              " 'Description',\n",
              " 'Number',\n",
              " 'Street',\n",
              " 'Side',\n",
              " 'City',\n",
              " 'County',\n",
              " 'State',\n",
              " 'Zipcode',\n",
              " 'Country',\n",
              " 'Timezone',\n",
              " 'Airport_Code',\n",
              " 'Weather_Timestamp',\n",
              " 'Temperature(C)',\n",
              " 'Wind_Chill(C)',\n",
              " 'Humidity(%)',\n",
              " 'Pressure(in)',\n",
              " 'Visibility(km)',\n",
              " 'Wind_Direction',\n",
              " 'Wind_Speed(kmh)',\n",
              " 'Precipitation(mm)',\n",
              " 'Weather_Condition',\n",
              " 'Amenity',\n",
              " 'Bump',\n",
              " 'Crossing',\n",
              " 'Give_Way',\n",
              " 'Junction',\n",
              " 'No_Exit',\n",
              " 'Railway',\n",
              " 'Roundabout',\n",
              " 'Station',\n",
              " 'Stop',\n",
              " 'Traffic_Calming',\n",
              " 'Traffic_Signal',\n",
              " 'Turning_Loop',\n",
              " 'Sunrise_Sunset',\n",
              " 'Civil_Twilight',\n",
              " 'Nautical_Twilight',\n",
              " 'Astronomical_Twilight']"
            ]
          },
          "metadata": {},
          "execution_count": 250
        }
      ]
    },
    {
      "cell_type": "markdown",
      "source": [
        "# Interprétation des données avec Pandas"
      ],
      "metadata": {
        "id": "RKChjEqY9fWS"
      }
    },
    {
      "cell_type": "markdown",
      "source": [
        "Dans ce chapitre, nous ferons une première analyse des données à l'aide de la librairie Pandas, et du dataframe récupéré grâce à celle-ci. L'outil étant moins puissant que les deux suivants que nous utiliserons par la suite, cette analyse sera moins approfondie que les deux suivantes, et il sera clairement indiqué lorque nous avons pris des raccourcis, ou émis des suppositions, afin de ne pas alourdir inutilement le calcul. Ainsi, ce paragraphe s'inscrit d'avantage comme une première approche, et une première visualisation des données, afin de mieux connaître le jeu de données."
      ],
      "metadata": {
        "id": "fSY8NixaPtmF"
      }
    },
    {
      "cell_type": "markdown",
      "source": [
        "## Représentation basique des données"
      ],
      "metadata": {
        "id": "O7Mwkq9Qsxwm"
      }
    },
    {
      "cell_type": "code",
      "source": [
        "nombre_de_donnees = dataframe.shape[0]\n",
        "print(\"Il y a \", nombre_de_donnees, \" donnees dans le dataframe\")"
      ],
      "metadata": {
        "colab": {
          "base_uri": "https://localhost:8080/"
        },
        "id": "gDtgEe0wEot0",
        "outputId": "66c1d4bc-9484-4e4d-a4bc-96ffea02f7db"
      },
      "execution_count": null,
      "outputs": [
        {
          "output_type": "stream",
          "name": "stdout",
          "text": [
            "Il y a  2845342  donnees dans le dataframe\n"
          ]
        }
      ]
    },
    {
      "cell_type": "code",
      "source": [
        "dataframe.describe()"
      ],
      "metadata": {
        "colab": {
          "base_uri": "https://localhost:8080/",
          "height": 300
        },
        "id": "g9dweStKs6BQ",
        "outputId": "b3997d34-03d0-46da-f560-13f9d2402232"
      },
      "execution_count": null,
      "outputs": [
        {
          "output_type": "execute_result",
          "data": {
            "text/plain": [
              "           Severity     Start_Lat     Start_Lng       End_Lat       End_Lng  \\\n",
              "count  2.845342e+06  2.845342e+06  2.845342e+06  2.845342e+06  2.845342e+06   \n",
              "mean   2.137572e+00  3.624520e+01 -9.711463e+01  3.624532e+01 -9.711439e+01   \n",
              "std    4.787216e-01  5.363797e+00  1.831782e+01  5.363873e+00  1.831763e+01   \n",
              "min    1.000000e+00  2.456603e+01 -1.245481e+02  2.456601e+01 -1.245457e+02   \n",
              "25%    2.000000e+00  3.344517e+01 -1.180331e+02  3.344628e+01 -1.180333e+02   \n",
              "50%    2.000000e+00  3.609861e+01 -9.241808e+01  3.609799e+01 -9.241772e+01   \n",
              "75%    2.000000e+00  4.016024e+01 -8.037243e+01  4.016105e+01 -8.037338e+01   \n",
              "max    4.000000e+00  4.900058e+01 -6.711317e+01  4.907500e+01 -6.710924e+01   \n",
              "\n",
              "       Distance(km)        Number  Temperature(C)  Wind_Chill(C)  \\\n",
              "count  2.845342e+06  1.101431e+06    2.776068e+06   2.375699e+06   \n",
              "mean   1.130850e+00  8.089408e+03    1.655198e+01   1.536568e+01   \n",
              "std    2.511157e+00  1.836009e+04    1.034591e+01   1.175609e+01   \n",
              "min    0.000000e+00  0.000000e+00   -6.722222e+01  -6.722222e+01   \n",
              "25%    8.368589e-02  1.270000e+03    1.000000e+01   7.777778e+00   \n",
              "50%    3.926799e-01  4.007000e+03    1.777778e+01   1.722222e+01   \n",
              "75%    1.229539e+00  9.567000e+03    2.444444e+01   2.444444e+01   \n",
              "max    2.497477e+02  9.999997e+06    9.111111e+01   9.111111e+01   \n",
              "\n",
              "        Humidity(%)  Pressure(in)  Visibility(km)  Wind_Speed(kmh)  \\\n",
              "count  2.772250e+06  2.786142e+06    2.774796e+06     2.687398e+06   \n",
              "mean   6.436545e+01  2.947234e+01    1.464405e+01     1.190117e+01   \n",
              "std    2.287457e+01  1.045286e+00    4.373466e+00     8.895575e+00   \n",
              "min    1.000000e+00  0.000000e+00    0.000000e+00     0.000000e+00   \n",
              "25%    4.800000e+01  2.931000e+01    1.609344e+01     5.632704e+00   \n",
              "50%    6.700000e+01  2.982000e+01    1.609344e+01     1.126541e+01   \n",
              "75%    8.300000e+01  3.001000e+01    1.609344e+01     1.609344e+01   \n",
              "max    1.000000e+02  5.890000e+01    2.253082e+02     1.749357e+03   \n",
              "\n",
              "       Precipitation(mm)  \n",
              "count       2.295884e+06  \n",
              "mean        1.719150e-01  \n",
              "std         2.290464e+00  \n",
              "min         0.000000e+00  \n",
              "25%         0.000000e+00  \n",
              "50%         0.000000e+00  \n",
              "75%         0.000000e+00  \n",
              "max         5.880000e+02  "
            ],
            "text/html": [
              "\n",
              "  <div id=\"df-65a252c9-f3d5-482f-8aa4-d3ea90249ba8\">\n",
              "    <div class=\"colab-df-container\">\n",
              "      <div>\n",
              "<style scoped>\n",
              "    .dataframe tbody tr th:only-of-type {\n",
              "        vertical-align: middle;\n",
              "    }\n",
              "\n",
              "    .dataframe tbody tr th {\n",
              "        vertical-align: top;\n",
              "    }\n",
              "\n",
              "    .dataframe thead th {\n",
              "        text-align: right;\n",
              "    }\n",
              "</style>\n",
              "<table border=\"1\" class=\"dataframe\">\n",
              "  <thead>\n",
              "    <tr style=\"text-align: right;\">\n",
              "      <th></th>\n",
              "      <th>Severity</th>\n",
              "      <th>Start_Lat</th>\n",
              "      <th>Start_Lng</th>\n",
              "      <th>End_Lat</th>\n",
              "      <th>End_Lng</th>\n",
              "      <th>Distance(km)</th>\n",
              "      <th>Number</th>\n",
              "      <th>Temperature(C)</th>\n",
              "      <th>Wind_Chill(C)</th>\n",
              "      <th>Humidity(%)</th>\n",
              "      <th>Pressure(in)</th>\n",
              "      <th>Visibility(km)</th>\n",
              "      <th>Wind_Speed(kmh)</th>\n",
              "      <th>Precipitation(mm)</th>\n",
              "    </tr>\n",
              "  </thead>\n",
              "  <tbody>\n",
              "    <tr>\n",
              "      <th>count</th>\n",
              "      <td>2.845342e+06</td>\n",
              "      <td>2.845342e+06</td>\n",
              "      <td>2.845342e+06</td>\n",
              "      <td>2.845342e+06</td>\n",
              "      <td>2.845342e+06</td>\n",
              "      <td>2.845342e+06</td>\n",
              "      <td>1.101431e+06</td>\n",
              "      <td>2.776068e+06</td>\n",
              "      <td>2.375699e+06</td>\n",
              "      <td>2.772250e+06</td>\n",
              "      <td>2.786142e+06</td>\n",
              "      <td>2.774796e+06</td>\n",
              "      <td>2.687398e+06</td>\n",
              "      <td>2.295884e+06</td>\n",
              "    </tr>\n",
              "    <tr>\n",
              "      <th>mean</th>\n",
              "      <td>2.137572e+00</td>\n",
              "      <td>3.624520e+01</td>\n",
              "      <td>-9.711463e+01</td>\n",
              "      <td>3.624532e+01</td>\n",
              "      <td>-9.711439e+01</td>\n",
              "      <td>1.130850e+00</td>\n",
              "      <td>8.089408e+03</td>\n",
              "      <td>1.655198e+01</td>\n",
              "      <td>1.536568e+01</td>\n",
              "      <td>6.436545e+01</td>\n",
              "      <td>2.947234e+01</td>\n",
              "      <td>1.464405e+01</td>\n",
              "      <td>1.190117e+01</td>\n",
              "      <td>1.719150e-01</td>\n",
              "    </tr>\n",
              "    <tr>\n",
              "      <th>std</th>\n",
              "      <td>4.787216e-01</td>\n",
              "      <td>5.363797e+00</td>\n",
              "      <td>1.831782e+01</td>\n",
              "      <td>5.363873e+00</td>\n",
              "      <td>1.831763e+01</td>\n",
              "      <td>2.511157e+00</td>\n",
              "      <td>1.836009e+04</td>\n",
              "      <td>1.034591e+01</td>\n",
              "      <td>1.175609e+01</td>\n",
              "      <td>2.287457e+01</td>\n",
              "      <td>1.045286e+00</td>\n",
              "      <td>4.373466e+00</td>\n",
              "      <td>8.895575e+00</td>\n",
              "      <td>2.290464e+00</td>\n",
              "    </tr>\n",
              "    <tr>\n",
              "      <th>min</th>\n",
              "      <td>1.000000e+00</td>\n",
              "      <td>2.456603e+01</td>\n",
              "      <td>-1.245481e+02</td>\n",
              "      <td>2.456601e+01</td>\n",
              "      <td>-1.245457e+02</td>\n",
              "      <td>0.000000e+00</td>\n",
              "      <td>0.000000e+00</td>\n",
              "      <td>-6.722222e+01</td>\n",
              "      <td>-6.722222e+01</td>\n",
              "      <td>1.000000e+00</td>\n",
              "      <td>0.000000e+00</td>\n",
              "      <td>0.000000e+00</td>\n",
              "      <td>0.000000e+00</td>\n",
              "      <td>0.000000e+00</td>\n",
              "    </tr>\n",
              "    <tr>\n",
              "      <th>25%</th>\n",
              "      <td>2.000000e+00</td>\n",
              "      <td>3.344517e+01</td>\n",
              "      <td>-1.180331e+02</td>\n",
              "      <td>3.344628e+01</td>\n",
              "      <td>-1.180333e+02</td>\n",
              "      <td>8.368589e-02</td>\n",
              "      <td>1.270000e+03</td>\n",
              "      <td>1.000000e+01</td>\n",
              "      <td>7.777778e+00</td>\n",
              "      <td>4.800000e+01</td>\n",
              "      <td>2.931000e+01</td>\n",
              "      <td>1.609344e+01</td>\n",
              "      <td>5.632704e+00</td>\n",
              "      <td>0.000000e+00</td>\n",
              "    </tr>\n",
              "    <tr>\n",
              "      <th>50%</th>\n",
              "      <td>2.000000e+00</td>\n",
              "      <td>3.609861e+01</td>\n",
              "      <td>-9.241808e+01</td>\n",
              "      <td>3.609799e+01</td>\n",
              "      <td>-9.241772e+01</td>\n",
              "      <td>3.926799e-01</td>\n",
              "      <td>4.007000e+03</td>\n",
              "      <td>1.777778e+01</td>\n",
              "      <td>1.722222e+01</td>\n",
              "      <td>6.700000e+01</td>\n",
              "      <td>2.982000e+01</td>\n",
              "      <td>1.609344e+01</td>\n",
              "      <td>1.126541e+01</td>\n",
              "      <td>0.000000e+00</td>\n",
              "    </tr>\n",
              "    <tr>\n",
              "      <th>75%</th>\n",
              "      <td>2.000000e+00</td>\n",
              "      <td>4.016024e+01</td>\n",
              "      <td>-8.037243e+01</td>\n",
              "      <td>4.016105e+01</td>\n",
              "      <td>-8.037338e+01</td>\n",
              "      <td>1.229539e+00</td>\n",
              "      <td>9.567000e+03</td>\n",
              "      <td>2.444444e+01</td>\n",
              "      <td>2.444444e+01</td>\n",
              "      <td>8.300000e+01</td>\n",
              "      <td>3.001000e+01</td>\n",
              "      <td>1.609344e+01</td>\n",
              "      <td>1.609344e+01</td>\n",
              "      <td>0.000000e+00</td>\n",
              "    </tr>\n",
              "    <tr>\n",
              "      <th>max</th>\n",
              "      <td>4.000000e+00</td>\n",
              "      <td>4.900058e+01</td>\n",
              "      <td>-6.711317e+01</td>\n",
              "      <td>4.907500e+01</td>\n",
              "      <td>-6.710924e+01</td>\n",
              "      <td>2.497477e+02</td>\n",
              "      <td>9.999997e+06</td>\n",
              "      <td>9.111111e+01</td>\n",
              "      <td>9.111111e+01</td>\n",
              "      <td>1.000000e+02</td>\n",
              "      <td>5.890000e+01</td>\n",
              "      <td>2.253082e+02</td>\n",
              "      <td>1.749357e+03</td>\n",
              "      <td>5.880000e+02</td>\n",
              "    </tr>\n",
              "  </tbody>\n",
              "</table>\n",
              "</div>\n",
              "      <button class=\"colab-df-convert\" onclick=\"convertToInteractive('df-65a252c9-f3d5-482f-8aa4-d3ea90249ba8')\"\n",
              "              title=\"Convert this dataframe to an interactive table.\"\n",
              "              style=\"display:none;\">\n",
              "        \n",
              "  <svg xmlns=\"http://www.w3.org/2000/svg\" height=\"24px\"viewBox=\"0 0 24 24\"\n",
              "       width=\"24px\">\n",
              "    <path d=\"M0 0h24v24H0V0z\" fill=\"none\"/>\n",
              "    <path d=\"M18.56 5.44l.94 2.06.94-2.06 2.06-.94-2.06-.94-.94-2.06-.94 2.06-2.06.94zm-11 1L8.5 8.5l.94-2.06 2.06-.94-2.06-.94L8.5 2.5l-.94 2.06-2.06.94zm10 10l.94 2.06.94-2.06 2.06-.94-2.06-.94-.94-2.06-.94 2.06-2.06.94z\"/><path d=\"M17.41 7.96l-1.37-1.37c-.4-.4-.92-.59-1.43-.59-.52 0-1.04.2-1.43.59L10.3 9.45l-7.72 7.72c-.78.78-.78 2.05 0 2.83L4 21.41c.39.39.9.59 1.41.59.51 0 1.02-.2 1.41-.59l7.78-7.78 2.81-2.81c.8-.78.8-2.07 0-2.86zM5.41 20L4 18.59l7.72-7.72 1.47 1.35L5.41 20z\"/>\n",
              "  </svg>\n",
              "      </button>\n",
              "      \n",
              "  <style>\n",
              "    .colab-df-container {\n",
              "      display:flex;\n",
              "      flex-wrap:wrap;\n",
              "      gap: 12px;\n",
              "    }\n",
              "\n",
              "    .colab-df-convert {\n",
              "      background-color: #E8F0FE;\n",
              "      border: none;\n",
              "      border-radius: 50%;\n",
              "      cursor: pointer;\n",
              "      display: none;\n",
              "      fill: #1967D2;\n",
              "      height: 32px;\n",
              "      padding: 0 0 0 0;\n",
              "      width: 32px;\n",
              "    }\n",
              "\n",
              "    .colab-df-convert:hover {\n",
              "      background-color: #E2EBFA;\n",
              "      box-shadow: 0px 1px 2px rgba(60, 64, 67, 0.3), 0px 1px 3px 1px rgba(60, 64, 67, 0.15);\n",
              "      fill: #174EA6;\n",
              "    }\n",
              "\n",
              "    [theme=dark] .colab-df-convert {\n",
              "      background-color: #3B4455;\n",
              "      fill: #D2E3FC;\n",
              "    }\n",
              "\n",
              "    [theme=dark] .colab-df-convert:hover {\n",
              "      background-color: #434B5C;\n",
              "      box-shadow: 0px 1px 3px 1px rgba(0, 0, 0, 0.15);\n",
              "      filter: drop-shadow(0px 1px 2px rgba(0, 0, 0, 0.3));\n",
              "      fill: #FFFFFF;\n",
              "    }\n",
              "  </style>\n",
              "\n",
              "      <script>\n",
              "        const buttonEl =\n",
              "          document.querySelector('#df-65a252c9-f3d5-482f-8aa4-d3ea90249ba8 button.colab-df-convert');\n",
              "        buttonEl.style.display =\n",
              "          google.colab.kernel.accessAllowed ? 'block' : 'none';\n",
              "\n",
              "        async function convertToInteractive(key) {\n",
              "          const element = document.querySelector('#df-65a252c9-f3d5-482f-8aa4-d3ea90249ba8');\n",
              "          const dataTable =\n",
              "            await google.colab.kernel.invokeFunction('convertToInteractive',\n",
              "                                                     [key], {});\n",
              "          if (!dataTable) return;\n",
              "\n",
              "          const docLinkHtml = 'Like what you see? Visit the ' +\n",
              "            '<a target=\"_blank\" href=https://colab.research.google.com/notebooks/data_table.ipynb>data table notebook</a>'\n",
              "            + ' to learn more about interactive tables.';\n",
              "          element.innerHTML = '';\n",
              "          dataTable['output_type'] = 'display_data';\n",
              "          await google.colab.output.renderOutput(dataTable, element);\n",
              "          const docLink = document.createElement('div');\n",
              "          docLink.innerHTML = docLinkHtml;\n",
              "          element.appendChild(docLink);\n",
              "        }\n",
              "      </script>\n",
              "    </div>\n",
              "  </div>\n",
              "  "
            ]
          },
          "metadata": {},
          "execution_count": 252
        }
      ]
    },
    {
      "cell_type": "markdown",
      "source": [
        "Certaines données ne sont pas forcément utiles, mais nous permet d'avoir une vue globale de certaines données. On peut par exemple évoquer le fait qu'étant donné les températures maximales et minimales (et ayant vérifié les données et la conversion), il est possible que les données de températures entrées ne sont pas tout le temps cohérentes."
      ],
      "metadata": {
        "id": "vZ7sZnhuyj_h"
      }
    },
    {
      "cell_type": "code",
      "source": [
        "colonnes = dataframe.columns\n",
        "valeurs_manquantes = np.array(dataframe.isnull().sum(axis=0).tolist())\n",
        "fig,ax = plt.subplots(figsize=(20,12))\n",
        "plt.xticks(rotation = 'vertical')\n",
        "plt.title(\"Nombre de données manquantes\")\n",
        "plt.bar(colonnes, valeurs_manquantes)"
      ],
      "metadata": {
        "colab": {
          "base_uri": "https://localhost:8080/",
          "height": 832
        },
        "id": "VqgmTR2p3y8e",
        "outputId": "b5d0eb2b-7d61-4f33-cce9-cb58450bfc27"
      },
      "execution_count": null,
      "outputs": [
        {
          "output_type": "execute_result",
          "data": {
            "text/plain": [
              "<BarContainer object of 47 artists>"
            ]
          },
          "metadata": {},
          "execution_count": 253
        },
        {
          "output_type": "display_data",
          "data": {
            "text/plain": [
              "<Figure size 1440x864 with 1 Axes>"
            ],
            "image/png": "[encoded data removed]"
          },
          "metadata": {
            "needs_background": "light"
          }
        }
      ]
    },
    {
      "cell_type": "markdown",
      "source": [
        "Il est très important de reporter les données manquantes, afin de ne pas faire de mauvaise interprétation des résultats. En effet, si on a, par exemple, 80% des lignes de sévérité 1, et qu'il n'y a que 80% des sévérités enseignées, cela veut dire que 100% des données renseignées sont des accidents de sévérité 1.\n",
        "\n",
        "Ici, on voit que de nombreux indicateurs n'ont pas de donnée manquante, ce qui est très intéressant."
      ],
      "metadata": {
        "id": "eJnUfj9i6rSs"
      }
    },
    {
      "cell_type": "code",
      "source": [
        "valeurs_manquantes_non_nulles = valeurs_manquantes[valeurs_manquantes != 0]\n",
        "indices_valeurs_manquantes_non_nulles = colonnes[valeurs_manquantes != 0]\n",
        "print(\"Valeurs manquantes : \", valeurs_manquantes_non_nulles)\n",
        "print(\"Indices associés : \", indices_valeurs_manquantes_non_nulles)"
      ],
      "metadata": {
        "colab": {
          "base_uri": "https://localhost:8080/"
        },
        "id": "vvU1OOMQ7d1L",
        "outputId": "df9592de-9975-4a87-afc8-e6de863bb454"
      },
      "execution_count": null,
      "outputs": [
        {
          "output_type": "stream",
          "name": "stdout",
          "text": [
            "Valeurs manquantes :  [1743911       2     137    1319    3659    9549   50736   69274  469643\n",
            "   73092   59200   70546   73775  157944  549458   70636    2867    2867\n",
            "    2867    2867]\n",
            "Indices associés :  Index(['Number', 'Street', 'City', 'Zipcode', 'Timezone', 'Airport_Code',\n",
            "       'Weather_Timestamp', 'Temperature(C)', 'Wind_Chill(C)', 'Humidity(%)',\n",
            "       'Pressure(in)', 'Visibility(km)', 'Wind_Direction', 'Wind_Speed(kmh)',\n",
            "       'Precipitation(mm)', 'Weather_Condition', 'Sunrise_Sunset',\n",
            "       'Civil_Twilight', 'Nautical_Twilight', 'Astronomical_Twilight'],\n",
            "      dtype='object')\n"
          ]
        }
      ]
    },
    {
      "cell_type": "code",
      "source": [
        "fig,ax = plt.subplots(figsize=(20,12))\n",
        "plt.xticks(rotation = 'vertical')\n",
        "plt.title(\"Nombre de données manquantes\")\n",
        "plt.bar(indices_valeurs_manquantes_non_nulles, valeurs_manquantes_non_nulles)"
      ],
      "metadata": {
        "colab": {
          "base_uri": "https://localhost:8080/",
          "height": 832
        },
        "id": "he3YGiySASa7",
        "outputId": "1f1ef5e7-2daf-4907-c796-0467f582e942"
      },
      "execution_count": null,
      "outputs": [
        {
          "output_type": "execute_result",
          "data": {
            "text/plain": [
              "<BarContainer object of 20 artists>"
            ]
          },
          "metadata": {},
          "execution_count": 255
        },
        {
          "output_type": "display_data",
          "data": {
            "text/plain": [
              "<Figure size 1440x864 with 1 Axes>"
            ],
            "image/png": "[encoded data removed]"
          },
          "metadata": {
            "needs_background": "light"
          }
        }
      ]
    },
    {
      "cell_type": "code",
      "source": [
        "print(len(valeurs_manquantes_non_nulles), \" indices avec des valeurs manquantes.\")"
      ],
      "metadata": {
        "colab": {
          "base_uri": "https://localhost:8080/"
        },
        "id": "8uN_L2UcAl2Y",
        "outputId": "d7dd6b4c-c3be-4bba-db50-698838528ba4"
      },
      "execution_count": null,
      "outputs": [
        {
          "output_type": "stream",
          "name": "stdout",
          "text": [
            "20  indices avec des valeurs manquantes.\n"
          ]
        }
      ]
    },
    {
      "cell_type": "markdown",
      "source": [
        "On voit qu'il y a 20 indices avec des valeurs manquantes, donc moins de la moitié des indices totaux.\n",
        "\n",
        "Il faut maintenant regarder les indices où il y a le plus de données manquantes, et voir si cela aura un impact important sur notre travail.\n",
        "\n",
        "L'indice \"Number\", c'est à dire le nombre de la rue, ne sera pas important ici, car nous ne chercherons pas à faire des interprétations par rapport au numéro de la rue.\n",
        "\n",
        "L'indice \"Precipitation\" est lui important dans notre étude, car les précipitations peuvent avoir un impact sur les accidents. Il faudra donc mettre en relief les données renseignées par rapport au nombre de données renseignées, et non par rapport au nombre de données total.\n",
        "\n",
        "L'indice \"Wind_Chill\" n'est pas utile pour notre analyse.\n",
        "\n",
        "Les autres indices ont un nombre de données manquantes faible et donc très peu significatives sur le nombre de données totales. Cependant, nous calculerons deux indices : le poucentage par rapport au nombre total de données, et le pourcentage par rapport au nombre de données renseignées."
      ],
      "metadata": {
        "id": "knDQNqwOAjPY"
      }
    },
    {
      "cell_type": "markdown",
      "source": [
        "## Répartition de la sévérité"
      ],
      "metadata": {
        "id": "NhV7jKQ1A0gz"
      }
    },
    {
      "cell_type": "code",
      "source": [
        "minimum_severite = dataframe[\"Severity\"].min()\n",
        "maximum_severite = dataframe[\"Severity\"].max()\n",
        "print(\"Les niveaux de sévérité de l'accident vont de \", minimum_severite, \" à \", maximum_severite)"
      ],
      "metadata": {
        "colab": {
          "base_uri": "https://localhost:8080/"
        },
        "id": "rNrXYI1IpXsy",
        "outputId": "49899a13-1a2a-4292-eddf-5cc9885faa76"
      },
      "execution_count": null,
      "outputs": [
        {
          "output_type": "stream",
          "name": "stdout",
          "text": [
            "Les niveaux de sévérité de l'accident vont de  1  à  4\n"
          ]
        }
      ]
    },
    {
      "cell_type": "code",
      "source": [
        "compteur_valeurs_severite = dataframe[\"Severity\"].value_counts()\n",
        "fig = plt.figure()\n",
        "ax = fig.add_axes([0,0,1,1])\n",
        "intitules = []\n",
        "donnees = []\n",
        "for i in range(minimum_severite, maximum_severite + 1):\n",
        "  intitules.append(str(i))\n",
        "  donnees.append(compteur_valeurs_severite[i])\n",
        "  ax.set_title('Répartition des données en fonction de la sévérité')\n",
        "ax.bar(intitules,donnees)\n",
        "plt.show()"
      ],
      "metadata": {
        "colab": {
          "base_uri": "https://localhost:8080/",
          "height": 352
        },
        "id": "wD7KUae8DSSD",
        "outputId": "7156a050-3570-4706-9b00-fa08e648252b"
      },
      "execution_count": null,
      "outputs": [
        {
          "output_type": "display_data",
          "data": {
            "text/plain": [
              "<Figure size 432x288 with 1 Axes>"
            ],
            "image/png": "[encoded data removed]"
          },
          "metadata": {
            "needs_background": "light"
          }
        }
      ]
    },
    {
      "cell_type": "markdown",
      "source": [
        "On remarque que les données ne sont vraiment pas réparties uniformément, et il y a beaucoup plus de données de sévérité 2, quand les autres sévérités sont globalement dans le même ordre de grandeur."
      ],
      "metadata": {
        "id": "YAi4YiBaDiFx"
      }
    },
    {
      "cell_type": "markdown",
      "source": [
        "## Accidents par état"
      ],
      "metadata": {
        "id": "oEBOkMV1zHpP"
      }
    },
    {
      "cell_type": "code",
      "source": [
        "etats = dataframe[\"State\"].unique()\n",
        "nombre_accidents_par_etat = []\n",
        "for etat in etats:\n",
        "    nombre_accidents_par_etat.append(dataframe[dataframe['State']== etat].count()['State'])\n",
        "fig,ax = plt.subplots(figsize=(20,12))\n",
        "plt.bar(etats, nombre_accidents_par_etat)"
      ],
      "metadata": {
        "colab": {
          "base_uri": "https://localhost:8080/",
          "height": 718
        },
        "id": "CraBrFbZzFfj",
        "outputId": "67e7ccd4-2196-40ab-db60-90cda50759e5"
      },
      "execution_count": null,
      "outputs": [
        {
          "output_type": "execute_result",
          "data": {
            "text/plain": [
              "<BarContainer object of 49 artists>"
            ]
          },
          "metadata": {},
          "execution_count": 259
        },
        {
          "output_type": "display_data",
          "data": {
            "text/plain": [
              "<Figure size 1440x864 with 1 Axes>"
            ],
            "image/png": "[encoded data removed]"
          },
          "metadata": {
            "needs_background": "light"
          }
        }
      ]
    },
    {
      "cell_type": "markdown",
      "source": [
        "On remarque que la grande majorité des accidents ont lieu en Californie. Le deuxième plus grand nombre d'accident est la Floride, mais avec près de 2 fois moins d'accidents. Les données suivantes sont très éloignées, avec plus de 3 fois moins d'accidents que la Floride. On remarque [ici](https://fr.countryeconomy.com/demographie/population/etats-unis-etats) que la Californie est l'Etat des USA avec le plus grand nombre d'habitants, avec environ 40M et 10M de plus que le second état, le Texas, ce qui peut expliquer ce nombre d'accidents beaucoup plus élevé.\n",
        "Le second état, le Texas, est le troisième état avec le plus d'accidents reportés, avec 3 fois moins que la Floride, alors que le Texas a 8M d'habitants de plus que la Floride."
      ],
      "metadata": {
        "id": "cp3L9i1T1TtM"
      }
    },
    {
      "cell_type": "markdown",
      "source": [
        "## Détermination du minimum et du maximum de la distance de l'accident"
      ],
      "metadata": {
        "id": "1emUJ3vnHPLf"
      }
    },
    {
      "cell_type": "code",
      "source": [
        "minimum_distance = dataframe[\"Distance(km)\"].min()\n",
        "maximum_distance = dataframe[\"Distance(km)\"].max()\n",
        "print(\"Les distances de l'accident vont de \", minimum_distance, \" à \", maximum_distance, \"kilomètres\")"
      ],
      "metadata": {
        "colab": {
          "base_uri": "https://localhost:8080/"
        },
        "id": "6t07oUpeHn5N",
        "outputId": "070db180-9988-4046-977b-455635f6a8cf"
      },
      "execution_count": null,
      "outputs": [
        {
          "output_type": "stream",
          "name": "stdout",
          "text": [
            "Les distances de l'accident vont de  0.0  à  249.74765798400003 kilomètres\n"
          ]
        }
      ]
    },
    {
      "cell_type": "code",
      "source": [
        "def repartition_donnees_distance(data, min, max):\n",
        "  nombre_partitions = 10\n",
        "  facteur_additif = round((min + max) / nombre_partitions, 2)\n",
        "  pas_fini = True\n",
        "  borne_min = min\n",
        "  borne_max = borne_min\n",
        "  legende = []\n",
        "  valeurs = []\n",
        "  while pas_fini:\n",
        "    borne_max += facteur_additif\n",
        "    dataframe_bis = dataframe[dataframe['Distance(km)'] < borne_max]\n",
        "    dataframe_bis = dataframe_bis[dataframe_bis['Distance(km)'] >= borne_min]\n",
        "    valeurs.append(dataframe_bis.count()[0])\n",
        "    legende.append(str(borne_min) + \"<=Dist.<\" + str(borne_max))\n",
        "    borne_min += facteur_additif\n",
        "    pas_fini = borne_max <= max\n",
        "  fig,ax = plt.subplots(figsize=(20,12))\n",
        "  plt.xticks(rotation = 'vertical')\n",
        "  plt.title(\"Nombre de données par distance\")\n",
        "  plt.bar(legende, valeurs)"
      ],
      "metadata": {
        "id": "jv5ou4Rad0Ud"
      },
      "execution_count": null,
      "outputs": []
    },
    {
      "cell_type": "code",
      "source": [
        "repartition_donnees_distance(np.array(dataframe[\"Distance(km)\"]), float(minimum_distance), float(maximum_distance))"
      ],
      "metadata": {
        "colab": {
          "base_uri": "https://localhost:8080/",
          "height": 894
        },
        "id": "454eiYROfh6Z",
        "outputId": "0596a482-9735-4189-c421-6c33e8e0b529"
      },
      "execution_count": null,
      "outputs": [
        {
          "output_type": "display_data",
          "data": {
            "text/plain": [
              "<Figure size 1440x864 with 1 Axes>"
            ],
            "image/png": "[encoded data removed]"
          },
          "metadata": {
            "needs_background": "light"
          }
        }
      ]
    },
    {
      "cell_type": "markdown",
      "source": [
        "On voit que, pour 10 partitions, les données de distance ne sont pas du tout reparties équitablement. "
      ],
      "metadata": {
        "id": "F1tKjejzl2Ym"
      }
    },
    {
      "cell_type": "code",
      "source": [
        "valeurs_inferieures_a_2497 = dataframe[dataframe['Distance(km)'] < 24.97].count()[0]\n",
        "print(valeurs_inferieures_a_2497, \" accidents qui ont impacté moins de 24.92 km (première borne du graphe pour 10 partitions)\")\n",
        "valeurs_superieures_a_2497 = dataframe[dataframe['Distance(km)'] >= 24.97].count()[0]\n",
        "print(valeurs_superieures_a_2497, \" accidents qui ont impacté au moins 24.92 km (première borne du graphe pour 10 partitions)\")"
      ],
      "metadata": {
        "colab": {
          "base_uri": "https://localhost:8080/"
        },
        "id": "1R0FKp4amEtc",
        "outputId": "0f72dee1-b637-473c-d8f8-ec7dd5409cf9"
      },
      "execution_count": null,
      "outputs": [
        {
          "output_type": "stream",
          "name": "stdout",
          "text": [
            "2842516  accidents qui ont impacté moins de 24.92 km (première borne du graphe pour 10 partitions)\n",
            "2826  accidents qui ont impacté au moins 24.92 km (première borne du graphe pour 10 partitions)\n"
          ]
        }
      ]
    },
    {
      "cell_type": "code",
      "source": [
        "fig,ax = plt.subplots(figsize=(20,12))\n",
        "plt.xticks(rotation = 'vertical')\n",
        "plt.title(\"Nombre de données par distance\")\n",
        "plt.bar([\"Dist < 24.97km\", \"Dist >= 24.97km\"], [valeurs_inferieures_a_2497, valeurs_superieures_a_2497])"
      ],
      "metadata": {
        "colab": {
          "base_uri": "https://localhost:8080/",
          "height": 811
        },
        "id": "JFaP2vMjoEH4",
        "outputId": "0a907ff4-af41-468c-8fd5-3ff8a23ae732"
      },
      "execution_count": null,
      "outputs": [
        {
          "output_type": "execute_result",
          "data": {
            "text/plain": [
              "<BarContainer object of 2 artists>"
            ]
          },
          "metadata": {},
          "execution_count": 264
        },
        {
          "output_type": "display_data",
          "data": {
            "text/plain": [
              "<Figure size 1440x864 with 1 Axes>"
            ],
            "image/png": "[encoded data removed]"
          },
          "metadata": {
            "needs_background": "light"
          }
        }
      ]
    },
    {
      "cell_type": "markdown",
      "source": [
        "On voit que 2.8M de données ont impacté moins de 24.92km, quand 2826 seulement ont impacté entre 24.92 et 250 km."
      ],
      "metadata": {
        "id": "f7FGwrJHm1DR"
      }
    },
    {
      "cell_type": "code",
      "source": [
        "valeurs_inferieures_a_1 = dataframe[dataframe['Distance(km)'] < 1].count()[0]\n",
        "print(valeurs_inferieures_a_1, \" accidents qui ont impacté moins de 1 km\")\n",
        "valeurs_superieures_a_1 = dataframe[dataframe['Distance(km)'] >= 1].count()[0]\n",
        "print(valeurs_superieures_a_1, \" accidents qui ont impacté au moins 1 km\")"
      ],
      "metadata": {
        "colab": {
          "base_uri": "https://localhost:8080/"
        },
        "id": "QI7-eazzmzMP",
        "outputId": "24674029-d57f-4754-f942-4b925c3fe729"
      },
      "execution_count": null,
      "outputs": [
        {
          "output_type": "stream",
          "name": "stdout",
          "text": [
            "2003262  accidents qui ont impacté moins de 1 km\n",
            "842080  accidents qui ont impacté au moins 1 km\n"
          ]
        }
      ]
    },
    {
      "cell_type": "code",
      "source": [
        "fig,ax = plt.subplots(figsize=(20,12))\n",
        "plt.xticks(rotation = 'vertical')\n",
        "plt.title(\"Nombre de données par distance\")\n",
        "plt.bar([\"Dist < 1km\", \"Dist >= 1km\"], [valeurs_inferieures_a_1, valeurs_superieures_a_1])"
      ],
      "metadata": {
        "colab": {
          "base_uri": "https://localhost:8080/",
          "height": 789
        },
        "id": "cwJ1dfqdorSt",
        "outputId": "6cc10cb7-382c-4362-d90e-2693f632e603"
      },
      "execution_count": null,
      "outputs": [
        {
          "output_type": "execute_result",
          "data": {
            "text/plain": [
              "<BarContainer object of 2 artists>"
            ]
          },
          "metadata": {},
          "execution_count": 266
        },
        {
          "output_type": "display_data",
          "data": {
            "text/plain": [
              "<Figure size 1440x864 with 1 Axes>"
            ],
            "image/png": "[encoded data removed]"
          },
          "metadata": {
            "needs_background": "light"
          }
        }
      ]
    },
    {
      "cell_type": "markdown",
      "source": [
        "On a ainsi plus de 2M d'accidents qui ont impacté moins d'un km, quand plus de 840k ont impacté plus d'un km.\n",
        "\n",
        "On voit qu'il y a une grande variabilité des données relatives à la distance. Cela semble logique, car beaucoup d'accidents impactent des petites distances, quand une minorité impacte des plus grosses distances."
      ],
      "metadata": {
        "id": "KjdT184WnS0F"
      }
    },
    {
      "cell_type": "markdown",
      "source": [
        "## Perturbateurs de conduite liés à la route [PCR]"
      ],
      "metadata": {
        "id": "uie9WSdXK_wy"
      }
    },
    {
      "cell_type": "markdown",
      "source": [
        "Ici, on va identifier le pourcentage des accidents ayant lieu à proximité de ce que l'on va appeler les Perturbateurs de Conduite liés à la Route (intersections, ronds-points, etc). On les nommera donc PCR par la suite.\n",
        "\n",
        "On va donc utiliser ces indices, renseignés dans nos données sous la forme de booléens :\n",
        "*   **Bump**,\n",
        "*   **Crossing**,\n",
        "*   **Give_Way**,\n",
        "*   **Junction**,\n",
        "*   **No_Exit**,\n",
        "*   **Railway**,\n",
        "*   **Roundabout**,\n",
        "*   **Station**,\n",
        "*   **Stop**,\n",
        "*   **Traffic_Calming**,\n",
        "*   **Traffic_Signal**,\n",
        "*   **Turning_Loop**."
      ],
      "metadata": {
        "id": "Tqd6JJ1zG9nb"
      }
    },
    {
      "cell_type": "code",
      "source": [
        "def valeurTrue(compteur):\n",
        "  res = 1\n",
        "  if compteur.index[0]:\n",
        "    res = 0\n",
        "  return res"
      ],
      "metadata": {
        "id": "K5GZYWjZDYFF"
      },
      "execution_count": null,
      "outputs": []
    },
    {
      "cell_type": "code",
      "source": [
        "marqueurs = [\"Bump\", \"Crossing\", \"Give_Way\", \"Junction\", \"No_Exit\", \"Railway\", \"Roundabout\", \"Station\", \"Stop\", \"Traffic_Calming\", \"Traffic_Signal\", \"Turning_Loop\"]\n",
        "max_accidents = 0\n",
        "categorie_accidents = \"\"\n",
        "max_pourcentage = 0\n",
        "nombre_total_accidents_pcr = 0\n",
        "for marqueur in marqueurs:\n",
        "  compteur_valeurs_severite = dataframe[marqueur].value_counts()\n",
        "  compteur_valeurs_severite = compteur_valeurs_severite.to_frame()\n",
        "  fig = plt.figure()\n",
        "  ax = compteur_valeurs_severite.plot.bar(rot=0)\n",
        "  plt.show()\n",
        "\n",
        "  # Cas où il n'y a pas de True dans les enregistrements\n",
        "  if (len(compteur_valeurs_severite[marqueur])>1):\n",
        "    nb_accidents = compteur_valeurs_severite[marqueur][valeurTrue(compteur_valeurs_severite)]\n",
        "    pourcentage = nb_accidents/nombre_de_donnees*100\n",
        "    print(nb_accidents, \" accidents se sont déroulés près d'un \",marqueur)\n",
        "    print(\"Soit \", pourcentage, \"% des enregistrements\")\n",
        "    nombre_total_accidents_pcr += nb_accidents\n",
        "    if (nb_accidents > max_accidents):\n",
        "      max_accidents = nb_accidents\n",
        "      categorie_accidents = marqueur\n",
        "      max_pourcentage = pourcentage\n",
        "  else:\n",
        "    print(\"Aucun accident ne s'est déroulé près d'un \",marqueur)"
      ],
      "metadata": {
        "colab": {
          "base_uri": "https://localhost:8080/",
          "height": 1000
        },
        "id": "nc0RkRTg21Mc",
        "outputId": "1654fcbf-9fe2-4329-ab9c-290ebe103ae3"
      },
      "execution_count": null,
      "outputs": [
        {
          "output_type": "display_data",
          "data": {
            "text/plain": [
              "<Figure size 432x288 with 0 Axes>"
            ]
          },
          "metadata": {}
        },
        {
          "output_type": "display_data",
          "data": {
            "text/plain": [
              "<Figure size 432x288 with 1 Axes>"
            ],
            "image/png": "[encoded data removed]"
          },
          "metadata": {
            "needs_background": "light"
          }
        },
        {
          "output_type": "stream",
          "name": "stdout",
          "text": [
            "1021  accidents se sont déroulés près d'un  Bump\n",
            "Soit  0.035883208415719445 % des enregistrements\n"
          ]
        },
        {
          "output_type": "display_data",
          "data": {
            "text/plain": [
              "<Figure size 432x288 with 0 Axes>"
            ]
          },
          "metadata": {}
        },
        {
          "output_type": "display_data",
          "data": {
            "text/plain": [
              "<Figure size 432x288 with 1 Axes>"
            ],
            "image/png": "[encoded data removed]"
          },
          "metadata": {
            "needs_background": "light"
          }
        },
        {
          "output_type": "stream",
          "name": "stdout",
          "text": [
            "200212  accidents se sont déroulés près d'un  Crossing\n",
            "Soit  7.03648278484625 % des enregistrements\n"
          ]
        },
        {
          "output_type": "display_data",
          "data": {
            "text/plain": [
              "<Figure size 432x288 with 0 Axes>"
            ]
          },
          "metadata": {}
        },
        {
          "output_type": "display_data",
          "data": {
            "text/plain": [
              "<Figure size 432x288 with 1 Axes>"
            ],
            "image/png": "[encoded data removed]"
          },
          "metadata": {
            "needs_background": "light"
          }
        },
        {
          "output_type": "stream",
          "name": "stdout",
          "text": [
            "6868  accidents se sont déroulés près d'un  Give_Way\n",
            "Soit  0.24137695925481015 % des enregistrements\n"
          ]
        },
        {
          "output_type": "display_data",
          "data": {
            "text/plain": [
              "<Figure size 432x288 with 0 Axes>"
            ]
          },
          "metadata": {}
        },
        {
          "output_type": "display_data",
          "data": {
            "text/plain": [
              "<Figure size 432x288 with 1 Axes>"
            ],
            "image/png": "[encoded data removed]"
          },
          "metadata": {
            "needs_background": "light"
          }
        },
        {
          "output_type": "stream",
          "name": "stdout",
          "text": [
            "290505  accidents se sont déroulés près d'un  Junction\n",
            "Soit  10.209844721653846 % des enregistrements\n"
          ]
        },
        {
          "output_type": "display_data",
          "data": {
            "text/plain": [
              "<Figure size 432x288 with 0 Axes>"
            ]
          },
          "metadata": {}
        },
        {
          "output_type": "display_data",
          "data": {
            "text/plain": [
              "<Figure size 432x288 with 1 Axes>"
            ],
            "image/png": "[encoded data removed]"
          },
          "metadata": {
            "needs_background": "light"
          }
        },
        {
          "output_type": "stream",
          "name": "stdout",
          "text": [
            "4294  accidents se sont déroulés près d'un  No_Exit\n",
            "Soit  0.1509133172743382 % des enregistrements\n"
          ]
        },
        {
          "output_type": "display_data",
          "data": {
            "text/plain": [
              "<Figure size 432x288 with 0 Axes>"
            ]
          },
          "metadata": {}
        },
        {
          "output_type": "display_data",
          "data": {
            "text/plain": [
              "<Figure size 432x288 with 1 Axes>"
            ],
            "image/png": "[encoded data removed]"
          },
          "metadata": {
            "needs_background": "light"
          }
        },
        {
          "output_type": "stream",
          "name": "stdout",
          "text": [
            "22631  accidents se sont déroulés près d'un  Railway\n",
            "Soit  0.7953701171950507 % des enregistrements\n"
          ]
        },
        {
          "output_type": "display_data",
          "data": {
            "text/plain": [
              "<Figure size 432x288 with 0 Axes>"
            ]
          },
          "metadata": {}
        },
        {
          "output_type": "display_data",
          "data": {
            "text/plain": [
              "<Figure size 432x288 with 1 Axes>"
            ],
            "image/png": "[encoded data removed]"
          },
          "metadata": {
            "needs_background": "light"
          }
        },
        {
          "output_type": "stream",
          "name": "stdout",
          "text": [
            "123  accidents se sont déroulés près d'un  Roundabout\n",
            "Soit  0.004322854686712529 % des enregistrements\n"
          ]
        },
        {
          "output_type": "display_data",
          "data": {
            "text/plain": [
              "<Figure size 432x288 with 0 Axes>"
            ]
          },
          "metadata": {}
        },
        {
          "output_type": "display_data",
          "data": {
            "text/plain": [
              "<Figure size 432x288 with 1 Axes>"
            ],
            "image/png": "[encoded data removed]"
          },
          "metadata": {
            "needs_background": "light"
          }
        },
        {
          "output_type": "stream",
          "name": "stdout",
          "text": [
            "67995  accidents se sont déroulés près d'un  Station\n",
            "Soit  2.3896951579107184 % des enregistrements\n"
          ]
        },
        {
          "output_type": "display_data",
          "data": {
            "text/plain": [
              "<Figure size 432x288 with 0 Axes>"
            ]
          },
          "metadata": {}
        },
        {
          "output_type": "display_data",
          "data": {
            "text/plain": [
              "<Figure size 432x288 with 1 Axes>"
            ],
            "image/png": "[encoded data removed]"
          },
          "metadata": {
            "needs_background": "light"
          }
        },
        {
          "output_type": "stream",
          "name": "stdout",
          "text": [
            "50400  accidents se sont déroulés près d'un  Stop\n",
            "Soit  1.7713160667504995 % des enregistrements\n"
          ]
        },
        {
          "output_type": "display_data",
          "data": {
            "text/plain": [
              "<Figure size 432x288 with 0 Axes>"
            ]
          },
          "metadata": {}
        },
        {
          "output_type": "display_data",
          "data": {
            "text/plain": [
              "<Figure size 432x288 with 1 Axes>"
            ],
            "image/png": "[encoded data removed]"
          },
          "metadata": {
            "needs_background": "light"
          }
        },
        {
          "output_type": "stream",
          "name": "stdout",
          "text": [
            "1712  accidents se sont déroulés près d'un  Traffic_Calming\n",
            "Soit  0.060168514013429666 % des enregistrements\n"
          ]
        },
        {
          "output_type": "display_data",
          "data": {
            "text/plain": [
              "<Figure size 432x288 with 0 Axes>"
            ]
          },
          "metadata": {}
        },
        {
          "output_type": "display_data",
          "data": {
            "text/plain": [
              "<Figure size 432x288 with 1 Axes>"
            ],
            "image/png": "[encoded data removed]"
          },
          "metadata": {
            "needs_background": "light"
          }
        },
        {
          "output_type": "stream",
          "name": "stdout",
          "text": [
            "265263  accidents se sont déroulés près d'un  Traffic_Signal\n",
            "Soit  9.322710591556305 % des enregistrements\n"
          ]
        },
        {
          "output_type": "display_data",
          "data": {
            "text/plain": [
              "<Figure size 432x288 with 0 Axes>"
            ]
          },
          "metadata": {}
        },
        {
          "output_type": "display_data",
          "data": {
            "text/plain": [
              "<Figure size 432x288 with 1 Axes>"
            ],
            "image/png": "[encoded data removed]"
          },
          "metadata": {
            "needs_background": "light"
          }
        },
        {
          "output_type": "stream",
          "name": "stdout",
          "text": [
            "Aucun accident ne s'est déroulé près d'un  Turning_Loop\n"
          ]
        }
      ]
    },
    {
      "cell_type": "code",
      "source": [
        "print(\"Les accidents avec un PCR sont majoritairement situés proches d'un \", categorie_accidents , \" avec \", max_accidents , \" enregistrements, soit \", max_pourcentage, \"%\")"
      ],
      "metadata": {
        "colab": {
          "base_uri": "https://localhost:8080/"
        },
        "id": "5Y3XWpglLJmf",
        "outputId": "42e6c98d-5cae-49c5-bec1-7e09e18ac77b"
      },
      "execution_count": null,
      "outputs": [
        {
          "output_type": "stream",
          "name": "stdout",
          "text": [
            "Les accidents avec un PCR sont majoritairement situés proches d'un  Junction  avec  290505  enregistrements, soit  10.209844721653846 %\n"
          ]
        }
      ]
    },
    {
      "cell_type": "markdown",
      "source": [
        "On voit que la plupart des accidents avec un PCR à proximité sont liés à la présence d'un carrefour.\n",
        "\n",
        "Supposons maintenant que chaque accidents pour avoir au maximum un seul PCR à proximité. Cette supposition, bien que pas forcément vraie, nous permettra d'avoir un premier aperçu de la proportion. En effet, avec un simple dataframe, la détermination précise du nombre d'accidents avec au moins un perturbateur aurai pris beaucoup de temps. Nous ferons ce calcul dans les chapitres suivants, avec des outils plus à même de faire ces requêtes.\n",
        "\n",
        "On va donc déterminer la proportion des accidents avec un PCR à proximité, grâce à la somme de tous les True parcourus précédemment. "
      ],
      "metadata": {
        "id": "D8phFN0SMwYD"
      }
    },
    {
      "cell_type": "code",
      "source": [
        "pourcentage_total_accidents_pcr = nombre_total_accidents_pcr/nombre_de_donnees*100\n",
        "print(nombre_total_accidents_pcr, \" accidents se sont déroulés avec un PCR à proximité, soit \",  pourcentage_total_accidents_pcr, \"%\")"
      ],
      "metadata": {
        "colab": {
          "base_uri": "https://localhost:8080/"
        },
        "id": "bR-dmXm1PLNE",
        "outputId": "d14fb848-d2e1-4869-d92b-cfb0e9b3b789"
      },
      "execution_count": null,
      "outputs": [
        {
          "output_type": "stream",
          "name": "stdout",
          "text": [
            "911024  accidents se sont déroulés avec un PCR à proximité, soit  32.01808429355768 %\n"
          ]
        }
      ]
    },
    {
      "cell_type": "markdown",
      "source": [
        "On voit que plus de 32% des accidents se sont déroulés près d'un PCR, soit près d'1/3 des observations. Ce chiffre, bien qu'élevé, montre que ce n'est pas la majorité des accidents qui sont concernés par cet indicateur. "
      ],
      "metadata": {
        "id": "5wwm5pm3QiKV"
      }
    },
    {
      "cell_type": "markdown",
      "source": [
        "## Perturbateurs de conduite liés aux conditions climatiques [PCC]"
      ],
      "metadata": {
        "id": "EXbeF8k5RecN"
      }
    },
    {
      "cell_type": "markdown",
      "source": [
        "On va à présent recenser les Perturbateurs de Conduite liés aux conditions Climatiques (PCC). Pour cela, on utilisera les indices suivants :\n",
        "\n",
        "* **Visibility(km)**\n",
        "* **Wind_Speed(kmh)**\n",
        "* **Precipitation(mm)** \n",
        "* **Weather_Condition**\n",
        "* **Sunrise_Sunset**\n",
        "* **Civil_Twilight**\n",
        "\n",
        "On essaiera donc de terminer l'impact de ces indices sur le nombre d'accidents."
      ],
      "metadata": {
        "id": "G1p8s_CCTE3Z"
      }
    },
    {
      "cell_type": "markdown",
      "source": [
        "### Visibilité"
      ],
      "metadata": {
        "id": "LUR5wgZjjwQY"
      }
    },
    {
      "cell_type": "code",
      "source": [
        "compteur_valeurs_visibilite_min = dataframe[\"Visibility(km)\"].min()\n",
        "compteur_valeurs_visibilite_min"
      ],
      "metadata": {
        "id": "pd49hBpa3bcj",
        "outputId": "086b7665-f690-4c66-ffe9-5fcfee6a614d",
        "colab": {
          "base_uri": "https://localhost:8080/"
        }
      },
      "execution_count": null,
      "outputs": [
        {
          "output_type": "execute_result",
          "data": {
            "text/plain": [
              "0.0"
            ]
          },
          "metadata": {},
          "execution_count": 271
        }
      ]
    },
    {
      "cell_type": "code",
      "source": [
        "compteur_valeurs_visibilite_max = dataframe[\"Visibility(km)\"].max()\n",
        "compteur_valeurs_visibilite_max"
      ],
      "metadata": {
        "colab": {
          "base_uri": "https://localhost:8080/"
        },
        "id": "ef8d-BCA20CI",
        "outputId": "db39fdc4-9f86-4e03-99d6-858b62064d11"
      },
      "execution_count": null,
      "outputs": [
        {
          "output_type": "execute_result",
          "data": {
            "text/plain": [
              "225.30816000000002"
            ]
          },
          "metadata": {},
          "execution_count": 272
        }
      ]
    },
    {
      "cell_type": "markdown",
      "source": [
        "La visibilité lors d'un accident varie entre 0 et 225km. On va maintenant regarder la distribution des données."
      ],
      "metadata": {
        "id": "c2x_eXnSj9cX"
      }
    },
    {
      "cell_type": "code",
      "source": [
        "def repartition_donnees_visibilite(data, min, max):\n",
        "  nombre_partitions = 10\n",
        "  facteur_additif = round((min + max) / nombre_partitions, 2)\n",
        "  pas_fini = True\n",
        "  borne_min = min\n",
        "  borne_max = borne_min\n",
        "  legende = []\n",
        "  valeurs = []\n",
        "  while pas_fini:\n",
        "    borne_max += facteur_additif\n",
        "    dataframe_bis = dataframe[dataframe['Visibility(km)'] < borne_max]\n",
        "    dataframe_bis = dataframe_bis[dataframe_bis['Visibility(km)'] >= borne_min]\n",
        "    valeurs.append(dataframe_bis.count()[0])\n",
        "    legende.append(str(borne_min) + \"<=Vis.<\" + str(borne_max))\n",
        "    borne_min += facteur_additif\n",
        "    pas_fini = borne_max <= max\n",
        "  fig,ax = plt.subplots(figsize=(20,12))\n",
        "  plt.xticks(rotation = 'vertical')\n",
        "  plt.title(\"Nombre de données par visibilité\")\n",
        "  plt.bar(legende, valeurs)"
      ],
      "metadata": {
        "id": "VaIsYld3k7sM"
      },
      "execution_count": null,
      "outputs": []
    },
    {
      "cell_type": "code",
      "source": [
        "repartition_donnees_visibilite(np.array(dataframe[\"Visibility(km)\"]), float(compteur_valeurs_visibilite_min), float(compteur_valeurs_visibilite_max))"
      ],
      "metadata": {
        "colab": {
          "base_uri": "https://localhost:8080/",
          "height": 54
        },
        "id": "pWdMfTV-pyqW",
        "outputId": "290fed30-5d94-442e-8fe7-51b8619862a5"
      },
      "execution_count": null,
      "outputs": [
        {
          "output_type": "display_data",
          "data": {
            "text/plain": [
              "<Figure size 1440x864 with 1 Axes>"
            ],
            "image/png": "[encoded data removed]"
          },
          "metadata": {
            "needs_background": "light"
          }
        }
      ]
    },
    {
      "cell_type": "markdown",
      "source": [
        "Comme pour la distance, la visibilté n'est vraiment pas bien répartie."
      ],
      "metadata": {
        "id": "g7M-h3kzqDFc"
      }
    },
    {
      "cell_type": "code",
      "source": [
        "valeurs_inferieures_a_2253 = dataframe[dataframe['Visibility(km)'] < 22.53].count()[0]\n",
        "print(valeurs_inferieures_a_2253, \" accidents qui ont eu lieu avec un visibilté de moins de 22.53 km (première borne du graphe pour 10 partitions)\")\n",
        "valeurs_superieures_a_2253 = dataframe[dataframe['Visibility(km)'] >= 22.53].count()[0]\n",
        "print(valeurs_superieures_a_2253, \" accidents qui ont eu lieu avec un visibilté d'au moins de 22.53 km (première borne du graphe pour 10 partitions)\")"
      ],
      "metadata": {
        "colab": {
          "base_uri": "https://localhost:8080/"
        },
        "id": "pYM2TraCqcbB",
        "outputId": "86b3af83-98cf-4923-f002-9ad9b7184aab"
      },
      "execution_count": null,
      "outputs": [
        {
          "output_type": "stream",
          "name": "stdout",
          "text": [
            "2766933  accidents qui ont eu lieu avec un visibilté de moins de 22.53 km (première borne du graphe pour 10 partitions)\n",
            "7863  accidents qui ont eu lieu avec un visibilté d'au moins de 22.53 km (première borne du graphe pour 10 partitions)\n"
          ]
        }
      ]
    },
    {
      "cell_type": "markdown",
      "source": [
        "On peut vraiment rapprocher le cas de la distance et de la visibilité, où on a environ la même distribution pour les données faibles et les autres, c'est à dire environ 2,8M données de valeurs faibles et moins de 10k données de valeurs plus fortes."
      ],
      "metadata": {
        "id": "5SRmYwEAq1I6"
      }
    },
    {
      "cell_type": "code",
      "source": [
        "valeurs_inferieures_a_1 = dataframe[dataframe['Visibility(km)'] < 15].count()[0]\n",
        "print(valeurs_inferieures_a_1, \" accidents qui ont eu lieu avec un visibilté de moins de 15 km\")\n",
        "valeurs_superieures_a_1 = dataframe[dataframe['Visibility(km)'] >= 15].count()[0]\n",
        "print(valeurs_superieures_a_1, \" accidents qui ont eu lieu avec un visibilté d'au moins de 15 km\")"
      ],
      "metadata": {
        "colab": {
          "base_uri": "https://localhost:8080/"
        },
        "id": "6aWV9l81rItL",
        "outputId": "c21a41c8-6e4d-43a0-a6e9-1a64f2d47435"
      },
      "execution_count": null,
      "outputs": [
        {
          "output_type": "stream",
          "name": "stdout",
          "text": [
            "533368  accidents qui ont eu lieu avec un visibilté de moins de 15 km\n",
            "2241428  accidents qui ont eu lieu avec un visibilté d'au moins de 15 km\n"
          ]
        }
      ]
    },
    {
      "cell_type": "markdown",
      "source": [
        "On a 500k données de moins de 15km, et 2m200k données de plus de 15km."
      ],
      "metadata": {
        "id": "kgmXjtt_r-rk"
      }
    },
    {
      "cell_type": "code",
      "source": [
        "dataframe_bis = dataframe[dataframe['Visibility(km)'] >= 15]\n",
        "valeurs_intervalles = dataframe_bis[dataframe_bis['Visibility(km)'] < 20].count()[0]\n",
        "print(valeurs_intervalles, \" accidents qui ont eu lieu avec un visibilté entre 15 et 20 km\")"
      ],
      "metadata": {
        "colab": {
          "base_uri": "https://localhost:8080/"
        },
        "id": "ZSDs01gVsKqT",
        "outputId": "bd570846-cd43-401a-9df6-61a82ade1995"
      },
      "execution_count": null,
      "outputs": [
        {
          "output_type": "stream",
          "name": "stdout",
          "text": [
            "2230449  accidents qui ont eu lieu avec un visibilté entre 15 et 20 km\n"
          ]
        }
      ]
    },
    {
      "cell_type": "markdown",
      "source": [
        "2.230M d'accidents ont eu lieu avec une visibilité entre 15 et 20km."
      ],
      "metadata": {
        "id": "0bck-wresl_8"
      }
    },
    {
      "cell_type": "markdown",
      "source": [
        "### Vitesse du vent"
      ],
      "metadata": {
        "id": "YBRSKCHVyFGH"
      }
    },
    {
      "cell_type": "code",
      "source": [
        "compteur_valeurs_vent_min = dataframe[\"Wind_Speed(kmh)\"].min()\n",
        "compteur_valeurs_vent_min"
      ],
      "metadata": {
        "outputId": "f5af79e0-4b79-4c5c-808e-1b012bc5dae1",
        "colab": {
          "base_uri": "https://localhost:8080/"
        },
        "id": "cu3lmyOEyFGI"
      },
      "execution_count": null,
      "outputs": [
        {
          "output_type": "execute_result",
          "data": {
            "text/plain": [
              "0.0"
            ]
          },
          "metadata": {},
          "execution_count": 278
        }
      ]
    },
    {
      "cell_type": "code",
      "source": [
        "compteur_valeurs_vent_max = dataframe[\"Wind_Speed(kmh)\"].max()\n",
        "compteur_valeurs_vent_max"
      ],
      "metadata": {
        "colab": {
          "base_uri": "https://localhost:8080/"
        },
        "outputId": "acda79df-ba3c-4a47-d699-15bfd04ee694",
        "id": "XCBm9zJWyFGJ"
      },
      "execution_count": null,
      "outputs": [
        {
          "output_type": "execute_result",
          "data": {
            "text/plain": [
              "1749.3569280000002"
            ]
          },
          "metadata": {},
          "execution_count": 279
        }
      ]
    },
    {
      "cell_type": "markdown",
      "source": [
        "La vitesse du vent lors d'un accident varie entre 0 et 1749km/h. On voit ici qu'il y a un problème sur les données, car le vent ne peut pas aller aussi vite. Il est noté [ici](https://www.meteo-paris.com/actualites/meteo-extreme-quels-sont-les-records-climatiques-dans-le-monde) que le maximum de la vitesse du vent enregistrée est de 408km/h. "
      ],
      "metadata": {
        "id": "O6eVRK0CyFGK"
      }
    },
    {
      "cell_type": "code",
      "source": [
        "dataframe[dataframe[\"Wind_Speed(kmh)\"] > 408].count()[0]"
      ],
      "metadata": {
        "colab": {
          "base_uri": "https://localhost:8080/"
        },
        "id": "RKsUIRynzNjr",
        "outputId": "64b74a27-1d04-4ab0-df02-325829ae54f5"
      },
      "execution_count": null,
      "outputs": [
        {
          "output_type": "execute_result",
          "data": {
            "text/plain": [
              "8"
            ]
          },
          "metadata": {},
          "execution_count": 280
        }
      ]
    },
    {
      "cell_type": "markdown",
      "source": [
        "Il y a 8 données supérieures à cette donnée, donc on sait que ces valeurs ne sont pas justes. On suppose que c'est un problème d'écriture de virgule et que ces données valent plus de 100km.\n",
        "\n",
        "En se servant des données se trouvant [ici](https://vigilance.meteofrance.fr/fr/dangers-meteorologiques-vent-violent), on regardera les données où le vent est supérieur à 90km/h (moyenne entre 80 et 100km/h)."
      ],
      "metadata": {
        "id": "-NKSUIlezzZx"
      }
    },
    {
      "cell_type": "code",
      "source": [
        "valeurs_inferieures_a_90 = dataframe[dataframe['Wind_Speed(kmh)'] < 90].count()[0]\n",
        "print(valeurs_inferieures_a_90, \" accidents qui ont eu lieu avec une vitesse de vent de moins de 90km/h\")\n",
        "valeurs_superieures_a_90 = dataframe[dataframe['Wind_Speed(kmh)'] >= 90].count()[0]\n",
        "print(valeurs_superieures_a_90, \" accidents qui ont eu lieu avec une vitesse de vent de plus de 90km/h\")\n",
        "\n",
        "fig,ax = plt.subplots(figsize=(20,12))\n",
        "plt.xticks(rotation = 'vertical')\n",
        "plt.title(\"Nombre de données par vitesse du vent\")\n",
        "plt.bar([\"Vit < 90km/h\", \"Vit >= 90km/h\"], [valeurs_inferieures_a_90, valeurs_superieures_a_90])"
      ],
      "metadata": {
        "colab": {
          "base_uri": "https://localhost:8080/",
          "height": 835
        },
        "id": "Joz08VabyFGK",
        "outputId": "be214b06-ad6c-417b-fa51-6dce36cf18d4"
      },
      "execution_count": null,
      "outputs": [
        {
          "output_type": "stream",
          "name": "stdout",
          "text": [
            "2687291  accidents qui ont eu lieu avec une vitesse de vent de moins de 90km/h\n",
            "107  accidents qui ont eu lieu avec une vitesse de vent de plus de 90km/h\n"
          ]
        },
        {
          "output_type": "execute_result",
          "data": {
            "text/plain": [
              "<BarContainer object of 2 artists>"
            ]
          },
          "metadata": {},
          "execution_count": 281
        },
        {
          "output_type": "display_data",
          "data": {
            "text/plain": [
              "<Figure size 1440x864 with 1 Axes>"
            ],
            "image/png": "[encoded data removed]"
          },
          "metadata": {
            "needs_background": "light"
          }
        }
      ]
    },
    {
      "cell_type": "code",
      "source": [
        "valeurs_inferieures_a_50 = dataframe[dataframe['Wind_Speed(kmh)'] < 50].count()[0]\n",
        "print(valeurs_inferieures_a_50, \" accidents qui ont eu lieu avec une vitesse de vent de moins de 50km/h\")\n",
        "valeurs_superieures_a_50 = dataframe[dataframe['Wind_Speed(kmh)'] >= 50].count()[0]\n",
        "print(valeurs_superieures_a_50, \" accidents qui ont eu lieu avec une vitesse de vent de plus de 50km/h\")\n",
        "\n",
        "fig,ax = plt.subplots(figsize=(20,12))\n",
        "plt.xticks(rotation = 'vertical')\n",
        "plt.title(\"Nombre de données par vitesse du vent\")\n",
        "plt.bar([\"Vit < 50km/h\", \"Vit >= 50km/h\"], [valeurs_inferieures_a_50, valeurs_superieures_a_50])"
      ],
      "metadata": {
        "colab": {
          "base_uri": "https://localhost:8080/",
          "height": 835
        },
        "id": "im_r0T6T2RWj",
        "outputId": "560a6a7c-b621-43df-f809-5f67182d78df"
      },
      "execution_count": null,
      "outputs": [
        {
          "output_type": "stream",
          "name": "stdout",
          "text": [
            "2684531  accidents qui ont eu lieu avec une vitesse de vent de moins de 50km/h\n",
            "2867  accidents qui ont eu lieu avec une vitesse de vent de plus de 50km/h\n"
          ]
        },
        {
          "output_type": "execute_result",
          "data": {
            "text/plain": [
              "<BarContainer object of 2 artists>"
            ]
          },
          "metadata": {},
          "execution_count": 282
        },
        {
          "output_type": "display_data",
          "data": {
            "text/plain": [
              "<Figure size 1440x864 with 1 Axes>"
            ],
            "image/png": "[encoded data removed]"
          },
          "metadata": {
            "needs_background": "light"
          }
        }
      ]
    },
    {
      "cell_type": "markdown",
      "source": [
        "On a une majorité écrasante des données qui sont inférieures à 50 km/h, ce qui signifie que ces accidents se sont déroulés sans réel problème impliqué par le vent."
      ],
      "metadata": {
        "id": "N2G1hjja3_oc"
      }
    },
    {
      "cell_type": "markdown",
      "source": [
        "### Précipitations"
      ],
      "metadata": {
        "id": "Mbc8jaom_XXb"
      }
    },
    {
      "cell_type": "code",
      "source": [
        "compteur_valeurs_precipitation_min = dataframe[\"Precipitation(mm)\"].min()\n",
        "compteur_valeurs_precipitation_min"
      ],
      "metadata": {
        "outputId": "6b196639-1d36-441d-e48f-cc2702b404f3",
        "colab": {
          "base_uri": "https://localhost:8080/"
        },
        "id": "QdU-dMNS_XXc"
      },
      "execution_count": null,
      "outputs": [
        {
          "output_type": "execute_result",
          "data": {
            "text/plain": [
              "0.0"
            ]
          },
          "metadata": {},
          "execution_count": 283
        }
      ]
    },
    {
      "cell_type": "code",
      "source": [
        "compteur_valeurs_precipitation_max = dataframe[\"Precipitation(mm)\"].max()\n",
        "compteur_valeurs_precipitation_max"
      ],
      "metadata": {
        "colab": {
          "base_uri": "https://localhost:8080/"
        },
        "outputId": "9a47be2b-08a4-43c2-ae9e-9aa593f1a670",
        "id": "PkQh9wSe_XXe"
      },
      "execution_count": null,
      "outputs": [
        {
          "output_type": "execute_result",
          "data": {
            "text/plain": [
              "588.0"
            ]
          },
          "metadata": {},
          "execution_count": 284
        }
      ]
    },
    {
      "cell_type": "markdown",
      "source": [
        "Là encore, on remarque que la borne min et la borne max sont très éloignés."
      ],
      "metadata": {
        "id": "ELLYqq2h_XXf"
      }
    },
    {
      "cell_type": "markdown",
      "source": [
        "D'après [cet article](https://fr.wikipedia.org/wiki/Pluie), \n",
        "`On sépare l'intensité de la pluie en pluie faible (trace à 2 mm/h), modérée (2 mm/h à 7,6 mm/h) et forte (plus de 7,6 mm/h)`"
      ],
      "metadata": {
        "id": "GIL_vBnF_XXg"
      }
    },
    {
      "cell_type": "code",
      "source": [
        "pluie_faible = dataframe[dataframe['Precipitation(mm)'] < 2].count()[0]\n",
        "print(pluie_faible, \" accidents ont eu lieu avec une pluie faible.\")\n",
        "pluie_moderee = dataframe[dataframe['Precipitation(mm)'] >= 2]\n",
        "pluie_moderee = pluie_moderee[pluie_moderee['Precipitation(mm)'] < 7.6].count()[0]\n",
        "print(pluie_moderee, \" accidents ont eu lieu avec une pluie modérée.\")\n",
        "pluie_forte = dataframe[dataframe['Precipitation(mm)'] >= 7.6].count()[0]\n",
        "print(pluie_forte, \" accidents ont eu lieu avec une pluie forte.\")\n",
        "\n",
        "\n",
        "fig,ax = plt.subplots(figsize=(20,12))\n",
        "plt.xticks(rotation = 'vertical')\n",
        "plt.title(\"Nombre de données par intensité de pluie\")\n",
        "plt.bar([\"Faible\", \"Modérée\", \"Forte\"], [pluie_faible, pluie_moderee, pluie_forte])"
      ],
      "metadata": {
        "colab": {
          "base_uri": "https://localhost:8080/",
          "height": 822
        },
        "outputId": "fc7c6c3b-6ae7-4096-b2c1-0be8a33e3158",
        "id": "-NvT_SAw_XXf"
      },
      "execution_count": null,
      "outputs": [
        {
          "output_type": "stream",
          "name": "stdout",
          "text": [
            "2248378  accidents ont eu lieu avec une pluie faible.\n",
            "39340  accidents ont eu lieu avec une pluie modérée.\n",
            "8166  accidents ont eu lieu avec une pluie forte.\n"
          ]
        },
        {
          "output_type": "execute_result",
          "data": {
            "text/plain": [
              "<BarContainer object of 3 artists>"
            ]
          },
          "metadata": {},
          "execution_count": 285
        },
        {
          "output_type": "display_data",
          "data": {
            "text/plain": [
              "<Figure size 1440x864 with 1 Axes>"
            ],
            "image/png": "[encoded data removed]"
          },
          "metadata": {
            "needs_background": "light"
          }
        }
      ]
    },
    {
      "cell_type": "markdown",
      "source": [
        "On remarque que l'écrasante majorité des accidents se sont déroulés sous une pluie faible."
      ],
      "metadata": {
        "id": "5liOpfTEkxmF"
      }
    },
    {
      "cell_type": "markdown",
      "source": [
        "### Conditions climatiques"
      ],
      "metadata": {
        "id": "hWvUiiyEloQO"
      }
    },
    {
      "cell_type": "code",
      "source": [
        "dataframe[\"Weather_Condition\"]"
      ],
      "metadata": {
        "colab": {
          "base_uri": "https://localhost:8080/"
        },
        "id": "42s2JngEl8xE",
        "outputId": "04395674-aeb0-4735-df3d-a11baa2fd310"
      },
      "execution_count": null,
      "outputs": [
        {
          "output_type": "execute_result",
          "data": {
            "text/plain": [
              "0             Light Rain\n",
              "1             Light Rain\n",
              "2               Overcast\n",
              "3               Overcast\n",
              "4             Light Rain\n",
              "               ...      \n",
              "2845337             Fair\n",
              "2845338             Fair\n",
              "2845339    Partly Cloudy\n",
              "2845340             Fair\n",
              "2845341             Fair\n",
              "Name: Weather_Condition, Length: 2845342, dtype: string"
            ]
          },
          "metadata": {},
          "execution_count": 286
        }
      ]
    },
    {
      "cell_type": "code",
      "source": [
        "conditions = dataframe[\"Weather_Condition\"].unique()\n",
        "nombre_accidents_par_condition = []\n",
        "for condition in conditions:\n",
        "    nombre_accidents_par_condition.append(dataframe[dataframe['Weather_Condition']== condition].count()['Weather_Condition'])\n",
        "\n",
        "indices_top_10 = np.argpartition(nombre_accidents_par_condition, -10)[-10:]\n",
        "top_10 = np.array(nombre_accidents_par_condition)[indices_top_10]\n",
        "noms_top_10 = np.array(conditions)[indices_top_10]\n",
        "print(\"Les 10 conditions climatiques pour lesquelles il y a eu le plus d'accidents : \", noms_top_10)\n",
        "print(\"Avec respectivement ces nombres d'accidents : \", top_10)\n",
        "fig,ax = plt.subplots(figsize=(20,12))\n",
        "plt.bar(noms_top_10, top_10)"
      ],
      "metadata": {
        "colab": {
          "base_uri": "https://localhost:8080/",
          "height": 803
        },
        "id": "2G82LOkzmK6P",
        "outputId": "8d632c32-4177-4f02-dfb4-a16512874ba6"
      },
      "execution_count": null,
      "outputs": [
        {
          "output_type": "stream",
          "name": "stdout",
          "text": [
            "Les 10 conditions climatiques pour lesquelles il y a eu le plus d'accidents :  ['Fog' 'Light Snow' 'Clear' 'Scattered Clouds' 'Light Rain' 'Overcast'\n",
            " 'Partly Cloudy' 'Mostly Cloudy' 'Cloudy' 'Fair']\n",
            "Avec respectivement ces nombres d'accidents :  [  41226   43752  173823   45132  128403   84882  249939  363959  348767\n",
            " 1107194]\n"
          ]
        },
        {
          "output_type": "execute_result",
          "data": {
            "text/plain": [
              "<BarContainer object of 10 artists>"
            ]
          },
          "metadata": {},
          "execution_count": 287
        },
        {
          "output_type": "display_data",
          "data": {
            "text/plain": [
              "<Figure size 1440x864 with 1 Axes>"
            ],
            "image/png": "[encoded data removed]"
          },
          "metadata": {
            "needs_background": "light"
          }
        }
      ]
    },
    {
      "cell_type": "code",
      "source": [
        "condition_max = top_10.max()\n",
        "indice_condition_max = list(top_10).index(condition_max)\n",
        "string_condition_max = noms_top_10[indice_condition_max]\n",
        "pourcentage_condition_max = condition_max / nombre_de_donnees * 100\n",
        "\n",
        "print(\"La condition climatique pour laquelle il y a le plus d'accidents est : \", string_condition_max, \" avec \", condition_max, \" accidents.\")\n",
        "print(\"Cela représente \", pourcentage_condition_max, \"% des données totales.\")"
      ],
      "metadata": {
        "outputId": "bf6e85d8-1744-414c-a6fa-55aa24c6e9c8",
        "colab": {
          "base_uri": "https://localhost:8080/"
        },
        "id": "c4p6Qrc3loQP"
      },
      "execution_count": null,
      "outputs": [
        {
          "output_type": "stream",
          "name": "stdout",
          "text": [
            "La condition climatique pour laquelle il y a le plus d'accidents est :  Fair  avec  1107194  accidents.\n",
            "Cela représente  38.912510341463346 % des données totales.\n"
          ]
        }
      ]
    },
    {
      "cell_type": "markdown",
      "source": [
        "Près de 40% des accidents ont eu lieu sous un temps clair."
      ],
      "metadata": {
        "id": "VYdrMsvosL5V"
      }
    },
    {
      "cell_type": "markdown",
      "source": [
        "### Jour et nuit (basé sur sunrise/sunset)"
      ],
      "metadata": {
        "id": "_DYwAg1TtuQz"
      }
    },
    {
      "cell_type": "code",
      "source": [
        "sun = dataframe[\"Sunrise_Sunset\"].unique()\n",
        "sun = [s for s in sun if not(pd.isnull(s)) == True]\n",
        "nombre_accidents_par_s = []\n",
        "for s in sun:\n",
        "    nombre_accidents_par_s.append(dataframe[dataframe['Sunrise_Sunset']== s].count()['Sunrise_Sunset'])\n",
        "\n",
        "fig,ax = plt.subplots(figsize=(20,12))\n",
        "plt.bar(sun, nombre_accidents_par_s)"
      ],
      "metadata": {
        "colab": {
          "base_uri": "https://localhost:8080/",
          "height": 729
        },
        "id": "OnXFUfrbwfo9",
        "outputId": "b82f988f-54f7-4c10-b5f9-4b5c684e7c43"
      },
      "execution_count": null,
      "outputs": [
        {
          "output_type": "execute_result",
          "data": {
            "text/plain": [
              "<BarContainer object of 2 artists>"
            ]
          },
          "metadata": {},
          "execution_count": 289
        },
        {
          "output_type": "display_data",
          "data": {
            "text/plain": [
              "<Figure size 1440x864 with 1 Axes>"
            ],
            "image/png": "[encoded data removed]"
          },
          "metadata": {
            "needs_background": "light"
          }
        }
      ]
    },
    {
      "cell_type": "markdown",
      "source": [
        "La majorité des accidents se sont passés le jour. Il est possible que nous pensions que la plupart des accidents se déroulent la nuit, avec la fatigue et le manque de visibilité. Cependant, le résultat parait logique, car il y a plus de traffic le jour, et donc plus de risques d'accidents."
      ],
      "metadata": {
        "id": "-7wUMjyk0Gco"
      }
    },
    {
      "cell_type": "markdown",
      "source": [
        "### Jour et nuit (basé sur le crépuscule civil)"
      ],
      "metadata": {
        "id": "sqBI63k00olD"
      }
    },
    {
      "cell_type": "code",
      "source": [
        "sun2 = dataframe[\"Civil_Twilight\"].unique()\n",
        "sun2 = [s for s in sun2 if not(pd.isnull(s)) == True]\n",
        "nombre_accidents_par_s2 = []\n",
        "for s in sun2:\n",
        "    nombre_accidents_par_s2.append(dataframe[dataframe['Civil_Twilight']== s].count()['Civil_Twilight'])\n",
        "\n",
        "fig,ax = plt.subplots(figsize=(20,12))\n",
        "plt.bar(sun, nombre_accidents_par_s2)"
      ],
      "metadata": {
        "colab": {
          "base_uri": "https://localhost:8080/",
          "height": 729
        },
        "id": "I9qZJfj61NGC",
        "outputId": "6a86ecb2-33c9-4b8e-bd77-ceec7dcd8a38"
      },
      "execution_count": null,
      "outputs": [
        {
          "output_type": "execute_result",
          "data": {
            "text/plain": [
              "<BarContainer object of 2 artists>"
            ]
          },
          "metadata": {},
          "execution_count": 290
        },
        {
          "output_type": "display_data",
          "data": {
            "text/plain": [
              "<Figure size 1440x864 with 1 Axes>"
            ],
            "image/png": "[encoded data removed]"
          },
          "metadata": {
            "needs_background": "light"
          }
        }
      ]
    },
    {
      "cell_type": "markdown",
      "source": [
        "On remarque un décalage entre les valeurs Jour et Nuit pour ces deux indicateurs. En effet, ils n'utilisent pas la même règle de décision. Cependant, les données sont comparables "
      ],
      "metadata": {
        "id": "Mq9iD5TP1swF"
      }
    },
    {
      "cell_type": "code",
      "source": [
        "condition_jour = \"Day\"\n",
        "\n",
        "indice_condition_jour = list(sun).index(condition_jour)\n",
        "indice_condition_jour2 = list(sun2).index(condition_jour)\n",
        "\n",
        "nombre_jours = nombre_accidents_par_s[indice_condition_jour]\n",
        "nombre_jours2 = nombre_accidents_par_s2[indice_condition_jour2]\n",
        "\n",
        "print(\"Il y a \", nombre_jours, \" données de Jour dans le premier indice\")\n",
        "print(\"Il y a \", nombre_jours2, \" données de Jour dans le deuxième indice\")"
      ],
      "metadata": {
        "colab": {
          "base_uri": "https://localhost:8080/"
        },
        "id": "tHTllgIi1_cY",
        "outputId": "0c0da04e-4f3c-4ba0-eaab-93b6252c9132"
      },
      "execution_count": null,
      "outputs": [
        {
          "output_type": "stream",
          "name": "stdout",
          "text": [
            "Il y a  1811935  données de Jour dans le premier indice\n",
            "Il y a  1929103  données de Jour dans le deuxième indice\n"
          ]
        }
      ]
    },
    {
      "cell_type": "markdown",
      "source": [
        "On note un décalage de 100 000 données, ce qui n'est pas très significatif sur un jeu de données de 2.8M de données, mais qui peut quand même avoir son importance."
      ],
      "metadata": {
        "id": "pX4qWW-t2_H7"
      }
    },
    {
      "cell_type": "markdown",
      "source": [
        "# Interprétation des données avec Spark"
      ],
      "metadata": {
        "id": "4YPfffeb9SDQ"
      }
    },
    {
      "cell_type": "markdown",
      "source": [
        "Dans ce chapitre, nous ferons une analyse des données à l'aide de Spark, et du dataframe généré."
      ],
      "metadata": {
        "id": "Oz7wrVGmo1JT"
      }
    },
    {
      "cell_type": "markdown",
      "source": [
        "## Représentation basique des données"
      ],
      "metadata": {
        "id": "mgGbBJFxfrpF"
      }
    },
    {
      "cell_type": "code",
      "source": [
        "nombre_de_donnees_spark = dataframe_spark.count()\n",
        "print(\"Il y a \", nombre_de_donnees_spark, \" données dans le dataframe Spark\")"
      ],
      "metadata": {
        "colab": {
          "base_uri": "https://localhost:8080/"
        },
        "id": "2bR7dWBFk0rD",
        "outputId": "c246b832-322e-4dbf-ff0f-35221dd9f4cd"
      },
      "execution_count": null,
      "outputs": [
        {
          "output_type": "stream",
          "name": "stdout",
          "text": [
            "Il y a  2845342  données dans le dataframe Spark\n"
          ]
        }
      ]
    },
    {
      "cell_type": "code",
      "source": [
        "# Attention, cette cellule met 4min30 à s'exécuter. Le but est simplement de comparer si les deux jeux de données sont identiques\n",
        "dataframe_spark.describe().show()"
      ],
      "metadata": {
        "id": "hgucU-FmpXhT",
        "colab": {
          "base_uri": "https://localhost:8080/"
        },
        "outputId": "32ea5ec2-ebdd-4dd0-d700-1dcbe3929848"
      },
      "execution_count": null,
      "outputs": [
        {
          "output_type": "stream",
          "name": "stdout",
          "text": [
            "+-------+--------+-------------------+-----------------+------------------+-----------------+------------------+------------------+--------------------+-----------------+----------+-------+----------+---------+-------+-----------------+-------+----------+------------+-------------------+------------------+------------------+-----------------+------------------+------------------+--------------+------------------+-------------------+------------------+--------------+--------------+-----------------+---------------------+\n",
            "|summary|      ID|           Severity|        Start_Lat|         Start_Lng|          End_Lat|           End_Lng|      Distance(km)|         Description|           Number|    Street|   Side|      City|   County|  State|          Zipcode|Country|  Timezone|Airport_Code|  Weather_Timestamp|    Temperature(C)|     Wind_Chill(C)|      Humidity(%)|      Pressure(in)|    Visibility(km)|Wind_Direction|   Wind_Speed(kmh)|  Precipitation(mm)| Weather_Condition|Sunrise_Sunset|Civil_Twilight|Nautical_Twilight|Astronomical_Twilight|\n",
            "+-------+--------+-------------------+-----------------+------------------+-----------------+------------------+------------------+--------------------+-----------------+----------+-------+----------+---------+-------+-----------------+-------+----------+------------+-------------------+------------------+------------------+-----------------+------------------+------------------+--------------+------------------+-------------------+------------------+--------------+--------------+-----------------+---------------------+\n",
            "|  count| 2845342|            2845342|          2845342|           2845342|          2845342|           2845342|           2845342|             2845342|          1101431|   2845340|2845342|   2845205|  2845342|2845342|          2844023|2845342|   2841683|     2835793|            2794606|           2776068|           2375699|          2772250|           2786142|           2774796|       2771567|           2687398|            2295884|           2774706|       2842475|       2842475|          2842475|              2842475|\n",
            "|   mean|    null|  2.137571511614421|36.24520054185866|-97.11463289012681|36.24532079368951|-97.11438709551649|1.1308504536202162|              1092.0|8089.408113626728|      null|   null|      null|     null|   null|59920.99433932144|   null|      null|        null|               null| 16.55197551196712|15.365683835461263|64.36545224997745|29.472344381585412| 14.64405080871083|          null|11.901170017183398|0.17191502706583991|              null|          null|          null|             null|                 null|\n",
            "| stddev|    null|0.47872161859380974| 5.36379745983604|18.317819121693926|5.363872991165174|18.317632423289847| 2.511157332102173|  177.90446874657198|18360.09399458918|      null|   null|      null|     null|   null|31576.37420695146|   null|      null|        null|               null|10.345905213560469|11.756093021310004|22.87456810061256|1.0452864968682465|4.3734659396027915|          null| 8.895574850411654|  2.290463636993706|              null|          null|          null|             null|                 null|\n",
            "|    min|     A-1|                  1|        24.566027|       -124.548074|        24.566013|       -124.545748|               0.0| 1039 GOLDEN BEAR...|              0.0| 1 1/2 Ave|      L|Aaronsburg|Abbeville|     AL|            01001|     US|US/Central|        K01M|2016-01-14 19:51:00|-67.22222222222221|-67.22222222222221|              1.0|               0.0|               0.0|          CALM|               0.0|                0.0|      Blowing Dust|           Day|           Day|              Day|                  Day|\n",
            "|    max|A-999999|                  4|         49.00058|        -67.113167|           49.075|-67.10924200000001|249.74765798400003|x DRESSER RANCH P...|        9999997.0|Zuni Rd SE|      R|   Zwingle|     Yuma|     WY|       99401-9712|     US|US/Pacific|        KZZV|2021-12-31 23:53:00| 91.11111111111111| 91.11111111111111|            100.0|              58.9|225.30816000000002|          West|1749.3569280000002|              588.0|Wintry Mix / Windy|         Night|         Night|            Night|                Night|\n",
            "+-------+--------+-------------------+-----------------+------------------+-----------------+------------------+------------------+--------------------+-----------------+----------+-------+----------+---------+-------+-----------------+-------+----------+------------+-------------------+------------------+------------------+-----------------+------------------+------------------+--------------+------------------+-------------------+------------------+--------------+--------------+-----------------+---------------------+\n",
            "\n"
          ]
        }
      ]
    },
    {
      "cell_type": "markdown",
      "source": [
        "## Répartition de la sévérité"
      ],
      "metadata": {
        "id": "vXV6q_FkuacR"
      }
    },
    {
      "cell_type": "code",
      "source": [
        "maximum_severite = dataframe_spark.agg({\"Severity\": \"max\"}).collect()[0][\"max(Severity)\"]\n",
        "minimum_severite = dataframe_spark.agg({\"Severity\": \"min\"}).collect()[0][\"min(Severity)\"]\n",
        "print(\"Les niveaux de sévérité de l'accident vont de \", minimum_severite, \" à \", maximum_severite)"
      ],
      "metadata": {
        "colab": {
          "base_uri": "https://localhost:8080/"
        },
        "id": "S5eka43sufs8",
        "outputId": "640201b6-eda4-4020-c0e2-6c66659c792b"
      },
      "execution_count": null,
      "outputs": [
        {
          "output_type": "stream",
          "name": "stdout",
          "text": [
            "Les niveaux de sévérité de l'accident vont de  1  à  4\n"
          ]
        }
      ]
    },
    {
      "cell_type": "code",
      "source": [
        "compteur_valeurs_severite = dataframe_spark.groupBy(\"Severity\").count().orderBy(\"count\")\n",
        "compteur_valeurs_severite.show()"
      ],
      "metadata": {
        "colab": {
          "base_uri": "https://localhost:8080/"
        },
        "id": "LVsIEAbz3NPI",
        "outputId": "85fc5a16-7ffa-41af-e29c-591a637e1c83"
      },
      "execution_count": null,
      "outputs": [
        {
          "output_type": "stream",
          "name": "stdout",
          "text": [
            "+--------+-------+\n",
            "|Severity|  count|\n",
            "+--------+-------+\n",
            "|       1|  26053|\n",
            "|       4| 131193|\n",
            "|       3| 155105|\n",
            "|       2|2532991|\n",
            "+--------+-------+\n",
            "\n"
          ]
        }
      ]
    },
    {
      "cell_type": "markdown",
      "source": [
        "Comme pour le dataframe Spark, on remarque que les données ne sont vraiment pas réparties uniformément, et il y a beaucoup plus de données de sévérité 2, quand les autres sévérités sont globalement dans le même ordre de grandeur."
      ],
      "metadata": {
        "id": "OKESdCs08qcO"
      }
    },
    {
      "cell_type": "markdown",
      "source": [
        "## Accidents par état"
      ],
      "metadata": {
        "id": "_o2qRgMh87Wy"
      }
    },
    {
      "cell_type": "code",
      "source": [
        "compteur_valeurs_etats = dataframe_spark.groupBy(\"State\").count().sort('count', ascending=False)\n",
        "compteur_valeurs_etats.show()"
      ],
      "metadata": {
        "colab": {
          "base_uri": "https://localhost:8080/"
        },
        "id": "aq1W4ejL924n",
        "outputId": "e3cffd49-3bac-46b4-fc7d-aa9fc49290e0"
      },
      "execution_count": null,
      "outputs": [
        {
          "output_type": "stream",
          "name": "stdout",
          "text": [
            "+-----+------+\n",
            "|State| count|\n",
            "+-----+------+\n",
            "|   CA|795868|\n",
            "|   FL|401388|\n",
            "|   TX|149037|\n",
            "|   OR|126341|\n",
            "|   VA|113535|\n",
            "|   NY|108049|\n",
            "|   PA| 99975|\n",
            "|   MN| 97185|\n",
            "|   NC| 91362|\n",
            "|   SC| 89216|\n",
            "|   MD| 65085|\n",
            "|   AZ| 56504|\n",
            "|   NJ| 52902|\n",
            "|   TN| 52613|\n",
            "|   UT| 49193|\n",
            "|   LA| 47232|\n",
            "|   IL| 47105|\n",
            "|   MI| 43843|\n",
            "|   GA| 40086|\n",
            "|   WA| 32554|\n",
            "+-----+------+\n",
            "only showing top 20 rows\n",
            "\n"
          ]
        }
      ]
    },
    {
      "cell_type": "markdown",
      "source": [
        "On a les même résultats qu'avec pandas. On remarque que la grande majorité des accidents ont lieu en Californie."
      ],
      "metadata": {
        "id": "1B3txHso-hMG"
      }
    },
    {
      "cell_type": "markdown",
      "source": [
        "## Détermination du minimum et du maximum de la distance de l'accident"
      ],
      "metadata": {
        "id": "ZbRUWDSl-yyM"
      }
    },
    {
      "cell_type": "code",
      "source": [
        "maximum = dataframe_spark.agg({\"Distance(km)\": \"max\"}).collect()[0][\"max(Distance(km))\"]\n",
        "minimum = dataframe_spark.agg({\"Distance(km)\": \"min\"}).collect()[0][\"min(Distance(km))\"]\n",
        "print(\"Les distances de l'accident vont de \", minimum, \" à \", maximum, \"kilomètres\")"
      ],
      "metadata": {
        "colab": {
          "base_uri": "https://localhost:8080/"
        },
        "id": "-UsiOKuX-3Y8",
        "outputId": "bda22492-414e-45cd-c5d7-e1b89091033c"
      },
      "execution_count": null,
      "outputs": [
        {
          "output_type": "stream",
          "name": "stdout",
          "text": [
            "Les distances de l'accident vont de  0.0  à  249.74765798400003 kilomètres\n"
          ]
        }
      ]
    },
    {
      "cell_type": "code",
      "source": [
        "valeurs_inferieures_a_1 = dataframe_spark.filter('`Distance(km)` < 1').count()\n",
        "print(valeurs_inferieures_a_1, \" accidents qui ont impacté moins de 1 km\")\n",
        "valeurs_superieures_a_1 = dataframe_spark.filter('`Distance(km)` >= 1').count()\n",
        "print(valeurs_superieures_a_1, \" accidents qui ont impacté au moins 1 km\")"
      ],
      "metadata": {
        "colab": {
          "base_uri": "https://localhost:8080/"
        },
        "id": "F2_WSJaW_zia",
        "outputId": "f6b3ad12-a04e-444b-b0e0-9e7e7c6f34bd"
      },
      "execution_count": null,
      "outputs": [
        {
          "output_type": "stream",
          "name": "stdout",
          "text": [
            "2003262  accidents qui ont impacté moins de 1 km\n",
            "842080  accidents qui ont impacté au moins 1 km\n"
          ]
        }
      ]
    },
    {
      "cell_type": "markdown",
      "source": [
        "## Perturbateurs de conduite liés à la route [PCR]"
      ],
      "metadata": {
        "id": "OQpSxxWKAw43"
      }
    },
    {
      "cell_type": "code",
      "source": [
        "marqueurs = [\"Bump\", \"Crossing\", \"Give_Way\", \"Junction\", \"No_Exit\", \"Railway\", \"Roundabout\", \"Station\", \"Stop\", \"Traffic_Calming\", \"Traffic_Signal\", \"Turning_Loop\"]\n",
        "for marqueur in marqueurs:\n",
        "  print(marqueur + \" : \")\n",
        "  val1 = dataframe_spark.filter('`'+ marqueur + '` = True').count()\n",
        "  print(\"True : \", val1)\n",
        "  val2 = dataframe_spark.filter('`'+ marqueur + '` = False').count()\n",
        "  print(\"False : \", val2)\n",
        "  proportion = val1 / (val1 + val2) * 100\n",
        "  print(\"Proportion de True sur les données renseignées : \", proportion, \"%\")\n",
        "  print()"
      ],
      "metadata": {
        "colab": {
          "base_uri": "https://localhost:8080/"
        },
        "id": "sFoPtIhnAwaO",
        "outputId": "c5eca38b-25f1-4eb2-fc30-905b1b91a52c"
      },
      "execution_count": null,
      "outputs": [
        {
          "output_type": "stream",
          "name": "stdout",
          "text": [
            "Bump : \n",
            "True :  1021\n",
            "False :  2844321\n",
            "Proportion de True sur les données renseignées :  0.035883208415719445 %\n",
            "\n",
            "Crossing : \n",
            "True :  200212\n",
            "False :  2645130\n",
            "Proportion de True sur les données renseignées :  7.03648278484625 %\n",
            "\n",
            "Give_Way : \n",
            "True :  6868\n",
            "False :  2838474\n",
            "Proportion de True sur les données renseignées :  0.24137695925481015 %\n",
            "\n",
            "Junction : \n",
            "True :  290505\n",
            "False :  2554837\n",
            "Proportion de True sur les données renseignées :  10.209844721653846 %\n",
            "\n",
            "No_Exit : \n",
            "True :  4294\n",
            "False :  2841048\n",
            "Proportion de True sur les données renseignées :  0.1509133172743382 %\n",
            "\n",
            "Railway : \n",
            "True :  22631\n",
            "False :  2822711\n",
            "Proportion de True sur les données renseignées :  0.7953701171950507 %\n",
            "\n",
            "Roundabout : \n",
            "True :  123\n",
            "False :  2845219\n",
            "Proportion de True sur les données renseignées :  0.004322854686712529 %\n",
            "\n",
            "Station : \n",
            "True :  67995\n",
            "False :  2777347\n",
            "Proportion de True sur les données renseignées :  2.3896951579107184 %\n",
            "\n",
            "Stop : \n",
            "True :  50400\n",
            "False :  2794942\n",
            "Proportion de True sur les données renseignées :  1.7713160667504995 %\n",
            "\n",
            "Traffic_Calming : \n",
            "True :  1712\n",
            "False :  2843630\n",
            "Proportion de True sur les données renseignées :  0.060168514013429666 %\n",
            "\n",
            "Traffic_Signal : \n",
            "True :  265263\n",
            "False :  2580079\n",
            "Proportion de True sur les données renseignées :  9.322710591556305 %\n",
            "\n",
            "Turning_Loop : \n",
            "True :  0\n",
            "False :  2845342\n",
            "Proportion de True sur les données renseignées :  0.0 %\n",
            "\n"
          ]
        }
      ]
    },
    {
      "cell_type": "markdown",
      "source": [
        "On voit que la plupart des accidents avec un PCR à proximité sont liés à la présence d'un carrefour.\n",
        "\n",
        "On va maintenant déterminer la proportion des accidents avec un PCR à proximité. "
      ],
      "metadata": {
        "id": "EZrOl-oxFzqp"
      }
    },
    {
      "cell_type": "code",
      "source": [
        "marqueurs = [\"Bump\", \"Crossing\", \"Give_Way\", \"Junction\", \"No_Exit\", \"Railway\", \"Roundabout\", \"Station\", \"Stop\", \"Traffic_Calming\", \"Traffic_Signal\", \"Turning_Loop\"]\n",
        "chaine = \"\"\n",
        "cpt = 0\n",
        "for marqueur in marqueurs:\n",
        "  if (cpt > 0):\n",
        "    chaine += \" OR \"\n",
        "  chaine += '`'+ marqueur + '` = True'\n",
        "  cpt += 1\n",
        "nombre_accidents_avec_pcr = dataframe_spark.filter(chaine).count()\n",
        "print(nombre_accidents_avec_pcr, \" accidents ont eu lieu avec un PCR a proximité\")\n"
      ],
      "metadata": {
        "colab": {
          "base_uri": "https://localhost:8080/"
        },
        "id": "3NzycTOzGB2-",
        "outputId": "1f1cdd43-4097-4105-e082-8cc34051951b"
      },
      "execution_count": null,
      "outputs": [
        {
          "output_type": "stream",
          "name": "stdout",
          "text": [
            "723942  accidents ont eu lieu avec un PCR a proximité\n"
          ]
        }
      ]
    },
    {
      "cell_type": "markdown",
      "source": [
        "Comme supposé dans le chapitre précédent, nous trouvons un nombre différent dans le nombre d'accidents ayant True pour au moins un PCR a proximité.\n",
        "\n",
        "En effet, pour la partie Pandas, nous avons fait la somme des True, et supposé que si un accident à un PCR à True, il a les autres à False, pour ne pas alourdir les calculs en Pandas. Avec notre Dataframe Spark, nous avons repéré les lignes qui ont au moins un PCR à True, en vérifiant pour chaque PCR s'il est à True et grâce à la condition \"OR\". Ainsi, cette formule prend en compte les accidents situés à proximité des plusieurs PCR.\n",
        "\n",
        "Ainsi, on peut dire que 723942 accidents ont eu lieu avec au moins un PCR à proximité (contre 911024 estimé en Pandas)."
      ],
      "metadata": {
        "id": "SwUYagdxLmjU"
      }
    },
    {
      "cell_type": "code",
      "source": [
        "pourcentage_pcr = nombre_accidents_avec_pcr/nombre_de_donnees*100\n",
        "print(\"Cela correspond à\", pourcentage_pcr, \"% des données totales\")"
      ],
      "metadata": {
        "colab": {
          "base_uri": "https://localhost:8080/"
        },
        "id": "WvlPBCItNcYl",
        "outputId": "9f671b63-9677-4f87-c69a-afb271ca3bc9"
      },
      "execution_count": null,
      "outputs": [
        {
          "output_type": "stream",
          "name": "stdout",
          "text": [
            "Cela correspond à 25.44305746022798 % des données totales\n"
          ]
        }
      ]
    },
    {
      "cell_type": "markdown",
      "source": [
        "## Perturbateurs de conduite liés aux conditions climatiques [PCC]"
      ],
      "metadata": {
        "id": "-JYyKg7nQUTy"
      }
    },
    {
      "cell_type": "markdown",
      "source": [
        "### Visibilité"
      ],
      "metadata": {
        "id": "WKtqdoJElxi1"
      }
    },
    {
      "cell_type": "code",
      "source": [
        "maximum = dataframe_spark.agg({\"Visibility(km)\": \"max\"}).collect()[0][\"max(Visibility(km))\"]\n",
        "minimum = dataframe_spark.agg({\"Visibility(km)\": \"min\"}).collect()[0][\"min(Visibility(km))\"]\n",
        "print(\"La visibilité lors des accidents varient de \", minimum, \" à \", maximum, 'km')"
      ],
      "metadata": {
        "colab": {
          "base_uri": "https://localhost:8080/"
        },
        "id": "lemjfNkZlzV5",
        "outputId": "8a748b4b-7f20-43f1-f74c-530bb5125740"
      },
      "execution_count": null,
      "outputs": [
        {
          "output_type": "stream",
          "name": "stdout",
          "text": [
            "La visibilité lors des accidents varient de  0.0  à  225.30816000000002 km\n"
          ]
        }
      ]
    },
    {
      "cell_type": "code",
      "source": [
        "def repartition_donnees_visibilite(data, min, max):\n",
        "  nombre_partitions = 10\n",
        "  facteur_additif = round((min + max) / nombre_partitions, 2)\n",
        "  pas_fini = True\n",
        "  borne_min = min\n",
        "  borne_max = borne_min\n",
        "  legende = []\n",
        "  valeurs = []\n",
        "  while pas_fini:\n",
        "    borne_max += facteur_additif\n",
        "    dataframe_bis = data.filter('`Visibility(km)` < '+ str(borne_max)).filter('`Visibility(km)` >= '+ str(borne_min)).count()\n",
        "    print(str(borne_min) + \"km <= Vis. < \" + str(borne_max) + \"km : \")\n",
        "    print(dataframe_bis)\n",
        "    borne_min += facteur_additif\n",
        "    pas_fini = borne_max <= max\n",
        "    print()"
      ],
      "metadata": {
        "id": "rDiq2rAxpKeK"
      },
      "execution_count": null,
      "outputs": []
    },
    {
      "cell_type": "code",
      "source": [
        "repartition_donnees_visibilite(dataframe_spark, minimum, maximum)"
      ],
      "metadata": {
        "colab": {
          "base_uri": "https://localhost:8080/"
        },
        "id": "zBkw09X_riA4",
        "outputId": "c27984e8-649a-46fa-cb25-0011cee67409"
      },
      "execution_count": null,
      "outputs": [
        {
          "output_type": "stream",
          "name": "stdout",
          "text": [
            "0.0km <= Vis. < 22.53km : \n",
            "2766933\n",
            "\n",
            "22.53km <= Vis. < 45.06km : \n",
            "4292\n",
            "\n",
            "45.06km <= Vis. < 67.59km : \n",
            "2171\n",
            "\n",
            "67.59km <= Vis. < 90.12km : \n",
            "943\n",
            "\n",
            "90.12km <= Vis. < 112.65km : \n",
            "84\n",
            "\n",
            "112.65km <= Vis. < 135.18km : \n",
            "318\n",
            "\n",
            "135.18km <= Vis. < 157.71km : \n",
            "9\n",
            "\n",
            "157.71km <= Vis. < 180.24km : \n",
            "39\n",
            "\n",
            "180.24km <= Vis. < 202.77km : \n",
            "4\n",
            "\n",
            "202.77km <= Vis. < 225.3km : \n",
            "1\n",
            "\n",
            "225.3km <= Vis. < 247.83km : \n",
            "2\n",
            "\n"
          ]
        }
      ]
    },
    {
      "cell_type": "markdown",
      "source": [
        "La visibilité n'est vraiment pas bien répartie."
      ],
      "metadata": {
        "id": "m-2-xq6tt9LK"
      }
    },
    {
      "cell_type": "code",
      "source": [
        "valeurs_inferieures_a_2253 = dataframe_spark.filter('`Visibility(km)` < 22.53').count()\n",
        "valeurs_superieures_a_2253 = dataframe_spark.filter('`Visibility(km)` >= 22.53').count()\n",
        "print(valeurs_inferieures_a_2253, \" accidents avec une visibilté de moins de 22.53 km (première borne du graphe pour 10 partitions)\")\n",
        "print(valeurs_superieures_a_2253, \" accidents avec une visibilté d'au moins 22.53 km (première borne du graphe pour 10 partitions)\")"
      ],
      "metadata": {
        "colab": {
          "base_uri": "https://localhost:8080/"
        },
        "id": "Z4VAs0YBvJoS",
        "outputId": "24135a0a-2fdf-4e39-a226-3793f0599144"
      },
      "execution_count": null,
      "outputs": [
        {
          "output_type": "stream",
          "name": "stdout",
          "text": [
            "2766933  accidents avec une visibilté de moins de 22.53 km (première borne du graphe pour 10 partitions)\n",
            "7863  accidents avec une visibilté d'au moins 22.53 km (première borne du graphe pour 10 partitions)\n"
          ]
        }
      ]
    },
    {
      "cell_type": "code",
      "source": [
        "valeurs_inferieures = dataframe_spark.filter('`Visibility(km)` < 15').count()\n",
        "valeurs_superieures = dataframe_spark.filter('`Visibility(km)` >= 15').count()\n",
        "print(valeurs_inferieures, \" accidents avec une visibilté de moins de 15km\")\n",
        "print(valeurs_superieures, \" accidents avec une visibilté d'au moins 15km\")"
      ],
      "metadata": {
        "colab": {
          "base_uri": "https://localhost:8080/"
        },
        "id": "717RuZN7v_9D",
        "outputId": "0b0e0b1f-140f-4094-f8b3-78744ef34d97"
      },
      "execution_count": null,
      "outputs": [
        {
          "output_type": "stream",
          "name": "stdout",
          "text": [
            "533368  accidents avec une visibilté de moins de 15km\n",
            "2241428  accidents avec une visibilté d'au moins 15km\n"
          ]
        }
      ]
    },
    {
      "cell_type": "code",
      "source": [
        "val = dataframe_spark.filter('`Visibility(km)` > 15 AND `Visibility(km)` <= 20').count()\n",
        "print(val, \" accidents avec une visibilté entre 15 et 20km\")"
      ],
      "metadata": {
        "colab": {
          "base_uri": "https://localhost:8080/"
        },
        "id": "xK2HbVqtwTny",
        "outputId": "4c2095d8-0b19-4f19-955a-b2fb25162ee4"
      },
      "execution_count": null,
      "outputs": [
        {
          "output_type": "stream",
          "name": "stdout",
          "text": [
            "2230449  accidents avec une visibilté entre 15 et 20km\n"
          ]
        }
      ]
    },
    {
      "cell_type": "markdown",
      "source": [
        "2.2M d'accidents, donc la grande majorité des accidents, ont eu lieu avec une visibilité entre 15 et 20 km."
      ],
      "metadata": {
        "id": "cdjtpqO9w5hY"
      }
    },
    {
      "cell_type": "markdown",
      "source": [
        "### Vitesse du vent"
      ],
      "metadata": {
        "id": "1by9M2_ayBtI"
      }
    },
    {
      "cell_type": "code",
      "source": [
        "maximum = dataframe_spark.agg({\"Wind_Speed(kmh)\": \"max\"}).collect()[0][\"max(Wind_Speed(kmh))\"]\n",
        "minimum = dataframe_spark.agg({\"Wind_Speed(kmh)\": \"min\"}).collect()[0][\"min(Wind_Speed(kmh))\"]\n",
        "print(\"La vitesse du vent lors des accidents varient de \", minimum, \" à \", maximum, 'km/h')"
      ],
      "metadata": {
        "colab": {
          "base_uri": "https://localhost:8080/"
        },
        "id": "Ca9fMnTNyF5Z",
        "outputId": "22f39a1e-c336-4289-8074-61922d2ab11d"
      },
      "execution_count": null,
      "outputs": [
        {
          "output_type": "stream",
          "name": "stdout",
          "text": [
            "La vitesse du vent lors des accidents varient de  0.0  à  1749.3569280000002 km/h\n"
          ]
        }
      ]
    },
    {
      "cell_type": "markdown",
      "source": [
        "La vitesse du vent lors d'un accident varie entre 0 et 1749km/h. On voit ici qu'il y a un problème sur les données, car le vent ne peut pas aller aussi vite. Il est noté [ici](https://www.meteo-paris.com/actualites/meteo-extreme-quels-sont-les-records-climatiques-dans-le-monde) que le maximum de la vitesse du vent enregistrée est de 408km/h."
      ],
      "metadata": {
        "id": "NewZDkFVysYW"
      }
    },
    {
      "cell_type": "code",
      "source": [
        "print(dataframe_spark.filter(\"`Wind_Speed(kmh)` > 408\").count())"
      ],
      "metadata": {
        "colab": {
          "base_uri": "https://localhost:8080/"
        },
        "id": "4i93_2MuyuhV",
        "outputId": "0d80b403-fcef-4e8b-c8c9-893592ffe361"
      },
      "execution_count": null,
      "outputs": [
        {
          "output_type": "stream",
          "name": "stdout",
          "text": [
            "8\n"
          ]
        }
      ]
    },
    {
      "cell_type": "markdown",
      "source": [
        "Il y a 8 données supérieures à cette donnée, donc on sait que ces valeurs ne sont pas justes. On suppose que c'est un problème d'écriture de virgule et que ces données valent plus de 100km.\n",
        "\n",
        "En se servant des données se trouvant [ici](https://vigilance.meteofrance.fr/fr/dangers-meteorologiques-vent-violent), on regardera les données où le vent est supérieur à 90km/h (moyenne entre 80 et 100km/h)."
      ],
      "metadata": {
        "id": "nKgmCTxrze1Q"
      }
    },
    {
      "cell_type": "code",
      "source": [
        "borne_inf = dataframe_spark.filter(\"`Wind_Speed(kmh)` < 90\").count()\n",
        "borne_sup = dataframe_spark.filter(\"`Wind_Speed(kmh)` >= 90\").count()\n",
        "print(str(borne_inf) + \" accidents à moins de 90kmh ; \" + str(borne_sup) + \" accidents à plus de 90kmh\")"
      ],
      "metadata": {
        "colab": {
          "base_uri": "https://localhost:8080/"
        },
        "id": "GGAk5yguzrzv",
        "outputId": "29e78f8e-a9cc-4e1c-d9d1-27766258d519"
      },
      "execution_count": null,
      "outputs": [
        {
          "output_type": "stream",
          "name": "stdout",
          "text": [
            "2687291 accidents à moins de 90kmh ; 107 accidents à plus de 90kmh\n"
          ]
        }
      ]
    },
    {
      "cell_type": "code",
      "source": [
        "borne_inf = dataframe_spark.filter(\"`Wind_Speed(kmh)` < 50\").count()\n",
        "borne_sup = dataframe_spark.filter(\"`Wind_Speed(kmh)` >= 50\").count()\n",
        "print(str(borne_inf) + \" accidents à moins de 50kmh ; \" + str(borne_sup) + \" accidents à plus de 50kmh\")"
      ],
      "metadata": {
        "colab": {
          "base_uri": "https://localhost:8080/"
        },
        "id": "57MLMkXo0cNZ",
        "outputId": "a0b917e0-5878-4bd6-b345-8c56da1b863a"
      },
      "execution_count": null,
      "outputs": [
        {
          "output_type": "stream",
          "name": "stdout",
          "text": [
            "2684531 accidents à moins de 50kmh ; 2867 accidents à plus de 50kmh\n"
          ]
        }
      ]
    },
    {
      "cell_type": "code",
      "source": [
        "borne_inf = dataframe_spark.filter(\"`Wind_Speed(kmh)` < 20\").count()\n",
        "borne_sup = dataframe_spark.filter(\"`Wind_Speed(kmh)` >= 20\").count()\n",
        "print(str(borne_inf) + \" accidents à moins de 20kmh ; \" + str(borne_sup) + \" accidents à plus de 20kmh\")"
      ],
      "metadata": {
        "colab": {
          "base_uri": "https://localhost:8080/"
        },
        "id": "0dV7Zg3T0srT",
        "outputId": "8312f7e0-1dec-4901-df14-2ccda1bce215"
      },
      "execution_count": null,
      "outputs": [
        {
          "output_type": "stream",
          "name": "stdout",
          "text": [
            "2231706 accidents à moins de 20kmh ; 455692 accidents à plus de 20kmh\n"
          ]
        }
      ]
    },
    {
      "cell_type": "markdown",
      "source": [
        "### Précipitations"
      ],
      "metadata": {
        "id": "nva9UJcn1bdC"
      }
    },
    {
      "cell_type": "code",
      "source": [
        "maximum = dataframe_spark.agg({\"Precipitation(mm)\": \"max\"}).collect()[0][\"max(Precipitation(mm))\"]\n",
        "minimum = dataframe_spark.agg({\"Precipitation(mm)\": \"min\"}).collect()[0][\"min(Precipitation(mm))\"]\n",
        "print(\"Les précipitations lors des accidents varient de \", minimum, \" à \", maximum, 'mm')"
      ],
      "metadata": {
        "colab": {
          "base_uri": "https://localhost:8080/"
        },
        "id": "1458U_tN1w2S",
        "outputId": "b7f142fe-39b2-48af-d3d0-be678e63e7e6"
      },
      "execution_count": null,
      "outputs": [
        {
          "output_type": "stream",
          "name": "stdout",
          "text": [
            "Les précipitations lors des accidents varient de  0.0  à  588.0 mm\n"
          ]
        }
      ]
    },
    {
      "cell_type": "code",
      "source": [
        "pluie_faible = dataframe_spark.filter('`Precipitation(mm)` < 2').count()\n",
        "print(pluie_faible, \" accidents ont eu lieu avec une pluie faible.\")\n",
        "pluie_moderee = dataframe_spark.filter('`Precipitation(mm)` >= 2 AND `Precipitation(mm)` < 7.6').count()\n",
        "print(pluie_moderee, \" accidents ont eu lieu avec une pluie modérée.\")\n",
        "pluie_forte = dataframe_spark.filter('`Precipitation(mm)` >= 7.6').count()\n",
        "print(pluie_forte, \" accidents ont eu lieu avec une pluie forte.\")"
      ],
      "metadata": {
        "colab": {
          "base_uri": "https://localhost:8080/"
        },
        "id": "KyqL6eWq2TMK",
        "outputId": "d87addf0-554d-4103-cdda-5dc4409bb6c3"
      },
      "execution_count": null,
      "outputs": [
        {
          "output_type": "stream",
          "name": "stdout",
          "text": [
            "2248378  accidents ont eu lieu avec une pluie faible.\n",
            "39340  accidents ont eu lieu avec une pluie modérée.\n",
            "8166  accidents ont eu lieu avec une pluie forte.\n"
          ]
        }
      ]
    },
    {
      "cell_type": "markdown",
      "source": [
        "### Conditions climatiques"
      ],
      "metadata": {
        "id": "DJDjBpf03jE2"
      }
    },
    {
      "cell_type": "code",
      "source": [
        "compteur_valeurs = dataframe_spark.groupBy(\"Weather_Condition\").count().sort('count', ascending=False)\n",
        "compteur_valeurs.show()"
      ],
      "metadata": {
        "colab": {
          "base_uri": "https://localhost:8080/"
        },
        "id": "dF-yzpWn3hYc",
        "outputId": "2b629b1f-57a7-4e83-e9eb-1a425973f479"
      },
      "execution_count": null,
      "outputs": [
        {
          "output_type": "stream",
          "name": "stdout",
          "text": [
            "+--------------------+-------+\n",
            "|   Weather_Condition|  count|\n",
            "+--------------------+-------+\n",
            "|                Fair|1107194|\n",
            "|       Mostly Cloudy| 363959|\n",
            "|              Cloudy| 348767|\n",
            "|       Partly Cloudy| 249939|\n",
            "|               Clear| 173823|\n",
            "|          Light Rain| 128403|\n",
            "|            Overcast|  84882|\n",
            "|                null|  70636|\n",
            "|    Scattered Clouds|  45132|\n",
            "|          Light Snow|  43752|\n",
            "|                 Fog|  41226|\n",
            "|                Haze|  36354|\n",
            "|                Rain|  31044|\n",
            "|        Fair / Windy|  15195|\n",
            "|          Heavy Rain|  11824|\n",
            "|               Smoke|   7200|\n",
            "|       Light Drizzle|   7041|\n",
            "|Thunder in the Vi...|   6944|\n",
            "|      Cloudy / Windy|   6839|\n",
            "|             T-Storm|   6546|\n",
            "+--------------------+-------+\n",
            "only showing top 20 rows\n",
            "\n"
          ]
        }
      ]
    },
    {
      "cell_type": "markdown",
      "source": [
        "La grande majorité des accidents ont lieu avec un temps clair. De plus, la pluie arrive en sizième position, et ce n'est qu'une pluie légère."
      ],
      "metadata": {
        "id": "hgB1DNA14D_C"
      }
    },
    {
      "cell_type": "markdown",
      "source": [
        "### Jour et nuit (basé sur sunrise/sunset)"
      ],
      "metadata": {
        "id": "EKS0P4yR4cMg"
      }
    },
    {
      "cell_type": "code",
      "source": [
        "compteur_valeurs = dataframe_spark.groupBy(\"Sunrise_Sunset\").count().sort('count', ascending=False)\n",
        "compteur_valeurs.show()"
      ],
      "metadata": {
        "colab": {
          "base_uri": "https://localhost:8080/"
        },
        "id": "Q1G73r1H4fuR",
        "outputId": "e0feb73c-e9fd-486b-b48a-b561fff14cf0"
      },
      "execution_count": null,
      "outputs": [
        {
          "output_type": "stream",
          "name": "stdout",
          "text": [
            "+--------------+-------+\n",
            "|Sunrise_Sunset|  count|\n",
            "+--------------+-------+\n",
            "|           Day|1811935|\n",
            "|         Night|1030540|\n",
            "|          null|   2867|\n",
            "+--------------+-------+\n",
            "\n"
          ]
        }
      ]
    },
    {
      "cell_type": "markdown",
      "source": [
        "La majorité des accidents se déroulent le jour, même si on n'a pas un écart aussi grand que pour d'autre variables. Il y a cependant 1.8 fois plus d'accidents de jours que de nuit. C'est lié au fait qu'il y a plus de traffic le jour, et donc plus de risques d'accidents."
      ],
      "metadata": {
        "id": "asqDZP0r4zXC"
      }
    },
    {
      "cell_type": "markdown",
      "source": [
        "### Jour et nuit (basé sur le crépuscule civil)"
      ],
      "metadata": {
        "id": "-zJ-wdY-5-Pi"
      }
    },
    {
      "cell_type": "code",
      "source": [
        "compteur_valeurs = dataframe_spark.groupBy(\"Civil_Twilight\").count().sort('count', ascending=False)\n",
        "compteur_valeurs.show()"
      ],
      "metadata": {
        "colab": {
          "base_uri": "https://localhost:8080/"
        },
        "id": "uwjZpbZ06BRS",
        "outputId": "fd25cd1e-cc2b-4e14-b00a-40d179ea8e43"
      },
      "execution_count": null,
      "outputs": [
        {
          "output_type": "stream",
          "name": "stdout",
          "text": [
            "+--------------+-------+\n",
            "|Civil_Twilight|  count|\n",
            "+--------------+-------+\n",
            "|           Day|1929103|\n",
            "|         Night| 913372|\n",
            "|          null|   2867|\n",
            "+--------------+-------+\n",
            "\n"
          ]
        }
      ]
    },
    {
      "cell_type": "markdown",
      "source": [
        "On remarque un décalage entre les valeurs Jour et Nuit pour ces deux indicateurs. En effet, ils n'utilisent pas la même règle de décision. Cependant, les données sont comparables car les résultats sont proches."
      ],
      "metadata": {
        "id": "zqNTxUCE6OE0"
      }
    },
    {
      "cell_type": "markdown",
      "source": [
        "# Interprétation des données avec BigQuery"
      ],
      "metadata": {
        "id": "MhyewUCTBpum"
      }
    },
    {
      "cell_type": "markdown",
      "source": [
        "On va maintenant interpréter les données avec Big Query, et utiliser les différentes fonctionnalités du langage pour conserver certains résultats utiles dans des tables. Vous pouvez accéder à l'interface graphique de GBQ [ici](https://console.cloud.google.com)."
      ],
      "metadata": {
        "id": "6xQRz9Z3KPuY"
      }
    },
    {
      "cell_type": "markdown",
      "source": [
        "## Préparation des données"
      ],
      "metadata": {
        "id": "dTSfgC93PQhJ"
      }
    },
    {
      "cell_type": "markdown",
      "source": [
        "On renomme les colonnes où il y a des parenthèses, en les remplaçant par des \"_\", car les parenthèses ne sont pas bien gérées par BigQuery."
      ],
      "metadata": {
        "id": "gFbdzlsxPqot"
      }
    },
    {
      "cell_type": "code",
      "source": [
        "dataframe.dtypes"
      ],
      "metadata": {
        "colab": {
          "base_uri": "https://localhost:8080/"
        },
        "id": "lqrT_uR3IflS",
        "outputId": "be946c59-d8b2-445b-db94-397e3c319512"
      },
      "execution_count": null,
      "outputs": [
        {
          "output_type": "execute_result",
          "data": {
            "text/plain": [
              "ID                               string\n",
              "Severity                          int64\n",
              "Start_Time               datetime64[ns]\n",
              "End_Time                 datetime64[ns]\n",
              "Start_Lat                       float64\n",
              "Start_Lng                       float64\n",
              "End_Lat                         float64\n",
              "End_Lng                         float64\n",
              "Distance(km)                    float64\n",
              "Description                      string\n",
              "Number                          float64\n",
              "Street                           string\n",
              "Side                             string\n",
              "City                             string\n",
              "County                           string\n",
              "State                            string\n",
              "Zipcode                          string\n",
              "Country                          string\n",
              "Timezone                         string\n",
              "Airport_Code                     string\n",
              "Weather_Timestamp                string\n",
              "Temperature(C)                  float64\n",
              "Wind_Chill(C)                   float64\n",
              "Humidity(%)                     float64\n",
              "Pressure(in)                    float64\n",
              "Visibility(km)                  float64\n",
              "Wind_Direction                   string\n",
              "Wind_Speed(kmh)                 float64\n",
              "Precipitation(mm)               float64\n",
              "Weather_Condition                string\n",
              "Amenity                            bool\n",
              "Bump                               bool\n",
              "Crossing                           bool\n",
              "Give_Way                           bool\n",
              "Junction                           bool\n",
              "No_Exit                            bool\n",
              "Railway                            bool\n",
              "Roundabout                         bool\n",
              "Station                            bool\n",
              "Stop                               bool\n",
              "Traffic_Calming                    bool\n",
              "Traffic_Signal                     bool\n",
              "Turning_Loop                       bool\n",
              "Sunrise_Sunset                   string\n",
              "Civil_Twilight                   string\n",
              "Nautical_Twilight                string\n",
              "Astronomical_Twilight            string\n",
              "dtype: object"
            ]
          },
          "metadata": {},
          "execution_count": 318
        }
      ]
    },
    {
      "cell_type": "code",
      "source": [
        "dataframe_big_query = dataframe.rename({'Distance(km)': 'Distance_km_', 'Temperature(C)': 'Temperature_C_', 'Wind_Chill(C)': 'Wind_Chill_C_'}, axis='columns')\n",
        "dataframe_big_query = dataframe_big_query.rename({'Humidity(%)': 'Humidity_prct_', 'Pressure(in)': 'Pressure_in_', 'Visibility(km)': 'Visibility_km_'}, axis='columns')\n",
        "dataframe_big_query = dataframe_big_query.rename({'Wind_Speed(kmh)': 'Wind_Speed_kmh_', 'Precipitation(mm)': 'Precipitation_mm_'}, axis='columns')"
      ],
      "metadata": {
        "id": "1J9gbwCbMKpS"
      },
      "execution_count": null,
      "outputs": []
    },
    {
      "cell_type": "markdown",
      "source": [
        "On convertit les timestamp[ns] en timestamp[s], car les premiers cités sont sources d'erreurs lors du loadJobConfig."
      ],
      "metadata": {
        "id": "jZ_r7aH6aGFY"
      }
    },
    {
      "cell_type": "code",
      "source": [
        "dataframe_big_query['Start_Time'] =dataframe_big_query['Start_Time'].astype('datetime64[s]')\n",
        "dataframe_big_query['End_Time'] =dataframe_big_query['End_Time'].astype('datetime64[s]')"
      ],
      "metadata": {
        "id": "ENjkycyqaWLz"
      },
      "execution_count": null,
      "outputs": []
    },
    {
      "cell_type": "code",
      "source": [
        "dataframe_big_query.dtypes"
      ],
      "metadata": {
        "colab": {
          "base_uri": "https://localhost:8080/"
        },
        "id": "EmZZRmQGNK1k",
        "outputId": "3b862442-f7ee-4a40-b464-2a8a72aa7199"
      },
      "execution_count": null,
      "outputs": [
        {
          "output_type": "execute_result",
          "data": {
            "text/plain": [
              "ID                               string\n",
              "Severity                          int64\n",
              "Start_Time               datetime64[ns]\n",
              "End_Time                 datetime64[ns]\n",
              "Start_Lat                       float64\n",
              "Start_Lng                       float64\n",
              "End_Lat                         float64\n",
              "End_Lng                         float64\n",
              "Distance_km_                    float64\n",
              "Description                      string\n",
              "Number                          float64\n",
              "Street                           string\n",
              "Side                             string\n",
              "City                             string\n",
              "County                           string\n",
              "State                            string\n",
              "Zipcode                          string\n",
              "Country                          string\n",
              "Timezone                         string\n",
              "Airport_Code                     string\n",
              "Weather_Timestamp                string\n",
              "Temperature_C_                  float64\n",
              "Wind_Chill_C_                   float64\n",
              "Humidity_prct_                  float64\n",
              "Pressure_in_                    float64\n",
              "Visibility_km_                  float64\n",
              "Wind_Direction                   string\n",
              "Wind_Speed_kmh_                 float64\n",
              "Precipitation_mm_               float64\n",
              "Weather_Condition                string\n",
              "Amenity                            bool\n",
              "Bump                               bool\n",
              "Crossing                           bool\n",
              "Give_Way                           bool\n",
              "Junction                           bool\n",
              "No_Exit                            bool\n",
              "Railway                            bool\n",
              "Roundabout                         bool\n",
              "Station                            bool\n",
              "Stop                               bool\n",
              "Traffic_Calming                    bool\n",
              "Traffic_Signal                     bool\n",
              "Turning_Loop                       bool\n",
              "Sunrise_Sunset                   string\n",
              "Civil_Twilight                   string\n",
              "Nautical_Twilight                string\n",
              "Astronomical_Twilight            string\n",
              "dtype: object"
            ]
          },
          "metadata": {},
          "execution_count": 321
        }
      ]
    },
    {
      "cell_type": "code",
      "source": [
        "colonnes_big_query = dataframe_big_query.columns"
      ],
      "metadata": {
        "id": "dwBn7iCJshcg"
      },
      "execution_count": null,
      "outputs": []
    },
    {
      "cell_type": "markdown",
      "source": [
        "## Insertion des données dans Big Query"
      ],
      "metadata": {
        "id": "oMpsm2j2JQyp"
      }
    },
    {
      "cell_type": "markdown",
      "source": [
        "On insère la table dans Big Query. On initialise le paramètre `write_disposition` à \"WRITE_TRUNCATE\" pour que la table se crée à chaque fois, et que les données ne s'empilent pas à la suite."
      ],
      "metadata": {
        "id": "aiNk8l6iJUX4"
      }
    },
    {
      "cell_type": "code",
      "source": [
        "client = bigquery.Client(project=\"big-data-fintech-labat\")"
      ],
      "metadata": {
        "id": "oNeTtHUQMi65"
      },
      "execution_count": null,
      "outputs": []
    },
    {
      "cell_type": "code",
      "source": [
        "table_id = \"tables_projet_labat.US_accidents\"\n",
        "\n",
        "job_config = bigquery.LoadJobConfig(\n",
        "    schema=[\n",
        "        bigquery.SchemaField(\"ID\", \"STRING\"),\n",
        "        bigquery.SchemaField(\"Severity\", \"INTEGER\"),\n",
        "        bigquery.SchemaField(\"Start_Time\", \"TIMESTAMP\"),\n",
        "        bigquery.SchemaField(\"End_Time\", \"TIMESTAMP\"),\n",
        "        bigquery.SchemaField(\"Start_Lat\", \"FLOAT\"),\n",
        "        bigquery.SchemaField(\"Start_Lng\", \"FLOAT\"),\n",
        "        bigquery.SchemaField(\"End_Lat\", \"FLOAT\"),\n",
        "        bigquery.SchemaField(\"End_Lng\", \"FLOAT\"),\n",
        "        bigquery.SchemaField(\"Distance_km_\", \"FLOAT\"),\n",
        "        bigquery.SchemaField(\"Description\", \"STRING\"),\n",
        "        bigquery.SchemaField(\"Number\", \"FLOAT\"),\n",
        "        bigquery.SchemaField(\"Street\", \"STRING\"),\n",
        "        bigquery.SchemaField(\"Side\", \"STRING\"),\n",
        "        bigquery.SchemaField(\"City\", \"STRING\"),\n",
        "        bigquery.SchemaField(\"County\", \"STRING\"),\n",
        "        bigquery.SchemaField(\"State\", \"STRING\"),\n",
        "        bigquery.SchemaField(\"Zipcode\", \"STRING\"),\n",
        "        bigquery.SchemaField(\"Country\", \"STRING\"),\n",
        "        bigquery.SchemaField(\"Timezone\", \"STRING\"),\n",
        "        bigquery.SchemaField(\"Airport_Code\", \"STRING\"),\n",
        "        bigquery.SchemaField(\"Weather_Timestamp\", \"STRING\"),\n",
        "        bigquery.SchemaField(\"Temperature_C_\", \"FLOAT\"),\n",
        "        bigquery.SchemaField(\"Wind_Chill_C_\", \"FLOAT\"),\n",
        "        bigquery.SchemaField(\"Humidity_prct_\", \"FLOAT\"),\n",
        "        bigquery.SchemaField(\"Pressure_in_\", \"FLOAT\"),\n",
        "        bigquery.SchemaField(\"Visibility_km_\", \"FLOAT\"),\n",
        "        bigquery.SchemaField(\"Wind_Direction\", \"STRING\"),\n",
        "        bigquery.SchemaField(\"Wind_Speed_kmh_\", \"FLOAT\"),\n",
        "        bigquery.SchemaField(\"Precipitation_mm_\", \"FLOAT\"),\n",
        "        bigquery.SchemaField(\"Weather_Condition\", \"STRING\"),\n",
        "        bigquery.SchemaField(\"Amenity\", \"BOOLEAN\"),\n",
        "        bigquery.SchemaField(\"Bump\", \"BOOLEAN\"),\n",
        "        bigquery.SchemaField(\"Crossing\", \"BOOLEAN\"),\n",
        "        bigquery.SchemaField(\"Give_Way\", \"BOOLEAN\"),\n",
        "        bigquery.SchemaField(\"Junction\", \"BOOLEAN\"),\n",
        "        bigquery.SchemaField(\"No_Exit\", \"BOOLEAN\"),\n",
        "        bigquery.SchemaField(\"Railway\", \"BOOLEAN\"),\n",
        "        bigquery.SchemaField(\"Roundabout\", \"BOOLEAN\"),\n",
        "        bigquery.SchemaField(\"Station\", \"BOOLEAN\"),\n",
        "        bigquery.SchemaField(\"Stop\", \"BOOLEAN\"),\n",
        "        bigquery.SchemaField(\"Traffic_Calming\", \"BOOLEAN\"),\n",
        "        bigquery.SchemaField(\"Traffic_Signal\", \"BOOLEAN\"),\n",
        "        bigquery.SchemaField(\"Turning_Loop\", \"BOOLEAN\"),\n",
        "        bigquery.SchemaField(\"Sunrise_Sunset\", \"STRING\"),\n",
        "        bigquery.SchemaField(\"Civil_Twilight\", \"STRING\"),\n",
        "        bigquery.SchemaField(\"Nautical_Twilight\", \"STRING\"),\n",
        "        bigquery.SchemaField(\"Astronomical_Twilight\", \"STRING\"),\n",
        "    ],\n",
        "    write_disposition='WRITE_TRUNCATE'\n",
        ")\n",
        "\n",
        "load_job = client.load_table_from_dataframe(\n",
        "  dataframe_big_query,\n",
        "  table_id,\n",
        "  job_config=job_config\n",
        ")\n",
        "\n",
        "load_job.result()  # Wait for the job to complete.\n",
        "\n",
        "table = client.get_table(table_id)\n",
        "print(\"Loaded {} rows to table {}\".format(table.num_rows, table_id))"
      ],
      "metadata": {
        "colab": {
          "base_uri": "https://localhost:8080/"
        },
        "id": "slGiKAVGJIPU",
        "outputId": "d3ddc61d-1088-47d0-bffa-9ac2913a08ae"
      },
      "execution_count": null,
      "outputs": [
        {
          "output_type": "stream",
          "name": "stdout",
          "text": [
            "Loaded 2845342 rows to table tables_projet_labat.US_accidents\n"
          ]
        }
      ]
    },
    {
      "cell_type": "markdown",
      "source": [
        "## Représentation basique des données"
      ],
      "metadata": {
        "id": "6YGKGt1kk3EB"
      }
    },
    {
      "cell_type": "markdown",
      "source": [
        "### Nombre de données"
      ],
      "metadata": {
        "id": "H9VfUOb2nLLA"
      }
    },
    {
      "cell_type": "code",
      "source": [
        "job_config = bigquery.QueryJobConfig(\n",
        "    # Run at batch priority, which won't count toward concurrent rate limit.\n",
        "    priority=bigquery.QueryPriority.BATCH\n",
        ")\n",
        "\n",
        "sql = \"\"\"\n",
        "    SELECT COUNT(ID) AS Nombre_de_donnees\n",
        "    FROM tables_projet_labat.US_accidents\n",
        "\"\"\"\n",
        "\n",
        "# Start the query, passing in the extra configuration.\n",
        "query_job = client.query(sql, job_config=job_config)  # Make an API request.\n",
        "\n",
        "while(query_job.state != \"DONE\"):\n",
        "  # Check on the progress by getting the job's updated state. Once the state\n",
        "  # is `DONE`, the results are ready.\n",
        "  query_job = client.get_job(\n",
        "      query_job.job_id, location=query_job.location\n",
        "  )  # Make an API request.\n",
        "\n",
        "print(\"Job {} is currently in state {}\".format(query_job.job_id, query_job.state))\n",
        "\n",
        "print(\"The query data:\")\n",
        "for row in query_job:\n",
        "    # Row values can be accessed by field name or index.\n",
        "    chaine = \"\"\n",
        "    # Parcours des colonnes de chaque row\n",
        "    for i in range(len(row)):\n",
        "      chaine += query_job._query_results._properties['schema']['fields'][i]['name'] + \" : \" + str(row[i]) + \" ; \"\n",
        "    print(chaine)"
      ],
      "metadata": {
        "colab": {
          "base_uri": "https://localhost:8080/"
        },
        "outputId": "4ab1b69d-70ea-4e9a-a208-e52e168fb1f4",
        "id": "WS59L-yPk3EE"
      },
      "execution_count": null,
      "outputs": [
        {
          "output_type": "stream",
          "name": "stdout",
          "text": [
            "Job d8ffe815-0d80-4e3c-b24a-c9c5576e6f5e is currently in state DONE\n",
            "The query data:\n",
            "Nombre_de_donnees : 2845342 ; \n"
          ]
        }
      ]
    },
    {
      "cell_type": "markdown",
      "source": [
        "### Colonnes du dataset"
      ],
      "metadata": {
        "id": "qYon6SmCnOK6"
      }
    },
    {
      "cell_type": "code",
      "source": [
        "job_config = bigquery.QueryJobConfig(\n",
        "    # Run at batch priority, which won't count toward concurrent rate limit.\n",
        "    priority=bigquery.QueryPriority.BATCH\n",
        ")\n",
        "\n",
        "sql = \"\"\"\n",
        "    SELECT column_name\n",
        "    FROM big-data-fintech-labat.tables_projet_labat.INFORMATION_SCHEMA.COLUMNS\n",
        "    WHERE table_name = 'US_accidents'\n",
        "\"\"\"\n",
        "\n",
        "# Start the query, passing in the extra configuration.\n",
        "query_job = client.query(sql, job_config=job_config)  # Make an API request.\n",
        "\n",
        "while(query_job.state != \"DONE\"):\n",
        "  # Check on the progress by getting the job's updated state. Once the state\n",
        "  # is `DONE`, the results are ready.\n",
        "  query_job = client.get_job(\n",
        "      query_job.job_id, location=query_job.location\n",
        "  )  # Make an API request.\n",
        "\n",
        "print(\"Job {} is currently in state {}\".format(query_job.job_id, query_job.state))\n",
        "\n",
        "print(\"The query data:\")\n",
        "\n",
        "for row in query_job:\n",
        "    # Row values can be accessed by field name or index.\n",
        "    chaine = \"\"\n",
        "    # Parcours des colonnes de chaque row\n",
        "    for i in range(len(row)):\n",
        "      chaine += query_job._query_results._properties['schema']['fields'][i]['name'] + \" : \" + str(row[i]) + \" ; \"\n",
        "    print(chaine)"
      ],
      "metadata": {
        "colab": {
          "base_uri": "https://localhost:8080/"
        },
        "outputId": "bf103455-ecbd-43e7-8324-62f3c5fee7b8",
        "id": "BXLR2vQZk3EF"
      },
      "execution_count": null,
      "outputs": [
        {
          "output_type": "stream",
          "name": "stdout",
          "text": [
            "Job 2ef7089e-2b14-45ef-a89f-37f1286505c1 is currently in state DONE\n",
            "The query data:\n",
            "column_name : ID ; \n",
            "column_name : Severity ; \n",
            "column_name : Start_Time ; \n",
            "column_name : End_Time ; \n",
            "column_name : Start_Lat ; \n",
            "column_name : Start_Lng ; \n",
            "column_name : End_Lat ; \n",
            "column_name : End_Lng ; \n",
            "column_name : Distance_km_ ; \n",
            "column_name : Description ; \n",
            "column_name : Number ; \n",
            "column_name : Street ; \n",
            "column_name : Side ; \n",
            "column_name : City ; \n",
            "column_name : County ; \n",
            "column_name : State ; \n",
            "column_name : Zipcode ; \n",
            "column_name : Country ; \n",
            "column_name : Timezone ; \n",
            "column_name : Airport_Code ; \n",
            "column_name : Weather_Timestamp ; \n",
            "column_name : Temperature_C_ ; \n",
            "column_name : Wind_Chill_C_ ; \n",
            "column_name : Humidity_prct_ ; \n",
            "column_name : Pressure_in_ ; \n",
            "column_name : Visibility_km_ ; \n",
            "column_name : Wind_Direction ; \n",
            "column_name : Wind_Speed_kmh_ ; \n",
            "column_name : Precipitation_mm_ ; \n",
            "column_name : Weather_Condition ; \n",
            "column_name : Amenity ; \n",
            "column_name : Bump ; \n",
            "column_name : Crossing ; \n",
            "column_name : Give_Way ; \n",
            "column_name : Junction ; \n",
            "column_name : No_Exit ; \n",
            "column_name : Railway ; \n",
            "column_name : Roundabout ; \n",
            "column_name : Station ; \n",
            "column_name : Stop ; \n",
            "column_name : Traffic_Calming ; \n",
            "column_name : Traffic_Signal ; \n",
            "column_name : Turning_Loop ; \n",
            "column_name : Sunrise_Sunset ; \n",
            "column_name : Civil_Twilight ; \n",
            "column_name : Nautical_Twilight ; \n",
            "column_name : Astronomical_Twilight ; \n"
          ]
        }
      ]
    },
    {
      "cell_type": "markdown",
      "source": [
        "### Description"
      ],
      "metadata": {
        "id": "RGurF26lknlm"
      }
    },
    {
      "cell_type": "markdown",
      "source": [
        "#### Nombre de données"
      ],
      "metadata": {
        "id": "pt6SaEkHtpKV"
      }
    },
    {
      "cell_type": "code",
      "source": [
        "for element in colonnes_big_query:\n",
        "  job_config = bigquery.QueryJobConfig(\n",
        "      # Run at batch priority, which won't count toward concurrent rate limit.\n",
        "      priority=bigquery.QueryPriority.BATCH\n",
        "  )\n",
        "\n",
        "  sql = \"SELECT COUNT(\" + element + \") AS nombre_donnees_\" + element + \" FROM tables_projet_labat.US_accidents\"\n",
        "\n",
        "  # Start the query, passing in the extra configuration.\n",
        "  query_job = client.query(sql, job_config=job_config)  # Make an API request.\n",
        "\n",
        "  while(query_job.state != \"DONE\"):\n",
        "    # Check on the progress by getting the job's updated state. Once the state\n",
        "    # is `DONE`, the results are ready.\n",
        "    query_job = client.get_job(\n",
        "        query_job.job_id, location=query_job.location\n",
        "    )  # Make an API request.\n",
        "\n",
        "  for row in query_job:\n",
        "      # Row values can be accessed by field name or index.\n",
        "      chaine = \"\"\n",
        "      # Parcours des colonnes de chaque row\n",
        "      for i in range(len(row)):\n",
        "        chaine += query_job._query_results._properties['schema']['fields'][i]['name'] + \" : \" + str(row[i]) + \" ; \"\n",
        "      print(chaine)"
      ],
      "metadata": {
        "colab": {
          "base_uri": "https://localhost:8080/"
        },
        "id": "RKyKjp82tmoC",
        "outputId": "bf671854-3e7f-44b7-fb48-04f06c61cae4"
      },
      "execution_count": null,
      "outputs": [
        {
          "output_type": "stream",
          "name": "stdout",
          "text": [
            "nombre_donnees_ID : 2845342 ; \n",
            "nombre_donnees_Severity : 2845342 ; \n",
            "nombre_donnees_Start_Time : 2845342 ; \n",
            "nombre_donnees_End_Time : 2845342 ; \n",
            "nombre_donnees_Start_Lat : 2845342 ; \n",
            "nombre_donnees_Start_Lng : 2845342 ; \n",
            "nombre_donnees_End_Lat : 2845342 ; \n",
            "nombre_donnees_End_Lng : 2845342 ; \n",
            "nombre_donnees_Distance_km_ : 2845342 ; \n",
            "nombre_donnees_Description : 2845342 ; \n",
            "nombre_donnees_Number : 1101431 ; \n",
            "nombre_donnees_Street : 2845340 ; \n",
            "nombre_donnees_Side : 2845342 ; \n",
            "nombre_donnees_City : 2845205 ; \n",
            "nombre_donnees_County : 2845342 ; \n",
            "nombre_donnees_State : 2845342 ; \n",
            "nombre_donnees_Zipcode : 2844023 ; \n",
            "nombre_donnees_Country : 2845342 ; \n",
            "nombre_donnees_Timezone : 2841683 ; \n",
            "nombre_donnees_Airport_Code : 2835793 ; \n",
            "nombre_donnees_Weather_Timestamp : 2794606 ; \n",
            "nombre_donnees_Temperature_C_ : 2776068 ; \n",
            "nombre_donnees_Wind_Chill_C_ : 2375699 ; \n",
            "nombre_donnees_Humidity_prct_ : 2772250 ; \n",
            "nombre_donnees_Pressure_in_ : 2786142 ; \n",
            "nombre_donnees_Visibility_km_ : 2774796 ; \n",
            "nombre_donnees_Wind_Direction : 2771567 ; \n",
            "nombre_donnees_Wind_Speed_kmh_ : 2687398 ; \n",
            "nombre_donnees_Precipitation_mm_ : 2295884 ; \n",
            "nombre_donnees_Weather_Condition : 2774706 ; \n",
            "nombre_donnees_Amenity : 2845342 ; \n",
            "nombre_donnees_Bump : 2845342 ; \n",
            "nombre_donnees_Crossing : 2845342 ; \n",
            "nombre_donnees_Give_Way : 2845342 ; \n",
            "nombre_donnees_Junction : 2845342 ; \n",
            "nombre_donnees_No_Exit : 2845342 ; \n",
            "nombre_donnees_Railway : 2845342 ; \n",
            "nombre_donnees_Roundabout : 2845342 ; \n",
            "nombre_donnees_Station : 2845342 ; \n",
            "nombre_donnees_Stop : 2845342 ; \n",
            "nombre_donnees_Traffic_Calming : 2845342 ; \n",
            "nombre_donnees_Traffic_Signal : 2845342 ; \n",
            "nombre_donnees_Turning_Loop : 2845342 ; \n",
            "nombre_donnees_Sunrise_Sunset : 2842475 ; \n",
            "nombre_donnees_Civil_Twilight : 2842475 ; \n",
            "nombre_donnees_Nautical_Twilight : 2842475 ; \n",
            "nombre_donnees_Astronomical_Twilight : 2842475 ; \n"
          ]
        }
      ]
    },
    {
      "cell_type": "markdown",
      "source": [
        "#### Moyennes"
      ],
      "metadata": {
        "id": "dQ-oT4-JtcTW"
      }
    },
    {
      "cell_type": "code",
      "source": [
        "type(dataframe_big_query[\"Severity\"][0])"
      ],
      "metadata": {
        "colab": {
          "base_uri": "https://localhost:8080/"
        },
        "id": "CTFurpE8vESp",
        "outputId": "cdc9bd85-9e04-4d1f-f557-1a6df6941026"
      },
      "execution_count": null,
      "outputs": [
        {
          "output_type": "execute_result",
          "data": {
            "text/plain": [
              "numpy.int64"
            ]
          },
          "metadata": {},
          "execution_count": 328
        }
      ]
    },
    {
      "cell_type": "code",
      "source": [
        "for element in colonnes_big_query:\n",
        "  if (type(dataframe_big_query[element][0]) == np.float64 or type(dataframe_big_query[element][0]) == np.int64):\n",
        "    job_config = bigquery.QueryJobConfig(\n",
        "        # Run at batch priority, which won't count toward concurrent rate limit.\n",
        "        priority=bigquery.QueryPriority.BATCH\n",
        "    )\n",
        "\n",
        "    sql = \"SELECT AVG(\" + element + \") AS moyenne_\" + element + \" FROM tables_projet_labat.US_accidents\"\n",
        "\n",
        "    # Start the query, passing in the extra configuration.\n",
        "    query_job = client.query(sql, job_config=job_config)  # Make an API request.\n",
        "\n",
        "    while(query_job.state != \"DONE\"):\n",
        "      # Check on the progress by getting the job's updated state. Once the state\n",
        "      # is `DONE`, the results are ready.\n",
        "      query_job = client.get_job(\n",
        "          query_job.job_id, location=query_job.location\n",
        "      )  # Make an API request.\n",
        "\n",
        "    for row in query_job:\n",
        "        # Row values can be accessed by field name or index.\n",
        "        chaine = \"\"\n",
        "        # Parcours des colonnes de chaque row\n",
        "        for i in range(len(row)):\n",
        "          chaine += query_job._query_results._properties['schema']['fields'][i]['name'] + \" : \" + str(row[i]) + \" ; \"\n",
        "        print(chaine)"
      ],
      "metadata": {
        "colab": {
          "base_uri": "https://localhost:8080/"
        },
        "id": "trDtGBW2pW3-",
        "outputId": "79f3a1ed-62c9-4d5d-c2fe-66a9a166a372"
      },
      "execution_count": null,
      "outputs": [
        {
          "output_type": "stream",
          "name": "stdout",
          "text": [
            "moyenne_Severity : 2.1375715116145053 ; \n",
            "moyenne_Start_Lat : 36.245200541859326 ; \n",
            "moyenne_Start_Lng : -97.11463289012596 ; \n",
            "moyenne_End_Lat : 36.245320793690546 ; \n",
            "moyenne_End_Lng : -97.11438709551545 ; \n",
            "moyenne_Distance_km_ : 1.1308504536201451 ; \n",
            "moyenne_Number : 8089.408113626717 ; \n",
            "moyenne_Temperature_C_ : 16.551975511967246 ; \n",
            "moyenne_Wind_Chill_C_ : 15.365683835461878 ; \n",
            "moyenne_Humidity_prct_ : 64.36545224997694 ; \n",
            "moyenne_Pressure_in_ : 29.47234438158563 ; \n",
            "moyenne_Visibility_km_ : 14.644050808735363 ; \n",
            "moyenne_Wind_Speed_kmh_ : 11.901170017201625 ; \n",
            "moyenne_Precipitation_mm_ : 0.17191502706582734 ; \n"
          ]
        }
      ]
    },
    {
      "cell_type": "markdown",
      "source": [
        "#### Min et max"
      ],
      "metadata": {
        "id": "JNDtMR4iykik"
      }
    },
    {
      "cell_type": "code",
      "source": [
        "for element in colonnes_big_query:\n",
        "  job_config = bigquery.QueryJobConfig(\n",
        "      # Run at batch priority, which won't count toward concurrent rate limit.\n",
        "      priority=bigquery.QueryPriority.BATCH\n",
        "  )\n",
        "\n",
        "  sql = \"SELECT MIN(\" + element + \") AS min_\" + element + \" FROM tables_projet_labat.US_accidents\"\n",
        "\n",
        "  # Start the query, passing in the extra configuration.\n",
        "  query_job = client.query(sql, job_config=job_config)  # Make an API request.\n",
        "\n",
        "  while(query_job.state != \"DONE\"):\n",
        "    # Check on the progress by getting the job's updated state. Once the state\n",
        "    # is `DONE`, the results are ready.\n",
        "    query_job = client.get_job(\n",
        "        query_job.job_id, location=query_job.location\n",
        "    )  # Make an API request.\n",
        "\n",
        "  for row in query_job:\n",
        "      # Row values can be accessed by field name or index.\n",
        "      chaine = \"\"\n",
        "      # Parcours des colonnes de chaque row\n",
        "      #print(row)\n",
        "      for i in range(len(row)):\n",
        "        chaine += query_job._query_results._properties['schema']['fields'][i]['name'] + \" : \" + str(row[i]) + \" ; \"\n",
        "      print(chaine)"
      ],
      "metadata": {
        "colab": {
          "base_uri": "https://localhost:8080/"
        },
        "id": "6tggd7YtyjOs",
        "outputId": "0a54baa7-86b4-4f7d-d19a-dfeec29e1fbb"
      },
      "execution_count": null,
      "outputs": [
        {
          "output_type": "stream",
          "name": "stdout",
          "text": [
            "min_ID : A-1 ; \n",
            "min_Severity : 1 ; \n",
            "min_Start_Time : 2016-01-14 20:18:33+00:00 ; \n",
            "min_End_Time : 2016-02-08 06:37:08+00:00 ; \n",
            "min_Start_Lat : 24.566027 ; \n",
            "min_Start_Lng : -124.548074 ; \n",
            "min_End_Lat : 24.566013 ; \n",
            "min_End_Lng : -124.545748 ; \n",
            "min_Distance_km_ : 0.0 ; \n",
            "min_Description :  1039 GOLDEN BEAR - BOT ; \n",
            "min_Number : 0.0 ; \n",
            "min_Street :  1 1/2 Ave ; \n",
            "min_Side : L ; \n",
            "min_City : Aaronsburg ; \n",
            "min_County : Abbeville ; \n",
            "min_State : AL ; \n",
            "min_Zipcode : 01001 ; \n",
            "min_Country : US ; \n",
            "min_Timezone : US/Central ; \n",
            "min_Airport_Code : K01M ; \n",
            "min_Weather_Timestamp : 2016-01-14 19:51:00 ; \n",
            "min_Temperature_C_ : -67.22222222222221 ; \n",
            "min_Wind_Chill_C_ : -67.22222222222221 ; \n",
            "min_Humidity_prct_ : 1.0 ; \n",
            "min_Pressure_in_ : 0.0 ; \n",
            "min_Visibility_km_ : 0.0 ; \n",
            "min_Wind_Direction : CALM ; \n",
            "min_Wind_Speed_kmh_ : 0.0 ; \n",
            "min_Precipitation_mm_ : 0.0 ; \n",
            "min_Weather_Condition : Blowing Dust ; \n",
            "min_Amenity : False ; \n",
            "min_Bump : False ; \n",
            "min_Crossing : False ; \n",
            "min_Give_Way : False ; \n",
            "min_Junction : False ; \n",
            "min_No_Exit : False ; \n",
            "min_Railway : False ; \n",
            "min_Roundabout : False ; \n",
            "min_Station : False ; \n",
            "min_Stop : False ; \n",
            "min_Traffic_Calming : False ; \n",
            "min_Traffic_Signal : False ; \n",
            "min_Turning_Loop : False ; \n",
            "min_Sunrise_Sunset : Day ; \n",
            "min_Civil_Twilight : Day ; \n",
            "min_Nautical_Twilight : Day ; \n",
            "min_Astronomical_Twilight : Day ; \n"
          ]
        }
      ]
    },
    {
      "cell_type": "code",
      "source": [
        "for element in colonnes_big_query:\n",
        "  job_config = bigquery.QueryJobConfig(\n",
        "      # Run at batch priority, which won't count toward concurrent rate limit.\n",
        "      priority=bigquery.QueryPriority.BATCH\n",
        "  )\n",
        "\n",
        "  sql = \"SELECT MAX(\" + element + \") AS max_\" + element + \" FROM tables_projet_labat.US_accidents\"\n",
        "\n",
        "  # Start the query, passing in the extra configuration.\n",
        "  query_job = client.query(sql, job_config=job_config)  # Make an API request.\n",
        "\n",
        "  while(query_job.state != \"DONE\"):\n",
        "    # Check on the progress by getting the job's updated state. Once the state\n",
        "    # is `DONE`, the results are ready.\n",
        "    query_job = client.get_job(\n",
        "        query_job.job_id, location=query_job.location\n",
        "    )  # Make an API request.\n",
        "\n",
        "  for row in query_job:\n",
        "      # Row values can be accessed by field name or index.\n",
        "      chaine = \"\"\n",
        "      # Parcours des colonnes de chaque row\n",
        "      for i in range(len(row)):\n",
        "        chaine += query_job._query_results._properties['schema']['fields'][i]['name'] + \" : \" + str(row[i]) + \" ; \"\n",
        "      print(chaine)"
      ],
      "metadata": {
        "colab": {
          "base_uri": "https://localhost:8080/"
        },
        "id": "FpVRiKdlzOR8",
        "outputId": "ee7b07fc-76a4-4b64-98e3-36361e843ea6"
      },
      "execution_count": null,
      "outputs": [
        {
          "output_type": "stream",
          "name": "stdout",
          "text": [
            "max_ID : A-999999 ; \n",
            "max_Severity : 4 ; \n",
            "max_Start_Time : 2021-12-31 23:30:00+00:00 ; \n",
            "max_End_Time : 2022-01-01 00:00:00+00:00 ; \n",
            "max_Start_Lat : 49.00058 ; \n",
            "max_Start_Lng : -67.113167 ; \n",
            "max_End_Lat : 49.075 ; \n",
            "max_End_Lng : -67.10924200000001 ; \n",
            "max_Distance_km_ : 249.74765798400003 ; \n",
            "max_Description : x DRESSER RANCH PL. LL SLOSO - DIRECTIONS PER FIRE AND MEDICS: GATE LEFT OPEN BY FIRE AND MEDICS // STAY TO THE LEFT ONCE YOU GO IN // RIGHT AT THE FORK THERE'S AN OLD TK // THEN AN OLD BRIDGE - DON'T CROSS THE BRIDGE BUT GO AROUND TO THE VINEYARD // 1/4 MILE FROM TK AND BRIDGE ; \n",
            "max_Number : 9999997.0 ; \n",
            "max_Street : Zuni Rd SE ; \n",
            "max_Side : R ; \n",
            "max_City : Zwingle ; \n",
            "max_County : Yuma ; \n",
            "max_State : WY ; \n",
            "max_Zipcode : 99401-9712 ; \n",
            "max_Country : US ; \n",
            "max_Timezone : US/Pacific ; \n",
            "max_Airport_Code : KZZV ; \n",
            "max_Weather_Timestamp : 2021-12-31 23:53:00 ; \n",
            "max_Temperature_C_ : 91.11111111111111 ; \n",
            "max_Wind_Chill_C_ : 91.11111111111111 ; \n",
            "max_Humidity_prct_ : 100.0 ; \n",
            "max_Pressure_in_ : 58.9 ; \n",
            "max_Visibility_km_ : 225.30816000000002 ; \n",
            "max_Wind_Direction : West ; \n",
            "max_Wind_Speed_kmh_ : 1749.3569280000002 ; \n",
            "max_Precipitation_mm_ : 588.0 ; \n",
            "max_Weather_Condition : Wintry Mix / Windy ; \n",
            "max_Amenity : True ; \n",
            "max_Bump : True ; \n",
            "max_Crossing : True ; \n",
            "max_Give_Way : True ; \n",
            "max_Junction : True ; \n",
            "max_No_Exit : True ; \n",
            "max_Railway : True ; \n",
            "max_Roundabout : True ; \n",
            "max_Station : True ; \n",
            "max_Stop : True ; \n",
            "max_Traffic_Calming : True ; \n",
            "max_Traffic_Signal : True ; \n",
            "max_Turning_Loop : False ; \n",
            "max_Sunrise_Sunset : Night ; \n",
            "max_Civil_Twilight : Night ; \n",
            "max_Nautical_Twilight : Night ; \n",
            "max_Astronomical_Twilight : Night ; \n"
          ]
        }
      ]
    },
    {
      "cell_type": "markdown",
      "source": [
        "## Répartition de la sévérité"
      ],
      "metadata": {
        "id": "lJzn-RSzVapY"
      }
    },
    {
      "cell_type": "code",
      "source": [
        "job_config = bigquery.QueryJobConfig(\n",
        "    # Run at batch priority, which won't count toward concurrent rate limit.\n",
        "    priority=bigquery.QueryPriority.BATCH\n",
        ")\n",
        "\n",
        "sql = \"SELECT Severity, COUNT(ID) AS nombre_occurences FROM tables_projet_labat.US_accidents GROUP BY Severity ORDER BY nombre_occurences\"\n",
        "\n",
        "# Start the query, passing in the extra configuration.\n",
        "query_job = client.query(sql, job_config=job_config)  # Make an API request.\n",
        "\n",
        "while(query_job.state != \"DONE\"):\n",
        "  # Check on the progress by getting the job's updated state. Once the state\n",
        "  # is `DONE`, the results are ready.\n",
        "  query_job = client.get_job(\n",
        "      query_job.job_id, location=query_job.location\n",
        "  )  # Make an API request.\n",
        "\n",
        "fig = plt.figure()\n",
        "ax = fig.add_axes([0,0,1,1])\n",
        "intitules = []\n",
        "donnees = []\n",
        "for row in query_job:\n",
        "    # Row values can be accessed by field name or index.\n",
        "    chaine = \"\"\n",
        "    # Parcours des colonnes de chaque row\n",
        "    for i in range(len(row)):\n",
        "      chaine += query_job._query_results._properties['schema']['fields'][i]['name'] + \" : \" + str(row[i]) + \" ; \"\n",
        "    print(chaine)\n",
        "    intitules.append(str(row[0]))\n",
        "    donnees.append(row[1])\n",
        "ax.set_title('Répartition des données en fonction de la sévérité')\n",
        "ax.bar(intitules,donnees)\n",
        "plt.show()\n",
        "\n"
      ],
      "metadata": {
        "colab": {
          "base_uri": "https://localhost:8080/",
          "height": 425
        },
        "id": "sacSIxQsVwCV",
        "outputId": "8da76851-ec9f-4269-e93e-c7756b25974c"
      },
      "execution_count": null,
      "outputs": [
        {
          "output_type": "stream",
          "name": "stdout",
          "text": [
            "Severity : 1 ; nombre_occurences : 26053 ; \n",
            "Severity : 4 ; nombre_occurences : 131193 ; \n",
            "Severity : 3 ; nombre_occurences : 155105 ; \n",
            "Severity : 2 ; nombre_occurences : 2532991 ; \n"
          ]
        },
        {
          "output_type": "display_data",
          "data": {
            "text/plain": [
              "<Figure size 432x288 with 1 Axes>"
            ],
            "image/png": "[encoded data removed]"
          },
          "metadata": {
            "needs_background": "light"
          }
        }
      ]
    },
    {
      "cell_type": "markdown",
      "source": [
        "## Accidents par état"
      ],
      "metadata": {
        "id": "eNoR8pvta84D"
      }
    },
    {
      "cell_type": "code",
      "source": [
        "job_config = bigquery.QueryJobConfig(\n",
        "    # Run at batch priority, which won't count toward concurrent rate limit.\n",
        "    priority=bigquery.QueryPriority.BATCH\n",
        ")\n",
        "\n",
        "sql = \"SELECT State, COUNT(ID) AS nombre_occurences FROM tables_projet_labat.US_accidents GROUP BY State ORDER BY nombre_occurences\"\n",
        "\n",
        "# Start the query, passing in the extra configuration.\n",
        "query_job = client.query(sql, job_config=job_config)  # Make an API request.\n",
        "\n",
        "while(query_job.state != \"DONE\"):\n",
        "  # Check on the progress by getting the job's updated state. Once the state\n",
        "  # is `DONE`, the results are ready.\n",
        "  query_job = client.get_job(\n",
        "      query_job.job_id, location=query_job.location\n",
        "  )  # Make an API request.\n",
        "\n",
        "\n",
        "intitules = []\n",
        "donnees = []\n",
        "for row in query_job:\n",
        "    # Row values can be accessed by field name or index.\n",
        "    chaine = \"\"\n",
        "    # Parcours des colonnes de chaque row\n",
        "    for i in range(len(row)):\n",
        "      chaine += query_job._query_results._properties['schema']['fields'][i]['name'] + \" : \" + str(row[i]) + \" ; \"\n",
        "    intitules.append(str(row[0]))\n",
        "    donnees.append(row[1])\n",
        "fig,ax = plt.subplots(figsize=(20,12))\n",
        "ax.set_title('Nombre d accidents par états')\n",
        "ax.bar(intitules,donnees)\n",
        "plt.show()"
      ],
      "metadata": {
        "colab": {
          "base_uri": "https://localhost:8080/",
          "height": 716
        },
        "outputId": "09043158-c9de-4a6b-c482-2783754fc59f",
        "id": "sj-XqcfobA7J"
      },
      "execution_count": null,
      "outputs": [
        {
          "output_type": "display_data",
          "data": {
            "text/plain": [
              "<Figure size 1440x864 with 1 Axes>"
            ],
            "image/png": "[encoded data removed]"
          },
          "metadata": {
            "needs_background": "light"
          }
        }
      ]
    },
    {
      "cell_type": "markdown",
      "source": [
        "## Détermination du minimum et du maximum de la distance de l'accident"
      ],
      "metadata": {
        "id": "5FiiYhcabcTW"
      }
    },
    {
      "cell_type": "code",
      "source": [
        "job_config = bigquery.QueryJobConfig(\n",
        "    # Run at batch priority, which won't count toward concurrent rate limit.\n",
        "    priority=bigquery.QueryPriority.BATCH\n",
        ")\n",
        "\n",
        "sql = \"SELECT MIN(Distance_km_) AS min_distance, MAX(Distance_km_) AS max_distance, FROM tables_projet_labat.US_accidents\"\n",
        "\n",
        "# Start the query, passing in the extra configuration.\n",
        "query_job = client.query(sql, job_config=job_config)  # Make an API request.\n",
        "\n",
        "while(query_job.state != \"DONE\"):\n",
        "  # Check on the progress by getting the job's updated state. Once the state\n",
        "  # is `DONE`, the results are ready.\n",
        "  query_job = client.get_job(\n",
        "      query_job.job_id, location=query_job.location\n",
        "  )  # Make an API request.\n",
        "\n",
        "for row in query_job:\n",
        "    # Row values can be accessed by field name or index.\n",
        "    chaine = \"\"\n",
        "    # Parcours des colonnes de chaque row\n",
        "    for i in range(len(row)):\n",
        "      chaine += query_job._query_results._properties['schema']['fields'][i]['name'] + \" : \" + str(row[i]) + \" ; \"\n",
        "    print(chaine)"
      ],
      "metadata": {
        "colab": {
          "base_uri": "https://localhost:8080/"
        },
        "outputId": "224f7da4-99e4-40f3-ec9a-aa680fd3d4bb",
        "id": "lFo11zWwbcTY"
      },
      "execution_count": null,
      "outputs": [
        {
          "output_type": "stream",
          "name": "stdout",
          "text": [
            "min_distance : 0.0 ; max_distance : 249.74765798400003 ; \n"
          ]
        }
      ]
    },
    {
      "cell_type": "code",
      "source": [
        "job_config = bigquery.QueryJobConfig(\n",
        "    # Run at batch priority, which won't count toward concurrent rate limit.\n",
        "    priority=bigquery.QueryPriority.BATCH\n",
        ")\n",
        "\n",
        "sql = \"SELECT COUNT(ID) AS nombre_moins_un_km FROM tables_projet_labat.US_accidents WHERE Distance_km_ < 1\"\n",
        "\n",
        "# Start the query, passing in the extra configuration.\n",
        "query_job = client.query(sql, job_config=job_config)  # Make an API request.\n",
        "\n",
        "while(query_job.state != \"DONE\"):\n",
        "  # Check on the progress by getting the job's updated state. Once the state\n",
        "  # is `DONE`, the results are ready.\n",
        "  query_job = client.get_job(\n",
        "      query_job.job_id, location=query_job.location\n",
        "  )  # Make an API request.\n",
        "\n",
        "for row in query_job:\n",
        "    # Row values can be accessed by field name or index.\n",
        "    chaine = \"\"\n",
        "    # Parcours des colonnes de chaque row\n",
        "    for i in range(len(row)):\n",
        "      chaine += query_job._query_results._properties['schema']['fields'][i]['name'] + \" : \" + str(row[i]) + \" ; \"\n",
        "    print(chaine)"
      ],
      "metadata": {
        "colab": {
          "base_uri": "https://localhost:8080/"
        },
        "id": "GWcYALEzdi_a",
        "outputId": "625d1315-b4b1-4a01-975e-539081d2111a"
      },
      "execution_count": null,
      "outputs": [
        {
          "output_type": "stream",
          "name": "stdout",
          "text": [
            "nombre_moins_un_km : 2003262 ; \n"
          ]
        }
      ]
    },
    {
      "cell_type": "code",
      "source": [
        "job_config = bigquery.QueryJobConfig(\n",
        "    # Run at batch priority, which won't count toward concurrent rate limit.\n",
        "    priority=bigquery.QueryPriority.BATCH\n",
        ")\n",
        "\n",
        "sql = \"SELECT COUNT(ID) AS nombre_plus_un_km FROM tables_projet_labat.US_accidents WHERE Distance_km_ >= 1\"\n",
        "\n",
        "# Start the query, passing in the extra configuration.\n",
        "query_job = client.query(sql, job_config=job_config)  # Make an API request.\n",
        "\n",
        "while(query_job.state != \"DONE\"):\n",
        "  # Check on the progress by getting the job's updated state. Once the state\n",
        "  # is `DONE`, the results are ready.\n",
        "  query_job = client.get_job(\n",
        "      query_job.job_id, location=query_job.location\n",
        "  )  # Make an API request.\n",
        "\n",
        "for row in query_job:\n",
        "    # Row values can be accessed by field name or index.\n",
        "    chaine = \"\"\n",
        "    # Parcours des colonnes de chaque row\n",
        "    for i in range(len(row)):\n",
        "      chaine += query_job._query_results._properties['schema']['fields'][i]['name'] + \" : \" + str(row[i]) + \" ; \"\n",
        "    print(chaine)"
      ],
      "metadata": {
        "colab": {
          "base_uri": "https://localhost:8080/"
        },
        "id": "FBIc32xld1RM",
        "outputId": "dad45681-cc95-4884-9a40-795a9cadcfc8"
      },
      "execution_count": null,
      "outputs": [
        {
          "output_type": "stream",
          "name": "stdout",
          "text": [
            "nombre_plus_un_km : 842080 ; \n"
          ]
        }
      ]
    },
    {
      "cell_type": "markdown",
      "source": [
        "Plus de 2M de données ont impacté moins d'1 km, quand 800k accidents ont impacté plus d'un km."
      ],
      "metadata": {
        "id": "GFZaTd31d6Op"
      }
    },
    {
      "cell_type": "markdown",
      "source": [
        "## Perturbateurs de conduite liés à la route [PCR]"
      ],
      "metadata": {
        "id": "Asw4_2cye-ks"
      }
    },
    {
      "cell_type": "code",
      "source": [
        "marqueurs = [\"Bump\", \"Crossing\", \"Give_Way\", \"Junction\", \"No_Exit\", \"Railway\", \"Roundabout\", \"Station\", \"Stop\", \"Traffic_Calming\", \"Traffic_Signal\", \"Turning_Loop\"]\n",
        "for marqueur in marqueurs:\n",
        "  job_config = bigquery.QueryJobConfig(\n",
        "      # Run at batch priority, which won't count toward concurrent rate limit.\n",
        "      priority=bigquery.QueryPriority.BATCH\n",
        "  )\n",
        "\n",
        "  sql = \"SELECT COUNT(ID) AS nombre_\" + marqueur + \" FROM tables_projet_labat.US_accidents WHERE \" + marqueur + \"= True\"\n",
        "\n",
        "  # Start the query, passing in the extra configuration.\n",
        "  query_job = client.query(sql, job_config=job_config)  # Make an API request.\n",
        "\n",
        "  while(query_job.state != \"DONE\"):\n",
        "    # Check on the progress by getting the job's updated state. Once the state\n",
        "    # is `DONE`, the results are ready.\n",
        "    query_job = client.get_job(\n",
        "        query_job.job_id, location=query_job.location\n",
        "    )  # Make an API request.\n",
        "\n",
        "\n",
        "  for row in query_job:\n",
        "      # Row values can be accessed by field name or index.\n",
        "      chaine = \"\"\n",
        "      # Parcours des colonnes de chaque row\n",
        "      for i in range(len(row)):\n",
        "        chaine += query_job._query_results._properties['schema']['fields'][i]['name'] + \" : \" + str(row[i]) + \" ; \"\n",
        "      print(chaine)"
      ],
      "metadata": {
        "colab": {
          "base_uri": "https://localhost:8080/"
        },
        "outputId": "7df66bbe-9c27-4454-bb57-d209b234ca62",
        "id": "F0o3B5oge-ku"
      },
      "execution_count": null,
      "outputs": [
        {
          "output_type": "stream",
          "name": "stdout",
          "text": [
            "nombre_Bump : 1021 ; \n",
            "nombre_Crossing : 200212 ; \n",
            "nombre_Give_Way : 6868 ; \n",
            "nombre_Junction : 290505 ; \n",
            "nombre_No_Exit : 4294 ; \n",
            "nombre_Railway : 22631 ; \n",
            "nombre_Roundabout : 123 ; \n",
            "nombre_Station : 67995 ; \n",
            "nombre_Stop : 50400 ; \n",
            "nombre_Traffic_Calming : 1712 ; \n",
            "nombre_Traffic_Signal : 265263 ; \n",
            "nombre_Turning_Loop : 0 ; \n"
          ]
        }
      ]
    },
    {
      "cell_type": "markdown",
      "source": [
        "On voit que la plupart des accidents avec un PCR à proximité sont liés à la présence d'un carrefour.\n",
        "\n",
        "On va maintenant déterminer la proportion des accidents avec un PCR à proximité. "
      ],
      "metadata": {
        "id": "6QWCi2fVe-kv"
      }
    },
    {
      "cell_type": "code",
      "source": [
        "marqueurs = [\"Bump\", \"Crossing\", \"Give_Way\", \"Junction\", \"No_Exit\", \"Railway\", \"Roundabout\", \"Station\", \"Stop\", \"Traffic_Calming\", \"Traffic_Signal\", \"Turning_Loop\"]\n",
        "chaine = \"\"\n",
        "cpt = 0\n",
        "for marqueur in marqueurs:\n",
        "  if (cpt > 0):\n",
        "    chaine += \" OR \"\n",
        "  chaine += marqueur + ' = True'\n",
        "  cpt += 1\n",
        "\n",
        "\n",
        "job_config = bigquery.QueryJobConfig(\n",
        "    # Run at batch priority, which won't count toward concurrent rate limit.\n",
        "    priority=bigquery.QueryPriority.BATCH\n",
        ")\n",
        "\n",
        "sql = \"SELECT COUNT(ID) AS nombre_accidents_pcr FROM tables_projet_labat.US_accidents WHERE \" + chaine\n",
        "\n",
        "# Start the query, passing in the extra configuration.\n",
        "query_job = client.query(sql, job_config=job_config)  # Make an API request.\n",
        "\n",
        "while(query_job.state != \"DONE\"):\n",
        "  # Check on the progress by getting the job's updated state. Once the state\n",
        "  # is `DONE`, the results are ready.\n",
        "  query_job = client.get_job(\n",
        "      query_job.job_id, location=query_job.location\n",
        "  )  # Make an API request.\n",
        "\n",
        "for row in query_job:\n",
        "    # Row values can be accessed by field name or index.\n",
        "    chaine = \"\"\n",
        "    # Parcours des colonnes de chaque row\n",
        "    for i in range(len(row)):\n",
        "      chaine += query_job._query_results._properties['schema']['fields'][i]['name'] + \" : \" + str(row[i]) + \" ; \"\n",
        "    print(chaine)"
      ],
      "metadata": {
        "colab": {
          "base_uri": "https://localhost:8080/"
        },
        "outputId": "7e373609-d4c8-454e-9c5c-f18c879fc1b3",
        "id": "pXIOh2nSe-kv"
      },
      "execution_count": null,
      "outputs": [
        {
          "output_type": "stream",
          "name": "stdout",
          "text": [
            "nombre_accidents_pcr : 723942 ; \n"
          ]
        }
      ]
    },
    {
      "cell_type": "markdown",
      "source": [
        "723942 accidents ont eu lieu avec au moins un PCR à proximité (contre 911024 estimé en Pandas)."
      ],
      "metadata": {
        "id": "QV4JEuiFe-kw"
      }
    },
    {
      "cell_type": "code",
      "source": [
        "pourcentage_pcr = 723942/nombre_de_donnees*100\n",
        "print(\"Cela correspond à\", pourcentage_pcr, \"% des données totales\")"
      ],
      "metadata": {
        "colab": {
          "base_uri": "https://localhost:8080/"
        },
        "outputId": "3c475c89-84e6-4037-e4b7-ac97f1b13b17",
        "id": "34XL2BIfe-kw"
      },
      "execution_count": null,
      "outputs": [
        {
          "output_type": "stream",
          "name": "stdout",
          "text": [
            "Cela correspond à 25.44305746022798 % des données totales\n"
          ]
        }
      ]
    },
    {
      "cell_type": "markdown",
      "source": [
        "## Perturbateurs de conduite liés aux conditions climatiques [PCC]"
      ],
      "metadata": {
        "id": "CtIciiIUnJb7"
      }
    },
    {
      "cell_type": "markdown",
      "source": [
        "### Visibilité"
      ],
      "metadata": {
        "id": "eU_6sJVGnJb9"
      }
    },
    {
      "cell_type": "code",
      "source": [
        "job_config = bigquery.QueryJobConfig(\n",
        "    # Run at batch priority, which won't count toward concurrent rate limit.\n",
        "    priority=bigquery.QueryPriority.BATCH\n",
        ")\n",
        "\n",
        "sql = \"SELECT MIN(Visibility_km_) AS min_visibility, MAX(Visibility_km_) AS max_visibility, FROM tables_projet_labat.US_accidents\"\n",
        "\n",
        "# Start the query, passing in the extra configuration.\n",
        "query_job = client.query(sql, job_config=job_config)  # Make an API request.\n",
        "\n",
        "while(query_job.state != \"DONE\"):\n",
        "  # Check on the progress by getting the job's updated state. Once the state\n",
        "  # is `DONE`, the results are ready.\n",
        "  query_job = client.get_job(\n",
        "      query_job.job_id, location=query_job.location\n",
        "  )  # Make an API request.\n",
        "\n",
        "min = 0\n",
        "max = 0\n",
        "for row in query_job:\n",
        "    # Row values can be accessed by field name or index.\n",
        "    chaine = \"\"\n",
        "    # Parcours des colonnes de chaque row\n",
        "    for i in range(len(row)):\n",
        "      if (i==0):\n",
        "        min = row[i]\n",
        "      else :\n",
        "        max = row[i]\n",
        "      chaine += query_job._query_results._properties['schema']['fields'][i]['name'] + \" : \" + str(row[i]) + \" ; \"\n",
        "    print(chaine)"
      ],
      "metadata": {
        "colab": {
          "base_uri": "https://localhost:8080/"
        },
        "id": "b2cR1KaNpF9b",
        "outputId": "84b53ad7-95ae-4d1b-84d1-172f059a8b33"
      },
      "execution_count": null,
      "outputs": [
        {
          "output_type": "stream",
          "name": "stdout",
          "text": [
            "min_visibility : 0.0 ; max_visibility : 225.30816000000002 ; \n"
          ]
        }
      ]
    },
    {
      "cell_type": "code",
      "source": [
        "def repartition_donnees_visibilite(data, min, max):\n",
        "  nombre_partitions = 10\n",
        "  facteur_additif = round((min + max) / nombre_partitions, 2)\n",
        "  pas_fini = True\n",
        "  borne_min = min\n",
        "  borne_max = borne_min\n",
        "  legende = []\n",
        "  valeurs = []\n",
        "  while pas_fini:\n",
        "    borne_max += facteur_additif\n",
        "\n",
        "    job_config = bigquery.QueryJobConfig(\n",
        "        # Run at batch priority, which won't count toward concurrent rate limit.\n",
        "        priority=bigquery.QueryPriority.BATCH\n",
        "    )\n",
        "\n",
        "    borne_min_requete = str(borne_min).replace('.', '_')\n",
        "    borne_max_requete = str(borne_max).replace('.', '_')\n",
        "    sql = \"SELECT COUNT(ID) AS visibility_entre_\" + str(borne_min_requete) + \"_et_\"+ str(borne_max_requete) + \" FROM tables_projet_labat.US_accidents WHERE Visibility_km_ < \" + str(borne_max) + \" AND Visibility_km_ >= \" + str(borne_min)\n",
        "\n",
        "    # Start the query, passing in the extra configuration.\n",
        "    query_job = client.query(sql, job_config=job_config)  # Make an API request.\n",
        "\n",
        "    while(query_job.state != \"DONE\"):\n",
        "      # Check on the progress by getting the job's updated state. Once the state\n",
        "      # is `DONE`, the results are ready.\n",
        "      query_job = client.get_job(\n",
        "          query_job.job_id, location=query_job.location\n",
        "      )  # Make an API request.\n",
        "\n",
        "    for row in query_job:\n",
        "        # Row values can be accessed by field name or index.\n",
        "        chaine = \"\"\n",
        "        # Parcours des colonnes de chaque row\n",
        "        for i in range(len(row)):\n",
        "          chaine += query_job._query_results._properties['schema']['fields'][i]['name'] + \" : \" + str(row[i]) + \" ; \"\n",
        "        print(chaine)\n",
        "    borne_min += facteur_additif\n",
        "    pas_fini = borne_max <= max\n",
        "    print()"
      ],
      "metadata": {
        "id": "jK0pls7XnJb_"
      },
      "execution_count": null,
      "outputs": []
    },
    {
      "cell_type": "code",
      "source": [
        "repartition_donnees_visibilite(dataframe_spark, min, max)"
      ],
      "metadata": {
        "colab": {
          "base_uri": "https://localhost:8080/"
        },
        "outputId": "23fb60fc-b21e-4463-eabe-f9b12714651c",
        "id": "NdFg4_lEnJcA"
      },
      "execution_count": null,
      "outputs": [
        {
          "output_type": "stream",
          "name": "stdout",
          "text": [
            "visibility_entre_0_0_et_22_53 : 2766933 ; \n",
            "\n",
            "visibility_entre_22_53_et_45_06 : 4292 ; \n",
            "\n",
            "visibility_entre_45_06_et_67_59 : 2171 ; \n",
            "\n",
            "visibility_entre_67_59_et_90_12 : 943 ; \n",
            "\n",
            "visibility_entre_90_12_et_112_65 : 84 ; \n",
            "\n",
            "visibility_entre_112_65_et_135_18 : 318 ; \n",
            "\n",
            "visibility_entre_135_18_et_157_71 : 9 ; \n",
            "\n",
            "visibility_entre_157_71_et_180_24 : 39 ; \n",
            "\n",
            "visibility_entre_180_24_et_202_77 : 4 ; \n",
            "\n",
            "visibility_entre_202_77_et_225_3 : 1 ; \n",
            "\n",
            "visibility_entre_225_3_et_247_83 : 2 ; \n",
            "\n"
          ]
        }
      ]
    },
    {
      "cell_type": "markdown",
      "source": [
        "La visibilité n'est vraiment pas bien répartie."
      ],
      "metadata": {
        "id": "_EtQihihnJcB"
      }
    },
    {
      "cell_type": "code",
      "source": [
        "job_config = bigquery.QueryJobConfig(\n",
        "    # Run at batch priority, which won't count toward concurrent rate limit.\n",
        "    priority=bigquery.QueryPriority.BATCH\n",
        ")\n",
        "\n",
        "sql = \"SELECT COUNT(ID) AS visibility_inferieure_15 FROM tables_projet_labat.US_accidents WHERE Visibility_km_ < 15\"\n",
        "\n",
        "# Start the query, passing in the extra configuration.\n",
        "query_job = client.query(sql, job_config=job_config)  # Make an API request.\n",
        "\n",
        "while(query_job.state != \"DONE\"):\n",
        "  # Check on the progress by getting the job's updated state. Once the state\n",
        "  # is `DONE`, the results are ready.\n",
        "  query_job = client.get_job(\n",
        "      query_job.job_id, location=query_job.location\n",
        "  )  # Make an API request.\n",
        "\n",
        "for row in query_job:\n",
        "    # Row values can be accessed by field name or index.\n",
        "    chaine = \"\"\n",
        "    # Parcours des colonnes de chaque row\n",
        "    for i in range(len(row)):\n",
        "      chaine += query_job._query_results._properties['schema']['fields'][i]['name'] + \" : \" + str(row[i]) + \" ; \"\n",
        "    print(chaine)"
      ],
      "metadata": {
        "colab": {
          "base_uri": "https://localhost:8080/"
        },
        "outputId": "cff60558-9fc9-498b-f93c-6893fb931e17",
        "id": "Qs6NDaDQnJcC"
      },
      "execution_count": null,
      "outputs": [
        {
          "output_type": "stream",
          "name": "stdout",
          "text": [
            "visibility_inferieure_15 : 533368 ; \n"
          ]
        }
      ]
    },
    {
      "cell_type": "code",
      "source": [
        "job_config = bigquery.QueryJobConfig(\n",
        "    # Run at batch priority, which won't count toward concurrent rate limit.\n",
        "    priority=bigquery.QueryPriority.BATCH\n",
        ")\n",
        "\n",
        "sql = \"SELECT COUNT(ID) AS visibility_superieure_15 FROM tables_projet_labat.US_accidents WHERE Visibility_km_ >= 15\"\n",
        "\n",
        "# Start the query, passing in the extra configuration.\n",
        "query_job = client.query(sql, job_config=job_config)  # Make an API request.\n",
        "\n",
        "while(query_job.state != \"DONE\"):\n",
        "  # Check on the progress by getting the job's updated state. Once the state\n",
        "  # is `DONE`, the results are ready.\n",
        "  query_job = client.get_job(\n",
        "      query_job.job_id, location=query_job.location\n",
        "  )  # Make an API request.\n",
        "\n",
        "for row in query_job:\n",
        "    # Row values can be accessed by field name or index.\n",
        "    chaine = \"\"\n",
        "    # Parcours des colonnes de chaque row\n",
        "    for i in range(len(row)):\n",
        "      chaine += query_job._query_results._properties['schema']['fields'][i]['name'] + \" : \" + str(row[i]) + \" ; \"\n",
        "    print(chaine)"
      ],
      "metadata": {
        "colab": {
          "base_uri": "https://localhost:8080/"
        },
        "id": "3izyCAkxxgND",
        "outputId": "d7f53ef5-8244-48ca-f325-e7d3fd324426"
      },
      "execution_count": null,
      "outputs": [
        {
          "output_type": "stream",
          "name": "stdout",
          "text": [
            "visibility_superieure_15 : 2241428 ; \n"
          ]
        }
      ]
    },
    {
      "cell_type": "code",
      "source": [
        "job_config = bigquery.QueryJobConfig(\n",
        "    # Run at batch priority, which won't count toward concurrent rate limit.\n",
        "    priority=bigquery.QueryPriority.BATCH\n",
        ")\n",
        "\n",
        "sql = \"SELECT COUNT(ID) AS visibility_entre_15_et_20 FROM tables_projet_labat.US_accidents WHERE Visibility_km_ >= 15 AND Visibility_km_ < 20\"\n",
        "\n",
        "# Start the query, passing in the extra configuration.\n",
        "query_job = client.query(sql, job_config=job_config)  # Make an API request.\n",
        "\n",
        "while(query_job.state != \"DONE\"):\n",
        "  # Check on the progress by getting the job's updated state. Once the state\n",
        "  # is `DONE`, the results are ready.\n",
        "  query_job = client.get_job(\n",
        "      query_job.job_id, location=query_job.location\n",
        "  )  # Make an API request.\n",
        "\n",
        "for row in query_job:\n",
        "    # Row values can be accessed by field name or index.\n",
        "    chaine = \"\"\n",
        "    # Parcours des colonnes de chaque row\n",
        "    for i in range(len(row)):\n",
        "      chaine += query_job._query_results._properties['schema']['fields'][i]['name'] + \" : \" + str(row[i]) + \" ; \"\n",
        "    print(chaine)"
      ],
      "metadata": {
        "colab": {
          "base_uri": "https://localhost:8080/"
        },
        "outputId": "7a504f42-02be-41cf-c9c6-353dd51d59bd",
        "id": "4M1RrsU7nJcC"
      },
      "execution_count": null,
      "outputs": [
        {
          "output_type": "stream",
          "name": "stdout",
          "text": [
            "visibility_entre_15_et_20 : 2230449 ; \n"
          ]
        }
      ]
    },
    {
      "cell_type": "markdown",
      "source": [
        "2.2M d'accidents, donc la grande majorité des accidents, ont eu lieu avec une visibilité entre 15 et 20 km."
      ],
      "metadata": {
        "id": "CPgCSzyenJcD"
      }
    },
    {
      "cell_type": "markdown",
      "source": [
        "### Vitesse du vent"
      ],
      "metadata": {
        "id": "P9mhw_29nJcD"
      }
    },
    {
      "cell_type": "code",
      "source": [
        "job_config = bigquery.QueryJobConfig(\n",
        "    # Run at batch priority, which won't count toward concurrent rate limit.\n",
        "    priority=bigquery.QueryPriority.BATCH\n",
        ")\n",
        "\n",
        "sql = \"SELECT MIN(Wind_Speed_kmh_) AS min_vitesse_vent, MAX(Wind_Speed_kmh_) AS max_vitesse_vent FROM tables_projet_labat.US_accidents\"\n",
        "\n",
        "# Start the query, passing in the extra configuration.\n",
        "query_job = client.query(sql, job_config=job_config)  # Make an API request.\n",
        "\n",
        "while(query_job.state != \"DONE\"):\n",
        "  # Check on the progress by getting the job's updated state. Once the state\n",
        "  # is `DONE`, the results are ready.\n",
        "  query_job = client.get_job(\n",
        "      query_job.job_id, location=query_job.location\n",
        "  )  # Make an API request.\n",
        "\n",
        "for row in query_job:\n",
        "    # Row values can be accessed by field name or index.\n",
        "    chaine = \"\"\n",
        "    # Parcours des colonnes de chaque row\n",
        "    for i in range(len(row)):\n",
        "      chaine += query_job._query_results._properties['schema']['fields'][i]['name'] + \" : \" + str(row[i]) + \" ; \"\n",
        "    print(chaine)"
      ],
      "metadata": {
        "colab": {
          "base_uri": "https://localhost:8080/"
        },
        "outputId": "2b4d7064-31b3-4d98-e458-744f1292594a",
        "id": "X9sAWXREnJcD"
      },
      "execution_count": null,
      "outputs": [
        {
          "output_type": "stream",
          "name": "stdout",
          "text": [
            "min_vitesse_vent : 0.0 ; max_vitesse_vent : 1749.3569280000002 ; \n"
          ]
        }
      ]
    },
    {
      "cell_type": "markdown",
      "source": [
        "La vitesse du vent lors d'un accident varie entre 0 et 1749km/h. On voit ici qu'il y a un problème sur les données, car le vent ne peut pas aller aussi vite. Il est noté [ici](https://www.meteo-paris.com/actualites/meteo-extreme-quels-sont-les-records-climatiques-dans-le-monde) que le maximum de la vitesse du vent enregistrée est de 408km/h."
      ],
      "metadata": {
        "id": "OuhfNqcVnJcE"
      }
    },
    {
      "cell_type": "code",
      "source": [
        "job_config = bigquery.QueryJobConfig(\n",
        "    # Run at batch priority, which won't count toward concurrent rate limit.\n",
        "    priority=bigquery.QueryPriority.BATCH\n",
        ")\n",
        "\n",
        "sql = \"SELECT COUNT(ID) AS nombre_donnees_superieurs_408 FROM tables_projet_labat.US_accidents WHERE Wind_Speed_kmh_ > 408\"\n",
        "\n",
        "# Start the query, passing in the extra configuration.\n",
        "query_job = client.query(sql, job_config=job_config)  # Make an API request.\n",
        "\n",
        "while(query_job.state != \"DONE\"):\n",
        "  # Check on the progress by getting the job's updated state. Once the state\n",
        "  # is `DONE`, the results are ready.\n",
        "  query_job = client.get_job(\n",
        "      query_job.job_id, location=query_job.location\n",
        "  )  # Make an API request.\n",
        "\n",
        "for row in query_job:\n",
        "    # Row values can be accessed by field name or index.\n",
        "    chaine = \"\"\n",
        "    # Parcours des colonnes de chaque row\n",
        "    for i in range(len(row)):\n",
        "      chaine += query_job._query_results._properties['schema']['fields'][i]['name'] + \" : \" + str(row[i]) + \" ; \"\n",
        "    print(chaine)"
      ],
      "metadata": {
        "colab": {
          "base_uri": "https://localhost:8080/"
        },
        "outputId": "c4eabb26-3497-41b2-a208-1d5f7fe44fae",
        "id": "rMZ79RednJcE"
      },
      "execution_count": null,
      "outputs": [
        {
          "output_type": "stream",
          "name": "stdout",
          "text": [
            "nombre_donnees_superieurs_408 : 8 ; \n"
          ]
        }
      ]
    },
    {
      "cell_type": "markdown",
      "source": [
        "Il y a 8 données supérieures à cette donnée, donc on sait que ces valeurs ne sont pas justes. On suppose que c'est un problème d'écriture de virgule et que ces données valent plus de 100km.\n",
        "\n",
        "En se servant des données se trouvant [ici](https://vigilance.meteofrance.fr/fr/dangers-meteorologiques-vent-violent), on regardera les données où le vent est supérieur à 90km/h (moyenne entre 80 et 100km/h)."
      ],
      "metadata": {
        "id": "EFXD6N-dnJcE"
      }
    },
    {
      "cell_type": "code",
      "source": [
        "job_config = bigquery.QueryJobConfig(\n",
        "    # Run at batch priority, which won't count toward concurrent rate limit.\n",
        "    priority=bigquery.QueryPriority.BATCH\n",
        ")\n",
        "\n",
        "sql = \"SELECT COUNT(ID) AS nombre_donnees_inferieures_90 FROM tables_projet_labat.US_accidents WHERE Wind_Speed_kmh_ < 90\"\n",
        "\n",
        "# Start the query, passing in the extra configuration.\n",
        "query_job = client.query(sql, job_config=job_config)  # Make an API request.\n",
        "\n",
        "while(query_job.state != \"DONE\"):\n",
        "  # Check on the progress by getting the job's updated state. Once the state\n",
        "  # is `DONE`, the results are ready.\n",
        "  query_job = client.get_job(\n",
        "      query_job.job_id, location=query_job.location\n",
        "  )  # Make an API request.\n",
        "\n",
        "for row in query_job:\n",
        "    # Row values can be accessed by field name or index.\n",
        "    chaine = \"\"\n",
        "    # Parcours des colonnes de chaque row\n",
        "    for i in range(len(row)):\n",
        "      chaine += query_job._query_results._properties['schema']['fields'][i]['name'] + \" : \" + str(row[i]) + \" ; \"\n",
        "    print(chaine)"
      ],
      "metadata": {
        "colab": {
          "base_uri": "https://localhost:8080/"
        },
        "id": "JyMHUw6g2ydD",
        "outputId": "b67a63b1-5a4e-43c7-e0d9-95fbd749c844"
      },
      "execution_count": null,
      "outputs": [
        {
          "output_type": "stream",
          "name": "stdout",
          "text": [
            "nombre_donnees_inferieures_90 : 2687291 ; \n"
          ]
        }
      ]
    },
    {
      "cell_type": "code",
      "source": [
        "job_config = bigquery.QueryJobConfig(\n",
        "    # Run at batch priority, which won't count toward concurrent rate limit.\n",
        "    priority=bigquery.QueryPriority.BATCH\n",
        ")\n",
        "\n",
        "sql = \"SELECT COUNT(ID) AS nombre_donnees_superieures_90 FROM tables_projet_labat.US_accidents WHERE Wind_Speed_kmh_ >= 90\"\n",
        "\n",
        "# Start the query, passing in the extra configuration.\n",
        "query_job = client.query(sql, job_config=job_config)  # Make an API request.\n",
        "\n",
        "while(query_job.state != \"DONE\"):\n",
        "  # Check on the progress by getting the job's updated state. Once the state\n",
        "  # is `DONE`, the results are ready.\n",
        "  query_job = client.get_job(\n",
        "      query_job.job_id, location=query_job.location\n",
        "  )  # Make an API request.\n",
        "\n",
        "for row in query_job:\n",
        "    # Row values can be accessed by field name or index.\n",
        "    chaine = \"\"\n",
        "    # Parcours des colonnes de chaque row\n",
        "    for i in range(len(row)):\n",
        "      chaine += query_job._query_results._properties['schema']['fields'][i]['name'] + \" : \" + str(row[i]) + \" ; \"\n",
        "    print(chaine)"
      ],
      "metadata": {
        "colab": {
          "base_uri": "https://localhost:8080/"
        },
        "id": "6052cKn027rP",
        "outputId": "f8dfbc65-7498-4389-92c5-8c3536f6a08d"
      },
      "execution_count": null,
      "outputs": [
        {
          "output_type": "stream",
          "name": "stdout",
          "text": [
            "nombre_donnees_superieures_90 : 107 ; \n"
          ]
        }
      ]
    },
    {
      "cell_type": "code",
      "source": [
        "job_config = bigquery.QueryJobConfig(\n",
        "    # Run at batch priority, which won't count toward concurrent rate limit.\n",
        "    priority=bigquery.QueryPriority.BATCH\n",
        ")\n",
        "\n",
        "sql = \"SELECT COUNT(ID) AS nombre_donnees_inferieures_50 FROM tables_projet_labat.US_accidents WHERE Wind_Speed_kmh_ < 50\"\n",
        "\n",
        "# Start the query, passing in the extra configuration.\n",
        "query_job = client.query(sql, job_config=job_config)  # Make an API request.\n",
        "\n",
        "while(query_job.state != \"DONE\"):\n",
        "  # Check on the progress by getting the job's updated state. Once the state\n",
        "  # is `DONE`, the results are ready.\n",
        "  query_job = client.get_job(\n",
        "      query_job.job_id, location=query_job.location\n",
        "  )  # Make an API request.\n",
        "\n",
        "for row in query_job:\n",
        "    # Row values can be accessed by field name or index.\n",
        "    chaine = \"\"\n",
        "    # Parcours des colonnes de chaque row\n",
        "    for i in range(len(row)):\n",
        "      chaine += query_job._query_results._properties['schema']['fields'][i]['name'] + \" : \" + str(row[i]) + \" ; \"\n",
        "    print(chaine)"
      ],
      "metadata": {
        "colab": {
          "base_uri": "https://localhost:8080/"
        },
        "id": "3_WD5mXD3NJq",
        "outputId": "146e5b6c-48ca-4857-ec1a-f2f831bf4c9a"
      },
      "execution_count": null,
      "outputs": [
        {
          "output_type": "stream",
          "name": "stdout",
          "text": [
            "nombre_donnees_inferieures_50 : 2684531 ; \n"
          ]
        }
      ]
    },
    {
      "cell_type": "code",
      "source": [
        "job_config = bigquery.QueryJobConfig(\n",
        "    # Run at batch priority, which won't count toward concurrent rate limit.\n",
        "    priority=bigquery.QueryPriority.BATCH\n",
        ")\n",
        "\n",
        "sql = \"SELECT COUNT(ID) AS nombre_donnees_superieures_50 FROM tables_projet_labat.US_accidents WHERE Wind_Speed_kmh_ >= 50\"\n",
        "\n",
        "# Start the query, passing in the extra configuration.\n",
        "query_job = client.query(sql, job_config=job_config)  # Make an API request.\n",
        "\n",
        "while(query_job.state != \"DONE\"):\n",
        "  # Check on the progress by getting the job's updated state. Once the state\n",
        "  # is `DONE`, the results are ready.\n",
        "  query_job = client.get_job(\n",
        "      query_job.job_id, location=query_job.location\n",
        "  )  # Make an API request.\n",
        "\n",
        "for row in query_job:\n",
        "    # Row values can be accessed by field name or index.\n",
        "    chaine = \"\"\n",
        "    # Parcours des colonnes de chaque row\n",
        "    for i in range(len(row)):\n",
        "      chaine += query_job._query_results._properties['schema']['fields'][i]['name'] + \" : \" + str(row[i]) + \" ; \"\n",
        "    print(chaine)"
      ],
      "metadata": {
        "colab": {
          "base_uri": "https://localhost:8080/"
        },
        "id": "05vsiBPH3U7j",
        "outputId": "f607d2d7-b7f3-4025-9653-e0b1def0711c"
      },
      "execution_count": null,
      "outputs": [
        {
          "output_type": "stream",
          "name": "stdout",
          "text": [
            "nombre_donnees_superieures_50 : 2867 ; \n"
          ]
        }
      ]
    },
    {
      "cell_type": "code",
      "source": [
        "job_config = bigquery.QueryJobConfig(\n",
        "    # Run at batch priority, which won't count toward concurrent rate limit.\n",
        "    priority=bigquery.QueryPriority.BATCH\n",
        ")\n",
        "\n",
        "sql = \"SELECT COUNT(ID) AS nombre_donnees_inferieures_20 FROM tables_projet_labat.US_accidents WHERE Wind_Speed_kmh_ < 20\"\n",
        "\n",
        "# Start the query, passing in the extra configuration.\n",
        "query_job = client.query(sql, job_config=job_config)  # Make an API request.\n",
        "\n",
        "while(query_job.state != \"DONE\"):\n",
        "  # Check on the progress by getting the job's updated state. Once the state\n",
        "  # is `DONE`, the results are ready.\n",
        "  query_job = client.get_job(\n",
        "      query_job.job_id, location=query_job.location\n",
        "  )  # Make an API request.\n",
        "\n",
        "for row in query_job:\n",
        "    # Row values can be accessed by field name or index.\n",
        "    chaine = \"\"\n",
        "    # Parcours des colonnes de chaque row\n",
        "    for i in range(len(row)):\n",
        "      chaine += query_job._query_results._properties['schema']['fields'][i]['name'] + \" : \" + str(row[i]) + \" ; \"\n",
        "    print(chaine)"
      ],
      "metadata": {
        "colab": {
          "base_uri": "https://localhost:8080/"
        },
        "id": "o5fPafga3mUA",
        "outputId": "11156cd6-d4fa-4024-c1f5-04cce38f5fbd"
      },
      "execution_count": null,
      "outputs": [
        {
          "output_type": "stream",
          "name": "stdout",
          "text": [
            "nombre_donnees_inferieures_20 : 2231706 ; \n"
          ]
        }
      ]
    },
    {
      "cell_type": "code",
      "source": [
        "job_config = bigquery.QueryJobConfig(\n",
        "    # Run at batch priority, which won't count toward concurrent rate limit.\n",
        "    priority=bigquery.QueryPriority.BATCH\n",
        ")\n",
        "\n",
        "sql = \"SELECT COUNT(ID) AS nombre_donnees_superieures_20 FROM tables_projet_labat.US_accidents WHERE Wind_Speed_kmh_ >= 20\"\n",
        "\n",
        "# Start the query, passing in the extra configuration.\n",
        "query_job = client.query(sql, job_config=job_config)  # Make an API request.\n",
        "\n",
        "while(query_job.state != \"DONE\"):\n",
        "  # Check on the progress by getting the job's updated state. Once the state\n",
        "  # is `DONE`, the results are ready.\n",
        "  query_job = client.get_job(\n",
        "      query_job.job_id, location=query_job.location\n",
        "  )  # Make an API request.\n",
        "\n",
        "for row in query_job:\n",
        "    # Row values can be accessed by field name or index.\n",
        "    chaine = \"\"\n",
        "    # Parcours des colonnes de chaque row\n",
        "    for i in range(len(row)):\n",
        "      chaine += query_job._query_results._properties['schema']['fields'][i]['name'] + \" : \" + str(row[i]) + \" ; \"\n",
        "    print(chaine)"
      ],
      "metadata": {
        "colab": {
          "base_uri": "https://localhost:8080/"
        },
        "id": "nFNkHjgB3rB3",
        "outputId": "36365ec2-0e07-4337-dfb1-cc20693db669"
      },
      "execution_count": null,
      "outputs": [
        {
          "output_type": "stream",
          "name": "stdout",
          "text": [
            "nombre_donnees_superieures_20 : 455692 ; \n"
          ]
        }
      ]
    },
    {
      "cell_type": "markdown",
      "source": [
        "Il y a beaucoup plus de données d'accidents où le vent souffle à moins de 20 km/h (environ 5 fois plus) qu'avec un vent de plus de 20km/h."
      ],
      "metadata": {
        "id": "lrQelpz831GY"
      }
    },
    {
      "cell_type": "markdown",
      "source": [
        "### Précipitations"
      ],
      "metadata": {
        "id": "h4B53IHgnJcG"
      }
    },
    {
      "cell_type": "code",
      "source": [
        "job_config = bigquery.QueryJobConfig(\n",
        "    # Run at batch priority, which won't count toward concurrent rate limit.\n",
        "    priority=bigquery.QueryPriority.BATCH\n",
        ")\n",
        "\n",
        "sql = \"SELECT MIN(Precipitation_mm_) AS min_precipitations, MAX(Precipitation_mm_) AS max_precipitations FROM tables_projet_labat.US_accidents\"\n",
        "\n",
        "# Start the query, passing in the extra configuration.\n",
        "query_job = client.query(sql, job_config=job_config)  # Make an API request.\n",
        "\n",
        "while(query_job.state != \"DONE\"):\n",
        "  # Check on the progress by getting the job's updated state. Once the state\n",
        "  # is `DONE`, the results are ready.\n",
        "  query_job = client.get_job(\n",
        "      query_job.job_id, location=query_job.location\n",
        "  )  # Make an API request.\n",
        "\n",
        "for row in query_job:\n",
        "    # Row values can be accessed by field name or index.\n",
        "    chaine = \"\"\n",
        "    # Parcours des colonnes de chaque row\n",
        "    for i in range(len(row)):\n",
        "      chaine += query_job._query_results._properties['schema']['fields'][i]['name'] + \" : \" + str(row[i]) + \" ; \"\n",
        "    print(chaine)"
      ],
      "metadata": {
        "colab": {
          "base_uri": "https://localhost:8080/"
        },
        "id": "D6rovqy64krW",
        "outputId": "eeced7fa-ab90-4ea3-f47e-e05b8cd8c3f4"
      },
      "execution_count": null,
      "outputs": [
        {
          "output_type": "stream",
          "name": "stdout",
          "text": [
            "min_precipitations : 0.0 ; max_precipitations : 588.0 ; \n"
          ]
        }
      ]
    },
    {
      "cell_type": "code",
      "source": [
        "tab_where = [\"Precipitation_mm_ < 2\", 'Precipitation_mm_ >= 2 AND Precipitation_mm_ < 7.6', 'Precipitation_mm_ >= 7.6']\n",
        "tab_pluie = ['pluie_faible', 'pluie_moderee', 'pluie_forte']\n",
        "for i in range(len(tab_where)):\n",
        "  job_config = bigquery.QueryJobConfig(\n",
        "      # Run at batch priority, which won't count toward concurrent rate limit.\n",
        "      priority=bigquery.QueryPriority.BATCH\n",
        "  )\n",
        "\n",
        "  sql = \"SELECT COUNT(ID) AS nombre_\" + tab_pluie[i] + \" FROM tables_projet_labat.US_accidents WHERE \" + tab_where[i]\n",
        "\n",
        "  # Start the query, passing in the extra configuration.\n",
        "  query_job = client.query(sql, job_config=job_config)  # Make an API request.\n",
        "\n",
        "  while(query_job.state != \"DONE\"):\n",
        "    # Check on the progress by getting the job's updated state. Once the state\n",
        "    # is `DONE`, the results are ready.\n",
        "    query_job = client.get_job(\n",
        "        query_job.job_id, location=query_job.location\n",
        "    )  # Make an API request.\n",
        "\n",
        "  for row in query_job:\n",
        "      # Row values can be accessed by field name or index.\n",
        "      chaine = \"\"\n",
        "      # Parcours des colonnes de chaque row\n",
        "      for i in range(len(row)):\n",
        "        chaine += query_job._query_results._properties['schema']['fields'][i]['name'] + \" : \" + str(row[i]) + \" ; \"\n",
        "      print(chaine)"
      ],
      "metadata": {
        "colab": {
          "base_uri": "https://localhost:8080/"
        },
        "outputId": "931d43bc-a2c3-4f3e-b44f-fd91e2e916d9",
        "id": "1k-3b3X0nJcG"
      },
      "execution_count": null,
      "outputs": [
        {
          "output_type": "stream",
          "name": "stdout",
          "text": [
            "nombre_pluie_faible : 2248378 ; \n",
            "nombre_pluie_moderee : 39340 ; \n",
            "nombre_pluie_forte : 8166 ; \n"
          ]
        }
      ]
    },
    {
      "cell_type": "markdown",
      "source": [
        "### Conditions climatiques"
      ],
      "metadata": {
        "id": "jrYBxhacnJcH"
      }
    },
    {
      "cell_type": "code",
      "source": [
        "job_config = bigquery.QueryJobConfig(\n",
        "    # Run at batch priority, which won't count toward concurrent rate limit.\n",
        "    priority=bigquery.QueryPriority.BATCH\n",
        ")\n",
        "\n",
        "sql = \"SELECT Weather_Condition, COUNT(ID) AS nombre_occurences FROM tables_projet_labat.US_accidents GROUP BY Weather_Condition ORDER BY nombre_occurences\"\n",
        "\n",
        "# Start the query, passing in the extra configuration.\n",
        "query_job = client.query(sql, job_config=job_config)  # Make an API request.\n",
        "\n",
        "while(query_job.state != \"DONE\"):\n",
        "  # Check on the progress by getting the job's updated state. Once the state\n",
        "  # is `DONE`, the results are ready.\n",
        "  query_job = client.get_job(\n",
        "      query_job.job_id, location=query_job.location\n",
        "  )  # Make an API request.\n",
        "\n",
        "intitules = []\n",
        "donnees = []\n",
        "for row in query_job:\n",
        "    # Row values can be accessed by field name or index.\n",
        "    chaine = \"\"\n",
        "    # Parcours des colonnes de chaque row\n",
        "    for i in range(len(row)):\n",
        "      chaine += query_job._query_results._properties['schema']['fields'][i]['name'] + \" : \" + str(row[i]) + \" ; \"\n",
        "    print(chaine)   \n",
        "    intitules.append(str(row[0]))\n",
        "    donnees.append(row[1])\n",
        "fig,ax = plt.subplots(figsize=(40,12))\n",
        "ax.set_title('Nombre d accidents en fonction des conditions climatiques')\n",
        "ax.bar(intitules,donnees)\n",
        "plt.show()"
      ],
      "metadata": {
        "colab": {
          "base_uri": "https://localhost:8080/",
          "height": 1000
        },
        "id": "mHpbeHhb66SB",
        "outputId": "092d4f37-cb31-421e-af48-699b35c8c53f"
      },
      "execution_count": null,
      "outputs": [
        {
          "output_type": "stream",
          "name": "stdout",
          "text": [
            "Weather_Condition : Light Haze ; nombre_occurences : 1 ; \n",
            "Weather_Condition : Light Fog ; nombre_occurences : 1 ; \n",
            "Weather_Condition : Sand / Dust Whirlwinds / Windy ; nombre_occurences : 1 ; \n",
            "Weather_Condition : Sand / Dust Whirls Nearby ; nombre_occurences : 1 ; \n",
            "Weather_Condition : Sleet / Windy ; nombre_occurences : 1 ; \n",
            "Weather_Condition : Drifting Snow ; nombre_occurences : 1 ; \n",
            "Weather_Condition : Heavy Freezing Rain ; nombre_occurences : 1 ; \n",
            "Weather_Condition : Heavy Rain Shower / Windy ; nombre_occurences : 1 ; \n",
            "Weather_Condition : Heavy Thunderstorms with Small Hail ; nombre_occurences : 1 ; \n",
            "Weather_Condition : Thunder and Hail / Windy ; nombre_occurences : 1 ; \n",
            "Weather_Condition : Heavy Blowing Snow ; nombre_occurences : 1 ; \n",
            "Weather_Condition : Low Drifting Snow ; nombre_occurences : 1 ; \n",
            "Weather_Condition : Mist / Windy ; nombre_occurences : 1 ; \n",
            "Weather_Condition : Heavy Rain Showers ; nombre_occurences : 1 ; \n",
            "Weather_Condition : Dust Whirls ; nombre_occurences : 1 ; \n",
            "Weather_Condition : Blowing Sand ; nombre_occurences : 1 ; \n",
            "Weather_Condition : Funnel Cloud ; nombre_occurences : 2 ; \n",
            "Weather_Condition : Blowing Snow Nearby ; nombre_occurences : 2 ; \n",
            "Weather_Condition : Light Blowing Snow ; nombre_occurences : 2 ; \n",
            "Weather_Condition : Heavy Freezing Drizzle ; nombre_occurences : 2 ; \n",
            "Weather_Condition : Thunder / Wintry Mix / Windy ; nombre_occurences : 2 ; \n",
            "Weather_Condition : Freezing Rain / Windy ; nombre_occurences : 2 ; \n",
            "Weather_Condition : Snow and Thunder / Windy ; nombre_occurences : 2 ; \n",
            "Weather_Condition : Duststorm ; nombre_occurences : 2 ; \n",
            "Weather_Condition : Sand / Windy ; nombre_occurences : 2 ; \n",
            "Weather_Condition : Thunder and Hail ; nombre_occurences : 2 ; \n",
            "Weather_Condition : Heavy Ice Pellets ; nombre_occurences : 2 ; \n",
            "Weather_Condition : Sand ; nombre_occurences : 2 ; \n",
            "Weather_Condition : Heavy Rain Shower ; nombre_occurences : 3 ; \n",
            "Weather_Condition : Hail ; nombre_occurences : 3 ; \n",
            "Weather_Condition : Heavy Snow with Thunder ; nombre_occurences : 3 ; \n",
            "Weather_Condition : Heavy Thunderstorms and Snow ; nombre_occurences : 3 ; \n",
            "Weather_Condition : Patches of Fog / Windy ; nombre_occurences : 4 ; \n",
            "Weather_Condition : Volcanic Ash ; nombre_occurences : 4 ; \n",
            "Weather_Condition : Light Snow Showers ; nombre_occurences : 6 ; \n",
            "Weather_Condition : Light Thunderstorms and Snow ; nombre_occurences : 6 ; \n",
            "Weather_Condition : Thunder / Wintry Mix ; nombre_occurences : 6 ; \n",
            "Weather_Condition : Light Rain Shower / Windy ; nombre_occurences : 7 ; \n",
            "Weather_Condition : Light Sleet / Windy ; nombre_occurences : 7 ; \n",
            "Weather_Condition : Snow Grains ; nombre_occurences : 8 ; \n",
            "Weather_Condition : Tornado ; nombre_occurences : 9 ; \n",
            "Weather_Condition : Drizzle / Windy ; nombre_occurences : 9 ; \n",
            "Weather_Condition : Light Snow with Thunder ; nombre_occurences : 10 ; \n",
            "Weather_Condition : Freezing Drizzle ; nombre_occurences : 11 ; \n",
            "Weather_Condition : Squalls ; nombre_occurences : 12 ; \n",
            "Weather_Condition : Heavy Sleet ; nombre_occurences : 13 ; \n",
            "Weather_Condition : Sand / Dust Whirlwinds ; nombre_occurences : 15 ; \n",
            "Weather_Condition : Light Snow and Sleet / Windy ; nombre_occurences : 16 ; \n",
            "Weather_Condition : Snow and Sleet / Windy ; nombre_occurences : 18 ; \n",
            "Weather_Condition : Widespread Dust / Windy ; nombre_occurences : 18 ; \n",
            "Weather_Condition : Squalls / Windy ; nombre_occurences : 20 ; \n",
            "Weather_Condition : Light Snow Shower ; nombre_occurences : 26 ; \n",
            "Weather_Condition : Partial Fog ; nombre_occurences : 27 ; \n",
            "Weather_Condition : Rain Showers ; nombre_occurences : 30 ; \n",
            "Weather_Condition : Small Hail ; nombre_occurences : 31 ; \n",
            "Weather_Condition : Light Freezing Rain / Windy ; nombre_occurences : 35 ; \n",
            "Weather_Condition : Ice Pellets ; nombre_occurences : 36 ; \n",
            "Weather_Condition : Rain Shower ; nombre_occurences : 37 ; \n",
            "Weather_Condition : Light Rain Showers ; nombre_occurences : 41 ; \n",
            "Weather_Condition : Light Snow and Sleet ; nombre_occurences : 43 ; \n",
            "Weather_Condition : Freezing Rain ; nombre_occurences : 44 ; \n",
            "Weather_Condition : Sleet ; nombre_occurences : 46 ; \n",
            "Weather_Condition : Smoke / Windy ; nombre_occurences : 46 ; \n",
            "Weather_Condition : Widespread Dust ; nombre_occurences : 50 ; \n",
            "Weather_Condition : Light Sleet ; nombre_occurences : 68 ; \n",
            "Weather_Condition : Wintry Mix / Windy ; nombre_occurences : 74 ; \n",
            "Weather_Condition : Light Ice Pellets ; nombre_occurences : 75 ; \n",
            "Weather_Condition : Blowing Snow / Windy ; nombre_occurences : 86 ; \n",
            "Weather_Condition : Light Drizzle / Windy ; nombre_occurences : 103 ; \n",
            "Weather_Condition : Snow and Sleet ; nombre_occurences : 106 ; \n",
            "Weather_Condition : Drizzle and Fog ; nombre_occurences : 133 ; \n",
            "Weather_Condition : Light Rain Shower ; nombre_occurences : 133 ; \n",
            "Weather_Condition : Heavy Drizzle ; nombre_occurences : 140 ; \n",
            "Weather_Condition : Blowing Dust ; nombre_occurences : 142 ; \n",
            "Weather_Condition : Blowing Dust / Windy ; nombre_occurences : 148 ; \n",
            "Weather_Condition : Blowing Snow ; nombre_occurences : 162 ; \n",
            "Weather_Condition : Heavy Snow / Windy ; nombre_occurences : 210 ; \n",
            "Weather_Condition : Thunder / Windy ; nombre_occurences : 224 ; \n",
            "Weather_Condition : T-Storm / Windy ; nombre_occurences : 260 ; \n",
            "Weather_Condition : Fog / Windy ; nombre_occurences : 270 ; \n",
            "Weather_Condition : Light Freezing Drizzle ; nombre_occurences : 369 ; \n",
            "Weather_Condition : Heavy T-Storm / Windy ; nombre_occurences : 382 ; \n",
            "Weather_Condition : Light Freezing Fog ; nombre_occurences : 385 ; \n",
            "Weather_Condition : Snow / Windy ; nombre_occurences : 401 ; \n",
            "Weather_Condition : Thunderstorms and Rain ; nombre_occurences : 506 ; \n",
            "Weather_Condition : Heavy Thunderstorms and Rain ; nombre_occurences : 510 ; \n",
            "Weather_Condition : Haze / Windy ; nombre_occurences : 563 ; \n",
            "Weather_Condition : Showers in the Vicinity ; nombre_occurences : 650 ; \n",
            "Weather_Condition : Heavy Rain / Windy ; nombre_occurences : 725 ; \n",
            "Weather_Condition : Light Freezing Rain ; nombre_occurences : 900 ; \n",
            "Weather_Condition : Shallow Fog ; nombre_occurences : 952 ; \n",
            "Weather_Condition : Thunderstorm ; nombre_occurences : 985 ; \n",
            "Weather_Condition : Mist ; nombre_occurences : 1011 ; \n",
            "Weather_Condition : Patches of Fog ; nombre_occurences : 1046 ; \n",
            "Weather_Condition : N/A Precipitation ; nombre_occurences : 1079 ; \n",
            "Weather_Condition : Light Thunderstorms and Rain ; nombre_occurences : 1089 ; \n",
            "Weather_Condition : Rain / Windy ; nombre_occurences : 1093 ; \n",
            "Weather_Condition : Heavy Snow ; nombre_occurences : 1441 ; \n",
            "Weather_Condition : Drizzle ; nombre_occurences : 1705 ; \n",
            "Weather_Condition : Light Snow / Windy ; nombre_occurences : 2153 ; \n",
            "Weather_Condition : Light Rain / Windy ; nombre_occurences : 3412 ; \n",
            "Weather_Condition : Heavy T-Storm ; nombre_occurences : 3598 ; \n",
            "Weather_Condition : Wintry Mix ; nombre_occurences : 3843 ; \n",
            "Weather_Condition : Partly Cloudy / Windy ; nombre_occurences : 3876 ; \n",
            "Weather_Condition : Light Rain with Thunder ; nombre_occurences : 5287 ; \n",
            "Weather_Condition : Snow ; nombre_occurences : 5289 ; \n",
            "Weather_Condition : Thunder ; nombre_occurences : 6018 ; \n",
            "Weather_Condition : Mostly Cloudy / Windy ; nombre_occurences : 6297 ; \n",
            "Weather_Condition : T-Storm ; nombre_occurences : 6546 ; \n",
            "Weather_Condition : Cloudy / Windy ; nombre_occurences : 6839 ; \n",
            "Weather_Condition : Thunder in the Vicinity ; nombre_occurences : 6944 ; \n",
            "Weather_Condition : Light Drizzle ; nombre_occurences : 7041 ; \n",
            "Weather_Condition : Smoke ; nombre_occurences : 7200 ; \n",
            "Weather_Condition : Heavy Rain ; nombre_occurences : 11824 ; \n",
            "Weather_Condition : Fair / Windy ; nombre_occurences : 15195 ; \n",
            "Weather_Condition : Rain ; nombre_occurences : 31044 ; \n",
            "Weather_Condition : Haze ; nombre_occurences : 36354 ; \n",
            "Weather_Condition : Fog ; nombre_occurences : 41226 ; \n",
            "Weather_Condition : Light Snow ; nombre_occurences : 43752 ; \n",
            "Weather_Condition : Scattered Clouds ; nombre_occurences : 45132 ; \n",
            "Weather_Condition : None ; nombre_occurences : 70636 ; \n",
            "Weather_Condition : Overcast ; nombre_occurences : 84882 ; \n",
            "Weather_Condition : Light Rain ; nombre_occurences : 128403 ; \n",
            "Weather_Condition : Clear ; nombre_occurences : 173823 ; \n",
            "Weather_Condition : Partly Cloudy ; nombre_occurences : 249939 ; \n",
            "Weather_Condition : Cloudy ; nombre_occurences : 348767 ; \n",
            "Weather_Condition : Mostly Cloudy ; nombre_occurences : 363959 ; \n",
            "Weather_Condition : Fair ; nombre_occurences : 1107194 ; \n"
          ]
        },
        {
          "output_type": "display_data",
          "data": {
            "text/plain": [
              "<Figure size 2880x864 with 1 Axes>"
            ],
            "image/png": "[encoded data removed]"
          },
          "metadata": {
            "needs_background": "light"
          }
        }
      ]
    },
    {
      "cell_type": "markdown",
      "source": [
        "La grande majorité des accidents ont lieu avec un temps clair. De plus, la pluie arrive en sizième position, et ce n'est qu'une pluie légère."
      ],
      "metadata": {
        "id": "4iraBBpcnJcH"
      }
    },
    {
      "cell_type": "markdown",
      "source": [
        "### Jour et nuit (basé sur sunrise/sunset)"
      ],
      "metadata": {
        "id": "7zDZ-TLTnJcI"
      }
    },
    {
      "cell_type": "code",
      "source": [
        "job_config = bigquery.QueryJobConfig(\n",
        "    # Run at batch priority, which won't count toward concurrent rate limit.\n",
        "    priority=bigquery.QueryPriority.BATCH\n",
        ")\n",
        "\n",
        "sql = \"SELECT Sunrise_Sunset, COUNT(ID) AS nombre_occurences FROM tables_projet_labat.US_accidents GROUP BY Sunrise_Sunset ORDER BY nombre_occurences\"\n",
        "\n",
        "# Start the query, passing in the extra configuration.\n",
        "query_job = client.query(sql, job_config=job_config)  # Make an API request.\n",
        "\n",
        "while(query_job.state != \"DONE\"):\n",
        "  # Check on the progress by getting the job's updated state. Once the state\n",
        "  # is `DONE`, the results are ready.\n",
        "  query_job = client.get_job(\n",
        "      query_job.job_id, location=query_job.location\n",
        "  )  # Make an API request.\n",
        "\n",
        "intitules = []\n",
        "donnees = []\n",
        "for row in query_job:\n",
        "    # Row values can be accessed by field name or index.\n",
        "    chaine = \"\"\n",
        "    # Parcours des colonnes de chaque row\n",
        "    for i in range(len(row)):\n",
        "      chaine += query_job._query_results._properties['schema']['fields'][i]['name'] + \" : \" + str(row[i]) + \" ; \"\n",
        "    print(chaine)\n",
        "    intitules.append(str(row[0]))\n",
        "    donnees.append(row[1])\n",
        "fig,ax = plt.subplots(figsize=(20,12))\n",
        "ax.set_title('Répartition jour/nuit')\n",
        "ax.bar(intitules,donnees)\n",
        "plt.show()"
      ],
      "metadata": {
        "colab": {
          "base_uri": "https://localhost:8080/",
          "height": 771
        },
        "outputId": "2e86b891-447f-4a19-fab3-da2f05381146",
        "id": "TRf9ubkfnJcI"
      },
      "execution_count": null,
      "outputs": [
        {
          "output_type": "stream",
          "name": "stdout",
          "text": [
            "Sunrise_Sunset : None ; nombre_occurences : 2867 ; \n",
            "Sunrise_Sunset : Night ; nombre_occurences : 1030540 ; \n",
            "Sunrise_Sunset : Day ; nombre_occurences : 1811935 ; \n"
          ]
        },
        {
          "output_type": "display_data",
          "data": {
            "text/plain": [
              "<Figure size 1440x864 with 1 Axes>"
            ],
            "image/png": "[encoded data removed]"
          },
          "metadata": {
            "needs_background": "light"
          }
        }
      ]
    },
    {
      "cell_type": "markdown",
      "source": [
        "La majorité des accidents se déroulent le jour, même si on n'a pas un écart aussi grand que pour d'autre variables. Il y a cependant 1.8 fois plus d'accidents de jours que de nuit. C'est lié au fait qu'il y a plus de traffic le jour, et donc plus de risques d'accidents."
      ],
      "metadata": {
        "id": "q3FENFdnnJcI"
      }
    },
    {
      "cell_type": "markdown",
      "source": [
        "### Jour et nuit (basé sur le crépuscule civil)"
      ],
      "metadata": {
        "id": "TrZBFhhInJcI"
      }
    },
    {
      "cell_type": "code",
      "source": [
        "job_config = bigquery.QueryJobConfig(\n",
        "    # Run at batch priority, which won't count toward concurrent rate limit.\n",
        "    priority=bigquery.QueryPriority.BATCH\n",
        ")\n",
        "\n",
        "sql = \"SELECT Civil_Twilight, COUNT(ID) AS nombre_occurences FROM tables_projet_labat.US_accidents GROUP BY Civil_Twilight ORDER BY nombre_occurences\"\n",
        "\n",
        "# Start the query, passing in the extra configuration.\n",
        "query_job = client.query(sql, job_config=job_config)  # Make an API request.\n",
        "\n",
        "while(query_job.state != \"DONE\"):\n",
        "  # Check on the progress by getting the job's updated state. Once the state\n",
        "  # is `DONE`, the results are ready.\n",
        "  query_job = client.get_job(\n",
        "      query_job.job_id, location=query_job.location\n",
        "  )  # Make an API request.\n",
        "\n",
        "intitules = []\n",
        "donnees = []\n",
        "for row in query_job:\n",
        "    # Row values can be accessed by field name or index.\n",
        "    chaine = \"\"\n",
        "    # Parcours des colonnes de chaque row\n",
        "    for i in range(len(row)):\n",
        "      chaine += query_job._query_results._properties['schema']['fields'][i]['name'] + \" : \" + str(row[i]) + \" ; \"\n",
        "    print(chaine)\n",
        "    intitules.append(str(row[0]))\n",
        "    donnees.append(row[1])\n",
        "fig,ax = plt.subplots(figsize=(20,12))\n",
        "ax.set_title('Répartition jour/nuit')\n",
        "ax.bar(intitules,donnees)\n",
        "plt.show()"
      ],
      "metadata": {
        "colab": {
          "base_uri": "https://localhost:8080/",
          "height": 771
        },
        "outputId": "d2f684c5-f961-4cc5-dea3-ff37d409836c",
        "id": "GKAx2NLOnJcJ"
      },
      "execution_count": null,
      "outputs": [
        {
          "output_type": "stream",
          "name": "stdout",
          "text": [
            "Civil_Twilight : None ; nombre_occurences : 2867 ; \n",
            "Civil_Twilight : Night ; nombre_occurences : 913372 ; \n",
            "Civil_Twilight : Day ; nombre_occurences : 1929103 ; \n"
          ]
        },
        {
          "output_type": "display_data",
          "data": {
            "text/plain": [
              "<Figure size 1440x864 with 1 Axes>"
            ],
            "image/png": "[encoded data removed]"
          },
          "metadata": {
            "needs_background": "light"
          }
        }
      ]
    },
    {
      "cell_type": "markdown",
      "source": [
        "On remarque un décalage entre les valeurs Jour et Nuit pour ces deux indicateurs. En effet, ils n'utilisent pas la même règle de décision. Cependant, les données sont comparables car les résultats sont proches."
      ],
      "metadata": {
        "id": "cPLLkCgnnJcJ"
      }
    }
  ]
}